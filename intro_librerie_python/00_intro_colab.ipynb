{
 "cells": [
  {
   "cell_type": "markdown",
   "metadata": {
    "colab_type": "text",
    "id": "view-in-github"
   },
   "source": [
    "<a href=\"https://colab.research.google.com/github/nickprock/corso_data_science/blob/devs/intro_librerie_python/00_intro_colab.ipynb\" target=\"_parent\"><img src=\"https://colab.research.google.com/assets/colab-badge.svg\" alt=\"Open In Colab\"/></a>"
   ]
  },
  {
   "cell_type": "markdown",
   "metadata": {
    "colab_type": "text",
    "id": "0Zz-imQJO2Zw"
   },
   "source": [
    "# Introduzione ai Notebook\n",
    "\n",
    "## Anaconda Python\n",
    "\n",
    "<p><img alt=\"Anaconda logo\" height=\"120px\" src=\"https://upload.wikimedia.org/wikipedia/en/thumb/c/cd/Anaconda_Logo.png/200px-Anaconda_Logo.png\" align=\"center\" hspace=\"10px\" vspace=\"0px\"></p>\n",
    "<br>\n",
    "\n",
    "[Anaconda](https://www.anaconda.com/) è una distribuzione **open source** dei linguaggi Python e R. Il suo obiettivo è semplificare la vita a chi si occupa di data science e calcolo scientifico occupandosi della gestione dei pacchetti. Anaconda è **cross platform** e contiene, tra le altre, le librerie che vedremo in questo corso:\n",
    "\n",
    "\n",
    "\n",
    "*   numpy\n",
    "*   pandas\n",
    "*   matplotlib\n",
    "*   scikit-learn\n",
    "\n",
    "## Jupyter Notebook\n",
    "\n",
    "<p><img alt=\"Jupyter logo\" height=\"120px\" src=\"https://upload.wikimedia.org/wikipedia/commons/thumb/3/38/Jupyter_logo.svg/250px-Jupyter_logo.svg.png\" align=\"center\" hspace=\"10px\" vspace=\"0px\"></p>\n",
    "<br>\n",
    "\n",
    "Anaconda fornisce anche [Jupyter Notebook](https://jupyter.org/), strumento molto diffuso per l'insegnamento, la prototipazione e la diffusione dei risultati nei progetti di data science.\n",
    "Questo strumento interattivo permette di creare e condividere script, testo e immagini formattato in [Markdown](https://it.wikipedia.org/wiki/Markdown).\n",
    "\n",
    "## Google Colab\n",
    "\n",
    "<p><img alt=\"Colaboratory logo\" height=\"120px\" src=\"/img/colab_favicon.ico\" align=\"center\" hspace=\"10px\" vspace=\"0px\"></p>\n",
    "<br>\n",
    "\n",
    "[Google Colab](https://colab.research.google.com/notebooks/intro.ipynb) è una piattaforma che ci permette di **eseguire codice direttamente sul Cloud** (ogni volta che apriamo un notebook viene creata una nuova macchina da Google). Per sfruttare le funzionalità di tale piattaforma, tutto ciò di cui abbiamo bisogno è un account Google.\n",
    "Colab è basato su Jupyter Notebook ma ha qualche differenza che vedremo in seguto."
   ]
  },
  {
   "cell_type": "markdown",
   "metadata": {
    "colab_type": "text",
    "id": "DvIkhePYb6-C"
   },
   "source": [
    "# Caricare una libreria\n",
    "\n",
    "## Caricare una libreria e assegnare un alias\n",
    "Carichiamo numpy e utilizziamo una funzione che restituisce 10 numeri casuali tra zero e uno."
   ]
  },
  {
   "cell_type": "code",
   "execution_count": 0,
   "metadata": {
    "colab": {},
    "colab_type": "code",
    "id": "eanVSNyQb_vS"
   },
   "outputs": [],
   "source": [
    "import numpy as np\n",
    "np.random.rand(10)"
   ]
  },
  {
   "cell_type": "markdown",
   "metadata": {
    "colab_type": "text",
    "id": "EMzQWSRncszK"
   },
   "source": [
    "## Caricare un modulo da una libreria e assegnare un alias"
   ]
  },
  {
   "cell_type": "code",
   "execution_count": 0,
   "metadata": {
    "colab": {},
    "colab_type": "code",
    "id": "XolB81cccLsJ"
   },
   "outputs": [],
   "source": [
    "import matplotlib.pyplot as plt\n",
    "x = np.random.rand(10)\n",
    "y = np.random.rand(10)\n",
    "plt.plot(x,y, \"d\")\n",
    "plt.title(\"Grafico di test\")"
   ]
  },
  {
   "cell_type": "markdown",
   "metadata": {
    "colab_type": "text",
    "id": "J3LJgeH4c6Cv"
   },
   "source": [
    "## Caricare una funzione\n",
    "In questo caso useremo MinMaxScaler che nella sua configurazione di default fa scaling dei vettori assegnati in un range [0,1]."
   ]
  },
  {
   "cell_type": "code",
   "execution_count": 0,
   "metadata": {
    "colab": {},
    "colab_type": "code",
    "id": "tM5IULc5dfwk"
   },
   "outputs": [],
   "source": [
    "from sklearn.preprocessing import MinMaxScaler\n",
    "scaler = MinMaxScaler()\n",
    "scaler.fit_transform(x.reshape(10,1))"
   ]
  },
  {
   "cell_type": "markdown",
   "metadata": {
    "colab_type": "text",
    "id": "xle9178-ZJ1I"
   },
   "source": [
    "# Installare una libreria non presente in Colab\n",
    "\n",
    "Le librerie che utilizzeremo sono già presenti sull'istanza di default ma se avessimo bisogno di altro?\n",
    "\n",
    "Come in un'installazione classica di Python useremo il package manager **pip** ma con l'aggiunta di un carattere speciale **!**\n",
    "\n",
    "\n"
   ]
  },
  {
   "cell_type": "code",
   "execution_count": 0,
   "metadata": {
    "colab": {},
    "colab_type": "code",
    "id": "BrqeD0XOO0P_"
   },
   "outputs": [],
   "source": [
    "!pip install -U -q PyDrive"
   ]
  },
  {
   "cell_type": "markdown",
   "metadata": {
    "colab_type": "text",
    "id": "ruF9GDL2aB8j"
   },
   "source": [
    "**Bisogna tenere a mente che ogni volta che apriamo il notebook viene creata la macchina virtuale sul cloud Google, quindi bisognerà ri-eseguire l'installazione.**\n",
    "\n",
    "In questo caso abbiamo installato *PyDrive*, una libreria che ci consente di caricare i nostri file da Google Drive."
   ]
  },
  {
   "cell_type": "markdown",
   "metadata": {
    "colab_type": "text",
    "id": "LX1_yeSxf91-"
   },
   "source": [
    "# Caricare un file da Google Drive\n",
    "\n",
    "Il codice che vedremo in questa sezione è uno standard, potete riutilizzarlo così com'è."
   ]
  },
  {
   "cell_type": "code",
   "execution_count": 0,
   "metadata": {
    "colab": {},
    "colab_type": "code",
    "id": "-GPNs03QfmxD"
   },
   "outputs": [],
   "source": [
    "from pydrive.auth import GoogleAuth\n",
    "from pydrive.drive import GoogleDrive\n",
    "from google.colab import auth\n",
    "from oauth2client.client import GoogleCredentials\n",
    "\n",
    "# Authenticate and create the PyDrive client.\n",
    "auth.authenticate_user()\n",
    "gauth = GoogleAuth()\n",
    "gauth.credentials = GoogleCredentials.get_application_default()\n",
    "drive = GoogleDrive(gauth)"
   ]
  },
  {
   "cell_type": "code",
   "execution_count": 0,
   "metadata": {
    "colab": {},
    "colab_type": "code",
    "id": "6s6Z1rrugT3n"
   },
   "outputs": [],
   "source": [
    "link = 'INSERT LINK HERE'\n",
    "fluff, id = link.split('=')\n",
    "\n",
    "print (id)"
   ]
  },
  {
   "cell_type": "code",
   "execution_count": 0,
   "metadata": {
    "colab": {},
    "colab_type": "code",
    "id": "9GBeLXm5gj6v"
   },
   "outputs": [],
   "source": [
    "downloaded = drive.CreateFile({'id':id}) \n",
    "downloaded.GetContentFile('INSERT FILENAME HERE')"
   ]
  },
  {
   "cell_type": "markdown",
   "metadata": {
    "colab_type": "text",
    "id": "peWSg2y2g2B2"
   },
   "source": [
    "A questo punto bisogna caricare il file a seconda del tipo (qui suppongo di avere un csv).\n",
    "\n",
    "```\n",
    "import pandas as pd\n",
    "file = pd.read_csv(\"filename.csv\")\n",
    "```\n",
    "\n"
   ]
  },
  {
   "cell_type": "markdown",
   "metadata": {
    "colab_type": "text",
    "id": "QOAXHFR5fIx6"
   },
   "source": [
    "# Tips & Tricks\n",
    "\n",
    "### Grafici inline\n",
    "\n",
    "In Jupyter per vedere il grafico dopo aver caricato la libreria o il modulo bisogna dare il comando *%matplotlib inline*\n",
    "\n",
    "```\n",
    "import matplotlib.pyplot as plt\n",
    "%matplotlib inline\n",
    "```\n",
    "### Leggere la documentazione\n",
    "\n",
    "Per leggere la documentazione delle funzioni, ad esempio *MinMaxScaler()*, bisogna piazzarsi all'interno delle parentesi e poi **shift+tab** per aprile la documentazione online.\n",
    "\n",
    "**Leggere la documentazione fa risparmiare molto tempo in fase di scrittura del codice.**\n",
    "\n",
    "### Creare un pdf da jupyter notebook\n",
    "\n",
    "Per creare un pdf dal jupyter notebook bisogna avere **LaTeX** installato sul pc.\n",
    "* Aprire un terminale (Anaconda prompt su Windows) \n",
    "* Posizionarsi nella cartella di destinazione del PDF\n",
    "* Digitare il comando\n",
    "```\n",
    "jupyter nbconvert --to pdf mynotebook.ipynb\n",
    "```\n",
    "* Troveremo nella cartella il file *mynotebook.pdf*\n",
    "\n",
    "### Abilitare GPU o TPU\n",
    "\n",
    "Per scegliere la GPU bisogna andare su:\n",
    "\n",
    "*   ***Edit*** -> ***Notebook Settings***\n",
    "*   oppure ***Runtime*** -> ***Change Runtime Type***\n",
    "\n",
    "**La GPU è stata settata?**"
   ]
  },
  {
   "cell_type": "code",
   "execution_count": 0,
   "metadata": {
    "colab": {},
    "colab_type": "code",
    "id": "gEnZtvzoiIfi"
   },
   "outputs": [],
   "source": [
    "import tensorflow as tf\n",
    "tf.test.gpu_device_name()"
   ]
  },
  {
   "cell_type": "markdown",
   "metadata": {},
   "source": [
    "Si\n",
    "\n",
    "\n",
    "1.    **'/device:GPU:0'** indica che lavoriamo su una GPU\n",
    "2.    **'...'** indica che lavoriamo in CPU.\n",
    "\n",
    "Che tipo di GPU?\n"
   ]
  },
  {
   "cell_type": "code",
   "execution_count": null,
   "metadata": {},
   "outputs": [],
   "source": [
    "from tensorflow.python.client import device_lib\n",
    "device_lib.list_local_devices()"
   ]
  },
  {
   "cell_type": "markdown",
   "metadata": {},
   "source": [
    "### Cerchiamo informazioni sulla GPU"
   ]
  },
  {
   "cell_type": "code",
   "execution_count": null,
   "metadata": {},
   "outputs": [],
   "source": [
    "!cat /proc/cpuinfo"
   ]
  },
  {
   "cell_type": "markdown",
   "metadata": {},
   "source": [
    "### Cerchiamo informazioni sulla RAM"
   ]
  },
  {
   "cell_type": "code",
   "execution_count": null,
   "metadata": {},
   "outputs": [],
   "source": [
    "!cat /proc/meminfo"
   ]
  },
  {
   "cell_type": "markdown",
   "metadata": {
    "colab_type": "text",
    "id": "iuaT3nhuiq_n"
   },
   "source": [
    "### Restart Colab"
   ]
  },
  {
   "cell_type": "code",
   "execution_count": 0,
   "metadata": {
    "colab": {},
    "colab_type": "code",
    "id": "vibu1QNajT96"
   },
   "outputs": [],
   "source": [
    "!kill -9 -1"
   ]
  }
 ],
 "metadata": {
  "colab": {
   "authorship_tag": "ABX9TyOYyEPfVQyDtygvUDwrrPve",
   "collapsed_sections": [],
   "include_colab_link": true,
   "name": "00_intro_colab.ipynb",
   "provenance": []
  },
  "kernelspec": {
   "display_name": "Python 3",
   "language": "python",
   "name": "python3"
  },
  "language_info": {
   "codemirror_mode": {
    "name": "ipython",
    "version": 3
   },
   "file_extension": ".py",
   "mimetype": "text/x-python",
   "name": "python",
   "nbconvert_exporter": "python",
   "pygments_lexer": "ipython3",
   "version": "3.8.8"
  }
 },
 "nbformat": 4,
 "nbformat_minor": 1
}
