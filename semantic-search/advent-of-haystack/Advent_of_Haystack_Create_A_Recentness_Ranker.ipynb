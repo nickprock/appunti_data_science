{
  "nbformat": 4,
  "nbformat_minor": 0,
  "metadata": {
    "colab": {
      "provenance": [],
      "include_colab_link": true
    },
    "kernelspec": {
      "name": "python3",
      "display_name": "Python 3"
    },
    "language_info": {
      "name": "python"
    }
  },
  "cells": [
    {
      "cell_type": "markdown",
      "metadata": {
        "id": "view-in-github",
        "colab_type": "text"
      },
      "source": [
        "<a href=\"https://colab.research.google.com/github/nickprock/appunti_data_science/blob/master/semantic-search/advent-of-haystack/Advent_of_Haystack_Create_A_Recentness_Ranker.ipynb\" target=\"_parent\"><img src=\"https://colab.research.google.com/assets/colab-badge.svg\" alt=\"Open In Colab\"/></a>"
      ]
    },
    {
      "cell_type": "markdown",
      "source": [
        "# Advent of Haystack - Day 8\n",
        "\n",
        "Here we have some documents that contain meeting notes (generated with ChatGPT 🤝), and the date of the meeting in the `meta` field.\n",
        "\n",
        "🚀 Your task is to create a custom component that can rank these documents from newets to oldest based on the date field in `meta`. Do this in **Step 3**\n",
        "\n",
        "We have prepared a pipeline that needs to use this component. The pipeline already has a component added with `pipe.add_component(\"recentness\", date_ranker)`."
      ],
      "metadata": {
        "id": "V18t0dxY7G3u"
      }
    },
    {
      "cell_type": "markdown",
      "source": [
        "#Installation\n",
        "**Note:** There is a known issue with colab due to a version conflict error related to `llmx` which comes with Colab. You might get an `llmx` error. You can safely ignore this, or run `pip uninstall -y llmx`"
      ],
      "metadata": {
        "id": "AbrakOGeXui-"
      }
    },
    {
      "cell_type": "code",
      "execution_count": null,
      "metadata": {
        "id": "c-bWpypics6k",
        "colab": {
          "base_uri": "https://localhost:8080/"
        },
        "outputId": "e70342e7-f4d4-4c13-e3c1-cf13def8416f"
      },
      "outputs": [
        {
          "output_type": "stream",
          "name": "stdout",
          "text": [
            "Requirement already satisfied: haystack-ai in /usr/local/lib/python3.10/dist-packages (2.0.0b3)\n",
            "Requirement already satisfied: boilerpy3 in /usr/local/lib/python3.10/dist-packages (from haystack-ai) (1.0.7)\n",
            "Requirement already satisfied: jinja2 in /usr/local/lib/python3.10/dist-packages (from haystack-ai) (3.1.2)\n",
            "Requirement already satisfied: lazy-imports in /usr/local/lib/python3.10/dist-packages (from haystack-ai) (0.3.1)\n",
            "Requirement already satisfied: more-itertools in /usr/local/lib/python3.10/dist-packages (from haystack-ai) (10.1.0)\n",
            "Requirement already satisfied: networkx in /usr/local/lib/python3.10/dist-packages (from haystack-ai) (3.2.1)\n",
            "Requirement already satisfied: openai<1.0.0 in /usr/local/lib/python3.10/dist-packages (from haystack-ai) (0.28.1)\n",
            "Requirement already satisfied: pandas in /usr/local/lib/python3.10/dist-packages (from haystack-ai) (1.5.3)\n",
            "Requirement already satisfied: posthog in /usr/local/lib/python3.10/dist-packages (from haystack-ai) (3.1.0)\n",
            "Requirement already satisfied: pyyaml in /usr/local/lib/python3.10/dist-packages (from haystack-ai) (6.0.1)\n",
            "Requirement already satisfied: rank-bm25 in /usr/local/lib/python3.10/dist-packages (from haystack-ai) (0.2.2)\n",
            "Requirement already satisfied: tenacity in /usr/local/lib/python3.10/dist-packages (from haystack-ai) (8.2.3)\n",
            "Requirement already satisfied: tqdm in /usr/local/lib/python3.10/dist-packages (from haystack-ai) (4.66.1)\n",
            "Requirement already satisfied: typing-extensions in /usr/local/lib/python3.10/dist-packages (from haystack-ai) (4.5.0)\n",
            "Requirement already satisfied: requests>=2.20 in /usr/local/lib/python3.10/dist-packages (from openai<1.0.0->haystack-ai) (2.31.0)\n",
            "Requirement already satisfied: aiohttp in /usr/local/lib/python3.10/dist-packages (from openai<1.0.0->haystack-ai) (3.9.1)\n",
            "Requirement already satisfied: MarkupSafe>=2.0 in /usr/local/lib/python3.10/dist-packages (from jinja2->haystack-ai) (2.1.3)\n",
            "Requirement already satisfied: python-dateutil>=2.8.1 in /usr/local/lib/python3.10/dist-packages (from pandas->haystack-ai) (2.8.2)\n",
            "Requirement already satisfied: pytz>=2020.1 in /usr/local/lib/python3.10/dist-packages (from pandas->haystack-ai) (2023.3.post1)\n",
            "Requirement already satisfied: numpy>=1.21.0 in /usr/local/lib/python3.10/dist-packages (from pandas->haystack-ai) (1.23.5)\n",
            "Requirement already satisfied: six>=1.5 in /usr/local/lib/python3.10/dist-packages (from posthog->haystack-ai) (1.16.0)\n",
            "Requirement already satisfied: monotonic>=1.5 in /usr/local/lib/python3.10/dist-packages (from posthog->haystack-ai) (1.6)\n",
            "Requirement already satisfied: backoff>=1.10.0 in /usr/local/lib/python3.10/dist-packages (from posthog->haystack-ai) (2.2.1)\n",
            "Requirement already satisfied: charset-normalizer<4,>=2 in /usr/local/lib/python3.10/dist-packages (from requests>=2.20->openai<1.0.0->haystack-ai) (3.3.2)\n",
            "Requirement already satisfied: idna<4,>=2.5 in /usr/local/lib/python3.10/dist-packages (from requests>=2.20->openai<1.0.0->haystack-ai) (3.6)\n",
            "Requirement already satisfied: urllib3<3,>=1.21.1 in /usr/local/lib/python3.10/dist-packages (from requests>=2.20->openai<1.0.0->haystack-ai) (2.0.7)\n",
            "Requirement already satisfied: certifi>=2017.4.17 in /usr/local/lib/python3.10/dist-packages (from requests>=2.20->openai<1.0.0->haystack-ai) (2023.11.17)\n",
            "Requirement already satisfied: attrs>=17.3.0 in /usr/local/lib/python3.10/dist-packages (from aiohttp->openai<1.0.0->haystack-ai) (23.1.0)\n",
            "Requirement already satisfied: multidict<7.0,>=4.5 in /usr/local/lib/python3.10/dist-packages (from aiohttp->openai<1.0.0->haystack-ai) (6.0.4)\n",
            "Requirement already satisfied: yarl<2.0,>=1.0 in /usr/local/lib/python3.10/dist-packages (from aiohttp->openai<1.0.0->haystack-ai) (1.9.4)\n",
            "Requirement already satisfied: frozenlist>=1.1.1 in /usr/local/lib/python3.10/dist-packages (from aiohttp->openai<1.0.0->haystack-ai) (1.4.0)\n",
            "Requirement already satisfied: aiosignal>=1.1.2 in /usr/local/lib/python3.10/dist-packages (from aiohttp->openai<1.0.0->haystack-ai) (1.3.1)\n",
            "Requirement already satisfied: async-timeout<5.0,>=4.0 in /usr/local/lib/python3.10/dist-packages (from aiohttp->openai<1.0.0->haystack-ai) (4.0.3)\n"
          ]
        }
      ],
      "source": [
        "!pip install haystack-ai"
      ]
    },
    {
      "cell_type": "markdown",
      "source": [
        "### Enabling Telemetry\n",
        "\n",
        "Knowing you’re running this challenge helps us know whether Advent of Haystack is helping people learn about Haystack 2.0-Beta. But you can always opt out by commenting the following line."
      ],
      "metadata": {
        "id": "6dA3YaY5UDSq"
      }
    },
    {
      "cell_type": "code",
      "source": [
        "from haystack.telemetry import tutorial_running\n",
        "\n",
        "tutorial_running(\"challenge_8\")"
      ],
      "metadata": {
        "id": "9kvjEyq-UCqp"
      },
      "execution_count": null,
      "outputs": []
    },
    {
      "cell_type": "markdown",
      "source": [
        "## 1. Set up our Meeting Notes"
      ],
      "metadata": {
        "id": "hiGV9KVA8OQ-"
      }
    },
    {
      "cell_type": "code",
      "source": [
        "import datetime\n",
        "from haystack.dataclasses import Document\n",
        "\n",
        "documents = [Document(content=\"Decision: Prioritize Project A over Project B for the upcoming quarter. Rationale: Project A has a more immediate impact on client satisfaction. Action Items: Project teams to reallocate resources accordingly.\", meta={\"date\": datetime.datetime(2023, 11, 10)}),\n",
        "             Document(content=\"Decision: Revert back to the original plan, prioritizing Project B. Rationale: Client feedback and market analysis indicate higher long-term potential for Project B. Action Items: Project teams to readjust resources, and communicate changes to stakeholders.\", meta={\"date\": datetime.datetime(2023, 11, 12)}),\n",
        "             Document(content=\"Decision: Allocate 20% of the training budget to online courses. Rationale: Online courses offer cost-effective and flexible learning options. Action Items: HR to update the budget and communicate the changes to employees.\", meta={\"date\": datetime.datetime(2023, 11, 11)}),]"
      ],
      "metadata": {
        "id": "E1OCUd8IczrI"
      },
      "execution_count": null,
      "outputs": []
    },
    {
      "cell_type": "markdown",
      "source": [
        "## 2. Create a prompt template and Generator\n",
        "Here, we've created a prompt template that asks for a summary of meeting notes."
      ],
      "metadata": {
        "id": "7Da0lTlG8Tcm"
      }
    },
    {
      "cell_type": "code",
      "source": [
        "from getpass import getpass\n",
        "\n",
        "api_key = getpass(\"OpenAI Key: \")"
      ],
      "metadata": {
        "id": "4IIqPZNEe6YL",
        "colab": {
          "base_uri": "https://localhost:8080/"
        },
        "outputId": "f92ae3ef-fe5b-4f74-b584-cb7f32a45a82"
      },
      "execution_count": null,
      "outputs": [
        {
          "name": "stdout",
          "output_type": "stream",
          "text": [
            "OpenAI Key: ··········\n"
          ]
        }
      ]
    },
    {
      "cell_type": "code",
      "source": [
        "from haystack import Pipeline\n",
        "from haystack.components.builders.prompt_builder import PromptBuilder\n",
        "from haystack.components.generators import GPTGenerator\n",
        "\n",
        "prompt_template = \"\"\"\n",
        "You will be provided meeting notes in order. The order is from newest to oldest . Create\n",
        "a summary of the decisions, indicating the progression.\n",
        "\n",
        "Meeting notes in order or recency:\n",
        "{% for document in documents %}\n",
        "  \"Meeting Notes:\"\n",
        "  {{document.content}}\n",
        "{% endfor %}\n",
        "\"\"\"\n",
        "\n",
        "prompt_builder = PromptBuilder(template=prompt_template)\n",
        "llm = GPTGenerator(model_name=\"gpt-4\", api_key=api_key)"
      ],
      "metadata": {
        "id": "2vX5cqDkeTsW"
      },
      "execution_count": null,
      "outputs": []
    },
    {
      "cell_type": "markdown",
      "source": [
        "## 3. Create a custom `DateRanker`\n",
        "\n",
        "Complete the custom component below so as to have a ranker which can rank a List of Documents based on date."
      ],
      "metadata": {
        "id": "xc7gCVSe8d8G"
      }
    },
    {
      "cell_type": "code",
      "source": [
        "from typing import List, Optional\n",
        "from haystack import component\n",
        "\n",
        "@component\n",
        "class DateRanker():\n",
        "  def __init__(self, date_field: str = \"date\"):\n",
        "    self.date_field = date_field\n",
        "\n",
        "  @component.output_types(documents=List[Document])\n",
        "  def run(self, documents):\n",
        "    rdocuments = sorted(documents, key=lambda d: d.meta[self.date_field], reverse=True)\n",
        "\n",
        "    return {\"documents\": rdocuments}"
      ],
      "metadata": {
        "id": "CMTMh9AkiaZn"
      },
      "execution_count": null,
      "outputs": []
    },
    {
      "cell_type": "code",
      "source": [
        "date_ranker = DateRanker()"
      ],
      "metadata": {
        "id": "5-KcSOutkvk-"
      },
      "execution_count": null,
      "outputs": []
    },
    {
      "cell_type": "markdown",
      "source": [
        "## 4. Create and run the RAG pipeline\n",
        "\n",
        "Below is the pipeline that we would like to run to create a summary of the meeting notes. This pipeline uses a component calles `date_ranker` that you should create in the section above"
      ],
      "metadata": {
        "id": "i2_uYko78yCR"
      }
    },
    {
      "cell_type": "code",
      "source": [
        "pipe = Pipeline()\n",
        "pipe.add_component(\"recentness\", date_ranker)\n",
        "pipe.add_component(\"prompt_builder\", prompt_builder)\n",
        "pipe.add_component(\"llm\", llm)\n",
        "\n",
        "pipe.connect(\"recentness.documents\", \"prompt_builder.documents\")\n",
        "pipe.connect(\"prompt_builder\", \"llm\")"
      ],
      "metadata": {
        "id": "pkCMpI5Jla_F"
      },
      "execution_count": null,
      "outputs": []
    },
    {
      "cell_type": "code",
      "source": [
        "result = pipe.run(data={\"recentness\":{\"documents\": documents}})\n",
        "print(result['llm'][\"replies\"][0])"
      ],
      "metadata": {
        "colab": {
          "base_uri": "https://localhost:8080/"
        },
        "id": "j8MRrUIQ4mSh",
        "outputId": "6778576b-14d0-4d7d-c534-61f90b378b87"
      },
      "execution_count": null,
      "outputs": [
        {
          "output_type": "stream",
          "name": "stdout",
          "text": [
            "Summary of decisions:\n",
            "\n",
            "- The latest decision was to revert back to the original plan, i.e., prioritizing Project B over Project A. This decision stemmed from client feedback and market analysis that indicated higher long-term potential for Project B. The project teams need to re-adjust resources and communicate changes to stakeholders. \n",
            "\n",
            "- The meeting before that decided to allocate 20% of the training budget to online courses, due to their cost-effectiveness and flexibility in learning options. The HR department was tasked with updating the budget and communicating these changes to the employees.\n",
            "\n",
            "- The earliest meeting decided to prioritize Project A over Project B for the upcoming quarter due to its more immediate impact on client satisfaction. At this point, Project teams were asked to reallocate resources accordingly. However, this decision got reversed in the latest meeting due to client feedback and market analysis favoring Project B.\n"
          ]
        }
      ]
    },
    {
      "cell_type": "code",
      "source": [
        "result"
      ],
      "metadata": {
        "colab": {
          "base_uri": "https://localhost:8080/"
        },
        "id": "OyGpiBMT50sY",
        "outputId": "9062ce2d-1646-406b-d034-818bfa4d4b9e"
      },
      "execution_count": null,
      "outputs": [
        {
          "output_type": "execute_result",
          "data": {
            "text/plain": [
              "{'llm': {'replies': ['Summary of decisions:\\n\\n- The latest decision was to revert back to the original plan, i.e., prioritizing Project B over Project A. This decision stemmed from client feedback and market analysis that indicated higher long-term potential for Project B. The project teams need to re-adjust resources and communicate changes to stakeholders. \\n\\n- The meeting before that decided to allocate 20% of the training budget to online courses, due to their cost-effectiveness and flexibility in learning options. The HR department was tasked with updating the budget and communicating these changes to the employees.\\n\\n- The earliest meeting decided to prioritize Project A over Project B for the upcoming quarter due to its more immediate impact on client satisfaction. At this point, Project teams were asked to reallocate resources accordingly. However, this decision got reversed in the latest meeting due to client feedback and market analysis favoring Project B.'],\n",
              "  'metadata': [{'model': 'gpt-4-0613',\n",
              "    'index': 0,\n",
              "    'finish_reason': 'stop',\n",
              "    'usage': {'prompt_tokens': 192,\n",
              "     'completion_tokens': 172,\n",
              "     'total_tokens': 364}}]}}"
            ]
          },
          "metadata": {},
          "execution_count": 10
        }
      ]
    },
    {
      "cell_type": "code",
      "source": [
        "date_ranker.run(documents=documents)"
      ],
      "metadata": {
        "colab": {
          "base_uri": "https://localhost:8080/"
        },
        "id": "m6v8PdXM51qJ",
        "outputId": "837d4ac2-27cc-4e30-c375-5cefb79f72a4"
      },
      "execution_count": null,
      "outputs": [
        {
          "output_type": "execute_result",
          "data": {
            "text/plain": [
              "{'documents': [Document(id=0a758bf69bcda18d52d880b54634a9ed4222b7121fd6d7479f42f392ab82d665, content: 'Decision: Revert back to the original plan, prioritizing Project B. Rationale: Client feedback and m...', meta: {'date': datetime.datetime(2023, 11, 12, 0, 0)}),\n",
              "  Document(id=784e5a552e623d66f61028c83381760a9260a9a950ce489791049521902b0015, content: 'Decision: Allocate 20% of the training budget to online courses. Rationale: Online courses offer cos...', meta: {'date': datetime.datetime(2023, 11, 11, 0, 0)}),\n",
              "  Document(id=a678b8c411d6d0c63e6884362fb7ad5fb1c7b0176564e8d9804f8f4d8e7a002c, content: 'Decision: Prioritize Project A over Project B for the upcoming quarter. Rationale: Project A has a m...', meta: {'date': datetime.datetime(2023, 11, 10, 0, 0)})]}"
            ]
          },
          "metadata": {},
          "execution_count": 11
        }
      ]
    },
    {
      "cell_type": "code",
      "source": [],
      "metadata": {
        "id": "35cCKvw67On6"
      },
      "execution_count": null,
      "outputs": []
    }
  ]
}