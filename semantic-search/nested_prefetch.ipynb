{
  "nbformat": 4,
  "nbformat_minor": 0,
  "metadata": {
    "colab": {
      "provenance": [],
      "gpuType": "T4",
      "authorship_tag": "ABX9TyMxdEIJn+/viofGfbPX5428",
      "include_colab_link": true
    },
    "kernelspec": {
      "name": "python3",
      "display_name": "Python 3"
    },
    "language_info": {
      "name": "python"
    },
    "accelerator": "GPU"
  },
  "cells": [
    {
      "cell_type": "markdown",
      "metadata": {
        "id": "view-in-github",
        "colab_type": "text"
      },
      "source": [
        "<a href=\"https://colab.research.google.com/github/nickprock/appunti_data_science/blob/master/semantic-search/nested_prefetch.ipynb\" target=\"_parent\"><img src=\"https://colab.research.google.com/assets/colab-badge.svg\" alt=\"Open In Colab\"/></a>"
      ]
    },
    {
      "cell_type": "code",
      "execution_count": null,
      "metadata": {
        "id": "90b_aRsxLigs"
      },
      "outputs": [],
      "source": [
        "!pip install qdrant-client\n",
        "!pip install -U sentence-transformers"
      ]
    },
    {
      "cell_type": "markdown",
      "source": [
        "# Dataset"
      ],
      "metadata": {
        "id": "pJtVQSuGOgCC"
      }
    },
    {
      "cell_type": "code",
      "source": [
        "import pandas as pd"
      ],
      "metadata": {
        "id": "fo86u7fbbWyV"
      },
      "execution_count": null,
      "outputs": []
    },
    {
      "cell_type": "code",
      "source": [
        "df = pd.read_csv('/content/airc.csv', sep=\";\")\n",
        "# Minimal cleaning\n",
        "df.fillna(value=\"\", inplace=True)\n",
        "df[\"Domanda\"] = df[\"Domanda\"].apply(lambda x: x.strip())\n",
        "df.head()"
      ],
      "metadata": {
        "id": "ulO_eFvUO3ad"
      },
      "execution_count": null,
      "outputs": []
    },
    {
      "cell_type": "markdown",
      "source": [
        "# embedder"
      ],
      "metadata": {
        "id": "jFXjVdZUNHQO"
      }
    },
    {
      "cell_type": "code",
      "source": [
        "from sentence_transformers import SentenceTransformer\n",
        "\n",
        "matryoshka_dim = [64, 256, 768]\n",
        "\n",
        "model_64 = SentenceTransformer(\n",
        "    \"nickprock/sentence-BERTino-sts-matryoshka\",\n",
        "    trust_remote_code=True,\n",
        "    truncate_dim=matryoshka_dim[0],\n",
        ")\n",
        "\n",
        "model_256 = SentenceTransformer(\n",
        "    \"nickprock/sentence-BERTino-sts-matryoshka\",\n",
        "    trust_remote_code=True,\n",
        "    truncate_dim=matryoshka_dim[1],\n",
        ")\n",
        "\n",
        "model_full = SentenceTransformer(\n",
        "    \"nickprock/sentence-BERTino-sts-matryoshka\",\n",
        "    trust_remote_code=True,\n",
        "    truncate_dim=matryoshka_dim[2],\n",
        ")"
      ],
      "metadata": {
        "id": "I1IvDIylMdG_"
      },
      "execution_count": null,
      "outputs": []
    },
    {
      "cell_type": "code",
      "source": [
        "vec_64 = model_64.encode(df[\"Risposta\"])\n",
        "vec_256 = model_256.encode(df[\"Risposta\"])\n",
        "vec_full = model_full.encode(df[\"Risposta\"])"
      ],
      "metadata": {
        "id": "YNyBKwkyOX_i"
      },
      "execution_count": null,
      "outputs": []
    },
    {
      "cell_type": "markdown",
      "source": [
        "## Qdrant"
      ],
      "metadata": {
        "id": "C3s7uc_gOVDZ"
      }
    },
    {
      "cell_type": "code",
      "source": [
        "from qdrant_client import QdrantClient\n",
        "from qdrant_client.http.models import VectorParams, Distance\n",
        "\n",
        "client = QdrantClient(\n",
        "    \":memory:\",\n",
        "    timeout=None\n",
        "    )\n",
        "\n",
        "client.create_collection(\n",
        "    collection_name=\"multiple_vectors\",\n",
        "    vectors_config={\n",
        "        \"vec_64\": VectorParams(\n",
        "            size=64,\n",
        "            distance=Distance.COSINE,\n",
        "        ),\n",
        "        \"vec_256\": VectorParams(\n",
        "            size=256,\n",
        "            distance=Distance.COSINE,\n",
        "        ),\n",
        "        \"vec_768\": VectorParams(\n",
        "            size=768,\n",
        "            distance=Distance.COSINE,\n",
        "        ),\n",
        "    },\n",
        ")\n",
        "\n",
        "client.create_collection(\n",
        "   collection_name=\"single_vector_64\",\n",
        "   vectors_config=VectorParams(\n",
        "       size=64,\n",
        "       distance=Distance.COSINE,\n",
        "   )\n",
        ")\n",
        "\n",
        "client.create_collection(\n",
        "   collection_name=\"single_vector_full\",\n",
        "   vectors_config=VectorParams(\n",
        "       size=768,\n",
        "       distance=Distance.COSINE,\n",
        "   )\n",
        ")"
      ],
      "metadata": {
        "id": "f4n4af7ONIue"
      },
      "execution_count": null,
      "outputs": []
    },
    {
      "cell_type": "code",
      "source": [
        "from qdrant_client.http.models import PointStruct\n",
        "\n",
        "for index, row in df.iterrows():\n",
        "    client.upsert(\n",
        "        collection_name=\"multiple_vectors\",\n",
        "        points=[\n",
        "            PointStruct(\n",
        "                id=index,\n",
        "                vector={\n",
        "                    \"vec_64\": vec_64[index],\n",
        "                    \"vec_256\": vec_256[index],\n",
        "                    \"vec_768\": vec_full[index],\n",
        "                },\n",
        "                payload={\n",
        "                    \"Question\": row[\"Domanda\"],\n",
        "                    \"Answer\": row[\"Risposta\"],\n",
        "                }\n",
        "            )\n",
        "        ]\n",
        "    )\n",
        "\n",
        "    client.upsert(\n",
        "        collection_name=\"single_vector_64\",\n",
        "        points=[\n",
        "            PointStruct(\n",
        "                id=index,\n",
        "                vector=vec_64[index],\n",
        "                payload={\n",
        "                    \"Question\": row[\"Domanda\"],\n",
        "                    \"Answer\": row[\"Risposta\"],\n",
        "                }\n",
        "            )\n",
        "        ]\n",
        "    )\n",
        "\n",
        "    client.upsert(\n",
        "        collection_name=\"single_vector_full\",\n",
        "        points=[\n",
        "            PointStruct(\n",
        "                id=index,\n",
        "                vector=vec_full[index],\n",
        "                payload={\n",
        "                    \"Question\": row[\"Domanda\"],\n",
        "                    \"Answer\": row[\"Risposta\"],\n",
        "                }\n",
        "            )\n",
        "        ]\n",
        "    )"
      ],
      "metadata": {
        "id": "Qpw2GOT3QJ0a"
      },
      "execution_count": null,
      "outputs": []
    },
    {
      "cell_type": "markdown",
      "source": [
        "## single query"
      ],
      "metadata": {
        "id": "LE-SO9rwRq-2"
      }
    },
    {
      "cell_type": "code",
      "source": [
        "from datetime import datetime\n",
        "\n",
        "query = \"C'è relazione tra l'alimentazione e i tumori?\""
      ],
      "metadata": {
        "id": "OO-TtwGwSUBj"
      },
      "execution_count": null,
      "outputs": []
    },
    {
      "cell_type": "code",
      "source": [
        "start_time = datetime.now()\n",
        "\n",
        "search_result_64 = client.query_points(\n",
        "    collection_name=\"single_vector_64\",\n",
        "    query=model_64.encode(query),\n",
        "    with_payload=True,\n",
        "    limit=100\n",
        ").points\n",
        "\n",
        "end_time = datetime.now()\n",
        "\n",
        "retrieve_time = end_time - start_time\n",
        "\n",
        "print('Duration: {}'.format(retrieve_time))\n",
        "print(\"\\n\")\n",
        "print(search_result_64)"
      ],
      "metadata": {
        "id": "Vf7m8pcmRsru"
      },
      "execution_count": null,
      "outputs": []
    },
    {
      "cell_type": "code",
      "source": [
        "from sentence_transformers import CrossEncoder\n",
        "\n",
        "ranker = CrossEncoder(\"nickprock/cross-encoder-italian-bert-stsb\")"
      ],
      "metadata": {
        "id": "dTFdD2sipwW8"
      },
      "execution_count": null,
      "outputs": []
    },
    {
      "cell_type": "code",
      "source": [
        "N = 10\n",
        "\n",
        "start_time = datetime.now()\n",
        "retrieved_documents = [[query, res.payload[\"Answer\"]] for res in search_result_64]\n",
        "scores = ranker.predict(retrieved_documents)\n",
        "\n",
        "# Sort the scores in decreasing order\n",
        "results = [{\"input\": inp, \"score\": score} for inp, score in zip(retrieved_documents, scores)]\n",
        "results = sorted(results, key=lambda x: x[\"score\"], reverse=True)[:N]\n",
        "end_time = datetime.now()\n",
        "reranking_time = end_time - start_time\n",
        "\n",
        "print('Duration: {}'.format(reranking_time))"
      ],
      "metadata": {
        "id": "sCRe3wASqEtP"
      },
      "execution_count": null,
      "outputs": []
    },
    {
      "cell_type": "code",
      "source": [
        "start_time = datetime.now()\n",
        "scores = ranker.predict(retrieved_documents)\n",
        "end_time = datetime.now()\n",
        "reranking_time_2 = end_time - start_time\n",
        "\n",
        "print('Duration: {}'.format(reranking_time_2))"
      ],
      "metadata": {
        "id": "XA5DuAicDWxJ"
      },
      "execution_count": null,
      "outputs": []
    },
    {
      "cell_type": "code",
      "source": [
        "total_duration = retrieve_time + reranking_time\n",
        "print('Total Duration: {}'.format(total_duration))"
      ],
      "metadata": {
        "id": "IOeSxlMSrA8H"
      },
      "execution_count": null,
      "outputs": []
    },
    {
      "cell_type": "code",
      "source": [
        "total_duration_2 = retrieve_time + reranking_time_2\n",
        "print('Total Duration: {}'.format(total_duration_2))"
      ],
      "metadata": {
        "id": "hAjKUdjbFPAp"
      },
      "execution_count": null,
      "outputs": []
    },
    {
      "cell_type": "code",
      "source": [
        "reranking_time_2/total_duration_2"
      ],
      "metadata": {
        "id": "tEPBzjwZFfiE"
      },
      "execution_count": null,
      "outputs": []
    },
    {
      "cell_type": "code",
      "source": [
        "results"
      ],
      "metadata": {
        "id": "hNX0XjKpsYy1"
      },
      "execution_count": null,
      "outputs": []
    },
    {
      "cell_type": "markdown",
      "source": [
        "## nested query"
      ],
      "metadata": {
        "id": "gNZtPrpKT7NS"
      }
    },
    {
      "cell_type": "code",
      "source": [
        "from qdrant_client.models import Prefetch"
      ],
      "metadata": {
        "id": "0PmmY1EYUJGu"
      },
      "execution_count": null,
      "outputs": []
    },
    {
      "cell_type": "code",
      "source": [
        "start_time = datetime.now()\n",
        "\n",
        "search_result_MV = client.query_points(\n",
        "    collection_name=\"multiple_vectors\",\n",
        "    prefetch=Prefetch(\n",
        "        prefetch=Prefetch(\n",
        "            query=model_64.encode(query),  # <------ small byte vector\n",
        "            using=\"vec_64\",\n",
        "            limit=100,\n",
        "        ),\n",
        "        query=model_256.encode(query),  # <-- mid byte vector\n",
        "        using=\"vec_256\",\n",
        "        limit=50,\n",
        "    ),\n",
        "    query=model_full.encode(query), # <-- full dense vector\n",
        "    with_payload=True,\n",
        "    using=\"vec_768\",\n",
        "    limit=10,\n",
        ").points\n",
        "\n",
        "end_time = datetime.now()\n",
        "\n",
        "print('Duration: {}'.format(end_time - start_time))\n",
        "print(\"\\n\")\n",
        "print(search_result_MV)"
      ],
      "metadata": {
        "id": "1QrXoHgATbFU"
      },
      "execution_count": null,
      "outputs": []
    },
    {
      "cell_type": "code",
      "source": [
        "total_duration/(end_time - start_time)"
      ],
      "metadata": {
        "id": "19a1jXpA5h9P"
      },
      "execution_count": null,
      "outputs": []
    },
    {
      "cell_type": "code",
      "source": [
        "for p in search_result_MV:\n",
        "  print(\"'\",p.payload['Answer'], \"', 'score: '\", p.score)\n",
        "  print(\"\\n\")"
      ],
      "metadata": {
        "id": "6EUBdZta5vK4"
      },
      "execution_count": null,
      "outputs": []
    },
    {
      "cell_type": "code",
      "source": [],
      "metadata": {
        "id": "bPqXxbT1VTnv"
      },
      "execution_count": null,
      "outputs": []
    }
  ]
}