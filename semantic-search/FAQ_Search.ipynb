{
  "nbformat": 4,
  "nbformat_minor": 0,
  "metadata": {
    "colab": {
      "provenance": [],
      "authorship_tag": "ABX9TyOKfTclxwnRrCz6TfuS9LeY",
      "include_colab_link": true
    },
    "kernelspec": {
      "name": "python3",
      "display_name": "Python 3"
    },
    "language_info": {
      "name": "python"
    },
    "accelerator": "GPU",
    "gpuClass": "standard",
    "widgets": {
      "application/vnd.jupyter.widget-state+json": {
        "af0cb2317db14ef0a386803465f7da66": {
          "model_module": "@jupyter-widgets/controls",
          "model_name": "HBoxModel",
          "model_module_version": "1.5.0",
          "state": {
            "_dom_classes": [],
            "_model_module": "@jupyter-widgets/controls",
            "_model_module_version": "1.5.0",
            "_model_name": "HBoxModel",
            "_view_count": null,
            "_view_module": "@jupyter-widgets/controls",
            "_view_module_version": "1.5.0",
            "_view_name": "HBoxView",
            "box_style": "",
            "children": [
              "IPY_MODEL_2142aa06620a45d1aaa5d363287fdd3b",
              "IPY_MODEL_59f1f275727c435da925e84278016e8a",
              "IPY_MODEL_9894f29d7cc641dc8be0354d85182ba2"
            ],
            "layout": "IPY_MODEL_15c389a564644de28ff3f1c602df739d"
          }
        },
        "2142aa06620a45d1aaa5d363287fdd3b": {
          "model_module": "@jupyter-widgets/controls",
          "model_name": "HTMLModel",
          "model_module_version": "1.5.0",
          "state": {
            "_dom_classes": [],
            "_model_module": "@jupyter-widgets/controls",
            "_model_module_version": "1.5.0",
            "_model_name": "HTMLModel",
            "_view_count": null,
            "_view_module": "@jupyter-widgets/controls",
            "_view_module_version": "1.5.0",
            "_view_name": "HTMLView",
            "description": "",
            "description_tooltip": null,
            "layout": "IPY_MODEL_e751743f33f2495485053029ff71f84b",
            "placeholder": "​",
            "style": "IPY_MODEL_50d3cff0aced4d4ea8cd8a2a1c78d544",
            "value": "Updating BM25 representation...: 100%"
          }
        },
        "59f1f275727c435da925e84278016e8a": {
          "model_module": "@jupyter-widgets/controls",
          "model_name": "FloatProgressModel",
          "model_module_version": "1.5.0",
          "state": {
            "_dom_classes": [],
            "_model_module": "@jupyter-widgets/controls",
            "_model_module_version": "1.5.0",
            "_model_name": "FloatProgressModel",
            "_view_count": null,
            "_view_module": "@jupyter-widgets/controls",
            "_view_module_version": "1.5.0",
            "_view_name": "ProgressView",
            "bar_style": "success",
            "description": "",
            "description_tooltip": null,
            "layout": "IPY_MODEL_5655b54eda4e41ceab7937fb44a0f9d7",
            "max": 228,
            "min": 0,
            "orientation": "horizontal",
            "style": "IPY_MODEL_2e48bbcfb2e1443d9da8bb99cffd6d56",
            "value": 228
          }
        },
        "9894f29d7cc641dc8be0354d85182ba2": {
          "model_module": "@jupyter-widgets/controls",
          "model_name": "HTMLModel",
          "model_module_version": "1.5.0",
          "state": {
            "_dom_classes": [],
            "_model_module": "@jupyter-widgets/controls",
            "_model_module_version": "1.5.0",
            "_model_name": "HTMLModel",
            "_view_count": null,
            "_view_module": "@jupyter-widgets/controls",
            "_view_module_version": "1.5.0",
            "_view_name": "HTMLView",
            "description": "",
            "description_tooltip": null,
            "layout": "IPY_MODEL_4ccef2bf26e54e54bd577b31becd1a6e",
            "placeholder": "​",
            "style": "IPY_MODEL_0afdd931ab50423da9f7349c8b8cfd43",
            "value": " 228/228 [00:00&lt;00:00, 13355.04 docs/s]"
          }
        },
        "15c389a564644de28ff3f1c602df739d": {
          "model_module": "@jupyter-widgets/base",
          "model_name": "LayoutModel",
          "model_module_version": "1.2.0",
          "state": {
            "_model_module": "@jupyter-widgets/base",
            "_model_module_version": "1.2.0",
            "_model_name": "LayoutModel",
            "_view_count": null,
            "_view_module": "@jupyter-widgets/base",
            "_view_module_version": "1.2.0",
            "_view_name": "LayoutView",
            "align_content": null,
            "align_items": null,
            "align_self": null,
            "border": null,
            "bottom": null,
            "display": null,
            "flex": null,
            "flex_flow": null,
            "grid_area": null,
            "grid_auto_columns": null,
            "grid_auto_flow": null,
            "grid_auto_rows": null,
            "grid_column": null,
            "grid_gap": null,
            "grid_row": null,
            "grid_template_areas": null,
            "grid_template_columns": null,
            "grid_template_rows": null,
            "height": null,
            "justify_content": null,
            "justify_items": null,
            "left": null,
            "margin": null,
            "max_height": null,
            "max_width": null,
            "min_height": null,
            "min_width": null,
            "object_fit": null,
            "object_position": null,
            "order": null,
            "overflow": null,
            "overflow_x": null,
            "overflow_y": null,
            "padding": null,
            "right": null,
            "top": null,
            "visibility": null,
            "width": null
          }
        },
        "e751743f33f2495485053029ff71f84b": {
          "model_module": "@jupyter-widgets/base",
          "model_name": "LayoutModel",
          "model_module_version": "1.2.0",
          "state": {
            "_model_module": "@jupyter-widgets/base",
            "_model_module_version": "1.2.0",
            "_model_name": "LayoutModel",
            "_view_count": null,
            "_view_module": "@jupyter-widgets/base",
            "_view_module_version": "1.2.0",
            "_view_name": "LayoutView",
            "align_content": null,
            "align_items": null,
            "align_self": null,
            "border": null,
            "bottom": null,
            "display": null,
            "flex": null,
            "flex_flow": null,
            "grid_area": null,
            "grid_auto_columns": null,
            "grid_auto_flow": null,
            "grid_auto_rows": null,
            "grid_column": null,
            "grid_gap": null,
            "grid_row": null,
            "grid_template_areas": null,
            "grid_template_columns": null,
            "grid_template_rows": null,
            "height": null,
            "justify_content": null,
            "justify_items": null,
            "left": null,
            "margin": null,
            "max_height": null,
            "max_width": null,
            "min_height": null,
            "min_width": null,
            "object_fit": null,
            "object_position": null,
            "order": null,
            "overflow": null,
            "overflow_x": null,
            "overflow_y": null,
            "padding": null,
            "right": null,
            "top": null,
            "visibility": null,
            "width": null
          }
        },
        "50d3cff0aced4d4ea8cd8a2a1c78d544": {
          "model_module": "@jupyter-widgets/controls",
          "model_name": "DescriptionStyleModel",
          "model_module_version": "1.5.0",
          "state": {
            "_model_module": "@jupyter-widgets/controls",
            "_model_module_version": "1.5.0",
            "_model_name": "DescriptionStyleModel",
            "_view_count": null,
            "_view_module": "@jupyter-widgets/base",
            "_view_module_version": "1.2.0",
            "_view_name": "StyleView",
            "description_width": ""
          }
        },
        "5655b54eda4e41ceab7937fb44a0f9d7": {
          "model_module": "@jupyter-widgets/base",
          "model_name": "LayoutModel",
          "model_module_version": "1.2.0",
          "state": {
            "_model_module": "@jupyter-widgets/base",
            "_model_module_version": "1.2.0",
            "_model_name": "LayoutModel",
            "_view_count": null,
            "_view_module": "@jupyter-widgets/base",
            "_view_module_version": "1.2.0",
            "_view_name": "LayoutView",
            "align_content": null,
            "align_items": null,
            "align_self": null,
            "border": null,
            "bottom": null,
            "display": null,
            "flex": null,
            "flex_flow": null,
            "grid_area": null,
            "grid_auto_columns": null,
            "grid_auto_flow": null,
            "grid_auto_rows": null,
            "grid_column": null,
            "grid_gap": null,
            "grid_row": null,
            "grid_template_areas": null,
            "grid_template_columns": null,
            "grid_template_rows": null,
            "height": null,
            "justify_content": null,
            "justify_items": null,
            "left": null,
            "margin": null,
            "max_height": null,
            "max_width": null,
            "min_height": null,
            "min_width": null,
            "object_fit": null,
            "object_position": null,
            "order": null,
            "overflow": null,
            "overflow_x": null,
            "overflow_y": null,
            "padding": null,
            "right": null,
            "top": null,
            "visibility": null,
            "width": null
          }
        },
        "2e48bbcfb2e1443d9da8bb99cffd6d56": {
          "model_module": "@jupyter-widgets/controls",
          "model_name": "ProgressStyleModel",
          "model_module_version": "1.5.0",
          "state": {
            "_model_module": "@jupyter-widgets/controls",
            "_model_module_version": "1.5.0",
            "_model_name": "ProgressStyleModel",
            "_view_count": null,
            "_view_module": "@jupyter-widgets/base",
            "_view_module_version": "1.2.0",
            "_view_name": "StyleView",
            "bar_color": null,
            "description_width": ""
          }
        },
        "4ccef2bf26e54e54bd577b31becd1a6e": {
          "model_module": "@jupyter-widgets/base",
          "model_name": "LayoutModel",
          "model_module_version": "1.2.0",
          "state": {
            "_model_module": "@jupyter-widgets/base",
            "_model_module_version": "1.2.0",
            "_model_name": "LayoutModel",
            "_view_count": null,
            "_view_module": "@jupyter-widgets/base",
            "_view_module_version": "1.2.0",
            "_view_name": "LayoutView",
            "align_content": null,
            "align_items": null,
            "align_self": null,
            "border": null,
            "bottom": null,
            "display": null,
            "flex": null,
            "flex_flow": null,
            "grid_area": null,
            "grid_auto_columns": null,
            "grid_auto_flow": null,
            "grid_auto_rows": null,
            "grid_column": null,
            "grid_gap": null,
            "grid_row": null,
            "grid_template_areas": null,
            "grid_template_columns": null,
            "grid_template_rows": null,
            "height": null,
            "justify_content": null,
            "justify_items": null,
            "left": null,
            "margin": null,
            "max_height": null,
            "max_width": null,
            "min_height": null,
            "min_width": null,
            "object_fit": null,
            "object_position": null,
            "order": null,
            "overflow": null,
            "overflow_x": null,
            "overflow_y": null,
            "padding": null,
            "right": null,
            "top": null,
            "visibility": null,
            "width": null
          }
        },
        "0afdd931ab50423da9f7349c8b8cfd43": {
          "model_module": "@jupyter-widgets/controls",
          "model_name": "DescriptionStyleModel",
          "model_module_version": "1.5.0",
          "state": {
            "_model_module": "@jupyter-widgets/controls",
            "_model_module_version": "1.5.0",
            "_model_name": "DescriptionStyleModel",
            "_view_count": null,
            "_view_module": "@jupyter-widgets/base",
            "_view_module_version": "1.2.0",
            "_view_name": "StyleView",
            "description_width": ""
          }
        },
        "0970a683fe4c43e19abf4bdff2dda89a": {
          "model_module": "@jupyter-widgets/controls",
          "model_name": "HBoxModel",
          "model_module_version": "1.5.0",
          "state": {
            "_dom_classes": [],
            "_model_module": "@jupyter-widgets/controls",
            "_model_module_version": "1.5.0",
            "_model_name": "HBoxModel",
            "_view_count": null,
            "_view_module": "@jupyter-widgets/controls",
            "_view_module_version": "1.5.0",
            "_view_name": "HBoxView",
            "box_style": "",
            "children": [
              "IPY_MODEL_fec92e1439c34de1a156069ae8634c95",
              "IPY_MODEL_3911a1796a3e426e9f191bb13252cc2a",
              "IPY_MODEL_cc215d222c4a4b8d8e0cb7942dcf5ffc"
            ],
            "layout": "IPY_MODEL_962516ba1d4a4506a6ec4b28a44b88c1"
          }
        },
        "fec92e1439c34de1a156069ae8634c95": {
          "model_module": "@jupyter-widgets/controls",
          "model_name": "HTMLModel",
          "model_module_version": "1.5.0",
          "state": {
            "_dom_classes": [],
            "_model_module": "@jupyter-widgets/controls",
            "_model_module_version": "1.5.0",
            "_model_name": "HTMLModel",
            "_view_count": null,
            "_view_module": "@jupyter-widgets/controls",
            "_view_module_version": "1.5.0",
            "_view_name": "HTMLView",
            "description": "",
            "description_tooltip": null,
            "layout": "IPY_MODEL_c2c4b109f00d4f4b8a8112b26ec65c47",
            "placeholder": "​",
            "style": "IPY_MODEL_d215581cf33c4220b893351c39dfe602",
            "value": "Documents Processed: "
          }
        },
        "3911a1796a3e426e9f191bb13252cc2a": {
          "model_module": "@jupyter-widgets/controls",
          "model_name": "FloatProgressModel",
          "model_module_version": "1.5.0",
          "state": {
            "_dom_classes": [],
            "_model_module": "@jupyter-widgets/controls",
            "_model_module_version": "1.5.0",
            "_model_name": "FloatProgressModel",
            "_view_count": null,
            "_view_module": "@jupyter-widgets/controls",
            "_view_module_version": "1.5.0",
            "_view_name": "ProgressView",
            "bar_style": "success",
            "description": "",
            "description_tooltip": null,
            "layout": "IPY_MODEL_ae7c031e049c467eb02d6de6d4d2b1b7",
            "max": 228,
            "min": 0,
            "orientation": "horizontal",
            "style": "IPY_MODEL_a5699a97445348c582f7eb61cac25713",
            "value": 228
          }
        },
        "cc215d222c4a4b8d8e0cb7942dcf5ffc": {
          "model_module": "@jupyter-widgets/controls",
          "model_name": "HTMLModel",
          "model_module_version": "1.5.0",
          "state": {
            "_dom_classes": [],
            "_model_module": "@jupyter-widgets/controls",
            "_model_module_version": "1.5.0",
            "_model_name": "HTMLModel",
            "_view_count": null,
            "_view_module": "@jupyter-widgets/controls",
            "_view_module_version": "1.5.0",
            "_view_name": "HTMLView",
            "description": "",
            "description_tooltip": null,
            "layout": "IPY_MODEL_ed8a99042f00403a82bbf2fe9b0a9e8c",
            "placeholder": "​",
            "style": "IPY_MODEL_b7237d13e1a74854a86594da113397bb",
            "value": " 10000/? [00:04&lt;00:00, 2465.96 docs/s]"
          }
        },
        "962516ba1d4a4506a6ec4b28a44b88c1": {
          "model_module": "@jupyter-widgets/base",
          "model_name": "LayoutModel",
          "model_module_version": "1.2.0",
          "state": {
            "_model_module": "@jupyter-widgets/base",
            "_model_module_version": "1.2.0",
            "_model_name": "LayoutModel",
            "_view_count": null,
            "_view_module": "@jupyter-widgets/base",
            "_view_module_version": "1.2.0",
            "_view_name": "LayoutView",
            "align_content": null,
            "align_items": null,
            "align_self": null,
            "border": null,
            "bottom": null,
            "display": null,
            "flex": null,
            "flex_flow": null,
            "grid_area": null,
            "grid_auto_columns": null,
            "grid_auto_flow": null,
            "grid_auto_rows": null,
            "grid_column": null,
            "grid_gap": null,
            "grid_row": null,
            "grid_template_areas": null,
            "grid_template_columns": null,
            "grid_template_rows": null,
            "height": null,
            "justify_content": null,
            "justify_items": null,
            "left": null,
            "margin": null,
            "max_height": null,
            "max_width": null,
            "min_height": null,
            "min_width": null,
            "object_fit": null,
            "object_position": null,
            "order": null,
            "overflow": null,
            "overflow_x": null,
            "overflow_y": null,
            "padding": null,
            "right": null,
            "top": null,
            "visibility": null,
            "width": null
          }
        },
        "c2c4b109f00d4f4b8a8112b26ec65c47": {
          "model_module": "@jupyter-widgets/base",
          "model_name": "LayoutModel",
          "model_module_version": "1.2.0",
          "state": {
            "_model_module": "@jupyter-widgets/base",
            "_model_module_version": "1.2.0",
            "_model_name": "LayoutModel",
            "_view_count": null,
            "_view_module": "@jupyter-widgets/base",
            "_view_module_version": "1.2.0",
            "_view_name": "LayoutView",
            "align_content": null,
            "align_items": null,
            "align_self": null,
            "border": null,
            "bottom": null,
            "display": null,
            "flex": null,
            "flex_flow": null,
            "grid_area": null,
            "grid_auto_columns": null,
            "grid_auto_flow": null,
            "grid_auto_rows": null,
            "grid_column": null,
            "grid_gap": null,
            "grid_row": null,
            "grid_template_areas": null,
            "grid_template_columns": null,
            "grid_template_rows": null,
            "height": null,
            "justify_content": null,
            "justify_items": null,
            "left": null,
            "margin": null,
            "max_height": null,
            "max_width": null,
            "min_height": null,
            "min_width": null,
            "object_fit": null,
            "object_position": null,
            "order": null,
            "overflow": null,
            "overflow_x": null,
            "overflow_y": null,
            "padding": null,
            "right": null,
            "top": null,
            "visibility": null,
            "width": null
          }
        },
        "d215581cf33c4220b893351c39dfe602": {
          "model_module": "@jupyter-widgets/controls",
          "model_name": "DescriptionStyleModel",
          "model_module_version": "1.5.0",
          "state": {
            "_model_module": "@jupyter-widgets/controls",
            "_model_module_version": "1.5.0",
            "_model_name": "DescriptionStyleModel",
            "_view_count": null,
            "_view_module": "@jupyter-widgets/base",
            "_view_module_version": "1.2.0",
            "_view_name": "StyleView",
            "description_width": ""
          }
        },
        "ae7c031e049c467eb02d6de6d4d2b1b7": {
          "model_module": "@jupyter-widgets/base",
          "model_name": "LayoutModel",
          "model_module_version": "1.2.0",
          "state": {
            "_model_module": "@jupyter-widgets/base",
            "_model_module_version": "1.2.0",
            "_model_name": "LayoutModel",
            "_view_count": null,
            "_view_module": "@jupyter-widgets/base",
            "_view_module_version": "1.2.0",
            "_view_name": "LayoutView",
            "align_content": null,
            "align_items": null,
            "align_self": null,
            "border": null,
            "bottom": null,
            "display": null,
            "flex": null,
            "flex_flow": null,
            "grid_area": null,
            "grid_auto_columns": null,
            "grid_auto_flow": null,
            "grid_auto_rows": null,
            "grid_column": null,
            "grid_gap": null,
            "grid_row": null,
            "grid_template_areas": null,
            "grid_template_columns": null,
            "grid_template_rows": null,
            "height": null,
            "justify_content": null,
            "justify_items": null,
            "left": null,
            "margin": null,
            "max_height": null,
            "max_width": null,
            "min_height": null,
            "min_width": null,
            "object_fit": null,
            "object_position": null,
            "order": null,
            "overflow": null,
            "overflow_x": null,
            "overflow_y": null,
            "padding": null,
            "right": null,
            "top": null,
            "visibility": null,
            "width": null
          }
        },
        "a5699a97445348c582f7eb61cac25713": {
          "model_module": "@jupyter-widgets/controls",
          "model_name": "ProgressStyleModel",
          "model_module_version": "1.5.0",
          "state": {
            "_model_module": "@jupyter-widgets/controls",
            "_model_module_version": "1.5.0",
            "_model_name": "ProgressStyleModel",
            "_view_count": null,
            "_view_module": "@jupyter-widgets/base",
            "_view_module_version": "1.2.0",
            "_view_name": "StyleView",
            "bar_color": null,
            "description_width": ""
          }
        },
        "ed8a99042f00403a82bbf2fe9b0a9e8c": {
          "model_module": "@jupyter-widgets/base",
          "model_name": "LayoutModel",
          "model_module_version": "1.2.0",
          "state": {
            "_model_module": "@jupyter-widgets/base",
            "_model_module_version": "1.2.0",
            "_model_name": "LayoutModel",
            "_view_count": null,
            "_view_module": "@jupyter-widgets/base",
            "_view_module_version": "1.2.0",
            "_view_name": "LayoutView",
            "align_content": null,
            "align_items": null,
            "align_self": null,
            "border": null,
            "bottom": null,
            "display": null,
            "flex": null,
            "flex_flow": null,
            "grid_area": null,
            "grid_auto_columns": null,
            "grid_auto_flow": null,
            "grid_auto_rows": null,
            "grid_column": null,
            "grid_gap": null,
            "grid_row": null,
            "grid_template_areas": null,
            "grid_template_columns": null,
            "grid_template_rows": null,
            "height": null,
            "justify_content": null,
            "justify_items": null,
            "left": null,
            "margin": null,
            "max_height": null,
            "max_width": null,
            "min_height": null,
            "min_width": null,
            "object_fit": null,
            "object_position": null,
            "order": null,
            "overflow": null,
            "overflow_x": null,
            "overflow_y": null,
            "padding": null,
            "right": null,
            "top": null,
            "visibility": null,
            "width": null
          }
        },
        "b7237d13e1a74854a86594da113397bb": {
          "model_module": "@jupyter-widgets/controls",
          "model_name": "DescriptionStyleModel",
          "model_module_version": "1.5.0",
          "state": {
            "_model_module": "@jupyter-widgets/controls",
            "_model_module_version": "1.5.0",
            "_model_name": "DescriptionStyleModel",
            "_view_count": null,
            "_view_module": "@jupyter-widgets/base",
            "_view_module_version": "1.2.0",
            "_view_name": "StyleView",
            "description_width": ""
          }
        },
        "537b6c3df4f14f9e8cbd9491e3842901": {
          "model_module": "@jupyter-widgets/controls",
          "model_name": "HBoxModel",
          "model_module_version": "1.5.0",
          "state": {
            "_dom_classes": [],
            "_model_module": "@jupyter-widgets/controls",
            "_model_module_version": "1.5.0",
            "_model_name": "HBoxModel",
            "_view_count": null,
            "_view_module": "@jupyter-widgets/controls",
            "_view_module_version": "1.5.0",
            "_view_name": "HBoxView",
            "box_style": "",
            "children": [
              "IPY_MODEL_b7269de40c2a4c05941df493ca067862",
              "IPY_MODEL_37860949609c47f4999a8b3252b1ea40",
              "IPY_MODEL_b141008bfd5649179864e6261a26134f"
            ],
            "layout": "IPY_MODEL_280762f052564b039569f684e074db98"
          }
        },
        "b7269de40c2a4c05941df493ca067862": {
          "model_module": "@jupyter-widgets/controls",
          "model_name": "HTMLModel",
          "model_module_version": "1.5.0",
          "state": {
            "_dom_classes": [],
            "_model_module": "@jupyter-widgets/controls",
            "_model_module_version": "1.5.0",
            "_model_name": "HTMLModel",
            "_view_count": null,
            "_view_module": "@jupyter-widgets/controls",
            "_view_module_version": "1.5.0",
            "_view_name": "HTMLView",
            "description": "",
            "description_tooltip": null,
            "layout": "IPY_MODEL_d9cfa0357f2b4f16a990bd011f9855a5",
            "placeholder": "​",
            "style": "IPY_MODEL_b439f7e5982044c38e889c14653abf1b",
            "value": "Batches: 100%"
          }
        },
        "37860949609c47f4999a8b3252b1ea40": {
          "model_module": "@jupyter-widgets/controls",
          "model_name": "FloatProgressModel",
          "model_module_version": "1.5.0",
          "state": {
            "_dom_classes": [],
            "_model_module": "@jupyter-widgets/controls",
            "_model_module_version": "1.5.0",
            "_model_name": "FloatProgressModel",
            "_view_count": null,
            "_view_module": "@jupyter-widgets/controls",
            "_view_module_version": "1.5.0",
            "_view_name": "ProgressView",
            "bar_style": "success",
            "description": "",
            "description_tooltip": null,
            "layout": "IPY_MODEL_a0a37eb993cb463093b55848c2471ce5",
            "max": 15,
            "min": 0,
            "orientation": "horizontal",
            "style": "IPY_MODEL_ccee98d14a154e83b7fad53ffcd9773e",
            "value": 15
          }
        },
        "b141008bfd5649179864e6261a26134f": {
          "model_module": "@jupyter-widgets/controls",
          "model_name": "HTMLModel",
          "model_module_version": "1.5.0",
          "state": {
            "_dom_classes": [],
            "_model_module": "@jupyter-widgets/controls",
            "_model_module_version": "1.5.0",
            "_model_name": "HTMLModel",
            "_view_count": null,
            "_view_module": "@jupyter-widgets/controls",
            "_view_module_version": "1.5.0",
            "_view_name": "HTMLView",
            "description": "",
            "description_tooltip": null,
            "layout": "IPY_MODEL_1582086a3ab64956bdf423c12442e160",
            "placeholder": "​",
            "style": "IPY_MODEL_77c9d4789b604ed3b8fcb2fe65cd8ede",
            "value": " 15/15 [00:00&lt;00:00, 21.05it/s]"
          }
        },
        "280762f052564b039569f684e074db98": {
          "model_module": "@jupyter-widgets/base",
          "model_name": "LayoutModel",
          "model_module_version": "1.2.0",
          "state": {
            "_model_module": "@jupyter-widgets/base",
            "_model_module_version": "1.2.0",
            "_model_name": "LayoutModel",
            "_view_count": null,
            "_view_module": "@jupyter-widgets/base",
            "_view_module_version": "1.2.0",
            "_view_name": "LayoutView",
            "align_content": null,
            "align_items": null,
            "align_self": null,
            "border": null,
            "bottom": null,
            "display": null,
            "flex": null,
            "flex_flow": null,
            "grid_area": null,
            "grid_auto_columns": null,
            "grid_auto_flow": null,
            "grid_auto_rows": null,
            "grid_column": null,
            "grid_gap": null,
            "grid_row": null,
            "grid_template_areas": null,
            "grid_template_columns": null,
            "grid_template_rows": null,
            "height": null,
            "justify_content": null,
            "justify_items": null,
            "left": null,
            "margin": null,
            "max_height": null,
            "max_width": null,
            "min_height": null,
            "min_width": null,
            "object_fit": null,
            "object_position": null,
            "order": null,
            "overflow": null,
            "overflow_x": null,
            "overflow_y": null,
            "padding": null,
            "right": null,
            "top": null,
            "visibility": null,
            "width": null
          }
        },
        "d9cfa0357f2b4f16a990bd011f9855a5": {
          "model_module": "@jupyter-widgets/base",
          "model_name": "LayoutModel",
          "model_module_version": "1.2.0",
          "state": {
            "_model_module": "@jupyter-widgets/base",
            "_model_module_version": "1.2.0",
            "_model_name": "LayoutModel",
            "_view_count": null,
            "_view_module": "@jupyter-widgets/base",
            "_view_module_version": "1.2.0",
            "_view_name": "LayoutView",
            "align_content": null,
            "align_items": null,
            "align_self": null,
            "border": null,
            "bottom": null,
            "display": null,
            "flex": null,
            "flex_flow": null,
            "grid_area": null,
            "grid_auto_columns": null,
            "grid_auto_flow": null,
            "grid_auto_rows": null,
            "grid_column": null,
            "grid_gap": null,
            "grid_row": null,
            "grid_template_areas": null,
            "grid_template_columns": null,
            "grid_template_rows": null,
            "height": null,
            "justify_content": null,
            "justify_items": null,
            "left": null,
            "margin": null,
            "max_height": null,
            "max_width": null,
            "min_height": null,
            "min_width": null,
            "object_fit": null,
            "object_position": null,
            "order": null,
            "overflow": null,
            "overflow_x": null,
            "overflow_y": null,
            "padding": null,
            "right": null,
            "top": null,
            "visibility": null,
            "width": null
          }
        },
        "b439f7e5982044c38e889c14653abf1b": {
          "model_module": "@jupyter-widgets/controls",
          "model_name": "DescriptionStyleModel",
          "model_module_version": "1.5.0",
          "state": {
            "_model_module": "@jupyter-widgets/controls",
            "_model_module_version": "1.5.0",
            "_model_name": "DescriptionStyleModel",
            "_view_count": null,
            "_view_module": "@jupyter-widgets/base",
            "_view_module_version": "1.2.0",
            "_view_name": "StyleView",
            "description_width": ""
          }
        },
        "a0a37eb993cb463093b55848c2471ce5": {
          "model_module": "@jupyter-widgets/base",
          "model_name": "LayoutModel",
          "model_module_version": "1.2.0",
          "state": {
            "_model_module": "@jupyter-widgets/base",
            "_model_module_version": "1.2.0",
            "_model_name": "LayoutModel",
            "_view_count": null,
            "_view_module": "@jupyter-widgets/base",
            "_view_module_version": "1.2.0",
            "_view_name": "LayoutView",
            "align_content": null,
            "align_items": null,
            "align_self": null,
            "border": null,
            "bottom": null,
            "display": null,
            "flex": null,
            "flex_flow": null,
            "grid_area": null,
            "grid_auto_columns": null,
            "grid_auto_flow": null,
            "grid_auto_rows": null,
            "grid_column": null,
            "grid_gap": null,
            "grid_row": null,
            "grid_template_areas": null,
            "grid_template_columns": null,
            "grid_template_rows": null,
            "height": null,
            "justify_content": null,
            "justify_items": null,
            "left": null,
            "margin": null,
            "max_height": null,
            "max_width": null,
            "min_height": null,
            "min_width": null,
            "object_fit": null,
            "object_position": null,
            "order": null,
            "overflow": null,
            "overflow_x": null,
            "overflow_y": null,
            "padding": null,
            "right": null,
            "top": null,
            "visibility": null,
            "width": null
          }
        },
        "ccee98d14a154e83b7fad53ffcd9773e": {
          "model_module": "@jupyter-widgets/controls",
          "model_name": "ProgressStyleModel",
          "model_module_version": "1.5.0",
          "state": {
            "_model_module": "@jupyter-widgets/controls",
            "_model_module_version": "1.5.0",
            "_model_name": "ProgressStyleModel",
            "_view_count": null,
            "_view_module": "@jupyter-widgets/base",
            "_view_module_version": "1.2.0",
            "_view_name": "StyleView",
            "bar_color": null,
            "description_width": ""
          }
        },
        "1582086a3ab64956bdf423c12442e160": {
          "model_module": "@jupyter-widgets/base",
          "model_name": "LayoutModel",
          "model_module_version": "1.2.0",
          "state": {
            "_model_module": "@jupyter-widgets/base",
            "_model_module_version": "1.2.0",
            "_model_name": "LayoutModel",
            "_view_count": null,
            "_view_module": "@jupyter-widgets/base",
            "_view_module_version": "1.2.0",
            "_view_name": "LayoutView",
            "align_content": null,
            "align_items": null,
            "align_self": null,
            "border": null,
            "bottom": null,
            "display": null,
            "flex": null,
            "flex_flow": null,
            "grid_area": null,
            "grid_auto_columns": null,
            "grid_auto_flow": null,
            "grid_auto_rows": null,
            "grid_column": null,
            "grid_gap": null,
            "grid_row": null,
            "grid_template_areas": null,
            "grid_template_columns": null,
            "grid_template_rows": null,
            "height": null,
            "justify_content": null,
            "justify_items": null,
            "left": null,
            "margin": null,
            "max_height": null,
            "max_width": null,
            "min_height": null,
            "min_width": null,
            "object_fit": null,
            "object_position": null,
            "order": null,
            "overflow": null,
            "overflow_x": null,
            "overflow_y": null,
            "padding": null,
            "right": null,
            "top": null,
            "visibility": null,
            "width": null
          }
        },
        "77c9d4789b604ed3b8fcb2fe65cd8ede": {
          "model_module": "@jupyter-widgets/controls",
          "model_name": "DescriptionStyleModel",
          "model_module_version": "1.5.0",
          "state": {
            "_model_module": "@jupyter-widgets/controls",
            "_model_module_version": "1.5.0",
            "_model_name": "DescriptionStyleModel",
            "_view_count": null,
            "_view_module": "@jupyter-widgets/base",
            "_view_module_version": "1.2.0",
            "_view_name": "StyleView",
            "description_width": ""
          }
        },
        "596ddd30b6df4ebeb5bb7f7c9705d843": {
          "model_module": "@jupyter-widgets/controls",
          "model_name": "HBoxModel",
          "model_module_version": "1.5.0",
          "state": {
            "_dom_classes": [],
            "_model_module": "@jupyter-widgets/controls",
            "_model_module_version": "1.5.0",
            "_model_name": "HBoxModel",
            "_view_count": null,
            "_view_module": "@jupyter-widgets/controls",
            "_view_module_version": "1.5.0",
            "_view_name": "HBoxView",
            "box_style": "",
            "children": [
              "IPY_MODEL_f1a5971432fc443a9add0e1984232e93",
              "IPY_MODEL_134c140f57c24e11a4c8941ae74e8f05",
              "IPY_MODEL_29f4166e40294332b2009877022a9cfe"
            ],
            "layout": "IPY_MODEL_fef2a3215d60456d8d4538648365996a"
          }
        },
        "f1a5971432fc443a9add0e1984232e93": {
          "model_module": "@jupyter-widgets/controls",
          "model_name": "HTMLModel",
          "model_module_version": "1.5.0",
          "state": {
            "_dom_classes": [],
            "_model_module": "@jupyter-widgets/controls",
            "_model_module_version": "1.5.0",
            "_model_name": "HTMLModel",
            "_view_count": null,
            "_view_module": "@jupyter-widgets/controls",
            "_view_module_version": "1.5.0",
            "_view_name": "HTMLView",
            "description": "",
            "description_tooltip": null,
            "layout": "IPY_MODEL_1f8901879c28423381a3032e33ee35a4",
            "placeholder": "​",
            "style": "IPY_MODEL_90e485fade6e4a0b8f88cc4ca683aa55",
            "value": "Batches: 100%"
          }
        },
        "134c140f57c24e11a4c8941ae74e8f05": {
          "model_module": "@jupyter-widgets/controls",
          "model_name": "FloatProgressModel",
          "model_module_version": "1.5.0",
          "state": {
            "_dom_classes": [],
            "_model_module": "@jupyter-widgets/controls",
            "_model_module_version": "1.5.0",
            "_model_name": "FloatProgressModel",
            "_view_count": null,
            "_view_module": "@jupyter-widgets/controls",
            "_view_module_version": "1.5.0",
            "_view_name": "ProgressView",
            "bar_style": "success",
            "description": "",
            "description_tooltip": null,
            "layout": "IPY_MODEL_1404b774e4d0464995c0987604f48b83",
            "max": 1,
            "min": 0,
            "orientation": "horizontal",
            "style": "IPY_MODEL_44afab223d104cfc8096ea1cdfef5f78",
            "value": 1
          }
        },
        "29f4166e40294332b2009877022a9cfe": {
          "model_module": "@jupyter-widgets/controls",
          "model_name": "HTMLModel",
          "model_module_version": "1.5.0",
          "state": {
            "_dom_classes": [],
            "_model_module": "@jupyter-widgets/controls",
            "_model_module_version": "1.5.0",
            "_model_name": "HTMLModel",
            "_view_count": null,
            "_view_module": "@jupyter-widgets/controls",
            "_view_module_version": "1.5.0",
            "_view_name": "HTMLView",
            "description": "",
            "description_tooltip": null,
            "layout": "IPY_MODEL_29a8d6f4484f46ffaf868175953ff623",
            "placeholder": "​",
            "style": "IPY_MODEL_7206045d5b0541c0a73fe5809611395a",
            "value": " 1/1 [00:00&lt;00:00, 26.10it/s]"
          }
        },
        "fef2a3215d60456d8d4538648365996a": {
          "model_module": "@jupyter-widgets/base",
          "model_name": "LayoutModel",
          "model_module_version": "1.2.0",
          "state": {
            "_model_module": "@jupyter-widgets/base",
            "_model_module_version": "1.2.0",
            "_model_name": "LayoutModel",
            "_view_count": null,
            "_view_module": "@jupyter-widgets/base",
            "_view_module_version": "1.2.0",
            "_view_name": "LayoutView",
            "align_content": null,
            "align_items": null,
            "align_self": null,
            "border": null,
            "bottom": null,
            "display": null,
            "flex": null,
            "flex_flow": null,
            "grid_area": null,
            "grid_auto_columns": null,
            "grid_auto_flow": null,
            "grid_auto_rows": null,
            "grid_column": null,
            "grid_gap": null,
            "grid_row": null,
            "grid_template_areas": null,
            "grid_template_columns": null,
            "grid_template_rows": null,
            "height": null,
            "justify_content": null,
            "justify_items": null,
            "left": null,
            "margin": null,
            "max_height": null,
            "max_width": null,
            "min_height": null,
            "min_width": null,
            "object_fit": null,
            "object_position": null,
            "order": null,
            "overflow": null,
            "overflow_x": null,
            "overflow_y": null,
            "padding": null,
            "right": null,
            "top": null,
            "visibility": null,
            "width": null
          }
        },
        "1f8901879c28423381a3032e33ee35a4": {
          "model_module": "@jupyter-widgets/base",
          "model_name": "LayoutModel",
          "model_module_version": "1.2.0",
          "state": {
            "_model_module": "@jupyter-widgets/base",
            "_model_module_version": "1.2.0",
            "_model_name": "LayoutModel",
            "_view_count": null,
            "_view_module": "@jupyter-widgets/base",
            "_view_module_version": "1.2.0",
            "_view_name": "LayoutView",
            "align_content": null,
            "align_items": null,
            "align_self": null,
            "border": null,
            "bottom": null,
            "display": null,
            "flex": null,
            "flex_flow": null,
            "grid_area": null,
            "grid_auto_columns": null,
            "grid_auto_flow": null,
            "grid_auto_rows": null,
            "grid_column": null,
            "grid_gap": null,
            "grid_row": null,
            "grid_template_areas": null,
            "grid_template_columns": null,
            "grid_template_rows": null,
            "height": null,
            "justify_content": null,
            "justify_items": null,
            "left": null,
            "margin": null,
            "max_height": null,
            "max_width": null,
            "min_height": null,
            "min_width": null,
            "object_fit": null,
            "object_position": null,
            "order": null,
            "overflow": null,
            "overflow_x": null,
            "overflow_y": null,
            "padding": null,
            "right": null,
            "top": null,
            "visibility": null,
            "width": null
          }
        },
        "90e485fade6e4a0b8f88cc4ca683aa55": {
          "model_module": "@jupyter-widgets/controls",
          "model_name": "DescriptionStyleModel",
          "model_module_version": "1.5.0",
          "state": {
            "_model_module": "@jupyter-widgets/controls",
            "_model_module_version": "1.5.0",
            "_model_name": "DescriptionStyleModel",
            "_view_count": null,
            "_view_module": "@jupyter-widgets/base",
            "_view_module_version": "1.2.0",
            "_view_name": "StyleView",
            "description_width": ""
          }
        },
        "1404b774e4d0464995c0987604f48b83": {
          "model_module": "@jupyter-widgets/base",
          "model_name": "LayoutModel",
          "model_module_version": "1.2.0",
          "state": {
            "_model_module": "@jupyter-widgets/base",
            "_model_module_version": "1.2.0",
            "_model_name": "LayoutModel",
            "_view_count": null,
            "_view_module": "@jupyter-widgets/base",
            "_view_module_version": "1.2.0",
            "_view_name": "LayoutView",
            "align_content": null,
            "align_items": null,
            "align_self": null,
            "border": null,
            "bottom": null,
            "display": null,
            "flex": null,
            "flex_flow": null,
            "grid_area": null,
            "grid_auto_columns": null,
            "grid_auto_flow": null,
            "grid_auto_rows": null,
            "grid_column": null,
            "grid_gap": null,
            "grid_row": null,
            "grid_template_areas": null,
            "grid_template_columns": null,
            "grid_template_rows": null,
            "height": null,
            "justify_content": null,
            "justify_items": null,
            "left": null,
            "margin": null,
            "max_height": null,
            "max_width": null,
            "min_height": null,
            "min_width": null,
            "object_fit": null,
            "object_position": null,
            "order": null,
            "overflow": null,
            "overflow_x": null,
            "overflow_y": null,
            "padding": null,
            "right": null,
            "top": null,
            "visibility": null,
            "width": null
          }
        },
        "44afab223d104cfc8096ea1cdfef5f78": {
          "model_module": "@jupyter-widgets/controls",
          "model_name": "ProgressStyleModel",
          "model_module_version": "1.5.0",
          "state": {
            "_model_module": "@jupyter-widgets/controls",
            "_model_module_version": "1.5.0",
            "_model_name": "ProgressStyleModel",
            "_view_count": null,
            "_view_module": "@jupyter-widgets/base",
            "_view_module_version": "1.2.0",
            "_view_name": "StyleView",
            "bar_color": null,
            "description_width": ""
          }
        },
        "29a8d6f4484f46ffaf868175953ff623": {
          "model_module": "@jupyter-widgets/base",
          "model_name": "LayoutModel",
          "model_module_version": "1.2.0",
          "state": {
            "_model_module": "@jupyter-widgets/base",
            "_model_module_version": "1.2.0",
            "_model_name": "LayoutModel",
            "_view_count": null,
            "_view_module": "@jupyter-widgets/base",
            "_view_module_version": "1.2.0",
            "_view_name": "LayoutView",
            "align_content": null,
            "align_items": null,
            "align_self": null,
            "border": null,
            "bottom": null,
            "display": null,
            "flex": null,
            "flex_flow": null,
            "grid_area": null,
            "grid_auto_columns": null,
            "grid_auto_flow": null,
            "grid_auto_rows": null,
            "grid_column": null,
            "grid_gap": null,
            "grid_row": null,
            "grid_template_areas": null,
            "grid_template_columns": null,
            "grid_template_rows": null,
            "height": null,
            "justify_content": null,
            "justify_items": null,
            "left": null,
            "margin": null,
            "max_height": null,
            "max_width": null,
            "min_height": null,
            "min_width": null,
            "object_fit": null,
            "object_position": null,
            "order": null,
            "overflow": null,
            "overflow_x": null,
            "overflow_y": null,
            "padding": null,
            "right": null,
            "top": null,
            "visibility": null,
            "width": null
          }
        },
        "7206045d5b0541c0a73fe5809611395a": {
          "model_module": "@jupyter-widgets/controls",
          "model_name": "DescriptionStyleModel",
          "model_module_version": "1.5.0",
          "state": {
            "_model_module": "@jupyter-widgets/controls",
            "_model_module_version": "1.5.0",
            "_model_name": "DescriptionStyleModel",
            "_view_count": null,
            "_view_module": "@jupyter-widgets/base",
            "_view_module_version": "1.2.0",
            "_view_name": "StyleView",
            "description_width": ""
          }
        },
        "7cd7563967c34632878596ec2fab5d6d": {
          "model_module": "@jupyter-widgets/controls",
          "model_name": "HBoxModel",
          "model_module_version": "1.5.0",
          "state": {
            "_dom_classes": [],
            "_model_module": "@jupyter-widgets/controls",
            "_model_module_version": "1.5.0",
            "_model_name": "HBoxModel",
            "_view_count": null,
            "_view_module": "@jupyter-widgets/controls",
            "_view_module_version": "1.5.0",
            "_view_name": "HBoxView",
            "box_style": "",
            "children": [
              "IPY_MODEL_20cf23f05c6f43d3b937ad25d8c2c162",
              "IPY_MODEL_a80bf28907d049a2b200386460bfe104",
              "IPY_MODEL_587eb03c29a041f8bf7e61fa648f967e"
            ],
            "layout": "IPY_MODEL_cc890fff46394f13b8e62212b9149632"
          }
        },
        "20cf23f05c6f43d3b937ad25d8c2c162": {
          "model_module": "@jupyter-widgets/controls",
          "model_name": "HTMLModel",
          "model_module_version": "1.5.0",
          "state": {
            "_dom_classes": [],
            "_model_module": "@jupyter-widgets/controls",
            "_model_module_version": "1.5.0",
            "_model_name": "HTMLModel",
            "_view_count": null,
            "_view_module": "@jupyter-widgets/controls",
            "_view_module_version": "1.5.0",
            "_view_name": "HTMLView",
            "description": "",
            "description_tooltip": null,
            "layout": "IPY_MODEL_cfc37c77004c473ea9357cfc75d27957",
            "placeholder": "​",
            "style": "IPY_MODEL_31fc34ce7bb7452a91551858addaeddf",
            "value": "Batches: 100%"
          }
        },
        "a80bf28907d049a2b200386460bfe104": {
          "model_module": "@jupyter-widgets/controls",
          "model_name": "FloatProgressModel",
          "model_module_version": "1.5.0",
          "state": {
            "_dom_classes": [],
            "_model_module": "@jupyter-widgets/controls",
            "_model_module_version": "1.5.0",
            "_model_name": "FloatProgressModel",
            "_view_count": null,
            "_view_module": "@jupyter-widgets/controls",
            "_view_module_version": "1.5.0",
            "_view_name": "ProgressView",
            "bar_style": "success",
            "description": "",
            "description_tooltip": null,
            "layout": "IPY_MODEL_3850f3025aa5452985d0d5c6d698900e",
            "max": 1,
            "min": 0,
            "orientation": "horizontal",
            "style": "IPY_MODEL_cc6d957945df41e78996cb19de54d870",
            "value": 1
          }
        },
        "587eb03c29a041f8bf7e61fa648f967e": {
          "model_module": "@jupyter-widgets/controls",
          "model_name": "HTMLModel",
          "model_module_version": "1.5.0",
          "state": {
            "_dom_classes": [],
            "_model_module": "@jupyter-widgets/controls",
            "_model_module_version": "1.5.0",
            "_model_name": "HTMLModel",
            "_view_count": null,
            "_view_module": "@jupyter-widgets/controls",
            "_view_module_version": "1.5.0",
            "_view_name": "HTMLView",
            "description": "",
            "description_tooltip": null,
            "layout": "IPY_MODEL_9029961cd2e94802af34795f4dab62a5",
            "placeholder": "​",
            "style": "IPY_MODEL_ea913af83f564797a1772af8064115ed",
            "value": " 1/1 [00:00&lt;00:00, 25.61it/s]"
          }
        },
        "cc890fff46394f13b8e62212b9149632": {
          "model_module": "@jupyter-widgets/base",
          "model_name": "LayoutModel",
          "model_module_version": "1.2.0",
          "state": {
            "_model_module": "@jupyter-widgets/base",
            "_model_module_version": "1.2.0",
            "_model_name": "LayoutModel",
            "_view_count": null,
            "_view_module": "@jupyter-widgets/base",
            "_view_module_version": "1.2.0",
            "_view_name": "LayoutView",
            "align_content": null,
            "align_items": null,
            "align_self": null,
            "border": null,
            "bottom": null,
            "display": null,
            "flex": null,
            "flex_flow": null,
            "grid_area": null,
            "grid_auto_columns": null,
            "grid_auto_flow": null,
            "grid_auto_rows": null,
            "grid_column": null,
            "grid_gap": null,
            "grid_row": null,
            "grid_template_areas": null,
            "grid_template_columns": null,
            "grid_template_rows": null,
            "height": null,
            "justify_content": null,
            "justify_items": null,
            "left": null,
            "margin": null,
            "max_height": null,
            "max_width": null,
            "min_height": null,
            "min_width": null,
            "object_fit": null,
            "object_position": null,
            "order": null,
            "overflow": null,
            "overflow_x": null,
            "overflow_y": null,
            "padding": null,
            "right": null,
            "top": null,
            "visibility": null,
            "width": null
          }
        },
        "cfc37c77004c473ea9357cfc75d27957": {
          "model_module": "@jupyter-widgets/base",
          "model_name": "LayoutModel",
          "model_module_version": "1.2.0",
          "state": {
            "_model_module": "@jupyter-widgets/base",
            "_model_module_version": "1.2.0",
            "_model_name": "LayoutModel",
            "_view_count": null,
            "_view_module": "@jupyter-widgets/base",
            "_view_module_version": "1.2.0",
            "_view_name": "LayoutView",
            "align_content": null,
            "align_items": null,
            "align_self": null,
            "border": null,
            "bottom": null,
            "display": null,
            "flex": null,
            "flex_flow": null,
            "grid_area": null,
            "grid_auto_columns": null,
            "grid_auto_flow": null,
            "grid_auto_rows": null,
            "grid_column": null,
            "grid_gap": null,
            "grid_row": null,
            "grid_template_areas": null,
            "grid_template_columns": null,
            "grid_template_rows": null,
            "height": null,
            "justify_content": null,
            "justify_items": null,
            "left": null,
            "margin": null,
            "max_height": null,
            "max_width": null,
            "min_height": null,
            "min_width": null,
            "object_fit": null,
            "object_position": null,
            "order": null,
            "overflow": null,
            "overflow_x": null,
            "overflow_y": null,
            "padding": null,
            "right": null,
            "top": null,
            "visibility": null,
            "width": null
          }
        },
        "31fc34ce7bb7452a91551858addaeddf": {
          "model_module": "@jupyter-widgets/controls",
          "model_name": "DescriptionStyleModel",
          "model_module_version": "1.5.0",
          "state": {
            "_model_module": "@jupyter-widgets/controls",
            "_model_module_version": "1.5.0",
            "_model_name": "DescriptionStyleModel",
            "_view_count": null,
            "_view_module": "@jupyter-widgets/base",
            "_view_module_version": "1.2.0",
            "_view_name": "StyleView",
            "description_width": ""
          }
        },
        "3850f3025aa5452985d0d5c6d698900e": {
          "model_module": "@jupyter-widgets/base",
          "model_name": "LayoutModel",
          "model_module_version": "1.2.0",
          "state": {
            "_model_module": "@jupyter-widgets/base",
            "_model_module_version": "1.2.0",
            "_model_name": "LayoutModel",
            "_view_count": null,
            "_view_module": "@jupyter-widgets/base",
            "_view_module_version": "1.2.0",
            "_view_name": "LayoutView",
            "align_content": null,
            "align_items": null,
            "align_self": null,
            "border": null,
            "bottom": null,
            "display": null,
            "flex": null,
            "flex_flow": null,
            "grid_area": null,
            "grid_auto_columns": null,
            "grid_auto_flow": null,
            "grid_auto_rows": null,
            "grid_column": null,
            "grid_gap": null,
            "grid_row": null,
            "grid_template_areas": null,
            "grid_template_columns": null,
            "grid_template_rows": null,
            "height": null,
            "justify_content": null,
            "justify_items": null,
            "left": null,
            "margin": null,
            "max_height": null,
            "max_width": null,
            "min_height": null,
            "min_width": null,
            "object_fit": null,
            "object_position": null,
            "order": null,
            "overflow": null,
            "overflow_x": null,
            "overflow_y": null,
            "padding": null,
            "right": null,
            "top": null,
            "visibility": null,
            "width": null
          }
        },
        "cc6d957945df41e78996cb19de54d870": {
          "model_module": "@jupyter-widgets/controls",
          "model_name": "ProgressStyleModel",
          "model_module_version": "1.5.0",
          "state": {
            "_model_module": "@jupyter-widgets/controls",
            "_model_module_version": "1.5.0",
            "_model_name": "ProgressStyleModel",
            "_view_count": null,
            "_view_module": "@jupyter-widgets/base",
            "_view_module_version": "1.2.0",
            "_view_name": "StyleView",
            "bar_color": null,
            "description_width": ""
          }
        },
        "9029961cd2e94802af34795f4dab62a5": {
          "model_module": "@jupyter-widgets/base",
          "model_name": "LayoutModel",
          "model_module_version": "1.2.0",
          "state": {
            "_model_module": "@jupyter-widgets/base",
            "_model_module_version": "1.2.0",
            "_model_name": "LayoutModel",
            "_view_count": null,
            "_view_module": "@jupyter-widgets/base",
            "_view_module_version": "1.2.0",
            "_view_name": "LayoutView",
            "align_content": null,
            "align_items": null,
            "align_self": null,
            "border": null,
            "bottom": null,
            "display": null,
            "flex": null,
            "flex_flow": null,
            "grid_area": null,
            "grid_auto_columns": null,
            "grid_auto_flow": null,
            "grid_auto_rows": null,
            "grid_column": null,
            "grid_gap": null,
            "grid_row": null,
            "grid_template_areas": null,
            "grid_template_columns": null,
            "grid_template_rows": null,
            "height": null,
            "justify_content": null,
            "justify_items": null,
            "left": null,
            "margin": null,
            "max_height": null,
            "max_width": null,
            "min_height": null,
            "min_width": null,
            "object_fit": null,
            "object_position": null,
            "order": null,
            "overflow": null,
            "overflow_x": null,
            "overflow_y": null,
            "padding": null,
            "right": null,
            "top": null,
            "visibility": null,
            "width": null
          }
        },
        "ea913af83f564797a1772af8064115ed": {
          "model_module": "@jupyter-widgets/controls",
          "model_name": "DescriptionStyleModel",
          "model_module_version": "1.5.0",
          "state": {
            "_model_module": "@jupyter-widgets/controls",
            "_model_module_version": "1.5.0",
            "_model_name": "DescriptionStyleModel",
            "_view_count": null,
            "_view_module": "@jupyter-widgets/base",
            "_view_module_version": "1.2.0",
            "_view_name": "StyleView",
            "description_width": ""
          }
        }
      }
    }
  },
  "cells": [
    {
      "cell_type": "markdown",
      "metadata": {
        "id": "view-in-github",
        "colab_type": "text"
      },
      "source": [
        "<a href=\"https://colab.research.google.com/github/nickprock/appunti_data_science/blob/master/semantic-search/FAQ_Search.ipynb\" target=\"_parent\"><img src=\"https://colab.research.google.com/assets/colab-badge.svg\" alt=\"Open In Colab\"/></a>"
      ]
    },
    {
      "cell_type": "markdown",
      "source": [
        "# FAQ Search\n",
        "\n",
        "<br>\n",
        "\n",
        "![faq](https://cdn.mageplaza.com/docs/faq-kb-advanced-search-faq.gif)\n",
        "\n",
        "<br>\n",
        "\n",
        "In un momento storico in cui molte delle risposte che cerchiamo vengono **generate** dall'intelligenza artificiale (i noti modelli GPT) ci sono dei campi in cui fare affidamento solo a queste tecnologie non è del tutto consigliato, il primo che viene in mente è il campo medico dove il parere dell'esperto sia per ricadute sulla salute che per tematiche legali è ancora fondamentale.\n",
        "\n",
        "Negli anni si è provato ad automatizzare questo processo, uno dei risultati è il proliferare di milioni di siti internet a sfondo medico che hanno contribuito a creare una nuova malattia, la ***cybercondria***.\n",
        "\n",
        "Le FAQ hanno il vantaggio di non inventare nulla (se sono \"certificate\") ma allo stesso tempo in molti casi sono estremamente verticali su un argomento utilizzando un linguaggio molto specifico. Questo può essere un problema per i LLM che generano gli embeddings in quanto sono addestrati su testi generalisti e perdono i tecnicismi.\n",
        "\n",
        "> Ho parlato ci cybercondria al PyCon22 [trovate il video qui](https://www.youtube.com/watch?v=zZyfQ4Pc-ek)\n",
        "\n",
        "## Come procedere?\n",
        "\n",
        "Si possono perseguire due strade:\n",
        "* addestrare un modello sul mercato verticale, richiede tempo, risorse e soprattutto una fonte dati corposa da cui attingere.\n",
        "* utilizzare la [hybrid search](https://weaviate.io/blog/hybrid-search-explained), ovvero combinare un algoritmo di sparse search come [BM25](https://en.wikipedia.org/wiki/Okapi_BM25) ed un pretrained sentence transformer. Anche qui ci sono dei contro uno verrà citato in seguito.\n",
        "\n",
        "Non esiste una strategia giusta da utilizzare, in questo notebook mostrerà la seconda, o almeno un modo di approcciare all'hybrid search, andando avanti cercherò di elencare le possibili variazioni sul tema.\n",
        "\n",
        "<br>\n",
        "\n",
        "![hs](https://weaviate.io/assets/images/hybrid-search-explained-6c9a3c81beb57e3c9c15cb5d996f249b.png)\n",
        "\n",
        "### Haystack\n",
        "\n",
        "Per creare il document store e il nostro motore di ricerca utilizzerò [Haystack](https://haystack.deepset.ai/) una liberia specializzata in ricerca semantica e Q&A che permette di costruire in maniera modulare search engine utilizzando vettori sia sparsi che densi.\n",
        "\n",
        "### Dataset\n",
        "\n",
        "Utilizzerò un piccolo dataset, circa 200 FAQ copiato dal sito dell'[AIRC](https://www.airc.it/).\n",
        "\n",
        "### Pipeline\n",
        "\n",
        "La FAQ pipeline sarà composta da:\n",
        "\n",
        "* Document Store su cui verranno caricate le FAQ\n",
        "* BM25 Engine\n",
        "* Dense engine creato nel [notebook sul fine tuning dei Bi-Encoder](https://github.com/nickprock/appunti_data_science/blob/master/semantic-search/fine-tuning-sentence-transformer.ipynb)\n",
        "* Concatenazione dei risultati\n",
        "* Re-Rank mediante [cross-encoder](https://github.com/nickprock/appunti_data_science/blob/master/semantic-search/sentence-transformer-cross-encoder.ipynb)\n",
        "\n",
        "> *N.B. il notebook è stato creato su Colab, se volete usare altri environment per l'installazione vi consiglio la documentazione ufficiale di haystack.*\n",
        "\n"
      ],
      "metadata": {
        "id": "Ac-1Xlf7lj_7"
      }
    },
    {
      "cell_type": "code",
      "execution_count": 1,
      "metadata": {
        "colab": {
          "base_uri": "https://localhost:8080/"
        },
        "id": "eSO8F3HcPc_G",
        "outputId": "4209a4f1-0702-462d-a5d7-be6621b6b33a"
      },
      "outputs": [
        {
          "output_type": "stream",
          "name": "stdout",
          "text": [
            "Requirement already satisfied: pip in /usr/local/lib/python3.10/dist-packages (23.2)\n",
            "Requirement already satisfied: transformers in /usr/local/lib/python3.10/dist-packages (4.30.1)\n",
            "Requirement already satisfied: filelock in /usr/local/lib/python3.10/dist-packages (from transformers) (3.12.2)\n",
            "Requirement already satisfied: huggingface-hub<1.0,>=0.14.1 in /usr/local/lib/python3.10/dist-packages (from transformers) (0.16.4)\n",
            "Requirement already satisfied: numpy>=1.17 in /usr/local/lib/python3.10/dist-packages (from transformers) (1.22.4)\n",
            "Requirement already satisfied: packaging>=20.0 in /usr/local/lib/python3.10/dist-packages (from transformers) (23.1)\n",
            "Requirement already satisfied: pyyaml>=5.1 in /usr/local/lib/python3.10/dist-packages (from transformers) (6.0)\n",
            "Requirement already satisfied: regex!=2019.12.17 in /usr/local/lib/python3.10/dist-packages (from transformers) (2022.10.31)\n",
            "Requirement already satisfied: requests in /usr/local/lib/python3.10/dist-packages (from transformers) (2.31.0)\n",
            "Requirement already satisfied: tokenizers!=0.11.3,<0.14,>=0.11.1 in /usr/local/lib/python3.10/dist-packages (from transformers) (0.13.3)\n",
            "Requirement already satisfied: safetensors>=0.3.1 in /usr/local/lib/python3.10/dist-packages (from transformers) (0.3.1)\n",
            "Requirement already satisfied: tqdm>=4.27 in /usr/local/lib/python3.10/dist-packages (from transformers) (4.65.0)\n",
            "Requirement already satisfied: fsspec in /usr/local/lib/python3.10/dist-packages (from huggingface-hub<1.0,>=0.14.1->transformers) (2023.6.0)\n",
            "Requirement already satisfied: typing-extensions>=3.7.4.3 in /usr/local/lib/python3.10/dist-packages (from huggingface-hub<1.0,>=0.14.1->transformers) (4.7.1)\n",
            "Requirement already satisfied: charset-normalizer<4,>=2 in /usr/local/lib/python3.10/dist-packages (from requests->transformers) (2.0.12)\n",
            "Requirement already satisfied: idna<4,>=2.5 in /usr/local/lib/python3.10/dist-packages (from requests->transformers) (3.4)\n",
            "Requirement already satisfied: urllib3<3,>=1.21.1 in /usr/local/lib/python3.10/dist-packages (from requests->transformers) (1.26.16)\n",
            "Requirement already satisfied: certifi>=2017.4.17 in /usr/local/lib/python3.10/dist-packages (from requests->transformers) (2023.5.7)\n",
            "Requirement already satisfied: farm-haystack[inference] in /usr/local/lib/python3.10/dist-packages (1.18.1)\n",
            "Requirement already satisfied: boilerpy3 in /usr/local/lib/python3.10/dist-packages (from farm-haystack[inference]) (1.0.6)\n",
            "Requirement already satisfied: canals==0.2.2 in /usr/local/lib/python3.10/dist-packages (from farm-haystack[inference]) (0.2.2)\n",
            "Requirement already satisfied: events in /usr/local/lib/python3.10/dist-packages (from farm-haystack[inference]) (0.4)\n",
            "Requirement already satisfied: jsonschema in /usr/local/lib/python3.10/dist-packages (from farm-haystack[inference]) (4.3.3)\n",
            "Requirement already satisfied: lazy-imports==0.3.1 in /usr/local/lib/python3.10/dist-packages (from farm-haystack[inference]) (0.3.1)\n",
            "Requirement already satisfied: more-itertools in /usr/local/lib/python3.10/dist-packages (from farm-haystack[inference]) (9.1.0)\n",
            "Requirement already satisfied: networkx in /usr/local/lib/python3.10/dist-packages (from farm-haystack[inference]) (3.1)\n",
            "Requirement already satisfied: pandas in /usr/local/lib/python3.10/dist-packages (from farm-haystack[inference]) (1.5.3)\n",
            "Requirement already satisfied: pillow in /usr/local/lib/python3.10/dist-packages (from farm-haystack[inference]) (8.4.0)\n",
            "Requirement already satisfied: platformdirs in /usr/local/lib/python3.10/dist-packages (from farm-haystack[inference]) (3.8.1)\n",
            "Requirement already satisfied: posthog in /usr/local/lib/python3.10/dist-packages (from farm-haystack[inference]) (3.0.1)\n",
            "Requirement already satisfied: prompthub-py==4.0.0 in /usr/local/lib/python3.10/dist-packages (from farm-haystack[inference]) (4.0.0)\n",
            "Requirement already satisfied: pydantic<2 in /usr/local/lib/python3.10/dist-packages (from farm-haystack[inference]) (1.10.11)\n",
            "Requirement already satisfied: quantulum3 in /usr/local/lib/python3.10/dist-packages (from farm-haystack[inference]) (0.9.0)\n",
            "Requirement already satisfied: rank-bm25 in /usr/local/lib/python3.10/dist-packages (from farm-haystack[inference]) (0.2.2)\n",
            "Requirement already satisfied: requests in /usr/local/lib/python3.10/dist-packages (from farm-haystack[inference]) (2.31.0)\n",
            "Requirement already satisfied: requests-cache<1.0.0 in /usr/local/lib/python3.10/dist-packages (from farm-haystack[inference]) (0.9.8)\n",
            "Requirement already satisfied: scikit-learn>=1.0.0 in /usr/local/lib/python3.10/dist-packages (from farm-haystack[inference]) (1.2.2)\n",
            "Requirement already satisfied: sseclient-py in /usr/local/lib/python3.10/dist-packages (from farm-haystack[inference]) (1.7.2)\n",
            "Requirement already satisfied: tenacity in /usr/local/lib/python3.10/dist-packages (from farm-haystack[inference]) (8.2.2)\n",
            "Requirement already satisfied: tiktoken>=0.3.2 in /usr/local/lib/python3.10/dist-packages (from farm-haystack[inference]) (0.4.0)\n",
            "Requirement already satisfied: tqdm in /usr/local/lib/python3.10/dist-packages (from farm-haystack[inference]) (4.65.0)\n",
            "Requirement already satisfied: transformers==4.30.1 in /usr/local/lib/python3.10/dist-packages (from farm-haystack[inference]) (4.30.1)\n",
            "Requirement already satisfied: huggingface-hub>=0.5.0 in /usr/local/lib/python3.10/dist-packages (from farm-haystack[inference]) (0.16.4)\n",
            "Requirement already satisfied: sentence-transformers>=2.2.0 in /usr/local/lib/python3.10/dist-packages (from farm-haystack[inference]) (2.2.2)\n",
            "Requirement already satisfied: pyyaml<7.0,>=6.0 in /usr/local/lib/python3.10/dist-packages (from prompthub-py==4.0.0->farm-haystack[inference]) (6.0)\n",
            "Requirement already satisfied: filelock in /usr/local/lib/python3.10/dist-packages (from transformers==4.30.1->farm-haystack[inference]) (3.12.2)\n",
            "Requirement already satisfied: numpy>=1.17 in /usr/local/lib/python3.10/dist-packages (from transformers==4.30.1->farm-haystack[inference]) (1.22.4)\n",
            "Requirement already satisfied: packaging>=20.0 in /usr/local/lib/python3.10/dist-packages (from transformers==4.30.1->farm-haystack[inference]) (23.1)\n",
            "Requirement already satisfied: regex!=2019.12.17 in /usr/local/lib/python3.10/dist-packages (from transformers==4.30.1->farm-haystack[inference]) (2022.10.31)\n",
            "Requirement already satisfied: tokenizers!=0.11.3,<0.14,>=0.11.1 in /usr/local/lib/python3.10/dist-packages (from transformers==4.30.1->farm-haystack[inference]) (0.13.3)\n",
            "Requirement already satisfied: safetensors>=0.3.1 in /usr/local/lib/python3.10/dist-packages (from transformers==4.30.1->farm-haystack[inference]) (0.3.1)\n",
            "Requirement already satisfied: torch!=1.12.0,>=1.9 in /usr/local/lib/python3.10/dist-packages (from transformers==4.30.1->farm-haystack[inference]) (2.0.1+cu118)\n",
            "Requirement already satisfied: accelerate>=0.20.2 in /usr/local/lib/python3.10/dist-packages (from transformers==4.30.1->farm-haystack[inference]) (0.21.0)\n",
            "Requirement already satisfied: sentencepiece!=0.1.92,>=0.1.91 in /usr/local/lib/python3.10/dist-packages (from transformers==4.30.1->farm-haystack[inference]) (0.1.99)\n",
            "Requirement already satisfied: protobuf<=3.20.3 in /usr/local/lib/python3.10/dist-packages (from transformers==4.30.1->farm-haystack[inference]) (3.20.3)\n",
            "Requirement already satisfied: fsspec in /usr/local/lib/python3.10/dist-packages (from huggingface-hub>=0.5.0->farm-haystack[inference]) (2023.6.0)\n",
            "Requirement already satisfied: typing-extensions>=3.7.4.3 in /usr/local/lib/python3.10/dist-packages (from huggingface-hub>=0.5.0->farm-haystack[inference]) (4.7.1)\n",
            "Requirement already satisfied: charset-normalizer<4,>=2 in /usr/local/lib/python3.10/dist-packages (from requests->farm-haystack[inference]) (2.0.12)\n",
            "Requirement already satisfied: idna<4,>=2.5 in /usr/local/lib/python3.10/dist-packages (from requests->farm-haystack[inference]) (3.4)\n",
            "Requirement already satisfied: urllib3<3,>=1.21.1 in /usr/local/lib/python3.10/dist-packages (from requests->farm-haystack[inference]) (1.26.16)\n",
            "Requirement already satisfied: certifi>=2017.4.17 in /usr/local/lib/python3.10/dist-packages (from requests->farm-haystack[inference]) (2023.5.7)\n",
            "Requirement already satisfied: appdirs>=1.4.4 in /usr/local/lib/python3.10/dist-packages (from requests-cache<1.0.0->farm-haystack[inference]) (1.4.4)\n",
            "Requirement already satisfied: attrs>=21.2 in /usr/local/lib/python3.10/dist-packages (from requests-cache<1.0.0->farm-haystack[inference]) (23.1.0)\n",
            "Requirement already satisfied: cattrs>=22.2 in /usr/local/lib/python3.10/dist-packages (from requests-cache<1.0.0->farm-haystack[inference]) (23.1.2)\n",
            "Requirement already satisfied: url-normalize>=1.4 in /usr/local/lib/python3.10/dist-packages (from requests-cache<1.0.0->farm-haystack[inference]) (1.4.3)\n",
            "Requirement already satisfied: scipy>=1.3.2 in /usr/local/lib/python3.10/dist-packages (from scikit-learn>=1.0.0->farm-haystack[inference]) (1.10.1)\n",
            "Requirement already satisfied: joblib>=1.1.1 in /usr/local/lib/python3.10/dist-packages (from scikit-learn>=1.0.0->farm-haystack[inference]) (1.3.1)\n",
            "Requirement already satisfied: threadpoolctl>=2.0.0 in /usr/local/lib/python3.10/dist-packages (from scikit-learn>=1.0.0->farm-haystack[inference]) (3.1.0)\n",
            "Requirement already satisfied: torchvision in /usr/local/lib/python3.10/dist-packages (from sentence-transformers>=2.2.0->farm-haystack[inference]) (0.15.2+cu118)\n",
            "Requirement already satisfied: nltk in /usr/local/lib/python3.10/dist-packages (from sentence-transformers>=2.2.0->farm-haystack[inference]) (3.8.1)\n",
            "Requirement already satisfied: pyrsistent!=0.17.0,!=0.17.1,!=0.17.2,>=0.14.0 in /usr/local/lib/python3.10/dist-packages (from jsonschema->farm-haystack[inference]) (0.19.3)\n",
            "Requirement already satisfied: python-dateutil>=2.8.1 in /usr/local/lib/python3.10/dist-packages (from pandas->farm-haystack[inference]) (2.8.2)\n",
            "Requirement already satisfied: pytz>=2020.1 in /usr/local/lib/python3.10/dist-packages (from pandas->farm-haystack[inference]) (2022.7.1)\n",
            "Requirement already satisfied: six>=1.5 in /usr/local/lib/python3.10/dist-packages (from posthog->farm-haystack[inference]) (1.16.0)\n",
            "Requirement already satisfied: monotonic>=1.5 in /usr/local/lib/python3.10/dist-packages (from posthog->farm-haystack[inference]) (1.6)\n",
            "Requirement already satisfied: backoff>=1.10.0 in /usr/local/lib/python3.10/dist-packages (from posthog->farm-haystack[inference]) (2.2.1)\n",
            "Requirement already satisfied: inflect in /usr/local/lib/python3.10/dist-packages (from quantulum3->farm-haystack[inference]) (6.0.5)\n",
            "Requirement already satisfied: num2words in /usr/local/lib/python3.10/dist-packages (from quantulum3->farm-haystack[inference]) (0.5.12)\n",
            "Requirement already satisfied: psutil in /usr/local/lib/python3.10/dist-packages (from accelerate>=0.20.2->transformers==4.30.1->farm-haystack[inference]) (5.9.5)\n",
            "Requirement already satisfied: exceptiongroup in /usr/local/lib/python3.10/dist-packages (from cattrs>=22.2->requests-cache<1.0.0->farm-haystack[inference]) (1.1.2)\n",
            "Requirement already satisfied: sympy in /usr/local/lib/python3.10/dist-packages (from torch!=1.12.0,>=1.9->transformers==4.30.1->farm-haystack[inference]) (1.11.1)\n",
            "Requirement already satisfied: jinja2 in /usr/local/lib/python3.10/dist-packages (from torch!=1.12.0,>=1.9->transformers==4.30.1->farm-haystack[inference]) (3.1.2)\n",
            "Requirement already satisfied: triton==2.0.0 in /usr/local/lib/python3.10/dist-packages (from torch!=1.12.0,>=1.9->transformers==4.30.1->farm-haystack[inference]) (2.0.0)\n",
            "Requirement already satisfied: cmake in /usr/local/lib/python3.10/dist-packages (from triton==2.0.0->torch!=1.12.0,>=1.9->transformers==4.30.1->farm-haystack[inference]) (3.25.2)\n",
            "Requirement already satisfied: lit in /usr/local/lib/python3.10/dist-packages (from triton==2.0.0->torch!=1.12.0,>=1.9->transformers==4.30.1->farm-haystack[inference]) (16.0.6)\n",
            "Requirement already satisfied: click in /usr/local/lib/python3.10/dist-packages (from nltk->sentence-transformers>=2.2.0->farm-haystack[inference]) (8.1.4)\n",
            "Requirement already satisfied: docopt>=0.6.2 in /usr/local/lib/python3.10/dist-packages (from num2words->quantulum3->farm-haystack[inference]) (0.6.2)\n",
            "Requirement already satisfied: MarkupSafe>=2.0 in /usr/local/lib/python3.10/dist-packages (from jinja2->torch!=1.12.0,>=1.9->transformers==4.30.1->farm-haystack[inference]) (2.1.3)\n",
            "Requirement already satisfied: mpmath>=0.19 in /usr/local/lib/python3.10/dist-packages (from sympy->torch!=1.12.0,>=1.9->transformers==4.30.1->farm-haystack[inference]) (1.3.0)\n",
            "Reading package lists...\n",
            "Building dependency tree...\n",
            "Reading state information...\n",
            "libgraphviz-dev is already the newest version (2.42.2-3build2).\n",
            "0 upgraded, 0 newly installed, 0 to remove and 15 not upgraded.\n",
            "Requirement already satisfied: pygraphviz in /usr/local/lib/python3.10/dist-packages (1.11)\n"
          ]
        },
        {
          "output_type": "stream",
          "name": "stderr",
          "text": [
            "WARNING: Running pip as the 'root' user can result in broken permissions and conflicting behaviour with the system package manager. It is recommended to use a virtual environment instead: https://pip.pypa.io/warnings/venv\n",
            "WARNING: Running pip as the 'root' user can result in broken permissions and conflicting behaviour with the system package manager. It is recommended to use a virtual environment instead: https://pip.pypa.io/warnings/venv\n",
            "WARNING: Running pip as the 'root' user can result in broken permissions and conflicting behaviour with the system package manager. It is recommended to use a virtual environment instead: https://pip.pypa.io/warnings/venv\n",
            "\n",
            "WARNING: apt does not have a stable CLI interface. Use with caution in scripts.\n",
            "\n",
            "WARNING: Running pip as the 'root' user can result in broken permissions and conflicting behaviour with the system package manager. It is recommended to use a virtual environment instead: https://pip.pypa.io/warnings/venv\n"
          ]
        }
      ],
      "source": [
        "%%bash\n",
        "\n",
        "pip install --upgrade pip\n",
        "pip install transformers\n",
        "pip install farm-haystack[inference]\n",
        "\n",
        "apt install libgraphviz-dev\n",
        "pip install pygraphviz"
      ]
    },
    {
      "cell_type": "code",
      "source": [
        "import logging\n",
        "\n",
        "logging.basicConfig(format=\"%(levelname)s - %(name)s -  %(message)s\", level=logging.WARNING)\n",
        "logging.getLogger(\"haystack\").setLevel(logging.INFO)\n"
      ],
      "metadata": {
        "id": "35X-Zx2tPpnH"
      },
      "execution_count": 2,
      "outputs": []
    },
    {
      "cell_type": "markdown",
      "source": [
        "## Hybrid Search Pipeline\n",
        "\n",
        "### DocumentStore\n",
        "\n",
        "Un Haystack DocumentStore è un database che può memorizzare sia vettori che metadati, questi vengono passati al retriever quando arriva una query.\n",
        "\n",
        "Haystack fornisce connettori per diversi VectorDB e SearchEngine come (ElasticSearch, Pinecone, Qdrant, ...) ma nel nostro caso avendo pochissimi dati usememo InMemoryDocumentStore."
      ],
      "metadata": {
        "id": "-F7cNJLLun3S"
      }
    },
    {
      "cell_type": "code",
      "source": [
        "from haystack.document_stores import InMemoryDocumentStore\n",
        "\n",
        "document_store = InMemoryDocumentStore(use_bm25=True)\n"
      ],
      "metadata": {
        "colab": {
          "base_uri": "https://localhost:8080/"
        },
        "id": "Dq7OXpX6QQ3V",
        "outputId": "87a2a800-298a-47df-f297-9d6b5a1a5d9a"
      },
      "execution_count": 3,
      "outputs": [
        {
          "output_type": "stream",
          "name": "stderr",
          "text": [
            "INFO:haystack.modeling.utils:Using devices: CUDA:0 - Number of GPUs: 1\n"
          ]
        }
      ]
    },
    {
      "cell_type": "markdown",
      "source": [
        "### Retriever\n",
        "\n",
        "Come elencato in precedenza ci servono due retriever:\n",
        "* Sparse con BM25\n",
        "* Dense con Sentence Transformer\n",
        "\n",
        "Li inizializziamo semplicemente importando le classi dai nodi di haystack.\n",
        "\n",
        "> Come Sentence Transformer ho scelto quello creato in [questo notebook](https://github.com/nickprock/appunti_data_science/blob/master/semantic-search/fine-tuning-sentence-transformer.ipynb)"
      ],
      "metadata": {
        "id": "NojUpQb4zWeN"
      }
    },
    {
      "cell_type": "code",
      "source": [
        "\n",
        "from haystack.nodes import EmbeddingRetriever, BM25Retriever\n",
        "\n",
        "sparse_retriever = BM25Retriever(document_store=document_store)\n",
        "\n",
        "dense_retriever = EmbeddingRetriever(\n",
        "    document_store=document_store,\n",
        "    embedding_model=\"nickprock/sentence-bert-base-italian-uncased\",\n",
        "    batch_size=16,\n",
        "    use_gpu=True,\n",
        "    scale_score=False,\n",
        ")"
      ],
      "metadata": {
        "colab": {
          "base_uri": "https://localhost:8080/"
        },
        "id": "wPCfkXqRQTeF",
        "outputId": "9cf4c848-79b4-4583-fe6b-b27f27664bcf"
      },
      "execution_count": 4,
      "outputs": [
        {
          "output_type": "stream",
          "name": "stderr",
          "text": [
            "INFO:haystack.modeling.utils:Using devices: CUDA:0 - Number of GPUs: 1\n",
            "INFO:haystack.nodes.retriever.dense:Init retriever using embeddings of model nickprock/sentence-bert-base-italian-uncased\n",
            "/usr/local/lib/python3.10/dist-packages/torch/_utils.py:776: UserWarning: TypedStorage is deprecated. It will be removed in the future and UntypedStorage will be the only storage class. This should only matter to you if you are using storages directly.  To access UntypedStorage directly, use tensor.untyped_storage() instead of tensor.storage()\n",
            "  return self.fget.__get__(instance, owner)()\n"
          ]
        }
      ]
    },
    {
      "cell_type": "markdown",
      "source": [
        "### Caricare i dati sul DocumentStore\n",
        "\n",
        "Come già accennato abbiamo un *.csv* di FAQ copiate dal sito dell'AIRC. I dati sono molto pochi ma rendono bene su questo task.\n",
        "> Non ci aspettiamo grandissimi risultati in termini di vastità di query che si possono sottoporre."
      ],
      "metadata": {
        "id": "003T6FAh12_4"
      }
    },
    {
      "cell_type": "code",
      "source": [
        "import pandas as pd"
      ],
      "metadata": {
        "id": "ON8Vf5dyQkCx"
      },
      "execution_count": 5,
      "outputs": []
    },
    {
      "cell_type": "code",
      "source": [
        "df = pd.read_csv('/content/airc.csv', sep=\";\")\n",
        "# Minimal cleaning\n",
        "df.fillna(value=\"\", inplace=True)\n",
        "df[\"Domanda\"] = df[\"Domanda\"].apply(lambda x: x.strip())\n",
        "df.head()"
      ],
      "metadata": {
        "colab": {
          "base_uri": "https://localhost:8080/",
          "height": 206
        },
        "id": "oErtR5JiRBu_",
        "outputId": "4da2483a-b70f-44fc-8f1e-fc0aab243c71"
      },
      "execution_count": 6,
      "outputs": [
        {
          "output_type": "execute_result",
          "data": {
            "text/plain": [
              "                                             Domanda  \\\n",
              "0  quanto incidono le abitudini alimentari sul ri...   \n",
              "1  quali sostanze possono favorire lo sviluppo de...   \n",
              "2  esistono tumori legati più di altri al tipo di...   \n",
              "3  quali sono i tumori che risentono maggiormente...   \n",
              "4  cosa mangiare per cercare di prevenire la mala...   \n",
              "\n",
              "                                            Risposta  \n",
              "0  l'american institute for cancer research ha ca...  \n",
              "1  i nitriti e i nitrati utilizzati per la conser...  \n",
              "2  la risposta è sì: ci sono tumori più sensibili...  \n",
              "3  i tumori dell'apparato gastrointestinale, e in...  \n",
              "4  occorre portare a tavola almeno cinque porzion...  "
            ],
            "text/html": [
              "\n",
              "\n",
              "  <div id=\"df-c4738e34-0b55-4ab0-be43-b9f016f68187\">\n",
              "    <div class=\"colab-df-container\">\n",
              "      <div>\n",
              "<style scoped>\n",
              "    .dataframe tbody tr th:only-of-type {\n",
              "        vertical-align: middle;\n",
              "    }\n",
              "\n",
              "    .dataframe tbody tr th {\n",
              "        vertical-align: top;\n",
              "    }\n",
              "\n",
              "    .dataframe thead th {\n",
              "        text-align: right;\n",
              "    }\n",
              "</style>\n",
              "<table border=\"1\" class=\"dataframe\">\n",
              "  <thead>\n",
              "    <tr style=\"text-align: right;\">\n",
              "      <th></th>\n",
              "      <th>Domanda</th>\n",
              "      <th>Risposta</th>\n",
              "    </tr>\n",
              "  </thead>\n",
              "  <tbody>\n",
              "    <tr>\n",
              "      <th>0</th>\n",
              "      <td>quanto incidono le abitudini alimentari sul ri...</td>\n",
              "      <td>l'american institute for cancer research ha ca...</td>\n",
              "    </tr>\n",
              "    <tr>\n",
              "      <th>1</th>\n",
              "      <td>quali sostanze possono favorire lo sviluppo de...</td>\n",
              "      <td>i nitriti e i nitrati utilizzati per la conser...</td>\n",
              "    </tr>\n",
              "    <tr>\n",
              "      <th>2</th>\n",
              "      <td>esistono tumori legati più di altri al tipo di...</td>\n",
              "      <td>la risposta è sì: ci sono tumori più sensibili...</td>\n",
              "    </tr>\n",
              "    <tr>\n",
              "      <th>3</th>\n",
              "      <td>quali sono i tumori che risentono maggiormente...</td>\n",
              "      <td>i tumori dell'apparato gastrointestinale, e in...</td>\n",
              "    </tr>\n",
              "    <tr>\n",
              "      <th>4</th>\n",
              "      <td>cosa mangiare per cercare di prevenire la mala...</td>\n",
              "      <td>occorre portare a tavola almeno cinque porzion...</td>\n",
              "    </tr>\n",
              "  </tbody>\n",
              "</table>\n",
              "</div>\n",
              "      <button class=\"colab-df-convert\" onclick=\"convertToInteractive('df-c4738e34-0b55-4ab0-be43-b9f016f68187')\"\n",
              "              title=\"Convert this dataframe to an interactive table.\"\n",
              "              style=\"display:none;\">\n",
              "\n",
              "  <svg xmlns=\"http://www.w3.org/2000/svg\" height=\"24px\"viewBox=\"0 0 24 24\"\n",
              "       width=\"24px\">\n",
              "    <path d=\"M0 0h24v24H0V0z\" fill=\"none\"/>\n",
              "    <path d=\"M18.56 5.44l.94 2.06.94-2.06 2.06-.94-2.06-.94-.94-2.06-.94 2.06-2.06.94zm-11 1L8.5 8.5l.94-2.06 2.06-.94-2.06-.94L8.5 2.5l-.94 2.06-2.06.94zm10 10l.94 2.06.94-2.06 2.06-.94-2.06-.94-.94-2.06-.94 2.06-2.06.94z\"/><path d=\"M17.41 7.96l-1.37-1.37c-.4-.4-.92-.59-1.43-.59-.52 0-1.04.2-1.43.59L10.3 9.45l-7.72 7.72c-.78.78-.78 2.05 0 2.83L4 21.41c.39.39.9.59 1.41.59.51 0 1.02-.2 1.41-.59l7.78-7.78 2.81-2.81c.8-.78.8-2.07 0-2.86zM5.41 20L4 18.59l7.72-7.72 1.47 1.35L5.41 20z\"/>\n",
              "  </svg>\n",
              "      </button>\n",
              "\n",
              "\n",
              "\n",
              "    <div id=\"df-101d5458-2db4-4884-abc5-5f008ef45da2\">\n",
              "      <button class=\"colab-df-quickchart\" onclick=\"quickchart('df-101d5458-2db4-4884-abc5-5f008ef45da2')\"\n",
              "              title=\"Suggest charts.\"\n",
              "              style=\"display:none;\">\n",
              "\n",
              "<svg xmlns=\"http://www.w3.org/2000/svg\" height=\"24px\"viewBox=\"0 0 24 24\"\n",
              "     width=\"24px\">\n",
              "    <g>\n",
              "        <path d=\"M19 3H5c-1.1 0-2 .9-2 2v14c0 1.1.9 2 2 2h14c1.1 0 2-.9 2-2V5c0-1.1-.9-2-2-2zM9 17H7v-7h2v7zm4 0h-2V7h2v10zm4 0h-2v-4h2v4z\"/>\n",
              "    </g>\n",
              "</svg>\n",
              "      </button>\n",
              "    </div>\n",
              "\n",
              "<style>\n",
              "  .colab-df-quickchart {\n",
              "    background-color: #E8F0FE;\n",
              "    border: none;\n",
              "    border-radius: 50%;\n",
              "    cursor: pointer;\n",
              "    display: none;\n",
              "    fill: #1967D2;\n",
              "    height: 32px;\n",
              "    padding: 0 0 0 0;\n",
              "    width: 32px;\n",
              "  }\n",
              "\n",
              "  .colab-df-quickchart:hover {\n",
              "    background-color: #E2EBFA;\n",
              "    box-shadow: 0px 1px 2px rgba(60, 64, 67, 0.3), 0px 1px 3px 1px rgba(60, 64, 67, 0.15);\n",
              "    fill: #174EA6;\n",
              "  }\n",
              "\n",
              "  [theme=dark] .colab-df-quickchart {\n",
              "    background-color: #3B4455;\n",
              "    fill: #D2E3FC;\n",
              "  }\n",
              "\n",
              "  [theme=dark] .colab-df-quickchart:hover {\n",
              "    background-color: #434B5C;\n",
              "    box-shadow: 0px 1px 3px 1px rgba(0, 0, 0, 0.15);\n",
              "    filter: drop-shadow(0px 1px 2px rgba(0, 0, 0, 0.3));\n",
              "    fill: #FFFFFF;\n",
              "  }\n",
              "</style>\n",
              "\n",
              "    <script>\n",
              "      async function quickchart(key) {\n",
              "        const containerElement = document.querySelector('#' + key);\n",
              "        const charts = await google.colab.kernel.invokeFunction(\n",
              "            'suggestCharts', [key], {});\n",
              "      }\n",
              "    </script>\n",
              "\n",
              "      <script>\n",
              "\n",
              "function displayQuickchartButton(domScope) {\n",
              "  let quickchartButtonEl =\n",
              "    domScope.querySelector('#df-101d5458-2db4-4884-abc5-5f008ef45da2 button.colab-df-quickchart');\n",
              "  quickchartButtonEl.style.display =\n",
              "    google.colab.kernel.accessAllowed ? 'block' : 'none';\n",
              "}\n",
              "\n",
              "        displayQuickchartButton(document);\n",
              "      </script>\n",
              "      <style>\n",
              "    .colab-df-container {\n",
              "      display:flex;\n",
              "      flex-wrap:wrap;\n",
              "      gap: 12px;\n",
              "    }\n",
              "\n",
              "    .colab-df-convert {\n",
              "      background-color: #E8F0FE;\n",
              "      border: none;\n",
              "      border-radius: 50%;\n",
              "      cursor: pointer;\n",
              "      display: none;\n",
              "      fill: #1967D2;\n",
              "      height: 32px;\n",
              "      padding: 0 0 0 0;\n",
              "      width: 32px;\n",
              "    }\n",
              "\n",
              "    .colab-df-convert:hover {\n",
              "      background-color: #E2EBFA;\n",
              "      box-shadow: 0px 1px 2px rgba(60, 64, 67, 0.3), 0px 1px 3px 1px rgba(60, 64, 67, 0.15);\n",
              "      fill: #174EA6;\n",
              "    }\n",
              "\n",
              "    [theme=dark] .colab-df-convert {\n",
              "      background-color: #3B4455;\n",
              "      fill: #D2E3FC;\n",
              "    }\n",
              "\n",
              "    [theme=dark] .colab-df-convert:hover {\n",
              "      background-color: #434B5C;\n",
              "      box-shadow: 0px 1px 3px 1px rgba(0, 0, 0, 0.15);\n",
              "      filter: drop-shadow(0px 1px 2px rgba(0, 0, 0, 0.3));\n",
              "      fill: #FFFFFF;\n",
              "    }\n",
              "  </style>\n",
              "\n",
              "      <script>\n",
              "        const buttonEl =\n",
              "          document.querySelector('#df-c4738e34-0b55-4ab0-be43-b9f016f68187 button.colab-df-convert');\n",
              "        buttonEl.style.display =\n",
              "          google.colab.kernel.accessAllowed ? 'block' : 'none';\n",
              "\n",
              "        async function convertToInteractive(key) {\n",
              "          const element = document.querySelector('#df-c4738e34-0b55-4ab0-be43-b9f016f68187');\n",
              "          const dataTable =\n",
              "            await google.colab.kernel.invokeFunction('convertToInteractive',\n",
              "                                                     [key], {});\n",
              "          if (!dataTable) return;\n",
              "\n",
              "          const docLinkHtml = 'Like what you see? Visit the ' +\n",
              "            '<a target=\"_blank\" href=https://colab.research.google.com/notebooks/data_table.ipynb>data table notebook</a>'\n",
              "            + ' to learn more about interactive tables.';\n",
              "          element.innerHTML = '';\n",
              "          dataTable['output_type'] = 'display_data';\n",
              "          await google.colab.output.renderOutput(dataTable, element);\n",
              "          const docLink = document.createElement('div');\n",
              "          docLink.innerHTML = docLinkHtml;\n",
              "          element.appendChild(docLink);\n",
              "        }\n",
              "      </script>\n",
              "    </div>\n",
              "  </div>\n"
            ]
          },
          "metadata": {},
          "execution_count": 6
        }
      ]
    },
    {
      "cell_type": "markdown",
      "source": [
        "A questo punto bisogna creare gli embeddings delle domande, in questo caso particolare non ci serve l'embedding di entrambe le parti perchè la ricerca viene fatta solo sulla domanda e le risposte vengono solo proposte senza nessuna elaborazione.\n",
        "\n",
        "Al termine carichiamo tutto sul DocumentStore."
      ],
      "metadata": {
        "id": "ri3jIAs72NmU"
      }
    },
    {
      "cell_type": "code",
      "source": [
        "df = df.rename(columns={\"Domanda\": \"content\", \"Risposta\":\"answer\"})"
      ],
      "metadata": {
        "id": "SEZATDGKRX5q"
      },
      "execution_count": 7,
      "outputs": []
    },
    {
      "cell_type": "markdown",
      "source": [
        "I documenti vengono caricati nel DocumentStore, il content è la parte che viene \"tradotta\" in vettore, il resto và nei metadati. Viene anche creato l'indice per il  BM25."
      ],
      "metadata": {
        "id": "ciINN2q9StTk"
      }
    },
    {
      "cell_type": "code",
      "source": [
        "docs_to_index = df.to_dict(orient=\"records\")\n",
        "document_store.write_documents(docs_to_index)"
      ],
      "metadata": {
        "id": "YSt1-JJv2wNd",
        "colab": {
          "base_uri": "https://localhost:8080/",
          "height": 49,
          "referenced_widgets": [
            "af0cb2317db14ef0a386803465f7da66",
            "2142aa06620a45d1aaa5d363287fdd3b",
            "59f1f275727c435da925e84278016e8a",
            "9894f29d7cc641dc8be0354d85182ba2",
            "15c389a564644de28ff3f1c602df739d",
            "e751743f33f2495485053029ff71f84b",
            "50d3cff0aced4d4ea8cd8a2a1c78d544",
            "5655b54eda4e41ceab7937fb44a0f9d7",
            "2e48bbcfb2e1443d9da8bb99cffd6d56",
            "4ccef2bf26e54e54bd577b31becd1a6e",
            "0afdd931ab50423da9f7349c8b8cfd43"
          ]
        },
        "outputId": "e599649b-7061-4e8a-954f-505922b46a01"
      },
      "execution_count": 8,
      "outputs": [
        {
          "output_type": "display_data",
          "data": {
            "text/plain": [
              "Updating BM25 representation...:   0%|          | 0/228 [00:00<?, ? docs/s]"
            ],
            "application/vnd.jupyter.widget-view+json": {
              "version_major": 2,
              "version_minor": 0,
              "model_id": "af0cb2317db14ef0a386803465f7da66"
            }
          },
          "metadata": {}
        }
      ]
    },
    {
      "cell_type": "markdown",
      "source": [
        "Con la cella successiva verranno caricati gli embeddings nel document store."
      ],
      "metadata": {
        "id": "Wg4InHT3S-U7"
      }
    },
    {
      "cell_type": "code",
      "source": [
        "document_store.update_embeddings(dense_retriever)"
      ],
      "metadata": {
        "colab": {
          "base_uri": "https://localhost:8080/",
          "height": 99,
          "referenced_widgets": [
            "0970a683fe4c43e19abf4bdff2dda89a",
            "fec92e1439c34de1a156069ae8634c95",
            "3911a1796a3e426e9f191bb13252cc2a",
            "cc215d222c4a4b8d8e0cb7942dcf5ffc",
            "962516ba1d4a4506a6ec4b28a44b88c1",
            "c2c4b109f00d4f4b8a8112b26ec65c47",
            "d215581cf33c4220b893351c39dfe602",
            "ae7c031e049c467eb02d6de6d4d2b1b7",
            "a5699a97445348c582f7eb61cac25713",
            "ed8a99042f00403a82bbf2fe9b0a9e8c",
            "b7237d13e1a74854a86594da113397bb",
            "537b6c3df4f14f9e8cbd9491e3842901",
            "b7269de40c2a4c05941df493ca067862",
            "37860949609c47f4999a8b3252b1ea40",
            "b141008bfd5649179864e6261a26134f",
            "280762f052564b039569f684e074db98",
            "d9cfa0357f2b4f16a990bd011f9855a5",
            "b439f7e5982044c38e889c14653abf1b",
            "a0a37eb993cb463093b55848c2471ce5",
            "ccee98d14a154e83b7fad53ffcd9773e",
            "1582086a3ab64956bdf423c12442e160",
            "77c9d4789b604ed3b8fcb2fe65cd8ede"
          ]
        },
        "id": "OyUJ_HLGRszC",
        "outputId": "a13ebe84-2cbe-474a-c24e-33b05b39bb1c"
      },
      "execution_count": 9,
      "outputs": [
        {
          "output_type": "stream",
          "name": "stderr",
          "text": [
            "INFO:haystack.document_stores.memory:Updating embeddings for 0 docs ...\n"
          ]
        },
        {
          "output_type": "display_data",
          "data": {
            "text/plain": [
              "Updating Embedding:   0%|          | 0/228 [00:00<?, ? docs/s]"
            ],
            "application/vnd.jupyter.widget-view+json": {
              "version_major": 2,
              "version_minor": 0,
              "model_id": "0970a683fe4c43e19abf4bdff2dda89a"
            }
          },
          "metadata": {}
        },
        {
          "output_type": "display_data",
          "data": {
            "text/plain": [
              "Batches:   0%|          | 0/15 [00:00<?, ?it/s]"
            ],
            "application/vnd.jupyter.widget-view+json": {
              "version_major": 2,
              "version_minor": 0,
              "model_id": "537b6c3df4f14f9e8cbd9491e3842901"
            }
          },
          "metadata": {}
        }
      ]
    },
    {
      "cell_type": "code",
      "source": [
        "document_store.get_all_documents(return_embedding=True)[:2]"
      ],
      "metadata": {
        "colab": {
          "base_uri": "https://localhost:8080/"
        },
        "id": "zaJWskp6SJm9",
        "outputId": "6cc7f3a5-9927-44a4-d8bb-2d1ee146ee8e"
      },
      "execution_count": 10,
      "outputs": [
        {
          "output_type": "execute_result",
          "data": {
            "text/plain": [
              "[<Document: {'content': 'quanto incidono le abitudini alimentari sul rischio di sviluppare un tumore?', 'content_type': 'text', 'score': None, 'meta': {'answer': \"l'american institute for cancer research ha calcolato che le cattive abitudini alimentari sono responsabili di circa tre tumori su dieci\"}, 'id_hash_keys': ['content'], 'embedding': '<embedding of shape (768,)>', 'id': '1153732664aa9ca86386d34c998266a1'}>,\n",
              " <Document: {'content': 'quali sostanze possono favorire lo sviluppo della malattia?', 'content_type': 'text', 'score': None, 'meta': {'answer': \"i nitriti e i nitrati utilizzati per la conservazione dei salumi, per esempio, facilitano la comparsa del tumore dello stomaco, più in generale gli studi epidemiologici hanno dimostrato che un'alimentazione ricca di grassi e proteine animali favorisce la comparsa della malattia\"}, 'id_hash_keys': ['content'], 'embedding': '<embedding of shape (768,)>', 'id': 'd532c1e436204f60c995c9b5f8d5c61d'}>]"
            ]
          },
          "metadata": {},
          "execution_count": 10
        }
      ]
    },
    {
      "cell_type": "markdown",
      "source": [
        "## Costruire la Pipeline\n",
        "\n",
        "Haystack ha nella sua cassetta degli attrezzi moltissime pipipeline tra cui quella per le FAQ, però noi vogliamo un hybrid retriever e questo dobbiamo costruircelo.\n",
        "\n",
        "* Per prima cosa verranno aggiunti alla pipeline due rami, i due retriever che prendono in input la query.\n",
        "* I risultati dei due verranno riversati in un nodo di unione `JoinDocuments`, questo nodo calcola uno score, [può anche essere usato come punto rerank](https://docs.haystack.deepset.ai/docs/join_documents) (non è il nostro caso). Noi non vogliamo un suo score ma solo che concateni i documenti eliminando i duplicati.\n",
        "* I documenti estratti verranno passati al reranker, ovvero il nostro cross encoder che ci dirà quali sono i documenti più simili a cio che abbiamo richiesto.\n",
        "* Infine il documento viene passato al `Doc2Answers` che ne estrarrà la risposta\n",
        "\n",
        "> Come per il Dense Retriever anche il Reranker è un [Cross-Encoder su cui avevo fatto Fine Tuning precedentemente](https://github.com/nickprock/appunti_data_science/blob/master/semantic-search/sentence-transformer-cross-encoder.ipynb).\n",
        "\n",
        "\n"
      ],
      "metadata": {
        "id": "L4UxRgkq3WyF"
      }
    },
    {
      "cell_type": "code",
      "source": [
        "from haystack.nodes import JoinDocuments, SentenceTransformersRanker\n",
        "from haystack.nodes.other.docs2answers import Docs2Answers"
      ],
      "metadata": {
        "id": "zB2kIupVUaH2"
      },
      "execution_count": 11,
      "outputs": []
    },
    {
      "cell_type": "code",
      "source": [
        "join_documents = JoinDocuments()\n",
        "rerank = SentenceTransformersRanker(\"nickprock/cross-encoder-italian-bert-stsb\")\n",
        "doc_to_answers = Docs2Answers()"
      ],
      "metadata": {
        "colab": {
          "base_uri": "https://localhost:8080/"
        },
        "id": "qgdbm7IgUz26",
        "outputId": "b0415133-5725-4040-c4fa-b6d223be274d"
      },
      "execution_count": 12,
      "outputs": [
        {
          "output_type": "stream",
          "name": "stderr",
          "text": [
            "INFO:haystack.modeling.utils:Using devices: CUDA:0 - Number of GPUs: 1\n"
          ]
        }
      ]
    },
    {
      "cell_type": "markdown",
      "source": [
        "Ora che abbiamo tutte le componenti è il momento di andare a costruire l'hybrid search engine un livello alla volta.\n",
        "\n",
        "Farlo è molto semplice, inizializziamo una piepline di base e aggiungiamo le componenti, per ogni componente aggiunta và specificato:\n",
        "* nome: stringa\n",
        "* componente di base: l'oggetto che aggiungiamo\n",
        "* gli input: lista di stringhe"
      ],
      "metadata": {
        "id": "queMnU-tV9Vt"
      }
    },
    {
      "cell_type": "code",
      "source": [
        "from haystack.pipelines import Pipeline\n",
        "\n",
        "hybrid_retriever = Pipeline()\n",
        "hybrid_retriever.add_node(component = sparse_retriever,name = \"sparseRetriever\", inputs=[\"Query\"])\n",
        "hybrid_retriever.add_node(component = dense_retriever, name = \"denseRetriever\", inputs=[\"Query\"])\n",
        "hybrid_retriever.add_node(component = join_documents, name = \"joinDocuments\", inputs=[\"sparseRetriever\", \"denseRetriever\"])\n",
        "hybrid_retriever.add_node(component = rerank, name = \"reranker\", inputs=[\"joinDocuments\"])\n",
        "hybrid_retriever.add_node(component=doc_to_answers, name=\"Docs2Answers\", inputs=[\"reranker\"])\n"
      ],
      "metadata": {
        "id": "oM9Ok2QuXeB0"
      },
      "execution_count": 13,
      "outputs": []
    },
    {
      "cell_type": "markdown",
      "source": [
        "possiamo farci generare un *.png* della pipeline facilmente con il metodo `.draw()`"
      ],
      "metadata": {
        "id": "BmHNYUPD2Clo"
      }
    },
    {
      "cell_type": "code",
      "source": [
        "hybrid_retriever.draw()"
      ],
      "metadata": {
        "id": "dzPY9Bd0SGvf"
      },
      "execution_count": 14,
      "outputs": []
    },
    {
      "cell_type": "markdown",
      "source": [
        "<br>\n",
        "\n",
        "![pipe](https://github.com/nickprock/appunti_data_science/blob/master/semantic-search/content/pipeline.png?raw=True)\n",
        "\n",
        "<br>"
      ],
      "metadata": {
        "id": "wQvRqDzx7fJj"
      }
    },
    {
      "cell_type": "markdown",
      "source": [
        "Ora possiamo far eseguire la nostra query, inseriamo alcuni parametri presenti ai vari livelli dell'hybrid search:\n",
        "* Dai due retriever ci facciamo restituire 10 documenti a testa, quindi nella peggiore delle ipotesi avremo 20 documenti da concatenare\n",
        "* Il nodo di join ci restituisce i primi dodici\n",
        "* questi dodici vengono passati al reranker che li confronta con la query e ci darà il più simile"
      ],
      "metadata": {
        "id": "N3C7K8KVv7d8"
      }
    },
    {
      "cell_type": "code",
      "source": [
        "prediction = hybrid_retriever.run(query=\"Cosa sono i marker tumorali?\", params={\"sparseRetriever\":{\"top_k\": 10},\n",
        "                                                                                \"denseRetriever\":{\"top_k\": 10},\n",
        "                                                                                \"joinDocuments\":{\"top_k_join\": 12},\n",
        "                                                                                \"reranker\": {\"top_k\": 1}})"
      ],
      "metadata": {
        "colab": {
          "base_uri": "https://localhost:8080/",
          "height": 49,
          "referenced_widgets": [
            "596ddd30b6df4ebeb5bb7f7c9705d843",
            "f1a5971432fc443a9add0e1984232e93",
            "134c140f57c24e11a4c8941ae74e8f05",
            "29f4166e40294332b2009877022a9cfe",
            "fef2a3215d60456d8d4538648365996a",
            "1f8901879c28423381a3032e33ee35a4",
            "90e485fade6e4a0b8f88cc4ca683aa55",
            "1404b774e4d0464995c0987604f48b83",
            "44afab223d104cfc8096ea1cdfef5f78",
            "29a8d6f4484f46ffaf868175953ff623",
            "7206045d5b0541c0a73fe5809611395a"
          ]
        },
        "id": "yH1YE5naSNsh",
        "outputId": "01e0f66b-491d-4cf2-d74f-c357a48119fd"
      },
      "execution_count": 15,
      "outputs": [
        {
          "output_type": "display_data",
          "data": {
            "text/plain": [
              "Batches:   0%|          | 0/1 [00:00<?, ?it/s]"
            ],
            "application/vnd.jupyter.widget-view+json": {
              "version_major": 2,
              "version_minor": 0,
              "model_id": "596ddd30b6df4ebeb5bb7f7c9705d843"
            }
          },
          "metadata": {}
        }
      ]
    },
    {
      "cell_type": "markdown",
      "source": [
        "Nelle prossime due celle vediamo la risposta completa e se vogliamo estrarre solo la `answer`."
      ],
      "metadata": {
        "id": "FEWfMyTjxofQ"
      }
    },
    {
      "cell_type": "code",
      "source": [
        "prediction"
      ],
      "metadata": {
        "colab": {
          "base_uri": "https://localhost:8080/"
        },
        "id": "LF8yl6IRvE71",
        "outputId": "5a1b74e2-15d4-440f-89c4-dc5a84eb1c75"
      },
      "execution_count": 16,
      "outputs": [
        {
          "output_type": "execute_result",
          "data": {
            "text/plain": [
              "{'query': 'Cosa sono i marker tumorali?',\n",
              " 'answers': [<Answer {'answer': 'i cosiddetti marcatori tumorali fanno parte degli strumenti per determinare il rischio tumorale: si tratta di molecole che, se presenti o assenti nel sangue, permettono di capire se una persona è o no a rischio di sviluppare un determinato tipo di tumore.', 'type': 'other', 'score': 0.848907470703125, 'context': 'i cosiddetti marcatori tumorali fanno parte degli strumenti per determinare il rischio tumorale: si tratta di molecole che, se presenti o assenti nel sangue, permettono di capire se una persona è o no a rischio di sviluppare un determinato tipo di tumore.', 'offsets_in_document': None, 'offsets_in_context': [{'start': 0, 'end': 255}], 'document_ids': ['23f22165cdddab5334e67e340dda1798'], 'meta': {'answer': 'i cosiddetti marcatori tumorali fanno parte degli strumenti per determinare il rischio tumorale: si tratta di molecole che, se presenti o assenti nel sangue, permettono di capire se una persona è o no a rischio di sviluppare un determinato tipo di tumore.', 'query': 'cosa sono i marcatori tumorali?'}}>],\n",
              " 'documents': [<Document: {'content': 'cosa sono i marcatori tumorali?', 'content_type': 'text', 'score': 0.848907470703125, 'meta': {'answer': 'i cosiddetti marcatori tumorali fanno parte degli strumenti per determinare il rischio tumorale: si tratta di molecole che, se presenti o assenti nel sangue, permettono di capire se una persona è o no a rischio di sviluppare un determinato tipo di tumore.', 'query': 'cosa sono i marcatori tumorali?'}, 'id_hash_keys': ['content'], 'embedding': None, 'id': '23f22165cdddab5334e67e340dda1798'}>],\n",
              " 'labels': None,\n",
              " 'root_node': 'Query',\n",
              " 'params': {'sparseRetriever': {'top_k': 10},\n",
              "  'denseRetriever': {'top_k': 10},\n",
              "  'joinDocuments': {'top_k_join': 12},\n",
              "  'reranker': {'top_k': 1}},\n",
              " 'node_id': 'Docs2Answers'}"
            ]
          },
          "metadata": {},
          "execution_count": 16
        }
      ]
    },
    {
      "cell_type": "code",
      "source": [
        "prediction['documents'][0].meta['answer']"
      ],
      "metadata": {
        "colab": {
          "base_uri": "https://localhost:8080/",
          "height": 53
        },
        "id": "ZFVDymQ-vGYd",
        "outputId": "b923354e-f6c4-4ed6-a3e6-0a72d33f4df4"
      },
      "execution_count": 17,
      "outputs": [
        {
          "output_type": "execute_result",
          "data": {
            "text/plain": [
              "'i cosiddetti marcatori tumorali fanno parte degli strumenti per determinare il rischio tumorale: si tratta di molecole che, se presenti o assenti nel sangue, permettono di capire se una persona è o no a rischio di sviluppare un determinato tipo di tumore.'"
            ],
            "application/vnd.google.colaboratory.intrinsic+json": {
              "type": "string"
            }
          },
          "metadata": {},
          "execution_count": 17
        }
      ]
    },
    {
      "cell_type": "code",
      "source": [
        "from haystack.utils import print_answers\n",
        "print_answers(prediction, details=\"medium\")"
      ],
      "metadata": {
        "colab": {
          "base_uri": "https://localhost:8080/"
        },
        "id": "fdzbokycSXx2",
        "outputId": "f62d0a49-dbf3-40f8-ffd5-e8596c6c80da"
      },
      "execution_count": 18,
      "outputs": [
        {
          "output_type": "stream",
          "name": "stdout",
          "text": [
            "'Query: Cosa sono i marker tumorali?'\n",
            "'Answers:'\n",
            "[   {   'answer': 'i cosiddetti marcatori tumorali fanno parte degli strumenti '\n",
            "                  'per determinare il rischio tumorale: si tratta di molecole '\n",
            "                  'che, se presenti o assenti nel sangue, permettono di capire '\n",
            "                  'se una persona è o no a rischio di sviluppare un '\n",
            "                  'determinato tipo di tumore.',\n",
            "        'context': 'i cosiddetti marcatori tumorali fanno parte degli '\n",
            "                   'strumenti per determinare il rischio tumorale: si tratta '\n",
            "                   'di molecole che, se presenti o assenti nel sangue, '\n",
            "                   'permettono di capire se una persona è o no a rischio di '\n",
            "                   'sviluppare un determinato tipo di tumore.',\n",
            "        'score': 0.848907470703125}]\n"
          ]
        }
      ]
    },
    {
      "cell_type": "markdown",
      "source": [
        "### Debug Pipeline\n",
        "\n",
        "Per indagare al meglio sui layer della pipeline possiamo andare in debug. Una cosa che non ho approfondito sono gli score dei documenti, diversi retriever danno score diversi e non sempre equiparabili, questo è un problema aperto della hybrid search, se volete approfondire rimando ad un bel post dal blog di [Qdrant](https://qdrant.tech/articles/hybrid-search/) e ad uno da quello di [Pinecone](https://www.pinecone.io/learn/hybrid-search-intro/).\n",
        "\n",
        "Per andare in debug basta aggiungere `\"debug\" = True` ai parametri del livello su cui volete indagare.\n",
        "\n",
        "> N.B. Io l'ho messo a tutti, pessima scelta perchè dai log non si capisce nulla."
      ],
      "metadata": {
        "id": "jcBuGb3-x1MF"
      }
    },
    {
      "cell_type": "code",
      "source": [
        "prediction_debug = hybrid_retriever.run(query=\"Cosa sono i marker tumorali?\", params={\"sparseRetriever\":{\"top_k\": 10, \"debug\": True},\n",
        "                                                                                \"denseRetriever\":{\"top_k\": 10, \"debug\": True},\n",
        "                                                                                \"joinDocuments\":{\"top_k_join\": 10, \"debug\": True},\n",
        "                                                                                \"reranker\": {\"top_k\": 1, \"debug\": True}})"
      ],
      "metadata": {
        "colab": {
          "base_uri": "https://localhost:8080/",
          "height": 49,
          "referenced_widgets": [
            "7cd7563967c34632878596ec2fab5d6d",
            "20cf23f05c6f43d3b937ad25d8c2c162",
            "a80bf28907d049a2b200386460bfe104",
            "587eb03c29a041f8bf7e61fa648f967e",
            "cc890fff46394f13b8e62212b9149632",
            "cfc37c77004c473ea9357cfc75d27957",
            "31fc34ce7bb7452a91551858addaeddf",
            "3850f3025aa5452985d0d5c6d698900e",
            "cc6d957945df41e78996cb19de54d870",
            "9029961cd2e94802af34795f4dab62a5",
            "ea913af83f564797a1772af8064115ed"
          ]
        },
        "id": "9uZEfGCcxhUA",
        "outputId": "5a906b84-09c1-4105-b653-75ecd0c105b7"
      },
      "execution_count": 19,
      "outputs": [
        {
          "output_type": "display_data",
          "data": {
            "text/plain": [
              "Batches:   0%|          | 0/1 [00:00<?, ?it/s]"
            ],
            "application/vnd.jupyter.widget-view+json": {
              "version_major": 2,
              "version_minor": 0,
              "model_id": "7cd7563967c34632878596ec2fab5d6d"
            }
          },
          "metadata": {}
        }
      ]
    },
    {
      "cell_type": "code",
      "source": [
        "prediction_debug"
      ],
      "metadata": {
        "colab": {
          "base_uri": "https://localhost:8080/"
        },
        "id": "PosgcgFWy9Gt",
        "outputId": "1083c553-eacd-45f7-a7a8-dd5d99964f79"
      },
      "execution_count": 20,
      "outputs": [
        {
          "output_type": "execute_result",
          "data": {
            "text/plain": [
              "{'query': 'Cosa sono i marker tumorali?',\n",
              " 'answers': [<Answer {'answer': 'i cosiddetti marcatori tumorali fanno parte degli strumenti per determinare il rischio tumorale: si tratta di molecole che, se presenti o assenti nel sangue, permettono di capire se una persona è o no a rischio di sviluppare un determinato tipo di tumore.', 'type': 'other', 'score': 0.848907470703125, 'context': 'i cosiddetti marcatori tumorali fanno parte degli strumenti per determinare il rischio tumorale: si tratta di molecole che, se presenti o assenti nel sangue, permettono di capire se una persona è o no a rischio di sviluppare un determinato tipo di tumore.', 'offsets_in_document': None, 'offsets_in_context': [{'start': 0, 'end': 255}], 'document_ids': ['23f22165cdddab5334e67e340dda1798'], 'meta': {'answer': 'i cosiddetti marcatori tumorali fanno parte degli strumenti per determinare il rischio tumorale: si tratta di molecole che, se presenti o assenti nel sangue, permettono di capire se una persona è o no a rischio di sviluppare un determinato tipo di tumore.', 'query': 'cosa sono i marcatori tumorali?'}}>],\n",
              " '_debug': {'sparseRetriever': {'input': {'root_node': 'Query',\n",
              "    'query': 'Cosa sono i marker tumorali?',\n",
              "    'top_k': 10,\n",
              "    'debug': True},\n",
              "   'output': {'documents': [<Document: {'content': 'cosa sono i marcatori tumorali?', 'content_type': 'text', 'score': 0.7794130015189505, 'meta': {'answer': 'i cosiddetti marcatori tumorali fanno parte degli strumenti per determinare il rischio tumorale: si tratta di molecole che, se presenti o assenti nel sangue, permettono di capire se una persona è o no a rischio di sviluppare un determinato tipo di tumore.'}, 'id_hash_keys': ['content'], 'embedding': '<embedding of shape (768,)>', 'id': '23f22165cdddab5334e67e340dda1798'}>,\n",
              "     <Document: {'content': 'cosa sono i biomarcatori?', 'content_type': 'text', 'score': 0.647146130295339, 'meta': {'answer': 'i biomarcatori sono molecole biologiche che si possono rilevare nel sangue, nelle urine, nelle feci e in altri fluidi corporei o tessuti, con un approccio che può essere invasivo (comportando un prelievo di tessuto) oppure meno invasivo (basandosi su un semplice prelievo di sangue) oppure, in qualche caso, basandosi sull’esecuzione di esami strumentali in grado di rilevare la presenza del biomarcatore nel corpo del paziente, mediante l’iniezione in circolo di un tracciante.'}, 'id_hash_keys': ['content'], 'embedding': '<embedding of shape (768,)>', 'id': '5e1cd1aac5ba8de85d28be9e41b17bbc'}>,\n",
              "     <Document: {'content': 'cosa sono le metastasi?', 'content_type': 'text', 'score': 0.6362217200766264, 'meta': {'answer': 'la metastasi è il fenomeno con cui le cellule tumorali si spostano dalla zona in cui si sono formate a un’altra parte del corpo.'}, 'id_hash_keys': ['content'], 'embedding': '<embedding of shape (768,)>', 'id': 'd699486f165a137c82a423535f7e3409'}>,\n",
              "     <Document: {'content': 'cosa sono i farmaci biologici?', 'content_type': 'text', 'score': 0.6362217200766264, 'meta': {'answer': 'sono una particolare categoria di terapie mirate. '}, 'id_hash_keys': ['content'], 'embedding': '<embedding of shape (768,)>', 'id': 'c87f4a133afc636e64aea933c0a39d96'}>,\n",
              "     <Document: {'content': 'che cosa sono i linfonodi?', 'content_type': 'text', 'score': 0.6362217200766264, 'meta': {'answer': 'i linfonodi, chiamati anche ghiandole linfatiche, sono piccoli organi tondeggianti o a forma di fagiolo, situati lungo le vie linfatiche.'}, 'id_hash_keys': ['content'], 'embedding': '<embedding of shape (768,)>', 'id': '50b45bf644f7acbfcd5ac0448d4ef2be'}>,\n",
              "     <Document: {'content': \"che cos'è la ricerca di marcatori tumorali nel sangue?\", 'content_type': 'text', 'score': 0.6237068130720259, 'meta': {'answer': 'i marcatori tumorali sono sostanze, per lo più proteine, che circolano nel sangue e possono essere associate anche a malattie diverse dal cancro, quali situazioni infiammatorie. tuttavia in presenza di una neoplasia maligna spesso le concentrazioni ematiche di marcatori sono molto superiori alla norma e pertanto questi sono a volte usati come indicatori indiretti dello stato della malattia e della sua possibile progressione. nella fase diagnostica invece i marcatori tumorali possono a volte indirizzare o confermare una diagnosi, ma da soli non sono sufficienti a stabilire la diagnosi di tumore. '}, 'id_hash_keys': ['content'], 'embedding': '<embedding of shape (768,)>', 'id': '9c372e0c0b2ea7c85a5b1e4ec3cf5f66'}>,\n",
              "     <Document: {'content': 'che cosa sono le terapie cellulari?', 'content_type': 'text', 'score': 0.6185222538438397, 'meta': {'answer': 'utilizzano una preparazione di cellule o tessuti manipolati in laboratorio, in modo che le caratteristiche siano modificate'}, 'id_hash_keys': ['content'], 'embedding': '<embedding of shape (768,)>', 'id': '2b018db87c80cb951e4f94b69d24a4b'}>,\n",
              "     <Document: {'content': 'che cosa sono le terapie mirate?', 'content_type': 'text', 'score': 0.6185222538438397, 'meta': {'answer': 'le terapie mirate rappresentano uno dei più importanti strumenti della medicina personalizzata, in quanto la cura non è più scelta solo in base alla sede di sviluppo del tumore, ma anche in relazione alle sue caratteristiche molecolari, che possono essere diverse da paziente a paziente.'}, 'id_hash_keys': ['content'], 'embedding': '<embedding of shape (768,)>', 'id': '7e20e924c04851eca1608980bdc43b14'}>,\n",
              "     <Document: {'content': 'che cosa sono le sigarette a riscaldamento di tabacco?', 'content_type': 'text', 'score': 0.6048286735400886, 'meta': {'answer': 'sono dispositivi elettronici che, diversamente dalle cosiddette e-cig, le sigarette elettroniche, contengono foglia di tabacco.'}, 'id_hash_keys': ['content'], 'embedding': '<embedding of shape (768,)>', 'id': 'ca8d78e6c4209ce7a5e3c8cc4bb361d1'}>,\n",
              "     <Document: {'content': 'in che cosa sono diverse dalla chemioterapia tradizionale?', 'content_type': 'text', 'score': 0.6048286735400886, 'meta': {'answer': 'le terapie mirate, a differenza della chemioterapia, vanno a interferire in maniera molto più mirata con una molecola o un processo specifico delle cellule tumorali, non provocando danni alle cellule normali e riducendo così gli effetti collaterali.'}, 'id_hash_keys': ['content'], 'embedding': '<embedding of shape (768,)>', 'id': '387565dfd3ed975ba730308c7d4f0c66'}>]},\n",
              "   'exec_time_ms': 1.57},\n",
              "  'denseRetriever': {'input': {'root_node': 'Query',\n",
              "    'query': 'Cosa sono i marker tumorali?',\n",
              "    'top_k': 10,\n",
              "    'debug': True},\n",
              "   'output': {'documents': [<Document: {'content': 'cosa sono i marcatori tumorali?', 'content_type': 'text', 'score': 0.848907470703125, 'meta': {'answer': 'i cosiddetti marcatori tumorali fanno parte degli strumenti per determinare il rischio tumorale: si tratta di molecole che, se presenti o assenti nel sangue, permettono di capire se una persona è o no a rischio di sviluppare un determinato tipo di tumore.', 'query': 'cosa sono i marcatori tumorali?'}, 'id_hash_keys': ['content'], 'embedding': None, 'id': '23f22165cdddab5334e67e340dda1798'}>,\n",
              "     <Document: {'content': \"che cos'è la ricerca di marcatori tumorali nel sangue?\", 'content_type': 'text', 'score': 237.25479125976562, 'meta': {'answer': 'i marcatori tumorali sono sostanze, per lo più proteine, che circolano nel sangue e possono essere associate anche a malattie diverse dal cancro, quali situazioni infiammatorie. tuttavia in presenza di una neoplasia maligna spesso le concentrazioni ematiche di marcatori sono molto superiori alla norma e pertanto questi sono a volte usati come indicatori indiretti dello stato della malattia e della sua possibile progressione. nella fase diagnostica invece i marcatori tumorali possono a volte indirizzare o confermare una diagnosi, ma da soli non sono sufficienti a stabilire la diagnosi di tumore. '}, 'id_hash_keys': ['content'], 'embedding': None, 'id': '9c372e0c0b2ea7c85a5b1e4ec3cf5f66'}>,\n",
              "     <Document: {'content': 'che cosa sono i linfonodi?', 'content_type': 'text', 'score': 236.30117797851562, 'meta': {'answer': 'i linfonodi, chiamati anche ghiandole linfatiche, sono piccoli organi tondeggianti o a forma di fagiolo, situati lungo le vie linfatiche.'}, 'id_hash_keys': ['content'], 'embedding': None, 'id': '50b45bf644f7acbfcd5ac0448d4ef2be'}>,\n",
              "     <Document: {'content': 'come si manifesta il coinvolgimento dei linfonodi nei tumori?', 'content_type': 'text', 'score': 234.41058349609375, 'meta': {'answer': 'il coinvolgimento dei linfonodi nelle patologie tumorali si manifesta con un aumento di volume che solo il medico può distinguere da quello che si può verificare in seguito a malattie infettive, infiammatorie o autoimmuni, casi che peraltro, come si è detto, sono molto più frequenti.'}, 'id_hash_keys': ['content'], 'embedding': None, 'id': '3d11337a940d2f9c5561bad250161166'}>,\n",
              "     <Document: {'content': 'quali sono i fattori di rischio del melanoma?', 'content_type': 'text', 'score': 234.2459716796875, 'meta': {'answer': 'il più importante fattore di rischio è stato identificato nell’esposizione a raggi uv, in rapporto alle dosi assorbite, al tipo di esposizione (intermittente più che cronica) e all’età (in particolare quella infantile e adolescenziale), con probabilità maggiori nei casi di sussistenza e interazione di tutti questi fattori.'}, 'id_hash_keys': ['content'], 'embedding': None, 'id': 'bbe48d0dbe2c6090739439c322d2bc7'}>,\n",
              "     <Document: {'content': 'tutti i tumori possono dare metastasi?', 'content_type': 'text', 'score': 219.20933532714844, 'meta': {'answer': 'lo sviluppo di metastasi dipende però da molte variabili che vanno dalle caratteristiche genetiche della malattia, al tipo di organo coinvolto fino alla disponibilità o vicinanza di vie per la disseminazione.'}, 'id_hash_keys': ['content'], 'embedding': None, 'id': '9f8e5b5f0522213ec533ae29be1819d5'}>,\n",
              "     <Document: {'content': 'i virus possono causare i tumori?', 'content_type': 'text', 'score': 217.80532836914062, 'meta': {'answer': 'alcune neoplasie possono essere causate da infezioni virali. l’esempio più noto è il papilloma virus umano (hpv), che può provocare il cancro della cervice uterina, di testa e collo, della vulva, della vagina, del pene e dell’ano (quasi 4.400 casi di tumore ogni anno in italia 70 sono riconducibili all’hpv).'}, 'id_hash_keys': ['content'], 'embedding': None, 'id': '9824bc32b54c7fc74a47a0ca7c7bc34a'}>,\n",
              "     <Document: {'content': 'quali sono le differenze fra tumori benigni e maligni?', 'content_type': 'text', 'score': 212.3243408203125, 'meta': {'answer': 'se il tumore è benigno, non si parla di cancro. le cellule che lo costituiscono sono considerate tumorali perché si moltiplicano più del dovuto, dando origine a una massa che può raggiungere dimensioni importanti. le cellule dei tumori benigni si sviluppano lentamente e non hanno la capacità di diffondersi ad altre parti dell’organismo, anche se possono creare problemi alla salute. se, infatti, continuano a crescere, esercitano pressione contro gli organi sani vicini. i tumori maligni, invece, sono composti da cellule che, senza un adeguato trattamento, possono invadere i tessuti circostanti.'}, 'id_hash_keys': ['content'], 'embedding': None, 'id': '481ebb94ede54a7802966f339790da5c'}>,\n",
              "     <Document: {'content': 'perché i linfonodi sono importanti nella diagnosi di cancro?', 'content_type': 'text', 'score': 206.52923583984375, 'meta': {'answer': 'i linfonodi possono tuttavia essere importanti nella diagnosi di cancro perché il loro ingrossamento può, seppur di rado, essere il primo segno di esordio della malattia oppure il segno che essa si sta diffondendo.'}, 'id_hash_keys': ['content'], 'embedding': None, 'id': '2f7b15dde90dd8c1b576c560b5220330'}>,\n",
              "     <Document: {'content': 'quali sono le cause principali dei tumori?', 'content_type': 'text', 'score': 206.4814453125, 'meta': {'answer': 'i motivi per cui una persona si può ammalare sono ancora largamente sconosciuti.'}, 'id_hash_keys': ['content'], 'embedding': None, 'id': '34bfc5eb0487cfd63db6ade5fd16dd96'}>]},\n",
              "   'exec_time_ms': 69.69},\n",
              "  'joinDocuments': {'input': {'inputs': [{'documents': [<Document: {'content': 'cosa sono i marcatori tumorali?', 'content_type': 'text', 'score': 0.7794130015189505, 'meta': {'answer': 'i cosiddetti marcatori tumorali fanno parte degli strumenti per determinare il rischio tumorale: si tratta di molecole che, se presenti o assenti nel sangue, permettono di capire se una persona è o no a rischio di sviluppare un determinato tipo di tumore.'}, 'id_hash_keys': ['content'], 'embedding': '<embedding of shape (768,)>', 'id': '23f22165cdddab5334e67e340dda1798'}>,\n",
              "       <Document: {'content': 'cosa sono i biomarcatori?', 'content_type': 'text', 'score': 0.647146130295339, 'meta': {'answer': 'i biomarcatori sono molecole biologiche che si possono rilevare nel sangue, nelle urine, nelle feci e in altri fluidi corporei o tessuti, con un approccio che può essere invasivo (comportando un prelievo di tessuto) oppure meno invasivo (basandosi su un semplice prelievo di sangue) oppure, in qualche caso, basandosi sull’esecuzione di esami strumentali in grado di rilevare la presenza del biomarcatore nel corpo del paziente, mediante l’iniezione in circolo di un tracciante.'}, 'id_hash_keys': ['content'], 'embedding': '<embedding of shape (768,)>', 'id': '5e1cd1aac5ba8de85d28be9e41b17bbc'}>,\n",
              "       <Document: {'content': 'cosa sono le metastasi?', 'content_type': 'text', 'score': 0.6362217200766264, 'meta': {'answer': 'la metastasi è il fenomeno con cui le cellule tumorali si spostano dalla zona in cui si sono formate a un’altra parte del corpo.'}, 'id_hash_keys': ['content'], 'embedding': '<embedding of shape (768,)>', 'id': 'd699486f165a137c82a423535f7e3409'}>,\n",
              "       <Document: {'content': 'cosa sono i farmaci biologici?', 'content_type': 'text', 'score': 0.6362217200766264, 'meta': {'answer': 'sono una particolare categoria di terapie mirate. '}, 'id_hash_keys': ['content'], 'embedding': '<embedding of shape (768,)>', 'id': 'c87f4a133afc636e64aea933c0a39d96'}>,\n",
              "       <Document: {'content': 'che cosa sono i linfonodi?', 'content_type': 'text', 'score': 0.6362217200766264, 'meta': {'answer': 'i linfonodi, chiamati anche ghiandole linfatiche, sono piccoli organi tondeggianti o a forma di fagiolo, situati lungo le vie linfatiche.'}, 'id_hash_keys': ['content'], 'embedding': '<embedding of shape (768,)>', 'id': '50b45bf644f7acbfcd5ac0448d4ef2be'}>,\n",
              "       <Document: {'content': \"che cos'è la ricerca di marcatori tumorali nel sangue?\", 'content_type': 'text', 'score': 0.6237068130720259, 'meta': {'answer': 'i marcatori tumorali sono sostanze, per lo più proteine, che circolano nel sangue e possono essere associate anche a malattie diverse dal cancro, quali situazioni infiammatorie. tuttavia in presenza di una neoplasia maligna spesso le concentrazioni ematiche di marcatori sono molto superiori alla norma e pertanto questi sono a volte usati come indicatori indiretti dello stato della malattia e della sua possibile progressione. nella fase diagnostica invece i marcatori tumorali possono a volte indirizzare o confermare una diagnosi, ma da soli non sono sufficienti a stabilire la diagnosi di tumore. '}, 'id_hash_keys': ['content'], 'embedding': '<embedding of shape (768,)>', 'id': '9c372e0c0b2ea7c85a5b1e4ec3cf5f66'}>,\n",
              "       <Document: {'content': 'che cosa sono le terapie cellulari?', 'content_type': 'text', 'score': 0.6185222538438397, 'meta': {'answer': 'utilizzano una preparazione di cellule o tessuti manipolati in laboratorio, in modo che le caratteristiche siano modificate'}, 'id_hash_keys': ['content'], 'embedding': '<embedding of shape (768,)>', 'id': '2b018db87c80cb951e4f94b69d24a4b'}>,\n",
              "       <Document: {'content': 'che cosa sono le terapie mirate?', 'content_type': 'text', 'score': 0.6185222538438397, 'meta': {'answer': 'le terapie mirate rappresentano uno dei più importanti strumenti della medicina personalizzata, in quanto la cura non è più scelta solo in base alla sede di sviluppo del tumore, ma anche in relazione alle sue caratteristiche molecolari, che possono essere diverse da paziente a paziente.'}, 'id_hash_keys': ['content'], 'embedding': '<embedding of shape (768,)>', 'id': '7e20e924c04851eca1608980bdc43b14'}>,\n",
              "       <Document: {'content': 'che cosa sono le sigarette a riscaldamento di tabacco?', 'content_type': 'text', 'score': 0.6048286735400886, 'meta': {'answer': 'sono dispositivi elettronici che, diversamente dalle cosiddette e-cig, le sigarette elettroniche, contengono foglia di tabacco.'}, 'id_hash_keys': ['content'], 'embedding': '<embedding of shape (768,)>', 'id': 'ca8d78e6c4209ce7a5e3c8cc4bb361d1'}>,\n",
              "       <Document: {'content': 'in che cosa sono diverse dalla chemioterapia tradizionale?', 'content_type': 'text', 'score': 0.6048286735400886, 'meta': {'answer': 'le terapie mirate, a differenza della chemioterapia, vanno a interferire in maniera molto più mirata con una molecola o un processo specifico delle cellule tumorali, non provocando danni alle cellule normali e riducendo così gli effetti collaterali.'}, 'id_hash_keys': ['content'], 'embedding': '<embedding of shape (768,)>', 'id': '387565dfd3ed975ba730308c7d4f0c66'}>],\n",
              "      '_debug': {'sparseRetriever': {'input': {'root_node': 'Query',\n",
              "         'query': 'Cosa sono i marker tumorali?',\n",
              "         'top_k': 10,\n",
              "         'debug': True},\n",
              "        'output': {'documents': [<Document: {'content': 'cosa sono i marcatori tumorali?', 'content_type': 'text', 'score': 0.7794130015189505, 'meta': {'answer': 'i cosiddetti marcatori tumorali fanno parte degli strumenti per determinare il rischio tumorale: si tratta di molecole che, se presenti o assenti nel sangue, permettono di capire se una persona è o no a rischio di sviluppare un determinato tipo di tumore.'}, 'id_hash_keys': ['content'], 'embedding': '<embedding of shape (768,)>', 'id': '23f22165cdddab5334e67e340dda1798'}>,\n",
              "          <Document: {'content': 'cosa sono i biomarcatori?', 'content_type': 'text', 'score': 0.647146130295339, 'meta': {'answer': 'i biomarcatori sono molecole biologiche che si possono rilevare nel sangue, nelle urine, nelle feci e in altri fluidi corporei o tessuti, con un approccio che può essere invasivo (comportando un prelievo di tessuto) oppure meno invasivo (basandosi su un semplice prelievo di sangue) oppure, in qualche caso, basandosi sull’esecuzione di esami strumentali in grado di rilevare la presenza del biomarcatore nel corpo del paziente, mediante l’iniezione in circolo di un tracciante.'}, 'id_hash_keys': ['content'], 'embedding': '<embedding of shape (768,)>', 'id': '5e1cd1aac5ba8de85d28be9e41b17bbc'}>,\n",
              "          <Document: {'content': 'cosa sono le metastasi?', 'content_type': 'text', 'score': 0.6362217200766264, 'meta': {'answer': 'la metastasi è il fenomeno con cui le cellule tumorali si spostano dalla zona in cui si sono formate a un’altra parte del corpo.'}, 'id_hash_keys': ['content'], 'embedding': '<embedding of shape (768,)>', 'id': 'd699486f165a137c82a423535f7e3409'}>,\n",
              "          <Document: {'content': 'cosa sono i farmaci biologici?', 'content_type': 'text', 'score': 0.6362217200766264, 'meta': {'answer': 'sono una particolare categoria di terapie mirate. '}, 'id_hash_keys': ['content'], 'embedding': '<embedding of shape (768,)>', 'id': 'c87f4a133afc636e64aea933c0a39d96'}>,\n",
              "          <Document: {'content': 'che cosa sono i linfonodi?', 'content_type': 'text', 'score': 0.6362217200766264, 'meta': {'answer': 'i linfonodi, chiamati anche ghiandole linfatiche, sono piccoli organi tondeggianti o a forma di fagiolo, situati lungo le vie linfatiche.'}, 'id_hash_keys': ['content'], 'embedding': '<embedding of shape (768,)>', 'id': '50b45bf644f7acbfcd5ac0448d4ef2be'}>,\n",
              "          <Document: {'content': \"che cos'è la ricerca di marcatori tumorali nel sangue?\", 'content_type': 'text', 'score': 0.6237068130720259, 'meta': {'answer': 'i marcatori tumorali sono sostanze, per lo più proteine, che circolano nel sangue e possono essere associate anche a malattie diverse dal cancro, quali situazioni infiammatorie. tuttavia in presenza di una neoplasia maligna spesso le concentrazioni ematiche di marcatori sono molto superiori alla norma e pertanto questi sono a volte usati come indicatori indiretti dello stato della malattia e della sua possibile progressione. nella fase diagnostica invece i marcatori tumorali possono a volte indirizzare o confermare una diagnosi, ma da soli non sono sufficienti a stabilire la diagnosi di tumore. '}, 'id_hash_keys': ['content'], 'embedding': '<embedding of shape (768,)>', 'id': '9c372e0c0b2ea7c85a5b1e4ec3cf5f66'}>,\n",
              "          <Document: {'content': 'che cosa sono le terapie cellulari?', 'content_type': 'text', 'score': 0.6185222538438397, 'meta': {'answer': 'utilizzano una preparazione di cellule o tessuti manipolati in laboratorio, in modo che le caratteristiche siano modificate'}, 'id_hash_keys': ['content'], 'embedding': '<embedding of shape (768,)>', 'id': '2b018db87c80cb951e4f94b69d24a4b'}>,\n",
              "          <Document: {'content': 'che cosa sono le terapie mirate?', 'content_type': 'text', 'score': 0.6185222538438397, 'meta': {'answer': 'le terapie mirate rappresentano uno dei più importanti strumenti della medicina personalizzata, in quanto la cura non è più scelta solo in base alla sede di sviluppo del tumore, ma anche in relazione alle sue caratteristiche molecolari, che possono essere diverse da paziente a paziente.'}, 'id_hash_keys': ['content'], 'embedding': '<embedding of shape (768,)>', 'id': '7e20e924c04851eca1608980bdc43b14'}>,\n",
              "          <Document: {'content': 'che cosa sono le sigarette a riscaldamento di tabacco?', 'content_type': 'text', 'score': 0.6048286735400886, 'meta': {'answer': 'sono dispositivi elettronici che, diversamente dalle cosiddette e-cig, le sigarette elettroniche, contengono foglia di tabacco.'}, 'id_hash_keys': ['content'], 'embedding': '<embedding of shape (768,)>', 'id': 'ca8d78e6c4209ce7a5e3c8cc4bb361d1'}>,\n",
              "          <Document: {'content': 'in che cosa sono diverse dalla chemioterapia tradizionale?', 'content_type': 'text', 'score': 0.6048286735400886, 'meta': {'answer': 'le terapie mirate, a differenza della chemioterapia, vanno a interferire in maniera molto più mirata con una molecola o un processo specifico delle cellule tumorali, non provocando danni alle cellule normali e riducendo così gli effetti collaterali.'}, 'id_hash_keys': ['content'], 'embedding': '<embedding of shape (768,)>', 'id': '387565dfd3ed975ba730308c7d4f0c66'}>]},\n",
              "        'exec_time_ms': 1.57}},\n",
              "      'root_node': 'Query',\n",
              "      'params': {'sparseRetriever': {'top_k': 10},\n",
              "       'denseRetriever': {'top_k': 10, 'debug': True},\n",
              "       'joinDocuments': {'top_k_join': 10, 'debug': True},\n",
              "       'reranker': {'top_k': 1, 'debug': True}},\n",
              "      'query': 'Cosa sono i marker tumorali?',\n",
              "      'node_id': 'sparseRetriever'},\n",
              "     {'documents': [<Document: {'content': 'cosa sono i marcatori tumorali?', 'content_type': 'text', 'score': 0.848907470703125, 'meta': {'answer': 'i cosiddetti marcatori tumorali fanno parte degli strumenti per determinare il rischio tumorale: si tratta di molecole che, se presenti o assenti nel sangue, permettono di capire se una persona è o no a rischio di sviluppare un determinato tipo di tumore.', 'query': 'cosa sono i marcatori tumorali?'}, 'id_hash_keys': ['content'], 'embedding': None, 'id': '23f22165cdddab5334e67e340dda1798'}>,\n",
              "       <Document: {'content': \"che cos'è la ricerca di marcatori tumorali nel sangue?\", 'content_type': 'text', 'score': 237.25479125976562, 'meta': {'answer': 'i marcatori tumorali sono sostanze, per lo più proteine, che circolano nel sangue e possono essere associate anche a malattie diverse dal cancro, quali situazioni infiammatorie. tuttavia in presenza di una neoplasia maligna spesso le concentrazioni ematiche di marcatori sono molto superiori alla norma e pertanto questi sono a volte usati come indicatori indiretti dello stato della malattia e della sua possibile progressione. nella fase diagnostica invece i marcatori tumorali possono a volte indirizzare o confermare una diagnosi, ma da soli non sono sufficienti a stabilire la diagnosi di tumore. '}, 'id_hash_keys': ['content'], 'embedding': None, 'id': '9c372e0c0b2ea7c85a5b1e4ec3cf5f66'}>,\n",
              "       <Document: {'content': 'che cosa sono i linfonodi?', 'content_type': 'text', 'score': 236.30117797851562, 'meta': {'answer': 'i linfonodi, chiamati anche ghiandole linfatiche, sono piccoli organi tondeggianti o a forma di fagiolo, situati lungo le vie linfatiche.'}, 'id_hash_keys': ['content'], 'embedding': None, 'id': '50b45bf644f7acbfcd5ac0448d4ef2be'}>,\n",
              "       <Document: {'content': 'come si manifesta il coinvolgimento dei linfonodi nei tumori?', 'content_type': 'text', 'score': 234.41058349609375, 'meta': {'answer': 'il coinvolgimento dei linfonodi nelle patologie tumorali si manifesta con un aumento di volume che solo il medico può distinguere da quello che si può verificare in seguito a malattie infettive, infiammatorie o autoimmuni, casi che peraltro, come si è detto, sono molto più frequenti.'}, 'id_hash_keys': ['content'], 'embedding': None, 'id': '3d11337a940d2f9c5561bad250161166'}>,\n",
              "       <Document: {'content': 'quali sono i fattori di rischio del melanoma?', 'content_type': 'text', 'score': 234.2459716796875, 'meta': {'answer': 'il più importante fattore di rischio è stato identificato nell’esposizione a raggi uv, in rapporto alle dosi assorbite, al tipo di esposizione (intermittente più che cronica) e all’età (in particolare quella infantile e adolescenziale), con probabilità maggiori nei casi di sussistenza e interazione di tutti questi fattori.'}, 'id_hash_keys': ['content'], 'embedding': None, 'id': 'bbe48d0dbe2c6090739439c322d2bc7'}>,\n",
              "       <Document: {'content': 'tutti i tumori possono dare metastasi?', 'content_type': 'text', 'score': 219.20933532714844, 'meta': {'answer': 'lo sviluppo di metastasi dipende però da molte variabili che vanno dalle caratteristiche genetiche della malattia, al tipo di organo coinvolto fino alla disponibilità o vicinanza di vie per la disseminazione.'}, 'id_hash_keys': ['content'], 'embedding': None, 'id': '9f8e5b5f0522213ec533ae29be1819d5'}>,\n",
              "       <Document: {'content': 'i virus possono causare i tumori?', 'content_type': 'text', 'score': 217.80532836914062, 'meta': {'answer': 'alcune neoplasie possono essere causate da infezioni virali. l’esempio più noto è il papilloma virus umano (hpv), che può provocare il cancro della cervice uterina, di testa e collo, della vulva, della vagina, del pene e dell’ano (quasi 4.400 casi di tumore ogni anno in italia 70 sono riconducibili all’hpv).'}, 'id_hash_keys': ['content'], 'embedding': None, 'id': '9824bc32b54c7fc74a47a0ca7c7bc34a'}>,\n",
              "       <Document: {'content': 'quali sono le differenze fra tumori benigni e maligni?', 'content_type': 'text', 'score': 212.3243408203125, 'meta': {'answer': 'se il tumore è benigno, non si parla di cancro. le cellule che lo costituiscono sono considerate tumorali perché si moltiplicano più del dovuto, dando origine a una massa che può raggiungere dimensioni importanti. le cellule dei tumori benigni si sviluppano lentamente e non hanno la capacità di diffondersi ad altre parti dell’organismo, anche se possono creare problemi alla salute. se, infatti, continuano a crescere, esercitano pressione contro gli organi sani vicini. i tumori maligni, invece, sono composti da cellule che, senza un adeguato trattamento, possono invadere i tessuti circostanti.'}, 'id_hash_keys': ['content'], 'embedding': None, 'id': '481ebb94ede54a7802966f339790da5c'}>,\n",
              "       <Document: {'content': 'perché i linfonodi sono importanti nella diagnosi di cancro?', 'content_type': 'text', 'score': 206.52923583984375, 'meta': {'answer': 'i linfonodi possono tuttavia essere importanti nella diagnosi di cancro perché il loro ingrossamento può, seppur di rado, essere il primo segno di esordio della malattia oppure il segno che essa si sta diffondendo.'}, 'id_hash_keys': ['content'], 'embedding': None, 'id': '2f7b15dde90dd8c1b576c560b5220330'}>,\n",
              "       <Document: {'content': 'quali sono le cause principali dei tumori?', 'content_type': 'text', 'score': 206.4814453125, 'meta': {'answer': 'i motivi per cui una persona si può ammalare sono ancora largamente sconosciuti.'}, 'id_hash_keys': ['content'], 'embedding': None, 'id': '34bfc5eb0487cfd63db6ade5fd16dd96'}>],\n",
              "      '_debug': {'denseRetriever': {'input': {'root_node': 'Query',\n",
              "         'query': 'Cosa sono i marker tumorali?',\n",
              "         'top_k': 10,\n",
              "         'debug': True},\n",
              "        'output': {'documents': [<Document: {'content': 'cosa sono i marcatori tumorali?', 'content_type': 'text', 'score': 0.848907470703125, 'meta': {'answer': 'i cosiddetti marcatori tumorali fanno parte degli strumenti per determinare il rischio tumorale: si tratta di molecole che, se presenti o assenti nel sangue, permettono di capire se una persona è o no a rischio di sviluppare un determinato tipo di tumore.', 'query': 'cosa sono i marcatori tumorali?'}, 'id_hash_keys': ['content'], 'embedding': None, 'id': '23f22165cdddab5334e67e340dda1798'}>,\n",
              "          <Document: {'content': \"che cos'è la ricerca di marcatori tumorali nel sangue?\", 'content_type': 'text', 'score': 237.25479125976562, 'meta': {'answer': 'i marcatori tumorali sono sostanze, per lo più proteine, che circolano nel sangue e possono essere associate anche a malattie diverse dal cancro, quali situazioni infiammatorie. tuttavia in presenza di una neoplasia maligna spesso le concentrazioni ematiche di marcatori sono molto superiori alla norma e pertanto questi sono a volte usati come indicatori indiretti dello stato della malattia e della sua possibile progressione. nella fase diagnostica invece i marcatori tumorali possono a volte indirizzare o confermare una diagnosi, ma da soli non sono sufficienti a stabilire la diagnosi di tumore. '}, 'id_hash_keys': ['content'], 'embedding': None, 'id': '9c372e0c0b2ea7c85a5b1e4ec3cf5f66'}>,\n",
              "          <Document: {'content': 'che cosa sono i linfonodi?', 'content_type': 'text', 'score': 236.30117797851562, 'meta': {'answer': 'i linfonodi, chiamati anche ghiandole linfatiche, sono piccoli organi tondeggianti o a forma di fagiolo, situati lungo le vie linfatiche.'}, 'id_hash_keys': ['content'], 'embedding': None, 'id': '50b45bf644f7acbfcd5ac0448d4ef2be'}>,\n",
              "          <Document: {'content': 'come si manifesta il coinvolgimento dei linfonodi nei tumori?', 'content_type': 'text', 'score': 234.41058349609375, 'meta': {'answer': 'il coinvolgimento dei linfonodi nelle patologie tumorali si manifesta con un aumento di volume che solo il medico può distinguere da quello che si può verificare in seguito a malattie infettive, infiammatorie o autoimmuni, casi che peraltro, come si è detto, sono molto più frequenti.'}, 'id_hash_keys': ['content'], 'embedding': None, 'id': '3d11337a940d2f9c5561bad250161166'}>,\n",
              "          <Document: {'content': 'quali sono i fattori di rischio del melanoma?', 'content_type': 'text', 'score': 234.2459716796875, 'meta': {'answer': 'il più importante fattore di rischio è stato identificato nell’esposizione a raggi uv, in rapporto alle dosi assorbite, al tipo di esposizione (intermittente più che cronica) e all’età (in particolare quella infantile e adolescenziale), con probabilità maggiori nei casi di sussistenza e interazione di tutti questi fattori.'}, 'id_hash_keys': ['content'], 'embedding': None, 'id': 'bbe48d0dbe2c6090739439c322d2bc7'}>,\n",
              "          <Document: {'content': 'tutti i tumori possono dare metastasi?', 'content_type': 'text', 'score': 219.20933532714844, 'meta': {'answer': 'lo sviluppo di metastasi dipende però da molte variabili che vanno dalle caratteristiche genetiche della malattia, al tipo di organo coinvolto fino alla disponibilità o vicinanza di vie per la disseminazione.'}, 'id_hash_keys': ['content'], 'embedding': None, 'id': '9f8e5b5f0522213ec533ae29be1819d5'}>,\n",
              "          <Document: {'content': 'i virus possono causare i tumori?', 'content_type': 'text', 'score': 217.80532836914062, 'meta': {'answer': 'alcune neoplasie possono essere causate da infezioni virali. l’esempio più noto è il papilloma virus umano (hpv), che può provocare il cancro della cervice uterina, di testa e collo, della vulva, della vagina, del pene e dell’ano (quasi 4.400 casi di tumore ogni anno in italia 70 sono riconducibili all’hpv).'}, 'id_hash_keys': ['content'], 'embedding': None, 'id': '9824bc32b54c7fc74a47a0ca7c7bc34a'}>,\n",
              "          <Document: {'content': 'quali sono le differenze fra tumori benigni e maligni?', 'content_type': 'text', 'score': 212.3243408203125, 'meta': {'answer': 'se il tumore è benigno, non si parla di cancro. le cellule che lo costituiscono sono considerate tumorali perché si moltiplicano più del dovuto, dando origine a una massa che può raggiungere dimensioni importanti. le cellule dei tumori benigni si sviluppano lentamente e non hanno la capacità di diffondersi ad altre parti dell’organismo, anche se possono creare problemi alla salute. se, infatti, continuano a crescere, esercitano pressione contro gli organi sani vicini. i tumori maligni, invece, sono composti da cellule che, senza un adeguato trattamento, possono invadere i tessuti circostanti.'}, 'id_hash_keys': ['content'], 'embedding': None, 'id': '481ebb94ede54a7802966f339790da5c'}>,\n",
              "          <Document: {'content': 'perché i linfonodi sono importanti nella diagnosi di cancro?', 'content_type': 'text', 'score': 206.52923583984375, 'meta': {'answer': 'i linfonodi possono tuttavia essere importanti nella diagnosi di cancro perché il loro ingrossamento può, seppur di rado, essere il primo segno di esordio della malattia oppure il segno che essa si sta diffondendo.'}, 'id_hash_keys': ['content'], 'embedding': None, 'id': '2f7b15dde90dd8c1b576c560b5220330'}>,\n",
              "          <Document: {'content': 'quali sono le cause principali dei tumori?', 'content_type': 'text', 'score': 206.4814453125, 'meta': {'answer': 'i motivi per cui una persona si può ammalare sono ancora largamente sconosciuti.'}, 'id_hash_keys': ['content'], 'embedding': None, 'id': '34bfc5eb0487cfd63db6ade5fd16dd96'}>]},\n",
              "        'exec_time_ms': 69.69}},\n",
              "      'root_node': 'Query',\n",
              "      'params': {'sparseRetriever': {'top_k': 10, 'debug': True},\n",
              "       'denseRetriever': {'top_k': 10},\n",
              "       'joinDocuments': {'top_k_join': 10, 'debug': True},\n",
              "       'reranker': {'top_k': 1, 'debug': True}},\n",
              "      'query': 'Cosa sono i marker tumorali?',\n",
              "      'node_id': 'denseRetriever'}],\n",
              "    'query': 'Cosa sono i marker tumorali?',\n",
              "    'top_k_join': 10,\n",
              "    'debug': True},\n",
              "   'output': {'documents': [<Document: {'content': 'cosa sono i marcatori tumorali?', 'content_type': 'text', 'score': 0.848907470703125, 'meta': {'answer': 'i cosiddetti marcatori tumorali fanno parte degli strumenti per determinare il rischio tumorale: si tratta di molecole che, se presenti o assenti nel sangue, permettono di capire se una persona è o no a rischio di sviluppare un determinato tipo di tumore.', 'query': 'cosa sono i marcatori tumorali?'}, 'id_hash_keys': ['content'], 'embedding': None, 'id': '23f22165cdddab5334e67e340dda1798'}>,\n",
              "     <Document: {'content': \"che cos'è la ricerca di marcatori tumorali nel sangue?\", 'content_type': 'text', 'score': 237.25479125976562, 'meta': {'answer': 'i marcatori tumorali sono sostanze, per lo più proteine, che circolano nel sangue e possono essere associate anche a malattie diverse dal cancro, quali situazioni infiammatorie. tuttavia in presenza di una neoplasia maligna spesso le concentrazioni ematiche di marcatori sono molto superiori alla norma e pertanto questi sono a volte usati come indicatori indiretti dello stato della malattia e della sua possibile progressione. nella fase diagnostica invece i marcatori tumorali possono a volte indirizzare o confermare una diagnosi, ma da soli non sono sufficienti a stabilire la diagnosi di tumore. '}, 'id_hash_keys': ['content'], 'embedding': None, 'id': '9c372e0c0b2ea7c85a5b1e4ec3cf5f66'}>,\n",
              "     <Document: {'content': 'che cosa sono i linfonodi?', 'content_type': 'text', 'score': 236.30117797851562, 'meta': {'answer': 'i linfonodi, chiamati anche ghiandole linfatiche, sono piccoli organi tondeggianti o a forma di fagiolo, situati lungo le vie linfatiche.'}, 'id_hash_keys': ['content'], 'embedding': None, 'id': '50b45bf644f7acbfcd5ac0448d4ef2be'}>,\n",
              "     <Document: {'content': 'come si manifesta il coinvolgimento dei linfonodi nei tumori?', 'content_type': 'text', 'score': 234.41058349609375, 'meta': {'answer': 'il coinvolgimento dei linfonodi nelle patologie tumorali si manifesta con un aumento di volume che solo il medico può distinguere da quello che si può verificare in seguito a malattie infettive, infiammatorie o autoimmuni, casi che peraltro, come si è detto, sono molto più frequenti.'}, 'id_hash_keys': ['content'], 'embedding': None, 'id': '3d11337a940d2f9c5561bad250161166'}>,\n",
              "     <Document: {'content': 'quali sono i fattori di rischio del melanoma?', 'content_type': 'text', 'score': 234.2459716796875, 'meta': {'answer': 'il più importante fattore di rischio è stato identificato nell’esposizione a raggi uv, in rapporto alle dosi assorbite, al tipo di esposizione (intermittente più che cronica) e all’età (in particolare quella infantile e adolescenziale), con probabilità maggiori nei casi di sussistenza e interazione di tutti questi fattori.'}, 'id_hash_keys': ['content'], 'embedding': None, 'id': 'bbe48d0dbe2c6090739439c322d2bc7'}>,\n",
              "     <Document: {'content': 'tutti i tumori possono dare metastasi?', 'content_type': 'text', 'score': 219.20933532714844, 'meta': {'answer': 'lo sviluppo di metastasi dipende però da molte variabili che vanno dalle caratteristiche genetiche della malattia, al tipo di organo coinvolto fino alla disponibilità o vicinanza di vie per la disseminazione.'}, 'id_hash_keys': ['content'], 'embedding': None, 'id': '9f8e5b5f0522213ec533ae29be1819d5'}>,\n",
              "     <Document: {'content': 'i virus possono causare i tumori?', 'content_type': 'text', 'score': 217.80532836914062, 'meta': {'answer': 'alcune neoplasie possono essere causate da infezioni virali. l’esempio più noto è il papilloma virus umano (hpv), che può provocare il cancro della cervice uterina, di testa e collo, della vulva, della vagina, del pene e dell’ano (quasi 4.400 casi di tumore ogni anno in italia 70 sono riconducibili all’hpv).'}, 'id_hash_keys': ['content'], 'embedding': None, 'id': '9824bc32b54c7fc74a47a0ca7c7bc34a'}>,\n",
              "     <Document: {'content': 'quali sono le differenze fra tumori benigni e maligni?', 'content_type': 'text', 'score': 212.3243408203125, 'meta': {'answer': 'se il tumore è benigno, non si parla di cancro. le cellule che lo costituiscono sono considerate tumorali perché si moltiplicano più del dovuto, dando origine a una massa che può raggiungere dimensioni importanti. le cellule dei tumori benigni si sviluppano lentamente e non hanno la capacità di diffondersi ad altre parti dell’organismo, anche se possono creare problemi alla salute. se, infatti, continuano a crescere, esercitano pressione contro gli organi sani vicini. i tumori maligni, invece, sono composti da cellule che, senza un adeguato trattamento, possono invadere i tessuti circostanti.'}, 'id_hash_keys': ['content'], 'embedding': None, 'id': '481ebb94ede54a7802966f339790da5c'}>,\n",
              "     <Document: {'content': 'perché i linfonodi sono importanti nella diagnosi di cancro?', 'content_type': 'text', 'score': 206.52923583984375, 'meta': {'answer': 'i linfonodi possono tuttavia essere importanti nella diagnosi di cancro perché il loro ingrossamento può, seppur di rado, essere il primo segno di esordio della malattia oppure il segno che essa si sta diffondendo.'}, 'id_hash_keys': ['content'], 'embedding': None, 'id': '2f7b15dde90dd8c1b576c560b5220330'}>,\n",
              "     <Document: {'content': 'quali sono le cause principali dei tumori?', 'content_type': 'text', 'score': 206.4814453125, 'meta': {'answer': 'i motivi per cui una persona si può ammalare sono ancora largamente sconosciuti.'}, 'id_hash_keys': ['content'], 'embedding': None, 'id': '34bfc5eb0487cfd63db6ade5fd16dd96'}>],\n",
              "    'labels': None,\n",
              "    'root_node': 'Query'},\n",
              "   'exec_time_ms': 0.58},\n",
              "  'reranker': {'input': {'documents': [<Document: {'content': 'cosa sono i marcatori tumorali?', 'content_type': 'text', 'score': 0.848907470703125, 'meta': {'answer': 'i cosiddetti marcatori tumorali fanno parte degli strumenti per determinare il rischio tumorale: si tratta di molecole che, se presenti o assenti nel sangue, permettono di capire se una persona è o no a rischio di sviluppare un determinato tipo di tumore.', 'query': 'cosa sono i marcatori tumorali?'}, 'id_hash_keys': ['content'], 'embedding': None, 'id': '23f22165cdddab5334e67e340dda1798'}>,\n",
              "     <Document: {'content': \"che cos'è la ricerca di marcatori tumorali nel sangue?\", 'content_type': 'text', 'score': 237.25479125976562, 'meta': {'answer': 'i marcatori tumorali sono sostanze, per lo più proteine, che circolano nel sangue e possono essere associate anche a malattie diverse dal cancro, quali situazioni infiammatorie. tuttavia in presenza di una neoplasia maligna spesso le concentrazioni ematiche di marcatori sono molto superiori alla norma e pertanto questi sono a volte usati come indicatori indiretti dello stato della malattia e della sua possibile progressione. nella fase diagnostica invece i marcatori tumorali possono a volte indirizzare o confermare una diagnosi, ma da soli non sono sufficienti a stabilire la diagnosi di tumore. '}, 'id_hash_keys': ['content'], 'embedding': None, 'id': '9c372e0c0b2ea7c85a5b1e4ec3cf5f66'}>,\n",
              "     <Document: {'content': 'che cosa sono i linfonodi?', 'content_type': 'text', 'score': 236.30117797851562, 'meta': {'answer': 'i linfonodi, chiamati anche ghiandole linfatiche, sono piccoli organi tondeggianti o a forma di fagiolo, situati lungo le vie linfatiche.'}, 'id_hash_keys': ['content'], 'embedding': None, 'id': '50b45bf644f7acbfcd5ac0448d4ef2be'}>,\n",
              "     <Document: {'content': 'come si manifesta il coinvolgimento dei linfonodi nei tumori?', 'content_type': 'text', 'score': 234.41058349609375, 'meta': {'answer': 'il coinvolgimento dei linfonodi nelle patologie tumorali si manifesta con un aumento di volume che solo il medico può distinguere da quello che si può verificare in seguito a malattie infettive, infiammatorie o autoimmuni, casi che peraltro, come si è detto, sono molto più frequenti.'}, 'id_hash_keys': ['content'], 'embedding': None, 'id': '3d11337a940d2f9c5561bad250161166'}>,\n",
              "     <Document: {'content': 'quali sono i fattori di rischio del melanoma?', 'content_type': 'text', 'score': 234.2459716796875, 'meta': {'answer': 'il più importante fattore di rischio è stato identificato nell’esposizione a raggi uv, in rapporto alle dosi assorbite, al tipo di esposizione (intermittente più che cronica) e all’età (in particolare quella infantile e adolescenziale), con probabilità maggiori nei casi di sussistenza e interazione di tutti questi fattori.'}, 'id_hash_keys': ['content'], 'embedding': None, 'id': 'bbe48d0dbe2c6090739439c322d2bc7'}>,\n",
              "     <Document: {'content': 'tutti i tumori possono dare metastasi?', 'content_type': 'text', 'score': 219.20933532714844, 'meta': {'answer': 'lo sviluppo di metastasi dipende però da molte variabili che vanno dalle caratteristiche genetiche della malattia, al tipo di organo coinvolto fino alla disponibilità o vicinanza di vie per la disseminazione.'}, 'id_hash_keys': ['content'], 'embedding': None, 'id': '9f8e5b5f0522213ec533ae29be1819d5'}>,\n",
              "     <Document: {'content': 'i virus possono causare i tumori?', 'content_type': 'text', 'score': 217.80532836914062, 'meta': {'answer': 'alcune neoplasie possono essere causate da infezioni virali. l’esempio più noto è il papilloma virus umano (hpv), che può provocare il cancro della cervice uterina, di testa e collo, della vulva, della vagina, del pene e dell’ano (quasi 4.400 casi di tumore ogni anno in italia 70 sono riconducibili all’hpv).'}, 'id_hash_keys': ['content'], 'embedding': None, 'id': '9824bc32b54c7fc74a47a0ca7c7bc34a'}>,\n",
              "     <Document: {'content': 'quali sono le differenze fra tumori benigni e maligni?', 'content_type': 'text', 'score': 212.3243408203125, 'meta': {'answer': 'se il tumore è benigno, non si parla di cancro. le cellule che lo costituiscono sono considerate tumorali perché si moltiplicano più del dovuto, dando origine a una massa che può raggiungere dimensioni importanti. le cellule dei tumori benigni si sviluppano lentamente e non hanno la capacità di diffondersi ad altre parti dell’organismo, anche se possono creare problemi alla salute. se, infatti, continuano a crescere, esercitano pressione contro gli organi sani vicini. i tumori maligni, invece, sono composti da cellule che, senza un adeguato trattamento, possono invadere i tessuti circostanti.'}, 'id_hash_keys': ['content'], 'embedding': None, 'id': '481ebb94ede54a7802966f339790da5c'}>,\n",
              "     <Document: {'content': 'perché i linfonodi sono importanti nella diagnosi di cancro?', 'content_type': 'text', 'score': 206.52923583984375, 'meta': {'answer': 'i linfonodi possono tuttavia essere importanti nella diagnosi di cancro perché il loro ingrossamento può, seppur di rado, essere il primo segno di esordio della malattia oppure il segno che essa si sta diffondendo.'}, 'id_hash_keys': ['content'], 'embedding': None, 'id': '2f7b15dde90dd8c1b576c560b5220330'}>,\n",
              "     <Document: {'content': 'quali sono le cause principali dei tumori?', 'content_type': 'text', 'score': 206.4814453125, 'meta': {'answer': 'i motivi per cui una persona si può ammalare sono ancora largamente sconosciuti.'}, 'id_hash_keys': ['content'], 'embedding': None, 'id': '34bfc5eb0487cfd63db6ade5fd16dd96'}>],\n",
              "    'query': 'Cosa sono i marker tumorali?',\n",
              "    'top_k': 1,\n",
              "    'debug': True},\n",
              "   'output': {'documents': [<Document: {'content': 'cosa sono i marcatori tumorali?', 'content_type': 'text', 'score': 0.848907470703125, 'meta': {'answer': 'i cosiddetti marcatori tumorali fanno parte degli strumenti per determinare il rischio tumorale: si tratta di molecole che, se presenti o assenti nel sangue, permettono di capire se una persona è o no a rischio di sviluppare un determinato tipo di tumore.', 'query': 'cosa sono i marcatori tumorali?'}, 'id_hash_keys': ['content'], 'embedding': None, 'id': '23f22165cdddab5334e67e340dda1798'}>]},\n",
              "   'exec_time_ms': 30.49}},\n",
              " 'documents': [<Document: {'content': 'cosa sono i marcatori tumorali?', 'content_type': 'text', 'score': 0.848907470703125, 'meta': {'answer': 'i cosiddetti marcatori tumorali fanno parte degli strumenti per determinare il rischio tumorale: si tratta di molecole che, se presenti o assenti nel sangue, permettono di capire se una persona è o no a rischio di sviluppare un determinato tipo di tumore.', 'query': 'cosa sono i marcatori tumorali?'}, 'id_hash_keys': ['content'], 'embedding': None, 'id': '23f22165cdddab5334e67e340dda1798'}>],\n",
              " 'labels': None,\n",
              " 'root_node': 'Query',\n",
              " 'params': {'sparseRetriever': {'top_k': 10, 'debug': True},\n",
              "  'denseRetriever': {'top_k': 10, 'debug': True},\n",
              "  'joinDocuments': {'top_k_join': 10},\n",
              "  'reranker': {'top_k': 1}},\n",
              " 'node_id': 'Docs2Answers'}"
            ]
          },
          "metadata": {},
          "execution_count": 20
        }
      ]
    },
    {
      "cell_type": "markdown",
      "source": [
        "## Conclusioni\n",
        "\n",
        "Il notebook è introduttivo e credo sia una base esaustiva e con qualche link di appronfondimento sul tema per chi cerca qualcosa di più avanzato.\n",
        "\n",
        "Il consiglio che dò a chi si approccia a questa tematica per la prima volta è attivare e disattivare dei livelli nella pipeline e confrontare i risultati restituiti, forse il dataset è troppo piccolo ma la ricerca dovrebbe comunque trarre giovamento dal doppio retriever.\n",
        "\n",
        "*Come sempre i vostri feedback sono ben accetti!*\n",
        "\n",
        "**Buona Ricerca 😃**"
      ],
      "metadata": {
        "id": "zZbhSE3F3UO-"
      }
    }
  ]
}