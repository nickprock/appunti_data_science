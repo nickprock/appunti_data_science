{
 "cells": [
  {
   "cell_type": "markdown",
   "id": "wireless-consultation",
   "metadata": {
    "papermill": {
     "duration": 0.057695,
     "end_time": "2021-06-25T10:02:22.900492",
     "exception": false,
     "start_time": "2021-06-25T10:02:22.842797",
     "status": "completed"
    },
    "tags": []
   },
   "source": [
    "# eXplainable A.I.\n",
    "\n",
    "\n",
    "## Dataset: Tokyo Fish Market\n",
    "\n",
    "Stimare con la maggiore precisione possibile il peso dei pesci. La misura utilizzata per l'errore è **RMSE**.\n",
    "\n",
    "<br>\n",
    "\n",
    "![tfm](https://www.driveontheleft.com/wp-content/uploads/2017/10/Fish-market-22-min.jpg)\n",
    "\n",
    "<br>\n",
    "\n",
    "* 294 samples\n",
    "* 7 features compreso il target\n",
    "\n",
    "* Length1: standard length\n",
    "* Length2: fork length\n",
    "* Lenght3: total length\n",
    "* Height\n",
    "* Width\n",
    "* Species: 7 categorie\n",
    "* ***Weight*** (target)\n",
    "\n",
    "<br>\n",
    "\n",
    "![fish](https://www.fishbase.de/Images/Glospic/G_Fig13a6181_SL.jpg)\n",
    "\n",
    "<br>\n"
   ]
  },
  {
   "cell_type": "code",
   "execution_count": null,
   "id": "correct-briefs",
   "metadata": {
    "_cell_guid": "b1076dfc-b9ad-4769-8c92-a6c4dae69d19",
    "_uuid": "8f2839f25d086af736a60e9eeb907d3b93b6e0e5",
    "execution": {
     "iopub.execute_input": "2021-06-25T10:02:23.020147Z",
     "iopub.status.busy": "2021-06-25T10:02:23.019457Z",
     "iopub.status.idle": "2021-06-25T10:02:23.024776Z",
     "shell.execute_reply": "2021-06-25T10:02:23.024124Z",
     "shell.execute_reply.started": "2021-06-25T09:58:40.262044Z"
    },
    "papermill": {
     "duration": 0.071016,
     "end_time": "2021-06-25T10:02:23.024938",
     "exception": false,
     "start_time": "2021-06-25T10:02:22.953922",
     "status": "completed"
    },
    "tags": []
   },
   "outputs": [],
   "source": [
    "import numpy as np # linear algebra\n",
    "import pandas as pd # data processing, CSV file I/O (e.g. pd.read_csv)"
   ]
  },
  {
   "cell_type": "code",
   "execution_count": null,
   "id": "aware-durham",
   "metadata": {
    "execution": {
     "iopub.execute_input": "2021-06-25T10:02:23.149533Z",
     "iopub.status.busy": "2021-06-25T10:02:23.148845Z",
     "iopub.status.idle": "2021-06-25T10:02:23.153564Z",
     "shell.execute_reply": "2021-06-25T10:02:23.153010Z",
     "shell.execute_reply.started": "2021-06-25T09:58:40.277380Z"
    },
    "papermill": {
     "duration": 0.071391,
     "end_time": "2021-06-25T10:02:23.153717",
     "exception": false,
     "start_time": "2021-06-25T10:02:23.082326",
     "status": "completed"
    },
    "tags": []
   },
   "outputs": [],
   "source": [
    "import matplotlib.pyplot as plt\n",
    "%matplotlib inline"
   ]
  },
  {
   "cell_type": "code",
   "execution_count": null,
   "id": "loved-floating",
   "metadata": {
    "execution": {
     "iopub.execute_input": "2021-06-25T10:02:23.269864Z",
     "iopub.status.busy": "2021-06-25T10:02:23.268861Z",
     "iopub.status.idle": "2021-06-25T10:02:23.271261Z",
     "shell.execute_reply": "2021-06-25T10:02:23.271777Z",
     "shell.execute_reply.started": "2021-06-25T09:58:40.289738Z"
    },
    "papermill": {
     "duration": 0.060893,
     "end_time": "2021-06-25T10:02:23.271950",
     "exception": false,
     "start_time": "2021-06-25T10:02:23.211057",
     "status": "completed"
    },
    "tags": []
   },
   "outputs": [],
   "source": [
    "import warnings\n",
    "warnings.filterwarnings(\"ignore\")"
   ]
  },
  {
   "cell_type": "code",
   "execution_count": null,
   "id": "configured-warrior",
   "metadata": {
    "execution": {
     "iopub.execute_input": "2021-06-25T10:02:23.389002Z",
     "iopub.status.busy": "2021-06-25T10:02:23.387941Z",
     "iopub.status.idle": "2021-06-25T10:02:23.407971Z",
     "shell.execute_reply": "2021-06-25T10:02:23.409114Z",
     "shell.execute_reply.started": "2021-06-25T09:58:40.300241Z"
    },
    "papermill": {
     "duration": 0.083441,
     "end_time": "2021-06-25T10:02:23.409306",
     "exception": false,
     "start_time": "2021-06-25T10:02:23.325865",
     "status": "completed"
    },
    "tags": []
   },
   "outputs": [],
   "source": [
    "fish= pd.read_csv(\"./dati/dati.csv\")"
   ]
  },
  {
   "cell_type": "markdown",
   "id": "color-beginning",
   "metadata": {
    "papermill": {
     "duration": 0.053523,
     "end_time": "2021-06-25T10:02:23.520599",
     "exception": false,
     "start_time": "2021-06-25T10:02:23.467076",
     "status": "completed"
    },
    "tags": []
   },
   "source": [
    "## Prima analisi esplorativa"
   ]
  },
  {
   "cell_type": "code",
   "execution_count": null,
   "id": "speaking-socket",
   "metadata": {
    "execution": {
     "iopub.execute_input": "2021-06-25T10:02:23.631929Z",
     "iopub.status.busy": "2021-06-25T10:02:23.631269Z",
     "iopub.status.idle": "2021-06-25T10:02:23.638221Z",
     "shell.execute_reply": "2021-06-25T10:02:23.638825Z",
     "shell.execute_reply.started": "2021-06-25T09:58:40.327535Z"
    },
    "papermill": {
     "duration": 0.063783,
     "end_time": "2021-06-25T10:02:23.638999",
     "exception": false,
     "start_time": "2021-06-25T10:02:23.575216",
     "status": "completed"
    },
    "tags": []
   },
   "outputs": [],
   "source": [
    "fish.shape"
   ]
  },
  {
   "cell_type": "code",
   "execution_count": null,
   "id": "central-oklahoma",
   "metadata": {
    "execution": {
     "iopub.execute_input": "2021-06-25T10:02:23.751242Z",
     "iopub.status.busy": "2021-06-25T10:02:23.750624Z",
     "iopub.status.idle": "2021-06-25T10:02:23.776641Z",
     "shell.execute_reply": "2021-06-25T10:02:23.777168Z",
     "shell.execute_reply.started": "2021-06-25T09:58:40.336755Z"
    },
    "papermill": {
     "duration": 0.083903,
     "end_time": "2021-06-25T10:02:23.777367",
     "exception": false,
     "start_time": "2021-06-25T10:02:23.693464",
     "status": "completed"
    },
    "tags": []
   },
   "outputs": [],
   "source": [
    "fish.head()"
   ]
  },
  {
   "cell_type": "code",
   "execution_count": null,
   "id": "deluxe-thermal",
   "metadata": {
    "execution": {
     "iopub.execute_input": "2021-06-25T10:02:23.896165Z",
     "iopub.status.busy": "2021-06-25T10:02:23.895182Z",
     "iopub.status.idle": "2021-06-25T10:02:23.926124Z",
     "shell.execute_reply": "2021-06-25T10:02:23.925488Z",
     "shell.execute_reply.started": "2021-06-25T09:58:40.373069Z"
    },
    "papermill": {
     "duration": 0.093707,
     "end_time": "2021-06-25T10:02:23.926269",
     "exception": false,
     "start_time": "2021-06-25T10:02:23.832562",
     "status": "completed"
    },
    "tags": []
   },
   "outputs": [],
   "source": [
    "fish.describe()"
   ]
  },
  {
   "cell_type": "markdown",
   "id": "settled-ethnic",
   "metadata": {
    "papermill": {
     "duration": 0.056119,
     "end_time": "2021-06-25T10:02:24.038530",
     "exception": false,
     "start_time": "2021-06-25T10:02:23.982411",
     "status": "completed"
    },
    "tags": []
   },
   "source": [
    "Ci sono campioni con peso 0, eliminiamo"
   ]
  },
  {
   "cell_type": "code",
   "execution_count": null,
   "id": "reported-corrections",
   "metadata": {
    "execution": {
     "iopub.execute_input": "2021-06-25T10:02:24.156219Z",
     "iopub.status.busy": "2021-06-25T10:02:24.155461Z",
     "iopub.status.idle": "2021-06-25T10:02:24.159196Z",
     "shell.execute_reply": "2021-06-25T10:02:24.158670Z",
     "shell.execute_reply.started": "2021-06-25T09:58:40.413662Z"
    },
    "papermill": {
     "duration": 0.064226,
     "end_time": "2021-06-25T10:02:24.159335",
     "exception": false,
     "start_time": "2021-06-25T10:02:24.095109",
     "status": "completed"
    },
    "tags": []
   },
   "outputs": [],
   "source": [
    "# controllo che le features siano scritte correttamente (spazi, ...)\n",
    "fish.columns"
   ]
  },
  {
   "cell_type": "code",
   "execution_count": null,
   "id": "intermediate-restriction",
   "metadata": {
    "execution": {
     "iopub.execute_input": "2021-06-25T10:02:24.276077Z",
     "iopub.status.busy": "2021-06-25T10:02:24.275402Z",
     "iopub.status.idle": "2021-06-25T10:02:24.296893Z",
     "shell.execute_reply": "2021-06-25T10:02:24.296246Z",
     "shell.execute_reply.started": "2021-06-25T09:58:40.420885Z"
    },
    "papermill": {
     "duration": 0.081969,
     "end_time": "2021-06-25T10:02:24.297048",
     "exception": false,
     "start_time": "2021-06-25T10:02:24.215079",
     "status": "completed"
    },
    "tags": []
   },
   "outputs": [],
   "source": [
    "fish = fish.loc[fish.Weight!=0,:].copy()"
   ]
  },
  {
   "cell_type": "code",
   "execution_count": null,
   "id": "established-palace",
   "metadata": {
    "execution": {
     "iopub.execute_input": "2021-06-25T10:02:24.417393Z",
     "iopub.status.busy": "2021-06-25T10:02:24.416555Z",
     "iopub.status.idle": "2021-06-25T10:02:24.419509Z",
     "shell.execute_reply": "2021-06-25T10:02:24.419997Z",
     "shell.execute_reply.started": "2021-06-25T09:58:40.448030Z"
    },
    "papermill": {
     "duration": 0.066667,
     "end_time": "2021-06-25T10:02:24.420167",
     "exception": false,
     "start_time": "2021-06-25T10:02:24.353500",
     "status": "completed"
    },
    "tags": []
   },
   "outputs": [],
   "source": [
    "# controllo missing\n",
    "fish.isna().sum()"
   ]
  },
  {
   "cell_type": "markdown",
   "id": "hearing-summit",
   "metadata": {
    "papermill": {
     "duration": 0.055705,
     "end_time": "2021-06-25T10:02:24.531701",
     "exception": false,
     "start_time": "2021-06-25T10:02:24.475996",
     "status": "completed"
    },
    "tags": []
   },
   "source": [
    "**AGGIORNAMENTO:** Le variabili Length sono collineari, tengo solo la L3, la coda può avere un peso nella regressione di casi particolari (non sono esperto di pesci). Lascio nella nota la prima versione del commento.\n",
    "\n",
    "> Le variabili Length sono collineari, tengo solo la L2 perchè dovrebbe essere la mediana. Se tenessi tutte e tre avrei ottimi risultati in train - validation ma pessimi in test. **Overfitting**."
   ]
  },
  {
   "cell_type": "code",
   "execution_count": null,
   "id": "second-indication",
   "metadata": {
    "execution": {
     "iopub.execute_input": "2021-06-25T10:02:24.646657Z",
     "iopub.status.busy": "2021-06-25T10:02:24.645939Z",
     "iopub.status.idle": "2021-06-25T10:02:24.652129Z",
     "shell.execute_reply": "2021-06-25T10:02:24.651506Z",
     "shell.execute_reply.started": "2021-06-25T09:58:40.457558Z"
    },
    "papermill": {
     "duration": 0.064888,
     "end_time": "2021-06-25T10:02:24.652287",
     "exception": false,
     "start_time": "2021-06-25T10:02:24.587399",
     "status": "completed"
    },
    "tags": []
   },
   "outputs": [],
   "source": [
    "fish.drop([\"Length1\", \"Length2\"], axis=1, inplace=True)"
   ]
  },
  {
   "cell_type": "markdown",
   "id": "handmade-extreme",
   "metadata": {
    "papermill": {
     "duration": 0.056811,
     "end_time": "2021-06-25T10:02:24.764984",
     "exception": false,
     "start_time": "2021-06-25T10:02:24.708173",
     "status": "completed"
    },
    "tags": []
   },
   "source": [
    "## Analisi visuale"
   ]
  },
  {
   "cell_type": "code",
   "execution_count": null,
   "id": "qualified-administrator",
   "metadata": {
    "execution": {
     "iopub.execute_input": "2021-06-25T10:02:24.917058Z",
     "iopub.status.busy": "2021-06-25T10:02:24.916242Z",
     "iopub.status.idle": "2021-06-25T10:02:25.316603Z",
     "shell.execute_reply": "2021-06-25T10:02:25.317068Z",
     "shell.execute_reply.started": "2021-06-25T09:58:40.466616Z"
    },
    "papermill": {
     "duration": 0.473622,
     "end_time": "2021-06-25T10:02:25.317257",
     "exception": false,
     "start_time": "2021-06-25T10:02:24.843635",
     "status": "completed"
    },
    "tags": []
   },
   "outputs": [],
   "source": [
    "plt.figure(figsize=(18,10))\n",
    "for s in fish.Species.unique():\n",
    "    l = fish.loc[fish.Species==s, \"Length3\"]\n",
    "    h = fish.loc[fish.Species==s, \"Height\"]\n",
    "    plt.scatter(x=l, y=h, marker=\"o\")\n",
    "plt.legend(fish.Species.unique())\n",
    "plt.show()"
   ]
  },
  {
   "cell_type": "code",
   "execution_count": null,
   "id": "faced-affiliation",
   "metadata": {
    "execution": {
     "iopub.execute_input": "2021-06-25T10:02:25.458941Z",
     "iopub.status.busy": "2021-06-25T10:02:25.454405Z",
     "iopub.status.idle": "2021-06-25T10:02:25.797710Z",
     "shell.execute_reply": "2021-06-25T10:02:25.798215Z",
     "shell.execute_reply.started": "2021-06-25T09:58:40.900086Z"
    },
    "papermill": {
     "duration": 0.42354,
     "end_time": "2021-06-25T10:02:25.798400",
     "exception": false,
     "start_time": "2021-06-25T10:02:25.374860",
     "status": "completed"
    },
    "tags": []
   },
   "outputs": [],
   "source": [
    "plt.figure(figsize=(18,10))\n",
    "for s in fish.Species.unique():\n",
    "    l = fish.loc[fish.Species==s, \"Length3\"]\n",
    "    h = fish.loc[fish.Species==s, \"Width\"]\n",
    "    plt.scatter(x=l, y=h, marker=\"o\")\n",
    "plt.legend(fish.Species.unique())\n",
    "plt.show()"
   ]
  },
  {
   "cell_type": "code",
   "execution_count": null,
   "id": "provincial-runner",
   "metadata": {
    "execution": {
     "iopub.execute_input": "2021-06-25T10:02:25.942628Z",
     "iopub.status.busy": "2021-06-25T10:02:25.941960Z",
     "iopub.status.idle": "2021-06-25T10:02:26.277410Z",
     "shell.execute_reply": "2021-06-25T10:02:26.277924Z",
     "shell.execute_reply.started": "2021-06-25T09:58:41.280848Z"
    },
    "papermill": {
     "duration": 0.421378,
     "end_time": "2021-06-25T10:02:26.278098",
     "exception": false,
     "start_time": "2021-06-25T10:02:25.856720",
     "status": "completed"
    },
    "tags": []
   },
   "outputs": [],
   "source": [
    "plt.figure(figsize=(18,10))\n",
    "for s in fish.Species.unique():\n",
    "    l = fish.loc[fish.Species==s, \"Width\"]\n",
    "    h = fish.loc[fish.Species==s, \"Height\"]\n",
    "    plt.scatter(x=l, y=h, marker=\"o\")\n",
    "plt.legend(fish.Species.unique())\n",
    "plt.show()"
   ]
  },
  {
   "cell_type": "markdown",
   "id": "applicable-italy",
   "metadata": {
    "papermill": {
     "duration": 0.058946,
     "end_time": "2021-06-25T10:02:26.396805",
     "exception": false,
     "start_time": "2021-06-25T10:02:26.337859",
     "status": "completed"
    },
    "tags": []
   },
   "source": [
    "Chiaramente le tre variabili numeriche sono correlate, la specie è una discriminante.\n",
    "\n",
    "Conto le occorrenze per specie, sono distribuite abbastanza uniformemente nel dataset."
   ]
  },
  {
   "cell_type": "code",
   "execution_count": null,
   "id": "going-kennedy",
   "metadata": {
    "execution": {
     "iopub.execute_input": "2021-06-25T10:02:26.524815Z",
     "iopub.status.busy": "2021-06-25T10:02:26.523798Z",
     "iopub.status.idle": "2021-06-25T10:02:26.527853Z",
     "shell.execute_reply": "2021-06-25T10:02:26.528279Z",
     "shell.execute_reply.started": "2021-06-25T09:58:41.659770Z"
    },
    "papermill": {
     "duration": 0.07199,
     "end_time": "2021-06-25T10:02:26.528466",
     "exception": false,
     "start_time": "2021-06-25T10:02:26.456476",
     "status": "completed"
    },
    "tags": []
   },
   "outputs": [],
   "source": [
    "fish.Species.value_counts()"
   ]
  },
  {
   "cell_type": "code",
   "execution_count": null,
   "id": "missing-contemporary",
   "metadata": {
    "execution": {
     "iopub.execute_input": "2021-06-25T10:02:26.656111Z",
     "iopub.status.busy": "2021-06-25T10:02:26.655314Z",
     "iopub.status.idle": "2021-06-25T10:02:26.838408Z",
     "shell.execute_reply": "2021-06-25T10:02:26.838942Z",
     "shell.execute_reply.started": "2021-06-25T09:58:41.670717Z"
    },
    "papermill": {
     "duration": 0.250027,
     "end_time": "2021-06-25T10:02:26.839123",
     "exception": false,
     "start_time": "2021-06-25T10:02:26.589096",
     "status": "completed"
    },
    "tags": []
   },
   "outputs": [],
   "source": [
    "plt.figure(figsize=(18,10))\n",
    "fish.Species.hist()\n",
    "plt.show()"
   ]
  },
  {
   "cell_type": "markdown",
   "id": "tropical-celtic",
   "metadata": {
    "papermill": {
     "duration": 0.061266,
     "end_time": "2021-06-25T10:02:26.961446",
     "exception": false,
     "start_time": "2021-06-25T10:02:26.900180",
     "status": "completed"
    },
    "tags": []
   },
   "source": [
    "## Train - Validation split\n",
    "\n",
    "Uso il campionamento stratificato sulla specie."
   ]
  },
  {
   "cell_type": "code",
   "execution_count": null,
   "id": "comic-signal",
   "metadata": {
    "execution": {
     "iopub.execute_input": "2021-06-25T10:02:27.091045Z",
     "iopub.status.busy": "2021-06-25T10:02:27.090366Z",
     "iopub.status.idle": "2021-06-25T10:02:27.093696Z",
     "shell.execute_reply": "2021-06-25T10:02:27.093111Z",
     "shell.execute_reply.started": "2021-06-25T09:58:41.867536Z"
    },
    "papermill": {
     "duration": 0.071241,
     "end_time": "2021-06-25T10:02:27.093843",
     "exception": false,
     "start_time": "2021-06-25T10:02:27.022602",
     "status": "completed"
    },
    "tags": []
   },
   "outputs": [],
   "source": [
    "X = fish.drop([\"Weight\"], axis=1).copy()\n",
    "y= fish[\"Weight\"]"
   ]
  },
  {
   "cell_type": "code",
   "execution_count": null,
   "id": "boring-diamond",
   "metadata": {
    "execution": {
     "iopub.execute_input": "2021-06-25T10:02:27.221764Z",
     "iopub.status.busy": "2021-06-25T10:02:27.220992Z",
     "iopub.status.idle": "2021-06-25T10:02:28.219277Z",
     "shell.execute_reply": "2021-06-25T10:02:28.218324Z",
     "shell.execute_reply.started": "2021-06-25T09:58:41.875366Z"
    },
    "papermill": {
     "duration": 1.0643,
     "end_time": "2021-06-25T10:02:28.219442",
     "exception": false,
     "start_time": "2021-06-25T10:02:27.155142",
     "status": "completed"
    },
    "tags": []
   },
   "outputs": [],
   "source": [
    "from sklearn.model_selection import train_test_split"
   ]
  },
  {
   "cell_type": "code",
   "execution_count": null,
   "id": "short-daisy",
   "metadata": {
    "execution": {
     "iopub.execute_input": "2021-06-25T10:02:28.351041Z",
     "iopub.status.busy": "2021-06-25T10:02:28.350412Z",
     "iopub.status.idle": "2021-06-25T10:02:28.353026Z",
     "shell.execute_reply": "2021-06-25T10:02:28.353519Z",
     "shell.execute_reply.started": "2021-06-25T09:58:42.935225Z"
    },
    "papermill": {
     "duration": 0.072619,
     "end_time": "2021-06-25T10:02:28.353691",
     "exception": false,
     "start_time": "2021-06-25T10:02:28.281072",
     "status": "completed"
    },
    "tags": []
   },
   "outputs": [],
   "source": [
    "X_train, X_val, y_train, y_val = train_test_split(X, y, test_size=0.2, random_state=42, stratify=X.Species)"
   ]
  },
  {
   "cell_type": "markdown",
   "id": "demanding-chess",
   "metadata": {
    "papermill": {
     "duration": 0.060585,
     "end_time": "2021-06-25T10:02:28.475570",
     "exception": false,
     "start_time": "2021-06-25T10:02:28.414985",
     "status": "completed"
    },
    "tags": []
   },
   "source": [
    "## Preprocessing\n",
    "Per i valori numerici uso *RobustScaler*, basato sulla distanza interquartile perchè più robusto ad eventuali valori anomali."
   ]
  },
  {
   "cell_type": "code",
   "execution_count": null,
   "id": "lonely-provider",
   "metadata": {
    "execution": {
     "iopub.execute_input": "2021-06-25T10:02:28.600645Z",
     "iopub.status.busy": "2021-06-25T10:02:28.599987Z",
     "iopub.status.idle": "2021-06-25T10:02:28.604443Z",
     "shell.execute_reply": "2021-06-25T10:02:28.603917Z",
     "shell.execute_reply.started": "2021-06-25T09:58:42.944999Z"
    },
    "papermill": {
     "duration": 0.067933,
     "end_time": "2021-06-25T10:02:28.604601",
     "exception": false,
     "start_time": "2021-06-25T10:02:28.536668",
     "status": "completed"
    },
    "tags": []
   },
   "outputs": [],
   "source": [
    "from sklearn.preprocessing import RobustScaler\n",
    "from sklearn.preprocessing import OneHotEncoder"
   ]
  },
  {
   "cell_type": "code",
   "execution_count": null,
   "id": "clear-nothing",
   "metadata": {
    "execution": {
     "iopub.execute_input": "2021-06-25T10:02:28.735055Z",
     "iopub.status.busy": "2021-06-25T10:02:28.734369Z",
     "iopub.status.idle": "2021-06-25T10:02:28.741557Z",
     "shell.execute_reply": "2021-06-25T10:02:28.742008Z",
     "shell.execute_reply.started": "2021-06-25T09:58:42.955491Z"
    },
    "papermill": {
     "duration": 0.075987,
     "end_time": "2021-06-25T10:02:28.742187",
     "exception": false,
     "start_time": "2021-06-25T10:02:28.666200",
     "status": "completed"
    },
    "tags": []
   },
   "outputs": [],
   "source": [
    "scaler = RobustScaler()\n",
    "numeric_df = scaler.fit_transform(X_train.iloc[:,:3])\n",
    "numeric_val = scaler.transform(X_val.iloc[:,:3])"
   ]
  },
  {
   "cell_type": "code",
   "execution_count": null,
   "id": "integral-bottom",
   "metadata": {
    "execution": {
     "iopub.execute_input": "2021-06-25T10:02:28.868911Z",
     "iopub.status.busy": "2021-06-25T10:02:28.868274Z",
     "iopub.status.idle": "2021-06-25T10:02:28.875590Z",
     "shell.execute_reply": "2021-06-25T10:02:28.876034Z",
     "shell.execute_reply.started": "2021-06-25T09:58:42.972851Z"
    },
    "papermill": {
     "duration": 0.072079,
     "end_time": "2021-06-25T10:02:28.876220",
     "exception": false,
     "start_time": "2021-06-25T10:02:28.804141",
     "status": "completed"
    },
    "tags": []
   },
   "outputs": [],
   "source": [
    "encoder = OneHotEncoder(sparse=False, handle_unknown=\"ignore\")\n",
    "cat_df = encoder.fit_transform(X_train[[\"Species\"]])\n",
    "cat_val = encoder.transform(X_val[[\"Species\"]])"
   ]
  },
  {
   "cell_type": "markdown",
   "id": "suspected-integral",
   "metadata": {
    "papermill": {
     "duration": 0.060617,
     "end_time": "2021-06-25T10:02:28.998336",
     "exception": false,
     "start_time": "2021-06-25T10:02:28.937719",
     "status": "completed"
    },
    "tags": []
   },
   "source": [
    "Visto che sicuramente le tre componenti numeriche sono correlate voglio vedere in che relazione sono con il peso. Applico una PCA e tengo solo la prima componente principale per fare lo scatterplot. Potrebbe essere rinominata *Stazza* perchè riassume le tre dimensioni."
   ]
  },
  {
   "cell_type": "code",
   "execution_count": null,
   "id": "coupled-croatia",
   "metadata": {
    "execution": {
     "iopub.execute_input": "2021-06-25T10:02:29.124277Z",
     "iopub.status.busy": "2021-06-25T10:02:29.123366Z",
     "iopub.status.idle": "2021-06-25T10:02:29.254552Z",
     "shell.execute_reply": "2021-06-25T10:02:29.253916Z",
     "shell.execute_reply.started": "2021-06-25T09:58:42.982667Z"
    },
    "papermill": {
     "duration": 0.195076,
     "end_time": "2021-06-25T10:02:29.254692",
     "exception": false,
     "start_time": "2021-06-25T10:02:29.059616",
     "status": "completed"
    },
    "tags": []
   },
   "outputs": [],
   "source": [
    "from sklearn.decomposition import PCA\n",
    "pca = PCA(n_components=1)\n",
    "x_pca = pca.fit_transform(numeric_df)"
   ]
  },
  {
   "cell_type": "code",
   "execution_count": null,
   "id": "silent-armor",
   "metadata": {
    "execution": {
     "iopub.execute_input": "2021-06-25T10:02:29.515906Z",
     "iopub.status.busy": "2021-06-25T10:02:29.507134Z",
     "iopub.status.idle": "2021-06-25T10:02:29.661733Z",
     "shell.execute_reply": "2021-06-25T10:02:29.661158Z",
     "shell.execute_reply.started": "2021-06-25T09:58:43.126808Z"
    },
    "papermill": {
     "duration": 0.346097,
     "end_time": "2021-06-25T10:02:29.661874",
     "exception": false,
     "start_time": "2021-06-25T10:02:29.315777",
     "status": "completed"
    },
    "tags": []
   },
   "outputs": [],
   "source": [
    "plt.figure(figsize=(18,10))\n",
    "plt.scatter(x_pca, y_train)\n",
    "plt.show()"
   ]
  },
  {
   "cell_type": "markdown",
   "id": "critical-marine",
   "metadata": {
    "papermill": {
     "duration": 0.063045,
     "end_time": "2021-06-25T10:02:29.786174",
     "exception": false,
     "start_time": "2021-06-25T10:02:29.723129",
     "status": "completed"
    },
    "tags": []
   },
   "source": [
    "Il plot mi aiuta a scegliere il grado del polinomio della mia regressione, come si vede la relazione non è lineare ma di grado 2. Potrei usara un regressione ad alberi ma preferisco utilizzare un modello parametrico visto che i modelli ad albero restituiscono la media dei valori nel nodo avrei una funzione *a gradini* mentre qui la relazione è abbastanza visibile."
   ]
  },
  {
   "cell_type": "markdown",
   "id": "alert-carnival",
   "metadata": {
    "papermill": {
     "duration": 0.062055,
     "end_time": "2021-06-25T10:02:29.911490",
     "exception": false,
     "start_time": "2021-06-25T10:02:29.849435",
     "status": "completed"
    },
    "tags": []
   },
   "source": [
    "## Interpretable A. I.\n",
    "\n",
    "I modelli glassbox sono progettati per essere interpretabili, ne sono un esempio i modelli parametrici (come la regressione lineare, polinomiale e logistica dove è possibile interpretare i beta), i GAMs, le regole associative e il KNN.\n",
    "In questo notebook vedremo alcuni di questi esempi e poi passeremo a qualche esempio di eXplainable A.I. con la *Permutation Importance* e ***SHAP***.\n",
    "\n",
    "<br>\n",
    "\n",
    "![galssbox](https://www.forniturealberghiereonline.it/images/cucina-a-vista-ristorante-con-sgabelli.jpg)\n",
    "\n",
    "<br>\n",
    "\n",
    "### Linear Model\n",
    "\n",
    "Il primo esempio riguarda la regressione lineare, è il modello più semplice in statistica e ML ma tanti dei modelli più usati ne sono una sua estensione.\n",
    "La versione più semplice della regressione lineare è predirre una variabile quantitativa continua *Y* in base ai valori della variabile indipendente *X*, il modello sarà $Y \\approx \\beta_0 + \\beta_1 X$.\n",
    "\n",
    "La regressione lineare non fa altro che calcolare un valore stimato dei coefficienti β per trovare una retta che minimizzi l'errore $\\hat{y} = \\hat{\\beta_0} + \\hat{\\beta_1}x$.\n",
    "\n",
    "#### Wrong Model: Linear Regression"
   ]
  },
  {
   "cell_type": "code",
   "execution_count": null,
   "id": "5bba5e93",
   "metadata": {},
   "outputs": [],
   "source": [
    "from sklearn.linear_model import LinearRegression\n",
    "from sklearn.metrics import mean_squared_error"
   ]
  },
  {
   "cell_type": "code",
   "execution_count": null,
   "id": "cc65336f",
   "metadata": {},
   "outputs": [],
   "source": [
    "X_train_lr = np.hstack((numeric_df, cat_df))\n",
    "X_val_lr = np.hstack((numeric_val, cat_val))"
   ]
  },
  {
   "cell_type": "code",
   "execution_count": null,
   "id": "2e754f5e",
   "metadata": {},
   "outputs": [],
   "source": [
    "lr = LinearRegression()\n",
    "lr.fit(X_train_lr, y_train)\n",
    "print(\"R2 on train: \", lr.score(X_train_lr, y_train))\n",
    "print(\"R2 on validation: \", lr.score(X_val_lr, y_val))"
   ]
  },
  {
   "cell_type": "markdown",
   "id": "473874ce",
   "metadata": {},
   "source": [
    "Vediamo i coefficienti, $\\beta_0$ è l'intercetta, questo è il valore che avrà la nostra previsione $\\hat{y}$ se tutti i regressori sono pari a 0."
   ]
  },
  {
   "cell_type": "code",
   "execution_count": null,
   "id": "c237dc59",
   "metadata": {},
   "outputs": [],
   "source": [
    "lr.intercept_"
   ]
  },
  {
   "cell_type": "markdown",
   "id": "532cf270",
   "metadata": {},
   "source": [
    "I coefficienti di $\\beta_i$ rappresentano l'incremento (o il decremento) del peso del pesce per ogni unità dei nostri regressori. Ad esempio per ogni unità in più in lunghezza il peso del pesce sale di 643.68."
   ]
  },
  {
   "cell_type": "code",
   "execution_count": null,
   "id": "b95a4837",
   "metadata": {},
   "outputs": [],
   "source": [
    "lr.coef_"
   ]
  },
  {
   "cell_type": "code",
   "execution_count": null,
   "id": "522b2e15",
   "metadata": {},
   "outputs": [],
   "source": [
    "yhat_lr=lr.predict(X_val_lr)\n",
    "print(\"MSE on Validation: \", mean_squared_error(y_val, yhat_lr))\n",
    "print(\"RMSE on Validation: \", np.sqrt(mean_squared_error(y_val, yhat_lr)))"
   ]
  },
  {
   "cell_type": "code",
   "execution_count": null,
   "id": "cf46d85a",
   "metadata": {},
   "outputs": [],
   "source": [
    "yhat_train = lr.predict(X_train_lr)\n",
    "plt.figure(figsize=(18,10))\n",
    "plt.scatter(x_pca, y_train)\n",
    "plt.scatter(x_pca, yhat_train)\n",
    "plt.legend([\"yreal\", \"yhat\"])\n",
    "plt.title(\"Grafico Previsione\")\n",
    "plt.show()"
   ]
  },
  {
   "cell_type": "markdown",
   "id": "ba0dfaa6",
   "metadata": {},
   "source": [
    "Dal grafico vediamo chiaramente che non possiamo usare la regressione lineare per variabili che hanno un rapporto non lineare, costruiamo quindi la nostra baseline usando una regressione polinomiale.\n",
    "\n",
    "#### Baseline Model: Polynomial Regression\n",
    "\n",
    "Per utilizzare la regressione polinomiale in scikit-learn dobbiamo costruire le features come la combinazione di tutti i polinomi minori e uguali al grado scelto. Nel nostro caso il grado del polinomio è pari a 2."
   ]
  },
  {
   "cell_type": "code",
   "execution_count": null,
   "id": "sufficient-feeling",
   "metadata": {
    "execution": {
     "iopub.execute_input": "2021-06-25T10:02:30.041031Z",
     "iopub.status.busy": "2021-06-25T10:02:30.040052Z",
     "iopub.status.idle": "2021-06-25T10:02:30.042908Z",
     "shell.execute_reply": "2021-06-25T10:02:30.043358Z",
     "shell.execute_reply.started": "2021-06-25T09:58:43.312610Z"
    },
    "papermill": {
     "duration": 0.069842,
     "end_time": "2021-06-25T10:02:30.043534",
     "exception": false,
     "start_time": "2021-06-25T10:02:29.973692",
     "status": "completed"
    },
    "tags": []
   },
   "outputs": [],
   "source": [
    "from sklearn.preprocessing import PolynomialFeatures\n",
    "poly = PolynomialFeatures(2)\n"
   ]
  },
  {
   "cell_type": "code",
   "execution_count": null,
   "id": "comfortable-industry",
   "metadata": {
    "execution": {
     "iopub.execute_input": "2021-06-25T10:02:30.302822Z",
     "iopub.status.busy": "2021-06-25T10:02:30.301941Z",
     "iopub.status.idle": "2021-06-25T10:02:30.305231Z",
     "shell.execute_reply": "2021-06-25T10:02:30.304644Z",
     "shell.execute_reply.started": "2021-06-25T09:58:43.329631Z"
    },
    "papermill": {
     "duration": 0.069683,
     "end_time": "2021-06-25T10:02:30.305378",
     "exception": false,
     "start_time": "2021-06-25T10:02:30.235695",
     "status": "completed"
    },
    "tags": []
   },
   "outputs": [],
   "source": [
    "poly_train=poly.fit_transform(numeric_df)\n",
    "poly_val = poly.fit_transform(numeric_val)"
   ]
  },
  {
   "cell_type": "code",
   "execution_count": null,
   "id": "reflected-steering",
   "metadata": {
    "execution": {
     "iopub.execute_input": "2021-06-25T10:02:30.433206Z",
     "iopub.status.busy": "2021-06-25T10:02:30.432578Z",
     "iopub.status.idle": "2021-06-25T10:02:30.435432Z",
     "shell.execute_reply": "2021-06-25T10:02:30.434893Z",
     "shell.execute_reply.started": "2021-06-25T09:58:43.341085Z"
    },
    "papermill": {
     "duration": 0.068981,
     "end_time": "2021-06-25T10:02:30.435589",
     "exception": false,
     "start_time": "2021-06-25T10:02:30.366608",
     "status": "completed"
    },
    "tags": []
   },
   "outputs": [],
   "source": [
    "X_train_new = np.hstack((poly_train, cat_df))\n",
    "X_val_new = np.hstack((poly_val, cat_val))"
   ]
  },
  {
   "cell_type": "code",
   "execution_count": null,
   "id": "comprehensive-compound",
   "metadata": {
    "execution": {
     "iopub.execute_input": "2021-06-25T10:02:30.565753Z",
     "iopub.status.busy": "2021-06-25T10:02:30.564867Z",
     "iopub.status.idle": "2021-06-25T10:02:30.567872Z",
     "shell.execute_reply": "2021-06-25T10:02:30.567324Z",
     "shell.execute_reply.started": "2021-06-25T09:58:43.352823Z"
    },
    "papermill": {
     "duration": 0.070477,
     "end_time": "2021-06-25T10:02:30.568021",
     "exception": false,
     "start_time": "2021-06-25T10:02:30.497544",
     "status": "completed"
    },
    "tags": []
   },
   "outputs": [],
   "source": [
    "PolyR = LinearRegression()"
   ]
  },
  {
   "cell_type": "code",
   "execution_count": null,
   "id": "hybrid-visibility",
   "metadata": {
    "execution": {
     "iopub.execute_input": "2021-06-25T10:02:30.701537Z",
     "iopub.status.busy": "2021-06-25T10:02:30.700884Z",
     "iopub.status.idle": "2021-06-25T10:02:30.707276Z",
     "shell.execute_reply": "2021-06-25T10:02:30.706505Z",
     "shell.execute_reply.started": "2021-06-25T09:58:43.364931Z"
    },
    "papermill": {
     "duration": 0.077712,
     "end_time": "2021-06-25T10:02:30.707496",
     "exception": false,
     "start_time": "2021-06-25T10:02:30.629784",
     "status": "completed"
    },
    "tags": []
   },
   "outputs": [],
   "source": [
    "PolyR.fit(X_train_new, y_train)\n",
    "print(\"R2 on train: \", PolyR.score(X_train_new, y_train))\n",
    "print(\"R2 on validation: \", PolyR.score(X_val_new, y_val))"
   ]
  },
  {
   "cell_type": "code",
   "execution_count": null,
   "id": "finnish-appliance",
   "metadata": {
    "execution": {
     "iopub.execute_input": "2021-06-25T10:02:30.837426Z",
     "iopub.status.busy": "2021-06-25T10:02:30.836734Z",
     "iopub.status.idle": "2021-06-25T10:02:30.839775Z",
     "shell.execute_reply": "2021-06-25T10:02:30.839147Z",
     "shell.execute_reply.started": "2021-06-25T09:58:43.382988Z"
    },
    "papermill": {
     "duration": 0.069794,
     "end_time": "2021-06-25T10:02:30.839924",
     "exception": false,
     "start_time": "2021-06-25T10:02:30.770130",
     "status": "completed"
    },
    "tags": []
   },
   "outputs": [],
   "source": [
    "yhat=PolyR.predict(X_val_new)"
   ]
  },
  {
   "cell_type": "code",
   "execution_count": null,
   "id": "willing-wrist",
   "metadata": {
    "execution": {
     "iopub.execute_input": "2021-06-25T10:02:30.971037Z",
     "iopub.status.busy": "2021-06-25T10:02:30.970177Z",
     "iopub.status.idle": "2021-06-25T10:02:30.974034Z",
     "shell.execute_reply": "2021-06-25T10:02:30.974500Z",
     "shell.execute_reply.started": "2021-06-25T09:58:43.389231Z"
    },
    "papermill": {
     "duration": 0.072711,
     "end_time": "2021-06-25T10:02:30.974676",
     "exception": false,
     "start_time": "2021-06-25T10:02:30.901965",
     "status": "completed"
    },
    "tags": []
   },
   "outputs": [],
   "source": [
    "print(\"MSE on Validation: \", mean_squared_error(y_val, yhat))\n",
    "print(\"RMSE on Validation: \", np.sqrt(mean_squared_error(y_val, yhat)))"
   ]
  },
  {
   "cell_type": "code",
   "execution_count": null,
   "id": "b1475334",
   "metadata": {},
   "outputs": [],
   "source": [
    "print(\"Intercetta: \", PolyR.intercept_, \"\\n\")\n",
    "print(\"Coefficienti: \", PolyR.coef_)"
   ]
  },
  {
   "cell_type": "code",
   "execution_count": null,
   "id": "subjective-consumption",
   "metadata": {
    "execution": {
     "iopub.execute_input": "2021-06-25T10:02:31.157925Z",
     "iopub.status.busy": "2021-06-25T10:02:31.132791Z",
     "iopub.status.idle": "2021-06-25T10:02:31.336886Z",
     "shell.execute_reply": "2021-06-25T10:02:31.337363Z",
     "shell.execute_reply.started": "2021-06-25T09:58:43.403045Z"
    },
    "papermill": {
     "duration": 0.299654,
     "end_time": "2021-06-25T10:02:31.337545",
     "exception": false,
     "start_time": "2021-06-25T10:02:31.037891",
     "status": "completed"
    },
    "tags": []
   },
   "outputs": [],
   "source": [
    "yhat_train = PolyR.predict(X_train_new)\n",
    "plt.figure(figsize=(18,10))\n",
    "plt.scatter(x_pca, y_train)\n",
    "plt.scatter(x_pca, yhat_train)\n",
    "plt.legend([\"yreal\", \"yhat\"])\n",
    "plt.show()"
   ]
  },
  {
   "cell_type": "markdown",
   "id": "bigger-whale",
   "metadata": {
    "papermill": {
     "duration": 0.063239,
     "end_time": "2021-06-25T10:02:31.464723",
     "exception": false,
     "start_time": "2021-06-25T10:02:31.401484",
     "status": "completed"
    },
    "tags": []
   },
   "source": [
    "### Regularization\n",
    "\n",
    "<br>\n",
    "\n",
    "![regularization](https://miro.medium.com/max/1400/1*nrWncnoJ4V_BkzEf1pd4MA.png)\n",
    "\n",
    "<br>\n",
    "\n",
    "La regolarizzazione è un metodo che inserisce un parametro nella calcolo della funzione di costo (i minimi quadrati) in modo da *\"ridurre\"* (shrink) la dimensione dei coefficienti e portarli verso lo zero e abbassare la varianza. Questo metodo migliora molto la prestazione dei modelli (non solo lineari).\n",
    "\n",
    "#### Ridge Regression\n",
    "\n",
    "La ridge regression usa la regolarizzaizone $L_2$, il paramtero aggiuntivo è $\\alpha \\sum_{i=1}^n \\beta_i ^2$. α è il parametro che regola l'effetto della regolarizzazione. Con questo metodo oltre a non esserci grosse differenze tra i coefficienti i meno importanti saranno molto vicini allo 0. Per saperne di più potete andare [qui](https://andreaprovino.it/ridge-regression/).\n",
    "\n",
    "Uso la versione *Cross-Validation* disponibile su scikit-learn per valutare i diversi valori di *alpha*.\n",
    "\n",
    "*N.B. Scegliere il giusto valore di $\\alpha$ non è semplice e può portare a modelli eccessivamente sparsi.*"
   ]
  },
  {
   "cell_type": "code",
   "execution_count": null,
   "id": "acceptable-adams",
   "metadata": {
    "execution": {
     "iopub.execute_input": "2021-06-25T10:02:31.596527Z",
     "iopub.status.busy": "2021-06-25T10:02:31.595822Z",
     "iopub.status.idle": "2021-06-25T10:02:31.598384Z",
     "shell.execute_reply": "2021-06-25T10:02:31.597762Z",
     "shell.execute_reply.started": "2021-06-25T09:58:43.652795Z"
    },
    "papermill": {
     "duration": 0.070323,
     "end_time": "2021-06-25T10:02:31.598522",
     "exception": false,
     "start_time": "2021-06-25T10:02:31.528199",
     "status": "completed"
    },
    "tags": []
   },
   "outputs": [],
   "source": [
    "from sklearn.model_selection import cross_validate\n",
    "from sklearn.linear_model import RidgeCV"
   ]
  },
  {
   "cell_type": "code",
   "execution_count": null,
   "id": "temporal-operator",
   "metadata": {
    "execution": {
     "iopub.execute_input": "2021-06-25T10:02:31.732015Z",
     "iopub.status.busy": "2021-06-25T10:02:31.731296Z",
     "iopub.status.idle": "2021-06-25T10:02:34.131856Z",
     "shell.execute_reply": "2021-06-25T10:02:34.130848Z",
     "shell.execute_reply.started": "2021-06-25T10:00:15.201168Z"
    },
    "papermill": {
     "duration": 2.469287,
     "end_time": "2021-06-25T10:02:34.132059",
     "exception": false,
     "start_time": "2021-06-25T10:02:31.662772",
     "status": "completed"
    },
    "tags": []
   },
   "outputs": [],
   "source": [
    "PolyRCV = RidgeCV(cv=10)\n",
    "cv_score = cross_validate(PolyRCV, X_train_new, y_train, cv = 10, n_jobs=-1, return_estimator=True, return_train_score=True)"
   ]
  },
  {
   "cell_type": "code",
   "execution_count": null,
   "id": "cleared-investing",
   "metadata": {
    "execution": {
     "iopub.execute_input": "2021-06-25T10:02:34.277992Z",
     "iopub.status.busy": "2021-06-25T10:02:34.277007Z",
     "iopub.status.idle": "2021-06-25T10:02:34.284825Z",
     "shell.execute_reply": "2021-06-25T10:02:34.285279Z",
     "shell.execute_reply.started": "2021-06-25T10:00:26.133941Z"
    },
    "papermill": {
     "duration": 0.075967,
     "end_time": "2021-06-25T10:02:34.285485",
     "exception": false,
     "start_time": "2021-06-25T10:02:34.209518",
     "status": "completed"
    },
    "tags": []
   },
   "outputs": [],
   "source": [
    "print(cv_score['train_score'].mean(), \"+-\", cv_score['train_score'].std())\n",
    "print(cv_score['test_score'].mean(), \"+-\", cv_score['test_score'].std())"
   ]
  },
  {
   "cell_type": "code",
   "execution_count": null,
   "id": "brave-paintball",
   "metadata": {
    "execution": {
     "iopub.execute_input": "2021-06-25T10:02:34.438977Z",
     "iopub.status.busy": "2021-06-25T10:02:34.430706Z",
     "iopub.status.idle": "2021-06-25T10:02:34.536024Z",
     "shell.execute_reply": "2021-06-25T10:02:34.537030Z",
     "shell.execute_reply.started": "2021-06-25T09:58:46.562216Z"
    },
    "papermill": {
     "duration": 0.187611,
     "end_time": "2021-06-25T10:02:34.537292",
     "exception": false,
     "start_time": "2021-06-25T10:02:34.349681",
     "status": "completed"
    },
    "tags": []
   },
   "outputs": [],
   "source": [
    "PolyRCV.fit(X_train_new, y_train)\n",
    "print(\"Parametro alpha per la regolarizzazione: \", PolyRCV.alpha_)\n",
    "print(\"R2 on train: \", PolyRCV.score(X_train_new, y_train))\n",
    "print(\"R2 on validation: \", PolyRCV.score(X_val_new, y_val))"
   ]
  },
  {
   "cell_type": "code",
   "execution_count": null,
   "id": "young-found",
   "metadata": {
    "execution": {
     "iopub.execute_input": "2021-06-25T10:02:34.721982Z",
     "iopub.status.busy": "2021-06-25T10:02:34.720970Z",
     "iopub.status.idle": "2021-06-25T10:02:34.727737Z",
     "shell.execute_reply": "2021-06-25T10:02:34.726878Z",
     "shell.execute_reply.started": "2021-06-25T09:58:46.689190Z"
    },
    "papermill": {
     "duration": 0.076622,
     "end_time": "2021-06-25T10:02:34.727929",
     "exception": false,
     "start_time": "2021-06-25T10:02:34.651307",
     "status": "completed"
    },
    "tags": []
   },
   "outputs": [],
   "source": [
    "yhatCV=PolyRCV.predict(X_val_new)\n",
    "print(\"MSE on Validation: \", mean_squared_error(y_val, yhatCV))\n",
    "print(\"RMSE on Validation: \", np.sqrt(mean_squared_error(y_val, yhatCV)))"
   ]
  },
  {
   "cell_type": "code",
   "execution_count": null,
   "id": "417fbf21",
   "metadata": {},
   "outputs": [],
   "source": [
    "print(\"Intercetta: \", PolyRCV.intercept_, \"\\n\")\n",
    "print(\"Coefficienti: \", PolyRCV.coef_)"
   ]
  },
  {
   "cell_type": "code",
   "execution_count": null,
   "id": "broken-damages",
   "metadata": {
    "execution": {
     "iopub.execute_input": "2021-06-25T10:02:34.894509Z",
     "iopub.status.busy": "2021-06-25T10:02:34.893799Z",
     "iopub.status.idle": "2021-06-25T10:02:35.105799Z",
     "shell.execute_reply": "2021-06-25T10:02:35.105125Z",
     "shell.execute_reply.started": "2021-06-25T09:58:46.708992Z"
    },
    "papermill": {
     "duration": 0.310463,
     "end_time": "2021-06-25T10:02:35.105943",
     "exception": false,
     "start_time": "2021-06-25T10:02:34.795480",
     "status": "completed"
    },
    "tags": []
   },
   "outputs": [],
   "source": [
    "yhat_trainCV = PolyRCV.predict(X_train_new)\n",
    "plt.figure(figsize=(18,10))\n",
    "plt.scatter(x_pca, y_train)\n",
    "plt.scatter(x_pca, yhat_trainCV)\n",
    "plt.legend([\"yreal\", \"yhat\"])\n",
    "plt.title(\"Ridge Regression\")\n",
    "plt.show()"
   ]
  },
  {
   "cell_type": "markdown",
   "id": "be9598ac",
   "metadata": {},
   "source": [
    "#### Lasso Regression\n",
    "\n",
    "Se abbiamo tante variabili, c'è multicollinearità, dobbiamo semplificare il modello, ... una scelta può essere la Lasso Regression.\n",
    "Questo modello applica una regolarizzaizone $L_1$ portando a zero i coefficienti delle variabili meno impattanti. Il parametro di regolarizzaizone è $\\alpha \\sum_{i=1}^n |\\beta_i|$."
   ]
  },
  {
   "cell_type": "code",
   "execution_count": null,
   "id": "411046dd",
   "metadata": {},
   "outputs": [],
   "source": [
    "from sklearn.linear_model import LassoCV"
   ]
  },
  {
   "cell_type": "code",
   "execution_count": null,
   "id": "e81da71f",
   "metadata": {},
   "outputs": [],
   "source": [
    "PolyLCV = LassoCV(cv=10)\n",
    "cv_score = cross_validate(PolyLCV, X_train_new, y_train, cv = 10, n_jobs=-1, return_estimator=True, return_train_score=True)"
   ]
  },
  {
   "cell_type": "code",
   "execution_count": null,
   "id": "6e19c6a8",
   "metadata": {},
   "outputs": [],
   "source": [
    "print(cv_score['train_score'].mean(), \"+-\", cv_score['train_score'].std())\n",
    "print(cv_score['test_score'].mean(), \"+-\", cv_score['test_score'].std())"
   ]
  },
  {
   "cell_type": "code",
   "execution_count": null,
   "id": "68099833",
   "metadata": {},
   "outputs": [],
   "source": [
    "PolyLCV.fit(X_train_new, y_train)\n",
    "print(\"Parametro alpha per la regolarizzazione: \", PolyLCV.alpha_)\n",
    "print(\"R2 on train: \", PolyLCV.score(X_train_new, y_train))\n",
    "print(\"R2 on validation: \", PolyLCV.score(X_val_new, y_val))"
   ]
  },
  {
   "cell_type": "code",
   "execution_count": null,
   "id": "755cac33",
   "metadata": {},
   "outputs": [],
   "source": [
    "yhatLCV=PolyLCV.predict(X_val_new)\n",
    "print(\"MSE on Validation: \", mean_squared_error(y_val, yhatLCV))\n",
    "print(\"RMSE on Validation: \", np.sqrt(mean_squared_error(y_val, yhatLCV)))"
   ]
  },
  {
   "cell_type": "code",
   "execution_count": null,
   "id": "03b9afb5",
   "metadata": {},
   "outputs": [],
   "source": [
    "print(\"Intercetta: \", PolyLCV.intercept_, \"\\n\")\n",
    "print(\"Coefficienti: \", PolyLCV.coef_)"
   ]
  },
  {
   "cell_type": "code",
   "execution_count": null,
   "id": "59bf6cfc",
   "metadata": {},
   "outputs": [],
   "source": [
    "yhat_trainCV = PolyLCV.predict(X_train_new)\n",
    "plt.figure(figsize=(18,10))\n",
    "plt.scatter(x_pca, y_train)\n",
    "plt.scatter(x_pca, yhat_trainCV)\n",
    "plt.legend([\"yreal\", \"yhat\"])\n",
    "plt.title(\"Lasso Regression\")\n",
    "plt.show()"
   ]
  },
  {
   "cell_type": "markdown",
   "id": "likely-resort",
   "metadata": {
    "papermill": {
     "duration": 0.066309,
     "end_time": "2021-06-25T10:02:35.239030",
     "exception": false,
     "start_time": "2021-06-25T10:02:35.172721",
     "status": "completed"
    },
    "tags": []
   },
   "source": [
    "### Confronto tra i modelli\n",
    "#### Analisi Visuale"
   ]
  },
  {
   "cell_type": "code",
   "execution_count": null,
   "id": "similar-gossip",
   "metadata": {
    "execution": {
     "iopub.execute_input": "2021-06-25T10:02:35.376857Z",
     "iopub.status.busy": "2021-06-25T10:02:35.375899Z",
     "iopub.status.idle": "2021-06-25T10:02:35.378752Z",
     "shell.execute_reply": "2021-06-25T10:02:35.379182Z",
     "shell.execute_reply.started": "2021-06-25T09:58:46.984988Z"
    },
    "papermill": {
     "duration": 0.074409,
     "end_time": "2021-06-25T10:02:35.379380",
     "exception": false,
     "start_time": "2021-06-25T10:02:35.304971",
     "status": "completed"
    },
    "tags": []
   },
   "outputs": [],
   "source": [
    "columns = poly.get_feature_names() + encoder.categories_[0].tolist()"
   ]
  },
  {
   "cell_type": "code",
   "execution_count": null,
   "id": "noted-promotion",
   "metadata": {
    "execution": {
     "iopub.execute_input": "2021-06-25T10:02:35.544828Z",
     "iopub.status.busy": "2021-06-25T10:02:35.542746Z",
     "iopub.status.idle": "2021-06-25T10:02:35.860853Z",
     "shell.execute_reply": "2021-06-25T10:02:35.860201Z",
     "shell.execute_reply.started": "2021-06-25T09:58:46.992084Z"
    },
    "papermill": {
     "duration": 0.415323,
     "end_time": "2021-06-25T10:02:35.861007",
     "exception": false,
     "start_time": "2021-06-25T10:02:35.445684",
     "status": "completed"
    },
    "tags": []
   },
   "outputs": [],
   "source": [
    "plt.figure(figsize=(18,10))\n",
    "plt.bar(columns, PolyR.coef_)\n",
    "plt.bar(columns, PolyRCV.coef_, align='edge', color = \"orange\")\n",
    "plt.bar(columns, PolyLCV.coef_, align='edge', color=\"green\")\n",
    "plt.legend([\"PolyRegression\", \"Ridge\", \"Lasso\"])\n",
    "plt.title(\"Polynomial Regression vs. Ridge vs. Lasso.\\n Differenze tra i coefficienti\")\n",
    "plt.show()"
   ]
  },
  {
   "cell_type": "code",
   "execution_count": null,
   "id": "73300d45",
   "metadata": {},
   "outputs": [],
   "source": [
    "plt.figure(figsize=(18,10))\n",
    "plt.bar(columns, PolyR.coef_)\n",
    "plt.bar(columns, PolyRCV.coef_, align='edge', color = \"orange\")\n",
    "plt.legend([\"PolyRegression\", \"Ridge\"])\n",
    "plt.title(\"Polynomial Regression vs. Ridge.\\n Differenze tra i coefficienti\")\n",
    "plt.show()"
   ]
  },
  {
   "cell_type": "code",
   "execution_count": null,
   "id": "006e1712",
   "metadata": {},
   "outputs": [],
   "source": [
    "plt.figure(figsize=(18,10))\n",
    "plt.bar(columns, PolyR.coef_)\n",
    "plt.bar(columns, PolyLCV.coef_, align='edge', color=\"green\")\n",
    "plt.legend([\"PolyRegression\", \"Lasso\"])\n",
    "plt.title(\"Polynomial Regression vs. Lasso.\\n Differenze tra i coefficienti\")\n",
    "plt.show()"
   ]
  },
  {
   "cell_type": "code",
   "execution_count": null,
   "id": "705f2f85",
   "metadata": {},
   "outputs": [],
   "source": [
    "plt.figure(figsize=(18,10))\n",
    "plt.bar(columns, PolyRCV.coef_, color =\"orange\")\n",
    "plt.bar(columns, PolyLCV.coef_, align='edge', color=\"green\")\n",
    "plt.legend([\"Ridge\", \"Lasso\"])\n",
    "plt.title(\"Ridge vs. Lasso.\\n Differenze tra i coefficienti\")\n",
    "plt.show()"
   ]
  },
  {
   "cell_type": "markdown",
   "id": "c1ef3512",
   "metadata": {},
   "source": [
    "##### Conclusioni\n",
    "Come abbiamo potuto vedere i modelli parametrici di cui i lineari ne sono l'esempio più famoso sono facili da interpretare anche per uno specialista di dominio. Altri modelli facilmente interpretabili sono il KNN e i Decision Tree (diventa più complesso quando l'albero fa da base a modelli di bagging o boosting), in generale i modelli basati su regole.\n",
    "\n",
    "## eXplainable A.I.\n",
    "\n",
    "L'AI spiegabile (eXplainable Artificial Intelligence, XAI) è un insieme di metodi e processi che consentono agli utenti di comprendere e considerare attendibili i risultati e l'output creati dagli algoritmi di machine learning. L'AI spiegabile viene utilizzata per descrivere un modello AI, il relativo impatto previsto ed i potenziali errori. Aiuta a caratterizzare la precisione, la correttezza, la trasparenza e i risultati del modello nel processo decisionale con tecnologia AI. L'AI spiegabile è fondamentale per un'organizzazione nello sviluppo della fiducia e della sicurezza quando vengono messi in produzione i modelli AI. Inoltre, l'AI spiegabile aiuta le organizzazioni ad adottare un approccio responsabile allo sviluppo AI.\n",
    "\n",
    "#### Support Vector Machine\n",
    "\n",
    "Le support vector machine sono dei modelli di apprendimento supervisionato associati ad algoritmi di apprendimento per la regressione e la classificazione. Un modello SVM è una rappresentazione degli esempi come punti nello spazio, mappati in modo tale che gli esempi appartenenti alle due diverse categorie siano chiaramente separati da uno spazio il più possibile ampio.\n",
    "\n",
    "<br>\n",
    "\n",
    "![svmr](https://miro.medium.com/max/1750/1*nrXHNqC_hqpyux7GUbtqAQ.png)\n",
    "\n",
    "<br>\n",
    "\n",
    "Nella regressione le SVM ci danno la flessibilità di scegliere quanto l'errore è accettabile e trovare un hyperpiano che rappresenti i dati. Per fare ciò la SVM si avvale della funzione kernel.\n",
    "\n",
    "*I metodi kernel si approcciano al problema mappando i dati in uno spazio di caratteristiche multidimensionale, dove ogni coordinata corrisponde a una caratteristica dei dati dell'elemento, trasformando i dati in un insieme di punti dello spazio euclideo. \n",
    "Poiché la mappatura può essere generale (per esempio, non necessariamente lineare), le relazioni trovate in questo modo sono di conseguenza molto generali. I metodi kernel si chiamano così per le funzioni kernel, che vengono usate per operare nello spazio delle caratteristiche senza calcolare le coordinate dei dati nello spazio, ma piuttosto calcolando il prodotto interno tra le immagini di tutte le coppie di dati nello spazio funzione.*\n",
    "\n",
    "Nel nostro caso useremo un kernel polinomiale di grado 2:\n",
    "* linear: $K(x,y) = x^Ty + c$\n",
    "* polynomial: $K(x,y) = (x^Ty + c)^d$\n",
    "* rbf: $K(x,y) = e^- \\frac{||x-y||^2}{2σ^2}$\n",
    "\n",
    "<br>\n",
    "\n",
    "![kernel](https://miro.medium.com/max/1400/1*mCwnu5kXot6buL7jeIafqQ.png)\n",
    "\n",
    "<br>"
   ]
  },
  {
   "cell_type": "code",
   "execution_count": null,
   "id": "8b4cb9e0",
   "metadata": {},
   "outputs": [],
   "source": [
    "from sklearn.svm import SVR\n",
    "from sklearn.model_selection import GridSearchCV"
   ]
  },
  {
   "cell_type": "code",
   "execution_count": null,
   "id": "ad4db650",
   "metadata": {},
   "outputs": [],
   "source": [
    "svr = GridSearchCV(SVR(kernel='poly',degree=2),\n",
    "                   param_grid={\"C\": [1e0, 1e1, 1e2, 1e3],\n",
    "                            \"coef0\": [0.0,1.0 ,1.5 ,1.8,2.0 ,2.5, 3]\n",
    "                               })"
   ]
  },
  {
   "cell_type": "code",
   "execution_count": null,
   "id": "019825fc",
   "metadata": {},
   "outputs": [],
   "source": [
    "svr.fit(X_train_new,y_train)\n",
    "print(svr.best_estimator_)\n",
    "svr.best_score_"
   ]
  },
  {
   "cell_type": "code",
   "execution_count": null,
   "id": "f90f851f",
   "metadata": {},
   "outputs": [],
   "source": [
    "print(\"R2 on train: \", svr.score(X_train_new, y_train))\n",
    "print(\"R2 on validation: \", svr.score(X_val_new, y_val))"
   ]
  },
  {
   "cell_type": "code",
   "execution_count": null,
   "id": "4d34d847",
   "metadata": {},
   "outputs": [],
   "source": [
    "yhatSVR=svr.predict(X_val_new)\n",
    "print(\"MSE on Validation: \", mean_squared_error(y_val, yhatSVR))\n",
    "print(\"RMSE on Validation: \", np.sqrt(mean_squared_error(y_val, yhatSVR)))"
   ]
  },
  {
   "cell_type": "code",
   "execution_count": null,
   "id": "2ae94beb",
   "metadata": {},
   "outputs": [],
   "source": [
    "yhat_trainCV = svr.predict(X_train_new)\n",
    "plt.figure(figsize=(18,10))\n",
    "plt.scatter(x_pca, y_train)\n",
    "plt.scatter(x_pca, yhat_trainCV)\n",
    "plt.legend([\"yreal\", \"yhat\"])\n",
    "plt.title(\"SVM Regression\")\n",
    "plt.show()"
   ]
  },
  {
   "cell_type": "markdown",
   "id": "specialized-hampshire",
   "metadata": {
    "papermill": {
     "duration": 0.068014,
     "end_time": "2021-06-25T10:02:36.006813",
     "exception": false,
     "start_time": "2021-06-25T10:02:35.938799",
     "status": "completed"
    },
    "tags": []
   },
   "source": [
    "I punti sono molto vicini ma non abbiamo spiegabilità per quanto riguarda l'impatto delle variabili.\n",
    "\n",
    "### Explanable Machine Learning: eli5 & SHAP"
   ]
  },
  {
   "cell_type": "code",
   "execution_count": null,
   "id": "detailed-oriental",
   "metadata": {
    "execution": {
     "iopub.execute_input": "2021-06-25T10:02:36.146141Z",
     "iopub.status.busy": "2021-06-25T10:02:36.145503Z",
     "iopub.status.idle": "2021-06-25T10:03:30.430523Z",
     "shell.execute_reply": "2021-06-25T10:03:30.429901Z"
    },
    "papermill": {
     "duration": 54.356542,
     "end_time": "2021-06-25T10:03:30.430675",
     "exception": false,
     "start_time": "2021-06-25T10:02:36.074133",
     "status": "completed"
    },
    "tags": []
   },
   "outputs": [],
   "source": [
    "!pip install shap\n",
    "!pip install eli5"
   ]
  },
  {
   "cell_type": "markdown",
   "id": "breeding-phenomenon",
   "metadata": {
    "papermill": {
     "duration": 0.069278,
     "end_time": "2021-06-25T10:03:30.568781",
     "exception": false,
     "start_time": "2021-06-25T10:03:30.499503",
     "status": "completed"
    },
    "tags": []
   },
   "source": [
    "### Permutation Importance\n",
    "Permutare i valori delle features ci permette di valutarne l'impatto sul modello, in maniera semplicistica:\n",
    "* se le performance si abbassano --> Feature importante\n",
    "* se le performance restano invariate --> Feature senza impatto\n",
    "* se una permutazione casuale dei valori migliora il modello --> impatto negativo\n",
    "\n",
    "eli5 produce un plot a semaforo, sumando dal verde al rosso, buona feature - cattiva feature.\n",
    "\n",
    "Verranno valutati:\n",
    "* Regressione Polinomiale\n",
    "* Ridge Regression Polinomiale\n",
    "\n",
    "Applico prima il modello al train per vedere cosa ha imparato e come, e successivamente alla validation per vedere se le features che reputa importanti generalizzano bene."
   ]
  },
  {
   "cell_type": "code",
   "execution_count": null,
   "id": "civilian-november",
   "metadata": {
    "execution": {
     "iopub.execute_input": "2021-06-25T10:03:30.714918Z",
     "iopub.status.busy": "2021-06-25T10:03:30.714257Z",
     "iopub.status.idle": "2021-06-25T10:03:37.781958Z",
     "shell.execute_reply": "2021-06-25T10:03:37.781284Z"
    },
    "papermill": {
     "duration": 7.142923,
     "end_time": "2021-06-25T10:03:37.782097",
     "exception": false,
     "start_time": "2021-06-25T10:03:30.639174",
     "status": "completed"
    },
    "tags": []
   },
   "outputs": [],
   "source": [
    "import eli5\n",
    "from eli5.sklearn import PermutationImportance"
   ]
  },
  {
   "cell_type": "code",
   "execution_count": null,
   "id": "whole-watts",
   "metadata": {
    "execution": {
     "iopub.execute_input": "2021-06-25T10:03:37.975233Z",
     "iopub.status.busy": "2021-06-25T10:03:37.974561Z",
     "iopub.status.idle": "2021-06-25T10:03:38.009666Z",
     "shell.execute_reply": "2021-06-25T10:03:38.009144Z"
    },
    "papermill": {
     "duration": 0.154441,
     "end_time": "2021-06-25T10:03:38.009837",
     "exception": false,
     "start_time": "2021-06-25T10:03:37.855396",
     "status": "completed"
    },
    "tags": []
   },
   "outputs": [],
   "source": [
    "permPolyR = PermutationImportance(PolyR, random_state=42, cv=\"prefit\").fit(X_train_new, y_train)\n",
    "eli5.show_weights(permPolyR, feature_names= columns)"
   ]
  },
  {
   "cell_type": "code",
   "execution_count": null,
   "id": "invalid-entertainment",
   "metadata": {
    "execution": {
     "iopub.execute_input": "2021-06-25T10:03:38.159951Z",
     "iopub.status.busy": "2021-06-25T10:03:38.159225Z",
     "iopub.status.idle": "2021-06-25T10:03:38.199847Z",
     "shell.execute_reply": "2021-06-25T10:03:38.200395Z"
    },
    "papermill": {
     "duration": 0.119418,
     "end_time": "2021-06-25T10:03:38.200568",
     "exception": false,
     "start_time": "2021-06-25T10:03:38.081150",
     "status": "completed"
    },
    "tags": []
   },
   "outputs": [],
   "source": [
    "permPolyR = PermutationImportance(PolyR, random_state=42, cv=\"prefit\").fit(X_val_new, y_val)\n",
    "eli5.show_weights(permPolyR, feature_names= columns)"
   ]
  },
  {
   "cell_type": "code",
   "execution_count": null,
   "id": "flush-addition",
   "metadata": {
    "execution": {
     "iopub.execute_input": "2021-06-25T10:03:38.346944Z",
     "iopub.status.busy": "2021-06-25T10:03:38.346272Z",
     "iopub.status.idle": "2021-06-25T10:03:38.393769Z",
     "shell.execute_reply": "2021-06-25T10:03:38.394298Z"
    },
    "papermill": {
     "duration": 0.122432,
     "end_time": "2021-06-25T10:03:38.394484",
     "exception": false,
     "start_time": "2021-06-25T10:03:38.272052",
     "status": "completed"
    },
    "tags": []
   },
   "outputs": [],
   "source": [
    "permPolyRCV = PermutationImportance(PolyRCV, random_state=42, cv=\"prefit\").fit(X_train_new, y_train)\n",
    "eli5.show_weights(permPolyRCV, feature_names= columns)"
   ]
  },
  {
   "cell_type": "code",
   "execution_count": null,
   "id": "intelligent-jefferson",
   "metadata": {
    "execution": {
     "iopub.execute_input": "2021-06-25T10:03:38.542952Z",
     "iopub.status.busy": "2021-06-25T10:03:38.542364Z",
     "iopub.status.idle": "2021-06-25T10:03:38.587770Z",
     "shell.execute_reply": "2021-06-25T10:03:38.588271Z"
    },
    "papermill": {
     "duration": 0.121642,
     "end_time": "2021-06-25T10:03:38.588460",
     "exception": false,
     "start_time": "2021-06-25T10:03:38.466818",
     "status": "completed"
    },
    "tags": []
   },
   "outputs": [],
   "source": [
    "permPolyRCV = PermutationImportance(PolyRCV, random_state=42, cv=\"prefit\").fit(X_val_new, y_val)\n",
    "eli5.show_weights(permPolyRCV, feature_names= columns)"
   ]
  },
  {
   "cell_type": "markdown",
   "id": "touched-compact",
   "metadata": {
    "papermill": {
     "duration": 0.073482,
     "end_time": "2021-06-25T10:03:38.735074",
     "exception": false,
     "start_time": "2021-06-25T10:03:38.661592",
     "status": "completed"
    },
    "tags": []
   },
   "source": [
    "### SHAP Plot\n",
    "SHAP da Shapely Values, un approccio molto usato nella teoria dei giochi, permette di spiegare come impattano le features sul modello. Ha anche dei plot molto belli a mio avviso."
   ]
  },
  {
   "cell_type": "code",
   "execution_count": null,
   "id": "loving-centre",
   "metadata": {
    "execution": {
     "iopub.execute_input": "2021-06-25T10:03:38.888727Z",
     "iopub.status.busy": "2021-06-25T10:03:38.888025Z",
     "iopub.status.idle": "2021-06-25T10:03:41.497440Z",
     "shell.execute_reply": "2021-06-25T10:03:41.498010Z"
    },
    "papermill": {
     "duration": 2.688303,
     "end_time": "2021-06-25T10:03:41.498188",
     "exception": false,
     "start_time": "2021-06-25T10:03:38.809885",
     "status": "completed"
    },
    "tags": []
   },
   "outputs": [],
   "source": [
    "import shap\n",
    "shap.initjs()"
   ]
  },
  {
   "cell_type": "markdown",
   "id": "plain-hotel",
   "metadata": {
    "papermill": {
     "duration": 0.084696,
     "end_time": "2021-06-25T10:03:41.668560",
     "exception": false,
     "start_time": "2021-06-25T10:03:41.583864",
     "status": "completed"
    },
    "tags": []
   },
   "source": [
    "Creo dei dataframe per vedere il nome delle colonne"
   ]
  },
  {
   "cell_type": "code",
   "execution_count": null,
   "id": "nearby-russell",
   "metadata": {
    "execution": {
     "iopub.execute_input": "2021-06-25T10:03:41.864260Z",
     "iopub.status.busy": "2021-06-25T10:03:41.863024Z",
     "iopub.status.idle": "2021-06-25T10:03:41.866174Z",
     "shell.execute_reply": "2021-06-25T10:03:41.866859Z"
    },
    "papermill": {
     "duration": 0.114059,
     "end_time": "2021-06-25T10:03:41.867132",
     "exception": false,
     "start_time": "2021-06-25T10:03:41.753073",
     "status": "completed"
    },
    "tags": []
   },
   "outputs": [],
   "source": [
    "df_train = pd.DataFrame(X_train_new, columns=columns)\n",
    "df_val = pd.DataFrame(X_val_new, columns=columns)"
   ]
  },
  {
   "cell_type": "markdown",
   "id": "incorporate-adult",
   "metadata": {
    "papermill": {
     "duration": 0.084788,
     "end_time": "2021-06-25T10:03:42.044681",
     "exception": false,
     "start_time": "2021-06-25T10:03:41.959893",
     "status": "completed"
    },
    "tags": []
   },
   "source": [
    "### Local Explaination"
   ]
  },
  {
   "cell_type": "code",
   "execution_count": null,
   "id": "spiritual-fiber",
   "metadata": {
    "execution": {
     "iopub.execute_input": "2021-06-25T10:03:42.220399Z",
     "iopub.status.busy": "2021-06-25T10:03:42.219700Z",
     "iopub.status.idle": "2021-06-25T10:03:45.157726Z",
     "shell.execute_reply": "2021-06-25T10:03:45.158590Z"
    },
    "papermill": {
     "duration": 3.027612,
     "end_time": "2021-06-25T10:03:45.158875",
     "exception": false,
     "start_time": "2021-06-25T10:03:42.131263",
     "status": "completed"
    },
    "tags": []
   },
   "outputs": [],
   "source": [
    "\n",
    "ex0 = shap.KernelExplainer(svr.predict, df_train)\n",
    "shap_values0 = ex0.shap_values(df_val)\n",
    "shap.force_plot(ex0.expected_value, shap_values0[0], df_val.iloc[0,:])"
   ]
  },
  {
   "cell_type": "markdown",
   "id": "da1193bc",
   "metadata": {},
   "source": [
    "Il local explainer mostra come si è arrivati da il base value alla previsione in output. Ci sono le features per la singola osservazione.\n",
    "\n",
    "Il loro impatto è dato dal colore:\n",
    "* \"postivo\" rosso\n",
    "* \"negativo\" blu\n",
    "\n",
    "e dalla dimensione, più è grande la sezione sulla barra maggiore è lo SHAP value e quindi l'impatto sulla previsione.\n",
    "\n",
    "Un grafico più chiaro sulla singola istanza è il waterfall plot, questo grafico và letto dal basso verso l'alto, la logica è uguale al precedente plot ma la leggibilità è migliore e possiamo scegliere quante features visualizzare (default: 10)"
   ]
  },
  {
   "cell_type": "code",
   "execution_count": null,
   "id": "e7968f61",
   "metadata": {},
   "outputs": [],
   "source": [
    "# Ridge Regression\n",
    "explainer = shap.Explainer(PolyRCV, df_train)\n",
    "shap_values = explainer(df_train)"
   ]
  },
  {
   "cell_type": "code",
   "execution_count": null,
   "id": "0d01c54c",
   "metadata": {},
   "outputs": [],
   "source": [
    "print(shap_values[0])\n",
    "print(shap_values[0].base_values)\n",
    "print(type(shap_values.base_values[0]))"
   ]
  },
  {
   "cell_type": "code",
   "execution_count": null,
   "id": "7d945635",
   "metadata": {},
   "outputs": [],
   "source": [
    "shap.waterfall_plot(shap_values[0])"
   ]
  },
  {
   "cell_type": "markdown",
   "id": "2e009293",
   "metadata": {},
   "source": [
    "Nonostante abbiamo detto che SHAP è un modello XAI \"locale\" possiamo spiegare come funziona globalmente con un plot riassuntivo.\n",
    "\n",
    "* la colonna a sinistra riporta le features\n",
    "* sull'asse orizzontale abbiamo lo SHAP values e quindi l'impatto sul modello\n",
    "* il colore indica il valore della variabile\n",
    "\n",
    "Se abbiamo una distribuzione con la maggior parte dei punti sullo zero questa variabile non ha impatto sul modello indipendentemente dal valore che assume.\n",
    "Nel caso si *x1* e *x2* valori alti hanno impatto positivo mentre quelli bassi negativo, se guardiamo a *x2^2* è il contrario."
   ]
  },
  {
   "cell_type": "code",
   "execution_count": null,
   "id": "tested-variance",
   "metadata": {
    "execution": {
     "iopub.execute_input": "2021-06-25T10:03:48.700610Z",
     "iopub.status.busy": "2021-06-25T10:03:48.699960Z",
     "iopub.status.idle": "2021-06-25T10:06:46.557879Z",
     "shell.execute_reply": "2021-06-25T10:06:46.557382Z"
    },
    "papermill": {
     "duration": 177.949171,
     "end_time": "2021-06-25T10:06:46.558026",
     "exception": false,
     "start_time": "2021-06-25T10:03:48.608855",
     "status": "completed"
    },
    "tags": []
   },
   "outputs": [],
   "source": [
    "shap.summary_plot(shap_values0, df_val)"
   ]
  }
 ],
 "metadata": {
  "interpreter": {
   "hash": "c1378d9503a59ee79897e544dae7837ecc9102033df980db269ab449c64125bc"
  },
  "kernelspec": {
   "display_name": "Python 3.8.5 ('falkon')",
   "language": "python",
   "name": "python3"
  },
  "language_info": {
   "codemirror_mode": {
    "name": "ipython",
    "version": 3
   },
   "file_extension": ".py",
   "mimetype": "text/x-python",
   "name": "python",
   "nbconvert_exporter": "python",
   "pygments_lexer": "ipython3",
   "version": "3.8.5"
  },
  "papermill": {
   "default_parameters": {},
   "duration": 454.179592,
   "end_time": "2021-06-25T10:09:49.045211",
   "environment_variables": {},
   "exception": null,
   "input_path": "__notebook__.ipynb",
   "output_path": "__notebook__.ipynb",
   "parameters": {},
   "start_time": "2021-06-25T10:02:14.865619",
   "version": "2.3.3"
  },
  "widgets": {
   "application/vnd.jupyter.widget-state+json": {
    "state": {
     "08e97c3ed9fb4539863ef9d00d3be665": {
      "model_module": "@jupyter-widgets/base",
      "model_module_version": "1.2.0",
      "model_name": "LayoutModel",
      "state": {
       "_model_module": "@jupyter-widgets/base",
       "_model_module_version": "1.2.0",
       "_model_name": "LayoutModel",
       "_view_count": null,
       "_view_module": "@jupyter-widgets/base",
       "_view_module_version": "1.2.0",
       "_view_name": "LayoutView",
       "align_content": null,
       "align_items": null,
       "align_self": null,
       "border": null,
       "bottom": null,
       "display": null,
       "flex": null,
       "flex_flow": null,
       "grid_area": null,
       "grid_auto_columns": null,
       "grid_auto_flow": null,
       "grid_auto_rows": null,
       "grid_column": null,
       "grid_gap": null,
       "grid_row": null,
       "grid_template_areas": null,
       "grid_template_columns": null,
       "grid_template_rows": null,
       "height": null,
       "justify_content": null,
       "justify_items": null,
       "left": null,
       "margin": null,
       "max_height": null,
       "max_width": null,
       "min_height": null,
       "min_width": null,
       "object_fit": null,
       "object_position": null,
       "order": null,
       "overflow": null,
       "overflow_x": null,
       "overflow_y": null,
       "padding": null,
       "right": null,
       "top": null,
       "visibility": null,
       "width": null
      }
     },
     "1424808d99cd4371965b549cccdcadd9": {
      "model_module": "@jupyter-widgets/controls",
      "model_module_version": "1.5.0",
      "model_name": "FloatProgressModel",
      "state": {
       "_dom_classes": [],
       "_model_module": "@jupyter-widgets/controls",
       "_model_module_version": "1.5.0",
       "_model_name": "FloatProgressModel",
       "_view_count": null,
       "_view_module": "@jupyter-widgets/controls",
       "_view_module_version": "1.5.0",
       "_view_name": "ProgressView",
       "bar_style": "success",
       "description": "",
       "description_tooltip": null,
       "layout": "IPY_MODEL_806a7b471bc14d3ba55065b3256c55d6",
       "max": 59,
       "min": 0,
       "orientation": "horizontal",
       "style": "IPY_MODEL_61b9ac57f3ba49038f9bec01e6d73b51",
       "value": 59
      }
     },
     "1add9d0e1c834bae90bd6204d536f2c0": {
      "model_module": "@jupyter-widgets/base",
      "model_module_version": "1.2.0",
      "model_name": "LayoutModel",
      "state": {
       "_model_module": "@jupyter-widgets/base",
       "_model_module_version": "1.2.0",
       "_model_name": "LayoutModel",
       "_view_count": null,
       "_view_module": "@jupyter-widgets/base",
       "_view_module_version": "1.2.0",
       "_view_name": "LayoutView",
       "align_content": null,
       "align_items": null,
       "align_self": null,
       "border": null,
       "bottom": null,
       "display": null,
       "flex": null,
       "flex_flow": null,
       "grid_area": null,
       "grid_auto_columns": null,
       "grid_auto_flow": null,
       "grid_auto_rows": null,
       "grid_column": null,
       "grid_gap": null,
       "grid_row": null,
       "grid_template_areas": null,
       "grid_template_columns": null,
       "grid_template_rows": null,
       "height": null,
       "justify_content": null,
       "justify_items": null,
       "left": null,
       "margin": null,
       "max_height": null,
       "max_width": null,
       "min_height": null,
       "min_width": null,
       "object_fit": null,
       "object_position": null,
       "order": null,
       "overflow": null,
       "overflow_x": null,
       "overflow_y": null,
       "padding": null,
       "right": null,
       "top": null,
       "visibility": null,
       "width": null
      }
     },
     "31231c00e74e4f55a1f35a6955709232": {
      "model_module": "@jupyter-widgets/controls",
      "model_module_version": "1.5.0",
      "model_name": "HTMLModel",
      "state": {
       "_dom_classes": [],
       "_model_module": "@jupyter-widgets/controls",
       "_model_module_version": "1.5.0",
       "_model_name": "HTMLModel",
       "_view_count": null,
       "_view_module": "@jupyter-widgets/controls",
       "_view_module_version": "1.5.0",
       "_view_name": "HTMLView",
       "description": "",
       "description_tooltip": null,
       "layout": "IPY_MODEL_5d123c9fb63548df83892f27979eaefe",
       "placeholder": "​",
       "style": "IPY_MODEL_5731d83448ab4e4b9a03e539dc5af15d",
       "value": "100%"
      }
     },
     "331ba9b6c3e04a719c376bf437266cc1": {
      "model_module": "@jupyter-widgets/controls",
      "model_module_version": "1.5.0",
      "model_name": "DescriptionStyleModel",
      "state": {
       "_model_module": "@jupyter-widgets/controls",
       "_model_module_version": "1.5.0",
       "_model_name": "DescriptionStyleModel",
       "_view_count": null,
       "_view_module": "@jupyter-widgets/base",
       "_view_module_version": "1.2.0",
       "_view_name": "StyleView",
       "description_width": ""
      }
     },
     "33c43bccdd06490b9bfd3539aa5bf6ee": {
      "model_module": "@jupyter-widgets/controls",
      "model_module_version": "1.5.0",
      "model_name": "HBoxModel",
      "state": {
       "_dom_classes": [],
       "_model_module": "@jupyter-widgets/controls",
       "_model_module_version": "1.5.0",
       "_model_name": "HBoxModel",
       "_view_count": null,
       "_view_module": "@jupyter-widgets/controls",
       "_view_module_version": "1.5.0",
       "_view_name": "HBoxView",
       "box_style": "",
       "children": [
        "IPY_MODEL_31231c00e74e4f55a1f35a6955709232",
        "IPY_MODEL_1424808d99cd4371965b549cccdcadd9",
        "IPY_MODEL_7e37ebd9755e4dab8108284a89b2b619"
       ],
       "layout": "IPY_MODEL_1add9d0e1c834bae90bd6204d536f2c0"
      }
     },
     "35f0ddb533c242cfab78ef0ed9e6e34b": {
      "model_module": "@jupyter-widgets/controls",
      "model_module_version": "1.5.0",
      "model_name": "ProgressStyleModel",
      "state": {
       "_model_module": "@jupyter-widgets/controls",
       "_model_module_version": "1.5.0",
       "_model_name": "ProgressStyleModel",
       "_view_count": null,
       "_view_module": "@jupyter-widgets/base",
       "_view_module_version": "1.2.0",
       "_view_name": "StyleView",
       "bar_color": null,
       "description_width": ""
      }
     },
     "3ecbdd1326204b36b4c9194afb7c548b": {
      "model_module": "@jupyter-widgets/controls",
      "model_module_version": "1.5.0",
      "model_name": "HTMLModel",
      "state": {
       "_dom_classes": [],
       "_model_module": "@jupyter-widgets/controls",
       "_model_module_version": "1.5.0",
       "_model_name": "HTMLModel",
       "_view_count": null,
       "_view_module": "@jupyter-widgets/controls",
       "_view_module_version": "1.5.0",
       "_view_name": "HTMLView",
       "description": "",
       "description_tooltip": null,
       "layout": "IPY_MODEL_85bdfd321c8f4e318eb1b52d4ffe2db5",
       "placeholder": "​",
       "style": "IPY_MODEL_331ba9b6c3e04a719c376bf437266cc1",
       "value": " 59/59 [02:57&lt;00:00,  2.99s/it]"
      }
     },
     "46c1be66fcb74fd7896498c9b4665f7d": {
      "model_module": "@jupyter-widgets/controls",
      "model_module_version": "1.5.0",
      "model_name": "DescriptionStyleModel",
      "state": {
       "_model_module": "@jupyter-widgets/controls",
       "_model_module_version": "1.5.0",
       "_model_name": "DescriptionStyleModel",
       "_view_count": null,
       "_view_module": "@jupyter-widgets/base",
       "_view_module_version": "1.2.0",
       "_view_name": "StyleView",
       "description_width": ""
      }
     },
     "5731d83448ab4e4b9a03e539dc5af15d": {
      "model_module": "@jupyter-widgets/controls",
      "model_module_version": "1.5.0",
      "model_name": "DescriptionStyleModel",
      "state": {
       "_model_module": "@jupyter-widgets/controls",
       "_model_module_version": "1.5.0",
       "_model_name": "DescriptionStyleModel",
       "_view_count": null,
       "_view_module": "@jupyter-widgets/base",
       "_view_module_version": "1.2.0",
       "_view_name": "StyleView",
       "description_width": ""
      }
     },
     "5d123c9fb63548df83892f27979eaefe": {
      "model_module": "@jupyter-widgets/base",
      "model_module_version": "1.2.0",
      "model_name": "LayoutModel",
      "state": {
       "_model_module": "@jupyter-widgets/base",
       "_model_module_version": "1.2.0",
       "_model_name": "LayoutModel",
       "_view_count": null,
       "_view_module": "@jupyter-widgets/base",
       "_view_module_version": "1.2.0",
       "_view_name": "LayoutView",
       "align_content": null,
       "align_items": null,
       "align_self": null,
       "border": null,
       "bottom": null,
       "display": null,
       "flex": null,
       "flex_flow": null,
       "grid_area": null,
       "grid_auto_columns": null,
       "grid_auto_flow": null,
       "grid_auto_rows": null,
       "grid_column": null,
       "grid_gap": null,
       "grid_row": null,
       "grid_template_areas": null,
       "grid_template_columns": null,
       "grid_template_rows": null,
       "height": null,
       "justify_content": null,
       "justify_items": null,
       "left": null,
       "margin": null,
       "max_height": null,
       "max_width": null,
       "min_height": null,
       "min_width": null,
       "object_fit": null,
       "object_position": null,
       "order": null,
       "overflow": null,
       "overflow_x": null,
       "overflow_y": null,
       "padding": null,
       "right": null,
       "top": null,
       "visibility": null,
       "width": null
      }
     },
     "61b9ac57f3ba49038f9bec01e6d73b51": {
      "model_module": "@jupyter-widgets/controls",
      "model_module_version": "1.5.0",
      "model_name": "ProgressStyleModel",
      "state": {
       "_model_module": "@jupyter-widgets/controls",
       "_model_module_version": "1.5.0",
       "_model_name": "ProgressStyleModel",
       "_view_count": null,
       "_view_module": "@jupyter-widgets/base",
       "_view_module_version": "1.2.0",
       "_view_name": "StyleView",
       "bar_color": null,
       "description_width": ""
      }
     },
     "66aadddd6e4844d79d9f8d6cfd5db26b": {
      "model_module": "@jupyter-widgets/base",
      "model_module_version": "1.2.0",
      "model_name": "LayoutModel",
      "state": {
       "_model_module": "@jupyter-widgets/base",
       "_model_module_version": "1.2.0",
       "_model_name": "LayoutModel",
       "_view_count": null,
       "_view_module": "@jupyter-widgets/base",
       "_view_module_version": "1.2.0",
       "_view_name": "LayoutView",
       "align_content": null,
       "align_items": null,
       "align_self": null,
       "border": null,
       "bottom": null,
       "display": null,
       "flex": null,
       "flex_flow": null,
       "grid_area": null,
       "grid_auto_columns": null,
       "grid_auto_flow": null,
       "grid_auto_rows": null,
       "grid_column": null,
       "grid_gap": null,
       "grid_row": null,
       "grid_template_areas": null,
       "grid_template_columns": null,
       "grid_template_rows": null,
       "height": null,
       "justify_content": null,
       "justify_items": null,
       "left": null,
       "margin": null,
       "max_height": null,
       "max_width": null,
       "min_height": null,
       "min_width": null,
       "object_fit": null,
       "object_position": null,
       "order": null,
       "overflow": null,
       "overflow_x": null,
       "overflow_y": null,
       "padding": null,
       "right": null,
       "top": null,
       "visibility": null,
       "width": null
      }
     },
     "7e37ebd9755e4dab8108284a89b2b619": {
      "model_module": "@jupyter-widgets/controls",
      "model_module_version": "1.5.0",
      "model_name": "HTMLModel",
      "state": {
       "_dom_classes": [],
       "_model_module": "@jupyter-widgets/controls",
       "_model_module_version": "1.5.0",
       "_model_name": "HTMLModel",
       "_view_count": null,
       "_view_module": "@jupyter-widgets/controls",
       "_view_module_version": "1.5.0",
       "_view_name": "HTMLView",
       "description": "",
       "description_tooltip": null,
       "layout": "IPY_MODEL_b603816134834f7dbcd59652bb93fdf6",
       "placeholder": "​",
       "style": "IPY_MODEL_46c1be66fcb74fd7896498c9b4665f7d",
       "value": " 59/59 [02:57&lt;00:00,  3.01s/it]"
      }
     },
     "806a7b471bc14d3ba55065b3256c55d6": {
      "model_module": "@jupyter-widgets/base",
      "model_module_version": "1.2.0",
      "model_name": "LayoutModel",
      "state": {
       "_model_module": "@jupyter-widgets/base",
       "_model_module_version": "1.2.0",
       "_model_name": "LayoutModel",
       "_view_count": null,
       "_view_module": "@jupyter-widgets/base",
       "_view_module_version": "1.2.0",
       "_view_name": "LayoutView",
       "align_content": null,
       "align_items": null,
       "align_self": null,
       "border": null,
       "bottom": null,
       "display": null,
       "flex": null,
       "flex_flow": null,
       "grid_area": null,
       "grid_auto_columns": null,
       "grid_auto_flow": null,
       "grid_auto_rows": null,
       "grid_column": null,
       "grid_gap": null,
       "grid_row": null,
       "grid_template_areas": null,
       "grid_template_columns": null,
       "grid_template_rows": null,
       "height": null,
       "justify_content": null,
       "justify_items": null,
       "left": null,
       "margin": null,
       "max_height": null,
       "max_width": null,
       "min_height": null,
       "min_width": null,
       "object_fit": null,
       "object_position": null,
       "order": null,
       "overflow": null,
       "overflow_x": null,
       "overflow_y": null,
       "padding": null,
       "right": null,
       "top": null,
       "visibility": null,
       "width": null
      }
     },
     "85bdfd321c8f4e318eb1b52d4ffe2db5": {
      "model_module": "@jupyter-widgets/base",
      "model_module_version": "1.2.0",
      "model_name": "LayoutModel",
      "state": {
       "_model_module": "@jupyter-widgets/base",
       "_model_module_version": "1.2.0",
       "_model_name": "LayoutModel",
       "_view_count": null,
       "_view_module": "@jupyter-widgets/base",
       "_view_module_version": "1.2.0",
       "_view_name": "LayoutView",
       "align_content": null,
       "align_items": null,
       "align_self": null,
       "border": null,
       "bottom": null,
       "display": null,
       "flex": null,
       "flex_flow": null,
       "grid_area": null,
       "grid_auto_columns": null,
       "grid_auto_flow": null,
       "grid_auto_rows": null,
       "grid_column": null,
       "grid_gap": null,
       "grid_row": null,
       "grid_template_areas": null,
       "grid_template_columns": null,
       "grid_template_rows": null,
       "height": null,
       "justify_content": null,
       "justify_items": null,
       "left": null,
       "margin": null,
       "max_height": null,
       "max_width": null,
       "min_height": null,
       "min_width": null,
       "object_fit": null,
       "object_position": null,
       "order": null,
       "overflow": null,
       "overflow_x": null,
       "overflow_y": null,
       "padding": null,
       "right": null,
       "top": null,
       "visibility": null,
       "width": null
      }
     },
     "98e968d957324b98aa8bc3bac71b0c0a": {
      "model_module": "@jupyter-widgets/controls",
      "model_module_version": "1.5.0",
      "model_name": "HTMLModel",
      "state": {
       "_dom_classes": [],
       "_model_module": "@jupyter-widgets/controls",
       "_model_module_version": "1.5.0",
       "_model_name": "HTMLModel",
       "_view_count": null,
       "_view_module": "@jupyter-widgets/controls",
       "_view_module_version": "1.5.0",
       "_view_name": "HTMLView",
       "description": "",
       "description_tooltip": null,
       "layout": "IPY_MODEL_66aadddd6e4844d79d9f8d6cfd5db26b",
       "placeholder": "​",
       "style": "IPY_MODEL_c3ee3bd3ca604a6a98884e15d598006b",
       "value": "100%"
      }
     },
     "a4eebcec60e14f5eb57e20177e873aa6": {
      "model_module": "@jupyter-widgets/base",
      "model_module_version": "1.2.0",
      "model_name": "LayoutModel",
      "state": {
       "_model_module": "@jupyter-widgets/base",
       "_model_module_version": "1.2.0",
       "_model_name": "LayoutModel",
       "_view_count": null,
       "_view_module": "@jupyter-widgets/base",
       "_view_module_version": "1.2.0",
       "_view_name": "LayoutView",
       "align_content": null,
       "align_items": null,
       "align_self": null,
       "border": null,
       "bottom": null,
       "display": null,
       "flex": null,
       "flex_flow": null,
       "grid_area": null,
       "grid_auto_columns": null,
       "grid_auto_flow": null,
       "grid_auto_rows": null,
       "grid_column": null,
       "grid_gap": null,
       "grid_row": null,
       "grid_template_areas": null,
       "grid_template_columns": null,
       "grid_template_rows": null,
       "height": null,
       "justify_content": null,
       "justify_items": null,
       "left": null,
       "margin": null,
       "max_height": null,
       "max_width": null,
       "min_height": null,
       "min_width": null,
       "object_fit": null,
       "object_position": null,
       "order": null,
       "overflow": null,
       "overflow_x": null,
       "overflow_y": null,
       "padding": null,
       "right": null,
       "top": null,
       "visibility": null,
       "width": null
      }
     },
     "b603816134834f7dbcd59652bb93fdf6": {
      "model_module": "@jupyter-widgets/base",
      "model_module_version": "1.2.0",
      "model_name": "LayoutModel",
      "state": {
       "_model_module": "@jupyter-widgets/base",
       "_model_module_version": "1.2.0",
       "_model_name": "LayoutModel",
       "_view_count": null,
       "_view_module": "@jupyter-widgets/base",
       "_view_module_version": "1.2.0",
       "_view_name": "LayoutView",
       "align_content": null,
       "align_items": null,
       "align_self": null,
       "border": null,
       "bottom": null,
       "display": null,
       "flex": null,
       "flex_flow": null,
       "grid_area": null,
       "grid_auto_columns": null,
       "grid_auto_flow": null,
       "grid_auto_rows": null,
       "grid_column": null,
       "grid_gap": null,
       "grid_row": null,
       "grid_template_areas": null,
       "grid_template_columns": null,
       "grid_template_rows": null,
       "height": null,
       "justify_content": null,
       "justify_items": null,
       "left": null,
       "margin": null,
       "max_height": null,
       "max_width": null,
       "min_height": null,
       "min_width": null,
       "object_fit": null,
       "object_position": null,
       "order": null,
       "overflow": null,
       "overflow_x": null,
       "overflow_y": null,
       "padding": null,
       "right": null,
       "top": null,
       "visibility": null,
       "width": null
      }
     },
     "c3ee3bd3ca604a6a98884e15d598006b": {
      "model_module": "@jupyter-widgets/controls",
      "model_module_version": "1.5.0",
      "model_name": "DescriptionStyleModel",
      "state": {
       "_model_module": "@jupyter-widgets/controls",
       "_model_module_version": "1.5.0",
       "_model_name": "DescriptionStyleModel",
       "_view_count": null,
       "_view_module": "@jupyter-widgets/base",
       "_view_module_version": "1.2.0",
       "_view_name": "StyleView",
       "description_width": ""
      }
     },
     "ceee803969764a609fd138874f0710cf": {
      "model_module": "@jupyter-widgets/controls",
      "model_module_version": "1.5.0",
      "model_name": "HBoxModel",
      "state": {
       "_dom_classes": [],
       "_model_module": "@jupyter-widgets/controls",
       "_model_module_version": "1.5.0",
       "_model_name": "HBoxModel",
       "_view_count": null,
       "_view_module": "@jupyter-widgets/controls",
       "_view_module_version": "1.5.0",
       "_view_name": "HBoxView",
       "box_style": "",
       "children": [
        "IPY_MODEL_98e968d957324b98aa8bc3bac71b0c0a",
        "IPY_MODEL_fc38571fb5a14d7b8d8ecca1d890d409",
        "IPY_MODEL_3ecbdd1326204b36b4c9194afb7c548b"
       ],
       "layout": "IPY_MODEL_a4eebcec60e14f5eb57e20177e873aa6"
      }
     },
     "fc38571fb5a14d7b8d8ecca1d890d409": {
      "model_module": "@jupyter-widgets/controls",
      "model_module_version": "1.5.0",
      "model_name": "FloatProgressModel",
      "state": {
       "_dom_classes": [],
       "_model_module": "@jupyter-widgets/controls",
       "_model_module_version": "1.5.0",
       "_model_name": "FloatProgressModel",
       "_view_count": null,
       "_view_module": "@jupyter-widgets/controls",
       "_view_module_version": "1.5.0",
       "_view_name": "ProgressView",
       "bar_style": "success",
       "description": "",
       "description_tooltip": null,
       "layout": "IPY_MODEL_08e97c3ed9fb4539863ef9d00d3be665",
       "max": 59,
       "min": 0,
       "orientation": "horizontal",
       "style": "IPY_MODEL_35f0ddb533c242cfab78ef0ed9e6e34b",
       "value": 59
      }
     }
    },
    "version_major": 2,
    "version_minor": 0
   }
  }
 },
 "nbformat": 4,
 "nbformat_minor": 5
}
