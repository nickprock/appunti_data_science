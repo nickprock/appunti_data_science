{
 "cells": [
  {
   "cell_type": "markdown",
   "metadata": {},
   "source": [
    "# Introduzione ai Test Statistici"
   ]
  },
  {
   "cell_type": "markdown",
   "metadata": {},
   "source": [
    "## Cos'è un test d'ipotesi\n",
    "\n",
    "[I test **d'ipotesi**, prendono questo nome perchè vanno a verificare la bontà di una ipotesi.](https://en.wikipedia.org/wiki/Statistical_hypothesis_testing)\n",
    "Per ipotesi è da intendersi un'affermazione che ha come oggetto accadimenti nel mondo reale, che si presta ad essere confermata o smentita dai dati osservati sperimentalmente.\n",
    "L'ipotesi da verificare è detta **nulla** e si indica con $H_0$, $H_1$ invece è l'ipotesi **alternativa**.\n",
    "\n",
    "<br>\n",
    "Lo studio di serie storiche con modelli statistici (ARMA, ARIMA, SARIMA, Holt-Winters,...) presuppone che la distribuzione abbia alcune caratteristiche come:\n",
    "* stazionarietà\n",
    "* correlazione dei dati (i dati sono indipendentemente distribuiti?)\n",
    "* distibuzione normale dei dati\n",
    "<br>\n",
    "\n",
    "Per verificare se sussistono queste caratteristiche bisogna effettuare alcuni test statistici. In python la principale libreria che racchiude questi strumenti è [statsmodels](https://www.statsmodels.org/stable/index.html), in particolare il modulo *tsa*.\n",
    "\n",
    "## Cos'è un test di radice unitaria\n",
    "\n",
    "I test di radice unitaria sono dei tipi di test che vengono usati per stabilire se la serie temporale in esame presenta una radice unitaria al suo interno, la quale permette di affermare se il processo generante i dati risulta essere *trend-stazionario* oppure *differenza-stazionario*.\n",
    "* trend-stazionario: funzione aleatoria\n",
    "* differenza-stazionario: funzione variante nel tempo in modo casuale"
   ]
  },
  {
   "cell_type": "markdown",
   "metadata": {},
   "source": [
    "## Caricamento di Airpassengers\n",
    "\n",
    "Airpassengers, una sequenza mensile del numero di passeggeri sui voli internazionali tra il 1949 e il 1960.\n",
    "Anticipiamo che questa serie storica ha un trend lineare crescente e presenta un effetto stagionale moltiplicativo (ovvero ogni anno si ripetono più o meno le stesse fluttuazioni ma accentuandosi)."
   ]
  },
  {
   "cell_type": "code",
   "execution_count": null,
   "metadata": {},
   "outputs": [],
   "source": [
    "import pandas as pd\n",
    "import numpy as np\n",
    "import matplotlib.pyplot as plt\n",
    "%matplotlib inline"
   ]
  },
  {
   "cell_type": "code",
   "execution_count": null,
   "metadata": {},
   "outputs": [],
   "source": [
    "import warnings\n",
    "warnings.filterwarnings(\"ignore\")"
   ]
  },
  {
   "cell_type": "markdown",
   "metadata": {},
   "source": [
    "Per prima cosa carichiamo la serie e vediamo:\n",
    "* i primi 5 valori\n",
    "* il plot dell'originale"
   ]
  },
  {
   "cell_type": "code",
   "execution_count": null,
   "metadata": {},
   "outputs": [],
   "source": [
    "airpassengers = pd.read_csv(\"airpassenger.csv\")\n",
    "airpassengers.columns = [\"Time\",\"Passengers\"]\n",
    "airpassengers.head()"
   ]
  },
  {
   "cell_type": "code",
   "execution_count": null,
   "metadata": {
    "scrolled": true
   },
   "outputs": [],
   "source": [
    "plt.figure(figsize=(16,8))\n",
    "plt.plot(range(airpassengers.shape[0]), airpassengers[\"Passengers\"].values, color='tab:red')\n",
    "plt.gca().set(title=\"Airpassengers\", xlabel=\"Time\", ylabel=\"Passengers\")\n",
    "plt.show()"
   ]
  },
  {
   "cell_type": "markdown",
   "metadata": {},
   "source": [
    "## Componenti della serie"
   ]
  },
  {
   "cell_type": "markdown",
   "metadata": {},
   "source": [
    "Una serie storica ha solitamente quattro componenti:\n",
    "* *trend*\n",
    "* *ciclo*\n",
    "* *stagionalità*\n",
    "* *componente erratica*\n",
    "<br>\n",
    "\n",
    "In tsa esiste una funzione che decompone la serie e ci fa vedere 3 delle quattro componenti sopra elencate.\n",
    "<br>\n",
    "\n",
    "**N.B. La differenza tra ciclo e stagionalità. La stagionalità si presenta sui dodici mesi, il ciclo può essere mensile, seetimanale, ... non confondiamo.**"
   ]
  },
  {
   "cell_type": "code",
   "execution_count": null,
   "metadata": {},
   "outputs": [],
   "source": [
    "from statsmodels.tsa.seasonal import seasonal_decompose"
   ]
  },
  {
   "cell_type": "code",
   "execution_count": null,
   "metadata": {},
   "outputs": [],
   "source": [
    "decompose = seasonal_decompose(airpassengers[\"Passengers\"], model = \"multiplicative\", period = 12)"
   ]
  },
  {
   "cell_type": "markdown",
   "metadata": {},
   "source": [
    "Sapevamo già che la serie è mensile, quindi frequenza 12, il model indica il tipo di stagionalità, se vediamo il grafico i picchi crescono al passare dei periodi, quindi l'interazione tra le componenti è moltiplicativa.\n",
    "<br>\n",
    "Nei grafici di seguito vediamo:\n",
    "1. La serie originale\n",
    "2. Il trend\n",
    "3. La stagionalità\n",
    "4. La componente erratica"
   ]
  },
  {
   "cell_type": "code",
   "execution_count": null,
   "metadata": {},
   "outputs": [],
   "source": [
    "plt.figure(figsize=(16,8))\n",
    "decompose.plot()\n",
    "plt.show()"
   ]
  },
  {
   "cell_type": "markdown",
   "metadata": {},
   "source": [
    "## Autocorrelazione\n",
    "\n",
    "Data una serie temporale $X_{t}$ con $t:{1, 2, ..., N}$ ci dice se e in che misura l'elemento $X_t$ abbia una relazione con un istante di tempo precedente $X_{t-h}$. L'analisi dell'andamento della funzione di autocorrelazione al variare di questo h è di fondamentale importanza per valutare la cosiddetta \"*memoria*\" della serie storica.\n",
    "In parole semplici, l'analisi delle autocorrelazioni ci dice quanto di ciò che vediamo all'istante $t$ risenta di ciò che è successo a $(t-h)$.\n",
    "\n",
    "Lo strumento grafico per valutare se una serie è stazionaria o no è il **correlogramma**, un grafico a barre che riporta $\\rho_k$ sull'asse delle ordinate e $k$ (ovvero i lag) sulle ascisse.\n",
    "Affinchè non ci sia una forte relazione tra i periodi il (*non significativamente correlati*) le barre dovrebbero muoversi entro le bande con un andamento \"variabile\"."
   ]
  },
  {
   "cell_type": "code",
   "execution_count": null,
   "metadata": {},
   "outputs": [],
   "source": [
    "from statsmodels.graphics.tsaplots import plot_acf, plot_pacf\n",
    "from statsmodels.tsa.stattools import acf, pacf"
   ]
  },
  {
   "cell_type": "markdown",
   "metadata": {},
   "source": [
    "### Autocorrelazioni globali"
   ]
  },
  {
   "cell_type": "code",
   "execution_count": null,
   "metadata": {},
   "outputs": [],
   "source": [
    "acf = acf(airpassengers[\"Passengers\"], nlags = 40,qstat= True, fft=False)"
   ]
  },
  {
   "cell_type": "markdown",
   "metadata": {},
   "source": [
    "Ritorna una tupla di tre array:\n",
    "* le autocorrelazioni\n",
    "* la q stat di Box - Jenkins per ogni autocorrelazione\n",
    "* il p-value associato ad ogni correlazione"
   ]
  },
  {
   "cell_type": "code",
   "execution_count": null,
   "metadata": {},
   "outputs": [],
   "source": [
    "plt.figure(figsize=(16,8))\n",
    "plot_acf(airpassengers[\"Passengers\"], lags = 40)\n",
    "plt.show()"
   ]
  },
  {
   "cell_type": "markdown",
   "metadata": {},
   "source": [
    "Nel nostro caso si vede sia una dipendenza dal trend, le barre hanno un andamento lento e decrescente all'aumentare di $k$, sia una dipendenza stagionale data *dall'onda* formata da $\\rho_k$ con i valori più alti ogni 12 periodi.\n",
    "\n",
    "Possiamo concludere che le correlazioni associate sono significativamente diverse da zero."
   ]
  },
  {
   "cell_type": "markdown",
   "metadata": {},
   "source": [
    "### Autocorrelazioni parziali\n",
    "\n",
    "Con le autocorrelazioni globali vediamo l'effetto su $X_t$ dovuto a $X_{t-h}$, ma come capire se c'è un effetto dovuto agli istanti intermedi? Ci vengono in supporto le **autocorrelazioni parziali** ([pacf](https://www.statsmodels.org/devel/generated/statsmodels.tsa.stattools.pacf.html)) che misurano la dipendenza tra i due istanti al netto dell'influenza di quelli intermedi."
   ]
  },
  {
   "cell_type": "code",
   "execution_count": null,
   "metadata": {},
   "outputs": [],
   "source": [
    "prt_acf = pacf(airpassengers[\"Passengers\"])"
   ]
  },
  {
   "cell_type": "code",
   "execution_count": null,
   "metadata": {},
   "outputs": [],
   "source": [
    "plt.figure(figsize=(16,8))\n",
    "plot_pacf(airpassengers[\"Passengers\"])\n",
    "plt.show()"
   ]
  },
  {
   "cell_type": "markdown",
   "metadata": {},
   "source": [
    "Anche con le autocorrelazioni parziali possiamo affermare quanto giù detto per le totali."
   ]
  },
  {
   "cell_type": "markdown",
   "metadata": {},
   "source": [
    "Prima di introdurre i due test creiamo una funzione per valutare se *accettare* o *rigettare* l'ipotesi nulla.\n",
    "Per farlo và confrontato il [*p-value*](https://en.wikipedia.org/wiki/P-value) con il [livello di significatività del test](https://en.wikipedia.org/wiki/Statistical_significance) indicato con $\\alpha$, solitamente il valore di quest'ultimo è pari a 0.05 in quanto si ritiene che sufficientemente piccolo da poter concludere che sia **\"piuttosto improbabile\"** che la differenza osservata sia dovuta al semplice caso. Altri valori utilizzati sono 0.1 in fase esplorativa di alcuni test e uno più stringente 0.01."
   ]
  },
  {
   "cell_type": "code",
   "execution_count": null,
   "metadata": {},
   "outputs": [],
   "source": [
    "# funzione che confronta il p-value con il livello di significatività del test\n",
    "# e scrive se accettare o rifiutare l'ipotetsi nulla.\n",
    "def hypothesis(p_value, alpha):\n",
    "    if p_value<= alpha:\n",
    "        print(\"Non accettiamo H0\")\n",
    "    else:\n",
    "        print(\"Accettiamo H0\")"
   ]
  },
  {
   "cell_type": "markdown",
   "metadata": {},
   "source": [
    "### Augmented Dikey-Fuller test\n",
    "Il test di [Dikey-Fuller](https://en.wikipedia.org/wiki/Dickey%E2%80%93Fuller_test), che in statsmodel presenta la sua versione [*Augmented*](https://www.statsmodels.org/devel/generated/statsmodels.tsa.stattools.adfuller.html?highlight=adfuller#statsmodels.tsa.stattools.adfuller), ha sotto l'ipotesi nulla:\n",
    "* **H0**: presenza di una radice unitaria alla frequenza zero\n",
    "\n",
    "In questo caso ho scelto di lasciare i valori di default ai parametri della funzione tranne che per:\n",
    "* regression: nella regressione che applica il test introduciamo sia una costante che il nostro trend scegliendo il valore \"*ct*\""
   ]
  },
  {
   "cell_type": "code",
   "execution_count": null,
   "metadata": {},
   "outputs": [],
   "source": [
    "from statsmodels.tsa.stattools import adfuller\n",
    "adf = adfuller(airpassengers[\"Passengers\"], regression=\"ct\")"
   ]
  },
  {
   "cell_type": "code",
   "execution_count": null,
   "metadata": {},
   "outputs": [],
   "source": [
    "adf"
   ]
  },
  {
   "cell_type": "code",
   "execution_count": null,
   "metadata": {},
   "outputs": [],
   "source": [
    "hypothesis(p_value=round(adf[1],2), alpha=0.05)"
   ]
  },
  {
   "cell_type": "markdown",
   "metadata": {},
   "source": [
    "Il p-value pari a 0.54 ciò fa si che non possiamo rigettare l'ipotesi nulla, nel nostro caso la presenza di radici unitarie.\n",
    "\n",
    "*N.B. I valori vicino a 1 sono detti* ***critici***"
   ]
  },
  {
   "cell_type": "markdown",
   "metadata": {},
   "source": [
    "### Kwiatkowski, Phillips, Schmidt e Shin (KPSS) test\n",
    "\n",
    "Il [test KPSS](https://en.wikipedia.org/wiki/KPSS_test) si utilizza quando si vuole confrontare l'ipotesi nulla di assenza di radici unitarie con l'ipotesi alternativa che la serie abbia una (o più) radici unitarie. Quindi le due ipotesi sono invertite rispetto al test precedente:\n",
    "* $H_0$: NON presenta radice unitaria\n",
    "* $H_1$: la serie presenta una o più radici unitarie"
   ]
  },
  {
   "cell_type": "code",
   "execution_count": null,
   "metadata": {},
   "outputs": [],
   "source": [
    "from statsmodels.tsa.stattools import kpss\n",
    "kpss_test = kpss(airpassengers[\"Passengers\"], regression = 'ct', nlags = 13, )"
   ]
  },
  {
   "cell_type": "markdown",
   "metadata": {},
   "source": [
    "**N.B.**\n",
    "* Cosa è *nlags*? I **lag** sono le distanze tra le unità temporali, tra $X_{t0}$ e $X_{t3}$ ci sono 3 lag.\n",
    "* Perchè proprio 13? La formula che usa statsmodel per scegliere i lag è $(12 * (n / 100) ^\\frac{1}{4})$ dove $n$ sono le osservazioni."
   ]
  },
  {
   "cell_type": "code",
   "execution_count": null,
   "metadata": {},
   "outputs": [],
   "source": [
    "kpss_test"
   ]
  },
  {
   "cell_type": "code",
   "execution_count": null,
   "metadata": {},
   "outputs": [],
   "source": [
    "hypothesis(round(kpss_test[1],2), alpha=0.05)"
   ]
  },
  {
   "cell_type": "markdown",
   "metadata": {},
   "source": [
    "Anche questo test ci suggerisce che la serie **presenta** una radice unitaria."
   ]
  },
  {
   "cell_type": "markdown",
   "metadata": {},
   "source": [
    "### Rimozione del trend\n",
    "Visto il trend lineare, dovrebbe essere sufficiente calcolare la [differenziazione](https://en.wikipedia.org/wiki/Stationary_process#Differencing) prima che dovrebbe mitigare se non eliminare l'effetto trend.\n",
    "<br>\n",
    "Per avere conferma dell'efficacia della differenziazione ripeteremo i test sulla serie differenziata."
   ]
  },
  {
   "cell_type": "code",
   "execution_count": null,
   "metadata": {},
   "outputs": [],
   "source": [
    "stat = airpassengers[\"Passengers\"].diff()"
   ]
  },
  {
   "cell_type": "code",
   "execution_count": null,
   "metadata": {},
   "outputs": [],
   "source": [
    "plt.figure(figsize=(16,8))\n",
    "plt.plot(stat)\n",
    "plt.title(\"Airpassengers senza effetto trend\")"
   ]
  },
  {
   "cell_type": "markdown",
   "metadata": {},
   "source": [
    "Come possiamo vedere dal plot la serie ora si muove intorno allo zero."
   ]
  },
  {
   "cell_type": "code",
   "execution_count": null,
   "metadata": {},
   "outputs": [],
   "source": [
    "adf_stat = adfuller(stat.values[1:])\n",
    "print(\"p-value: \", round(adf_stat[1], 2))\n",
    "hypothesis(p_value=round(adf_stat[1], 2), alpha=0.05)"
   ]
  },
  {
   "cell_type": "code",
   "execution_count": null,
   "metadata": {},
   "outputs": [],
   "source": [
    "kpss_stat = kpss(stat.values[1:], nlags=\"legacy\")\n",
    "print(\"p-value: \", round(kpss_stat[1], 2))\n",
    "hypothesis(p_value=round(kpss_stat[1], 2), alpha=0.05)"
   ]
  },
  {
   "cell_type": "markdown",
   "metadata": {},
   "source": [
    "Possiamo affermare che dopo la differenziazione prima la serie **non presenta la radice unitaria**, è stato rimosso l'effetto trend.\n",
    "<br>\n",
    "**N.B. avrete notato che arrotondo il p-value a due cifre, questo per non essere portato a rigettare H0 per uno scarto minimo. Potrebbe essere un errore.**"
   ]
  }
 ],
 "metadata": {
  "kernelspec": {
   "display_name": "Python 3",
   "language": "python",
   "name": "python3"
  },
  "language_info": {
   "codemirror_mode": {
    "name": "ipython",
    "version": 3
   },
   "file_extension": ".py",
   "mimetype": "text/x-python",
   "name": "python",
   "nbconvert_exporter": "python",
   "pygments_lexer": "ipython3",
   "version": "3.8.5"
  }
 },
 "nbformat": 4,
 "nbformat_minor": 2
}
