{
 "cells": [
  {
   "cell_type": "markdown",
   "metadata": {},
   "source": [
    "## Completare i periodi\n",
    "\n",
    "Può capitare che lavorando con le serie storiche si possa incappare in buchi nella fase di raccolta dei dati e i modelli possono essere sensibili a queste mancanze.\n",
    "\n",
    "Vediamo un semplicissimo metodo per completare le sequenze. Prima di tutto creiamo una sequenza in cui mancano delle date utilizzando la funzione *period_range* di Pandas."
   ]
  },
  {
   "cell_type": "code",
   "execution_count": null,
   "metadata": {},
   "outputs": [],
   "source": [
    "import pyforest"
   ]
  },
  {
   "cell_type": "code",
   "execution_count": null,
   "metadata": {},
   "outputs": [],
   "source": [
    "# 9 giorni a partire dal 12 gennaio\n",
    "index = pd.period_range('1/12/2000', periods=9, freq='D')\n",
    "s1 = pd.Series(range(9), index=index)"
   ]
  },
  {
   "cell_type": "code",
   "execution_count": null,
   "metadata": {},
   "outputs": [],
   "source": [
    "# cinque giorni dal 1 gennaio\n",
    "index = pd.period_range('1/1/2000', periods=5, freq='D')\n",
    "s2 = pd.Series(range(5), index=index)"
   ]
  },
  {
   "cell_type": "code",
   "execution_count": null,
   "metadata": {},
   "outputs": [],
   "source": [
    "# concateniamo le serie e creiamo un data frame\n",
    "series=s2.append(s1)\n",
    "df = series.reset_index()\n",
    "df.columns = ['data','values']\n",
    "\n",
    "df"
   ]
  },
  {
   "cell_type": "markdown",
   "metadata": {},
   "source": [
    "Ora abbiamo un nuovo DataFrame con due colonne indicanti:\n",
    "* periodo\n",
    "* valore\n",
    "\n",
    "In totale 14 osservazioni ed un *\"buio\"* di 5 giorni, dal 6 all'11 gennaio 2000.\n",
    "\n",
    "Di seguito vedremo come completare la parte mancante, per prima cosa creiamo un nuovo DataFrame che contiene le date di tutto il periodo."
   ]
  },
  {
   "cell_type": "code",
   "execution_count": null,
   "metadata": {},
   "outputs": [],
   "source": [
    "idx = pd.DataFrame(pd.period_range(min(df[\"data\"]), max(df[\"data\"])))\n",
    "idx.columns = [\"data\"]\n",
    "\n",
    "idx"
   ]
  },
  {
   "cell_type": "markdown",
   "metadata": {},
   "source": [
    "Di seguito facciamo una left join tra il DataFrame contenente tutte le date del periodo d'osservazione e quello originale.\n",
    "\n",
    "<br>\n",
    "\n",
    "![merge](https://pandas.pydata.org/pandas-docs/stable/_images/merging_merge_on_key.png)\n",
    "\n",
    "<br>\n",
    "\n",
    "[Image Credits](https://pandas.pydata.org/pandas-docs/stable/user_guide/merging.html)"
   ]
  },
  {
   "cell_type": "code",
   "execution_count": null,
   "metadata": {},
   "outputs": [],
   "source": [
    "df_complete = pd.merge(idx, df, on = \"data\", how = 'left')\n",
    "\n",
    "df_complete"
   ]
  },
  {
   "cell_type": "markdown",
   "metadata": {},
   "source": [
    "Ora abbiamo tutte le date della nostra serie storica e non ci resta che decidere come imputare i valori mancanti."
   ]
  }
 ],
 "metadata": {
  "kernelspec": {
   "display_name": "Python 3.6.8 64-bit",
   "language": "python",
   "name": "python36864bit36724f3ce08e41639a90b1f10ea73696"
  },
  "language_info": {
   "codemirror_mode": {
    "name": "ipython",
    "version": 3
   },
   "file_extension": ".py",
   "mimetype": "text/x-python",
   "name": "python",
   "nbconvert_exporter": "python",
   "pygments_lexer": "ipython3",
   "version": "3.6.8"
  }
 },
 "nbformat": 4,
 "nbformat_minor": 2
}
