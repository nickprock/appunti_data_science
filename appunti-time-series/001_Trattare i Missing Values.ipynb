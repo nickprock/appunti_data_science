{
 "cells": [
  {
   "cell_type": "markdown",
   "metadata": {},
   "source": [
    "# Trattare i Missing Values\n",
    "## Introduzione"
   ]
  },
  {
   "cell_type": "markdown",
   "metadata": {},
   "source": [
    "Il trattamento e l'imputazione dei valori mancanti (missing values) è uno step molto delicato per ogni progetto di data science.\n",
    "\n",
    "Esistono diverse strategie per l'imputazione e tutte possono portare a errori perchè si sta introducendo un dato **\"artificiale\"**.\n",
    ">Un consiglio che viene dato spesso è, in fase di imputazione di valori mancanti creare per ogni feature che si tratta una nuova variabile booleana \"*nomeFeature_isMissing*\" per tracciare quali valori sono reali e quali indotti durante il processo di cleaning.\n",
    "\n",
    "Solitamente gli step che vengono seguiti in questa fase del preprocessing del dataset sono i seguenti:\n",
    "* Se la percentuale di valori mancanti è alta (la soglia varia a seconda del contesto) non si può considerare la variabile, quindi viene eliminata uan feature\n",
    "* Non eliminare mai l'intera osservazione a meno che non abbia valori mancanti su ogni feature\n",
    "* Scegliete una tecnica di imputazione basandovi sul tipo di dato e fenomeno che si sta trattando\n",
    "\n",
    "Lo strumento Python più utilizzato per questo compito è il [SimpleImputer di scikit-learn](https://scikit-learn.org/stable/modules/generated/sklearn.impute.SimpleImputer.html) che offre quattro strategie di sostituzione:\n",
    "1. sostituire i missing values con la media\n",
    "2. sostituire i missing values con la mediana\n",
    "3. sostituire i missing values con la moda\n",
    "4. sostituire i missing values con una costante\n",
    "\n",
    "C'è una cosa da osservare, nessuna delle strategie descritte si adatta bene allo studio delle serie storiche. Per *dimostrare* questa affermazione faremo un test utilizzando la serie storica [**Airpassenger**](https://stat.ethz.ch/R-manual/R-devel/library/datasets/html/AirPassengers.html), una sequenza mensile del numero di passeggeri sui voli internazionali tra il 1949 e il 1960."
   ]
  },
  {
   "cell_type": "markdown",
   "metadata": {},
   "source": [
    "## Creazione di Missing Values"
   ]
  },
  {
   "cell_type": "code",
   "execution_count": null,
   "metadata": {},
   "outputs": [],
   "source": [
    "import pandas as pd\n",
    "import numpy as np\n",
    "import matplotlib.pyplot as plt\n",
    "%matplotlib inline"
   ]
  },
  {
   "cell_type": "code",
   "execution_count": null,
   "metadata": {},
   "outputs": [],
   "source": [
    "import warnings\n",
    "warnings.filterwarnings(\"ignore\")"
   ]
  },
  {
   "cell_type": "markdown",
   "metadata": {},
   "source": [
    "Per prima cosa carichiamo la serie e vediamo:\n",
    "* i primi 5 valori\n",
    "* il plot dell'originale"
   ]
  },
  {
   "cell_type": "code",
   "execution_count": null,
   "metadata": {},
   "outputs": [],
   "source": [
    "airpassengers = pd.read_csv(\"airpassenger.csv\", index_col = 0 )\n",
    "airpassengers.columns = [\"Passengers\"]\n",
    "airpassengers.head()"
   ]
  },
  {
   "cell_type": "code",
   "execution_count": null,
   "metadata": {},
   "outputs": [],
   "source": [
    "plt.figure(figsize=(16,8))\n",
    "plt.plot(range(airpassengers.shape[0]), airpassengers[\"Passengers\"].values, color='tab:red')\n",
    "plt.gca().set(title=\"Airpassengers\", xlabel=\"Time\", ylabel=\"Passengers\")\n",
    "plt.show()"
   ]
  },
  {
   "cell_type": "markdown",
   "metadata": {},
   "source": [
    "Successivamente generiamo una serie di 10 interi random. Sono le posizioni in cui andremo ad inserire i missing values. Infine vediamo il plot della nuova serie."
   ]
  },
  {
   "cell_type": "code",
   "execution_count": null,
   "metadata": {},
   "outputs": [],
   "source": [
    "airpassengers_MV = airpassengers.copy()"
   ]
  },
  {
   "cell_type": "markdown",
   "metadata": {},
   "source": [
    "La funzione che genera gli indici per i missing value è casuale quindi ad ogni utilizzo del notebook la loro posizione cambierà."
   ]
  },
  {
   "cell_type": "code",
   "execution_count": null,
   "metadata": {},
   "outputs": [],
   "source": [
    "na_index = np.random.randint(0, airpassengers.shape[0]-1, 10)"
   ]
  },
  {
   "cell_type": "code",
   "execution_count": null,
   "metadata": {},
   "outputs": [],
   "source": [
    "airpassengers_MV.iloc[na_index,0] = np.nan"
   ]
  },
  {
   "cell_type": "code",
   "execution_count": null,
   "metadata": {},
   "outputs": [],
   "source": [
    "plt.figure(figsize=(16,8))\n",
    "plt.plot(range(airpassengers.shape[0]), airpassengers_MV[\"Passengers\"].values, color='tab:blue')\n",
    "plt.gca().set(title=\"Airpassengers - Missing Values\", xlabel=\"Time\", ylabel=\"Passengers\")\n",
    "plt.show()"
   ]
  },
  {
   "cell_type": "markdown",
   "metadata": {},
   "source": [
    "## Imputazione dei missing values"
   ]
  },
  {
   "cell_type": "markdown",
   "metadata": {},
   "source": [
    "Di seguito verranno testate sulla serie tutte le strategie proposte da SimpleImputer di Scikit-learn."
   ]
  },
  {
   "cell_type": "markdown",
   "metadata": {},
   "source": [
    "### Sostituire i valori con la media"
   ]
  },
  {
   "cell_type": "code",
   "execution_count": null,
   "metadata": {},
   "outputs": [],
   "source": [
    "airpassengers_mean = airpassengers_MV.copy()"
   ]
  },
  {
   "cell_type": "code",
   "execution_count": null,
   "metadata": {},
   "outputs": [],
   "source": [
    "airpassengers_MV[\"Passengers\"].mean()"
   ]
  },
  {
   "cell_type": "code",
   "execution_count": null,
   "metadata": {},
   "outputs": [],
   "source": [
    "airpassengers_mean.iloc[na_index,0] = airpassengers_MV[\"Passengers\"].mean()"
   ]
  },
  {
   "cell_type": "code",
   "execution_count": null,
   "metadata": {},
   "outputs": [],
   "source": [
    "plt.figure(figsize=(16,8))\n",
    "plt.plot(range(airpassengers.shape[0]), airpassengers_mean[\"Passengers\"].values, color='tab:blue')\n",
    "plt.gca().set(title=\"Airpassengers - Missing values sostituiti con la media\", xlabel=\"Time\", ylabel=\"Passengers\")\n",
    "plt.show()"
   ]
  },
  {
   "cell_type": "markdown",
   "metadata": {},
   "source": [
    "Questo approccio risente molto del trend, Airpassenger è una serie con trend lineare crescente e un effetto stagionale moltiplicativo (le *onde* sono sempre più alte ogni anno), l'approccio dell'imputazione utilizzando la media crea picchi all'inizio della sequenza e valli sul finire, anche se queste ultime sono molto meno evidenti dei primi. Se la serie fosse ancora più lunga questo fenomeno sarebbe sempre più marcato."
   ]
  },
  {
   "cell_type": "markdown",
   "metadata": {},
   "source": [
    "### Sostituire i valori con la mediana"
   ]
  },
  {
   "cell_type": "markdown",
   "metadata": {},
   "source": [
    "La mediana è una misura più robusta ai valori anomali rispetto alla media ma in questo caso produrrà lo stesso fenomeno. Questo è dovuto alla natura del dato, una serie con trend crescente e stagionalità."
   ]
  },
  {
   "cell_type": "code",
   "execution_count": null,
   "metadata": {},
   "outputs": [],
   "source": [
    "airpassengers_median = airpassengers_MV.copy()"
   ]
  },
  {
   "cell_type": "code",
   "execution_count": null,
   "metadata": {},
   "outputs": [],
   "source": [
    "airpassengers_MV[\"Passengers\"].median()"
   ]
  },
  {
   "cell_type": "markdown",
   "metadata": {},
   "source": [
    "Essendo più bassa della media, la mediana produrrà picchi meno vistosi e valli più profonde."
   ]
  },
  {
   "cell_type": "code",
   "execution_count": null,
   "metadata": {},
   "outputs": [],
   "source": [
    "airpassengers_median.iloc[na_index,0] = airpassengers_MV[\"Passengers\"].median()"
   ]
  },
  {
   "cell_type": "code",
   "execution_count": null,
   "metadata": {},
   "outputs": [],
   "source": [
    "plt.figure(figsize=(16,8))\n",
    "plt.plot(range(airpassengers.shape[0]), airpassengers_median[\"Passengers\"].values, color='tab:blue')\n",
    "plt.gca().set(title=\"Airpassengers - Missing values sostituiti con la mediana\", xlabel=\"Time\", ylabel=\"Passengers\")\n",
    "plt.show()"
   ]
  },
  {
   "cell_type": "markdown",
   "metadata": {},
   "source": [
    "**Le strategie con media e mediana possono essere chiaramente scartate per l'imputazione di missing values nelle serie storiche**"
   ]
  },
  {
   "cell_type": "markdown",
   "metadata": {},
   "source": [
    "### Sostituire i valori con il più frequente"
   ]
  },
  {
   "cell_type": "markdown",
   "metadata": {},
   "source": [
    "In statistica il valore più frequente in una variabile si chiama MODA. Questa è una strategia ottima per variabili categoriali, sicuramente non per le serie storiche. Vediamo cosa succede."
   ]
  },
  {
   "cell_type": "code",
   "execution_count": null,
   "metadata": {},
   "outputs": [],
   "source": [
    "airpassengers_mode = airpassengers_MV.copy()"
   ]
  },
  {
   "cell_type": "code",
   "execution_count": null,
   "metadata": {},
   "outputs": [],
   "source": [
    "airpassengers_MV[\"Passengers\"].mode()[0]"
   ]
  },
  {
   "cell_type": "markdown",
   "metadata": {},
   "source": [
    "Un valore a 229 potrebbe far passare inosservati i picchi. Il trend cresce linearmente e la stagionalità ha un effetto moltiplicativo, la moda in questo caso è un valore più basso della media, ma anche della mediana. Sembra dare un andamento quasi naturale alla serie nella parte centrale, ma quando il valore mancante si trova nei primi/ultimi periodi l'errore sistematico è evidente."
   ]
  },
  {
   "cell_type": "code",
   "execution_count": null,
   "metadata": {},
   "outputs": [],
   "source": [
    "airpassengers_mode.iloc[na_index,0] = airpassengers_MV[\"Passengers\"].mode()[0]"
   ]
  },
  {
   "cell_type": "code",
   "execution_count": null,
   "metadata": {},
   "outputs": [],
   "source": [
    "plt.figure(figsize=(16,8))\n",
    "plt.plot(range(airpassengers.shape[0]), airpassengers_mode[\"Passengers\"].values, color='tab:blue')\n",
    "plt.gca().set(title=\"Airpassengers - Missing values sostituiti con la moda\", xlabel=\"Time\", ylabel=\"Passengers\")\n",
    "plt.show()"
   ]
  },
  {
   "cell_type": "markdown",
   "metadata": {},
   "source": [
    "**N.B. Questa strategia, \"Most Frequent\", è molto utile se si hanno missing in variabili categoriali, un'altra strategia in questi casi può essere applicare un modello di Machine Learning (es. KNN) usando come target la variabile in cui dobbiamo sostituire i missing values e come features tutte le altre. \n",
    "<br>\n",
    "Creare il training set per allenare il modello sui non missing e applicarlo sul test, ovvero le osservazioni che presentano i missing values**"
   ]
  },
  {
   "cell_type": "markdown",
   "metadata": {},
   "source": [
    "### Sostituire i valori con una costante"
   ]
  },
  {
   "cell_type": "markdown",
   "metadata": {},
   "source": [
    "In questo caso il problema che si pone immediatamente è *che costante utilizzare?*"
   ]
  },
  {
   "cell_type": "markdown",
   "metadata": {},
   "source": [
    "#### Sostituire con zero\n",
    "\n",
    "Lo zero solitamente è sconsigliatissimo perchè non si capisce se è assenza di valore o presenza pari a zero, crea molta abiguità.\n",
    "\n",
    ">*Esempio: presenza ad eventi, se viene effettuata la sotituzione con zero non si riesce più a riconoscere se è un dato imputato o effettivamente c'è presenza zero (in aggiunta al restante errore indotto).*"
   ]
  },
  {
   "cell_type": "code",
   "execution_count": null,
   "metadata": {},
   "outputs": [],
   "source": [
    "airpassengers_costant = airpassengers_MV.copy()"
   ]
  },
  {
   "cell_type": "code",
   "execution_count": null,
   "metadata": {},
   "outputs": [],
   "source": [
    "airpassengers_costant.iloc[na_index,0] = 0"
   ]
  },
  {
   "cell_type": "code",
   "execution_count": null,
   "metadata": {},
   "outputs": [],
   "source": [
    "plt.figure(figsize=(16,8))\n",
    "plt.plot(range(airpassengers.shape[0]), airpassengers_costant[\"Passengers\"].values, color='tab:blue')\n",
    "plt.gca().set(title=\"Airpassengers - Missing values sostituiti con zero\", xlabel=\"Time\", ylabel=\"Passengers\")\n",
    "plt.show()"
   ]
  },
  {
   "cell_type": "markdown",
   "metadata": {},
   "source": [
    "#### Sostituire con il valore massimo nella serie"
   ]
  },
  {
   "cell_type": "code",
   "execution_count": null,
   "metadata": {},
   "outputs": [],
   "source": [
    "airpassengers_costant.iloc[na_index,0] = airpassengers_MV.max()[0]"
   ]
  },
  {
   "cell_type": "code",
   "execution_count": null,
   "metadata": {},
   "outputs": [],
   "source": [
    "plt.figure(figsize=(16,8))\n",
    "plt.plot(range(airpassengers.shape[0]), airpassengers_costant[\"Passengers\"].values, color='tab:blue')\n",
    "plt.gca().set(title=\"Airpassengers - Missing values sostituiti con il massimo\", xlabel=\"Time\", ylabel=\"Passengers\")\n",
    "plt.show()"
   ]
  },
  {
   "cell_type": "markdown",
   "metadata": {},
   "source": [
    "#### Sostituire con il valore minimo nella serie"
   ]
  },
  {
   "cell_type": "code",
   "execution_count": null,
   "metadata": {},
   "outputs": [],
   "source": [
    "airpassengers_costant.iloc[na_index,0] = airpassengers_MV.min()[0]"
   ]
  },
  {
   "cell_type": "code",
   "execution_count": null,
   "metadata": {},
   "outputs": [],
   "source": [
    "plt.figure(figsize=(16,8))\n",
    "plt.plot(range(airpassengers.shape[0]), airpassengers_costant[\"Passengers\"].values, color='tab:blue')\n",
    "plt.gca().set(title=\"Airpassengers - Missing values sostituiti con il minimo\", xlabel=\"Time\", ylabel=\"Passengers\")\n",
    "plt.show()"
   ]
  },
  {
   "cell_type": "markdown",
   "metadata": {},
   "source": [
    "Come si intuisce immediatamente tutte e tre le strategie sono fallimentari."
   ]
  },
  {
   "cell_type": "markdown",
   "metadata": {},
   "source": [
    "### Sostituire i valori mediante Media Mobile"
   ]
  },
  {
   "cell_type": "markdown",
   "metadata": {},
   "source": [
    "La sostituzione dei valori utilizzando la [Media Mobile](https://it.wikipedia.org/wiki/Media_mobile) permette di imputare al valore mancante la media locale in un range deciso dall'analista.\n",
    "\n",
    "Data un serie storica ${y_t}$ con $t=(1, 2, ..., T)$, sia un generico elemento della serie $t$ un valore mancante e data una finestra temporale di dimensione $N$, siano:\n",
    "\n",
    "* $m_1$ gli $N$ periodi antecedenti il valore mancante\n",
    "* $m_2$ gli $N$ periodi successivi al valore mancante\n",
    "* $\\theta_i$ il peso da attribuire all'i-esimo valore osservato. (*Per noi sarà pari ad 1 visto che vogliamo una media aritmetica semplice*).\n",
    "\n",
    "Si definisce media mobile al tempo $t$:\n",
    "\n",
    "$mm_i$ = $\\frac{1}{k}$ $\\sum_{i=-m_1}^{m_2}$ $\\theta_i$ $y_{t+1}$\n",
    "\n",
    "Dove $k = {m_1} + {m_2} + 1$\n",
    "\n",
    "<br>\n",
    "\n",
    "Il metodo è un pò più esoso in termini di calcolo e presenta alcuni problemi che vanno risolti, ad esempio:\n",
    "* se manca il valore all'inizio o alla fine della serie?\n",
    "* se nel range indicato ci sono più valori mancanti?\n",
    "* se abbiamo missing values contigui?\n",
    "\n",
    "Fortunatamente in questo esempio non si presentano molti di questi, ma sta al data scientist scegliere quale soluzione applicare ad ogni domanda a seconda del contesto.\n",
    "<br>\n",
    "Nel nostro caso applichiamo un'interpolazione tra i tre valori prima e i tre valori dopo il missing value, gestendo i due casi:\n",
    "1. Il lower bound è negativo\n",
    "2. L'upper bound supera la lunghezza della serie."
   ]
  },
  {
   "cell_type": "code",
   "execution_count": null,
   "metadata": {},
   "outputs": [],
   "source": [
    "airpassengers_MA = airpassengers_MV.copy()\n",
    "steps = 3"
   ]
  },
  {
   "cell_type": "code",
   "execution_count": null,
   "metadata": {},
   "outputs": [],
   "source": [
    "for idx in na_index:\n",
    "    lower = idx - steps\n",
    "    upper = idx + steps + 1\n",
    "    if lower<0:\n",
    "        lower=0\n",
    "    if upper>airpassengers_MA.shape[0]:\n",
    "        upper=airpassengers_MA.shape[0]\n",
    "    \n",
    "    airpassengers_MA.iloc[idx,0] = airpassengers_MA.iloc[lower:upper,0].mean()"
   ]
  },
  {
   "cell_type": "code",
   "execution_count": null,
   "metadata": {},
   "outputs": [],
   "source": [
    "plt.figure(figsize=(16,8))\n",
    "plt.plot(range(airpassengers.shape[0]), airpassengers_MA[\"Passengers\"].values, color='tab:blue')\n",
    "plt.gca().set(title=\"Airpassengers - Missing values sostituiti per Media Mobile\", xlabel=\"Time\", ylabel=\"Passengers\")\n",
    "plt.show()"
   ]
  },
  {
   "cell_type": "markdown",
   "metadata": {},
   "source": [
    "Confrontando i risultati con la serie originale si può notare che questa soluzione è molto più performante delle precedenti.\n",
    "* Rosso: serie Originale\n",
    "* Blu: serie con trattamento dei missing values"
   ]
  },
  {
   "cell_type": "code",
   "execution_count": null,
   "metadata": {},
   "outputs": [],
   "source": [
    "plt.figure(figsize=(16,8))\n",
    "plt.plot(range(airpassengers.shape[0]), airpassengers[\"Passengers\"].values, color='tab:red')\n",
    "plt.plot(range(airpassengers.shape[0]), airpassengers_MA[\"Passengers\"].values, color='tab:blue')\n",
    "plt.gca().set(title=\"CONFRONTO: Airpassengers - Missing values sostituiti per Media Mobile\", xlabel=\"Time\", ylabel=\"Passengers\")\n",
    "plt.show()"
   ]
  },
  {
   "cell_type": "markdown",
   "metadata": {},
   "source": [
    "**Imputare un valore mancante introduce sempre errore sistematico, si può solo scegliere la strategia più adatta per minimizzarlo.**"
   ]
  }
 ],
 "metadata": {
  "kernelspec": {
   "display_name": "Python 3",
   "language": "python",
   "name": "python3"
  },
  "language_info": {
   "codemirror_mode": {
    "name": "ipython",
    "version": 3
   },
   "file_extension": ".py",
   "mimetype": "text/x-python",
   "name": "python",
   "nbconvert_exporter": "python",
   "pygments_lexer": "ipython3",
   "version": "3.8.5"
  }
 },
 "nbformat": 4,
 "nbformat_minor": 2
}
