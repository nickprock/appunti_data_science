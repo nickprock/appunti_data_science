{
 "cells": [
  {
   "cell_type": "markdown",
   "metadata": {},
   "source": [
    "# Facebook Prophet\n",
    "## Breve Intro\n",
    "<br>\n",
    "\n",
    "Facebook Prophet è una libreria (R e Python *rilasciato sotto licenza MIT*) per lo studio di serie storiche univariate mediante [modelli GAM](https://en.wikipedia.org/wiki/Generalized_additive_model) sviluppata da Facebook. Potete trovare maggiori info sulla [pagina del progetto](https://facebook.github.io/prophet/).\n",
    "<br>\n",
    "Il modello additivo è una generalizzazione del modello di regressione lineare. Nello studio delle serie storiche il principio di base è sostituire la classica funzione lineare di una covariata con la funzione di smooth.\n",
    "<br>\n",
    "L’additività del modello consiste in una somma di tali funzioni, inoltre è più elastico dei classici modelli in quanto non impone rigide forme parametriche sulle funzioni ma ne fornisce una stima in modo iterativo.\n",
    "<br>\n",
    "Per installare prophet:\n",
    "```\n",
    "conda install -c conda-forge fbprophet\n",
    "```\n",
    "**N.B. pyforest è una libreria molto comoda che importa in una sola volta le librerie pandas, numpy, scipy, matplotlib e i rispettivi alias.**\n",
    "<br>[Per maggiori info](https://pypi.org/project/pyforest/)"
   ]
  },
  {
   "cell_type": "code",
   "execution_count": null,
   "metadata": {},
   "outputs": [],
   "source": [
    "from pyforest import *\n",
    "from fbprophet import Prophet\n",
    "%matplotlib inline"
   ]
  },
  {
   "cell_type": "markdown",
   "metadata": {},
   "source": [
    "## Prophet su Airpassenger\n",
    "<br>\n",
    "Per prima cosa vediamo come si comporta Prophet su una serie mensile.\n",
    "<br>\n",
    "\n",
    "Airpassengers è una serie univariata, ha un trend lineare e un *effetto stagionalità* ***moltiplicativo.***"
   ]
  },
  {
   "cell_type": "code",
   "execution_count": null,
   "metadata": {},
   "outputs": [],
   "source": [
    "airpassengers = pd.read_csv(\"airpassenger.csv\")\n",
    "airpassengers.head()"
   ]
  },
  {
   "cell_type": "code",
   "execution_count": null,
   "metadata": {},
   "outputs": [],
   "source": [
    "plt.figure(figsize=(16,8))\n",
    "plt.plot(range(airpassengers.shape[0]), airpassengers[\"#Passengers\"].values, color='tab:blue')\n",
    "plt.gca().set(title=\"Airpassengers\", xlabel=\"Time\", ylabel=\"Passengers\")\n",
    "plt.show()"
   ]
  },
  {
   "cell_type": "markdown",
   "metadata": {},
   "source": [
    "Per prima cosa vanno cambiati i nomi delle variabili. Prophet vuole che i nomi siano prefissati:\n",
    "* **ds**: la colonna del tempo\n",
    "* **y**: la colonna dei valori"
   ]
  },
  {
   "cell_type": "code",
   "execution_count": null,
   "metadata": {},
   "outputs": [],
   "source": [
    "airpassengers.rename(columns={\"Month\":\"ds\", \"#Passengers\":\"y\"}, inplace=True)"
   ]
  },
  {
   "cell_type": "markdown",
   "metadata": {},
   "source": [
    "Dagli esempi che si trovano più facilmente online sembra che Prophet non abbia bisogno del setting dei parametri perchè fa tutto in automatico essendo rivolto in particolare ai *citizen data scientist*, poi scandagliando meglio si trovano molti **tricks & tips** interessanti."
   ]
  },
  {
   "cell_type": "code",
   "execution_count": null,
   "metadata": {},
   "outputs": [],
   "source": [
    "model = Prophet(growth=\"linear\", n_changepoints=15, changepoint_range=0.5, yearly_seasonality=12, seasonality_mode=\"multiplicative\", \n",
    "                changepoint_prior_scale=0.01, interval_width=0.95)"
   ]
  },
  {
   "cell_type": "markdown",
   "metadata": {},
   "source": [
    "I parametri settati sono:\n",
    "* growth: abbiamo lasciato il valore di default visto che il nostro dataset non presenta asintoti, in caso di un fenomeno che arriva a saturazione o ad un minimo si può utilizzare la \"logistic\" e impostare il limite (sia maggiore \"cap\" che minore \"floor\")\n",
    "* changepoints: vogliamo la ricerca automatica, abbassiamo i valori di default, quindi cerchiamo 15 changepoints nel primo 50% della serie (sappiamo già che il trend è lineare quindi questo andrà a cercare dei sub-trend **sbagliando**)\n",
    "* yearly_seasonality: la stagionalità stimata usando le serie di Fourier, solitamente il setting è su 'auto' ma vogliamo fare un test dando un valore\n",
    "* seasonality_mode: sappiamo che l'effetto è moltiplicativo\n",
    "* changepoint_prior_scale: di default a 0.05, più si avvicina a 0 più il trend diventa flessibile, abbiamo abbassato un pò il valore\n",
    "* interval_width: solitamente gli intervalli sono all'80% noi stringiamo\n",
    "<br>\n",
    "\n",
    "Per maggiore approfondimento sui restanti parametri [consultare la pagina ufficiale](https://facebook.github.io/prophet/docs/quick_start.html)"
   ]
  },
  {
   "cell_type": "code",
   "execution_count": null,
   "metadata": {},
   "outputs": [],
   "source": [
    "model.fit(airpassengers)"
   ]
  },
  {
   "cell_type": "markdown",
   "metadata": {},
   "source": [
    "Come possiamo leggere la funzione 'auto' ha disabilitato la stagionalità settimanale e giornaliera avendo una granularità del dato mensile.\n",
    "<br>\n",
    "Ora creiamo un nuovo dataset su cui fare le previsioni con una apposita funzione di Prophet."
   ]
  },
  {
   "cell_type": "code",
   "execution_count": null,
   "metadata": {},
   "outputs": [],
   "source": [
    "future = model.make_future_dataframe(periods=24, freq='M', include_history=True)"
   ]
  },
  {
   "cell_type": "markdown",
   "metadata": {},
   "source": [
    "I parametri:\n",
    "* periods: quanti periodi voglimo predire\n",
    "* freq: la frequenza di campionamento, in questo caso M perchè mensile, se fosse stato bimestrale '2M'.\n",
    "* include_history: True crea un DataFrame che include le date del train più i periodi da predire"
   ]
  },
  {
   "cell_type": "code",
   "execution_count": null,
   "metadata": {},
   "outputs": [],
   "source": [
    "forecast = model.predict(future)"
   ]
  },
  {
   "cell_type": "markdown",
   "metadata": {},
   "source": [
    "Vediamo il DataFrame creato e successivamente usiamo la funzione plot di Prophet per avere un riscontro grafico."
   ]
  },
  {
   "cell_type": "code",
   "execution_count": null,
   "metadata": {},
   "outputs": [],
   "source": [
    "forecast.head()"
   ]
  },
  {
   "cell_type": "code",
   "execution_count": null,
   "metadata": {},
   "outputs": [],
   "source": [
    "forecast.tail()"
   ]
  },
  {
   "cell_type": "code",
   "execution_count": null,
   "metadata": {},
   "outputs": [],
   "source": [
    "model.plot(forecast)"
   ]
  },
  {
   "cell_type": "markdown",
   "metadata": {},
   "source": [
    "Come possiamo vedere la nostra previsione \"rasenta\" l'overfitting.\n",
    "<br>\n",
    "Prophet è molto comodo per le serie con granularità sotto il giorno e alta frequenza di campionamento. Vediamo di seguito come si comporta con una serie storica estratta da un sensore della temperatura:\n",
    "* campionamento a 10 minuti\n",
    "* prenderemo solo una porzione del dataset, tre anni"
   ]
  },
  {
   "cell_type": "code",
   "execution_count": null,
   "metadata": {},
   "outputs": [],
   "source": [
    "from tensorflow.keras.utils import get_file\n",
    "import os"
   ]
  },
  {
   "cell_type": "code",
   "execution_count": null,
   "metadata": {},
   "outputs": [],
   "source": [
    "zip_path = tf.keras.utils.get_file(\n",
    "    origin='https://storage.googleapis.com/tensorflow/tf-keras-datasets/jena_climate_2009_2016.csv.zip',\n",
    "    fname='jena_climate_2009_2016.csv.zip',\n",
    "    extract=True)\n",
    "csv_path, _ = os.path.splitext(zip_path)\n",
    "jena = pd.read_csv(csv_path)"
   ]
  },
  {
   "cell_type": "code",
   "execution_count": null,
   "metadata": {},
   "outputs": [],
   "source": [
    "jena.head()"
   ]
  },
  {
   "cell_type": "code",
   "execution_count": null,
   "metadata": {},
   "outputs": [],
   "source": [
    "temp = jena[[\"Date Time\", \"T (degC)\"]].copy()\n",
    "temp.rename(columns={\"Date Time\":\"ds\", \"T (degC)\":\"y\"}, inplace = True)\n",
    "temp.shape"
   ]
  },
  {
   "cell_type": "code",
   "execution_count": null,
   "metadata": {},
   "outputs": [],
   "source": [
    "plt.figure(figsize=(16,8))\n",
    "plt.plot(range(temp.shape[0]), temp[\"y\"].values, color='tab:blue')\n",
    "plt.gca().set(title=\"Jena Climate\", xlabel=\"Time\", ylabel=\"Temp\")"
   ]
  },
  {
   "cell_type": "markdown",
   "metadata": {},
   "source": [
    "Il campionamento è ogni 10 minuti quindi per avere 3 mesi 6 x 24 x 90 = 52560 osservazioni"
   ]
  },
  {
   "cell_type": "code",
   "execution_count": null,
   "metadata": {},
   "outputs": [],
   "source": [
    "temp_3y = temp.iloc[:12960,:]"
   ]
  },
  {
   "cell_type": "code",
   "execution_count": null,
   "metadata": {},
   "outputs": [],
   "source": [
    "plt.figure(figsize=(16,8))\n",
    "plt.plot(range(temp_3y.shape[0]), temp_3y[\"y\"].values, color='tab:blue')\n",
    "plt.gca().set(title=\"Jena Climate\", xlabel=\"Time\", ylabel=\"Temp\")"
   ]
  },
  {
   "cell_type": "markdown",
   "metadata": {},
   "source": [
    "Nel modello terrò quasi tutti i valori di default, tranne che per l'elasticità del trend, avendo una frequenza di campionamento alta verrà abbassato molto il valore del parametro.\n",
    "<br>\n",
    "Proveremo a predire 10 giorni."
   ]
  },
  {
   "cell_type": "code",
   "execution_count": null,
   "metadata": {},
   "outputs": [],
   "source": [
    "model_jena = Prophet(changepoint_prior_scale=0.01)"
   ]
  },
  {
   "cell_type": "code",
   "execution_count": null,
   "metadata": {},
   "outputs": [],
   "source": [
    "model_jena.fit(temp_3y)"
   ]
  },
  {
   "cell_type": "markdown",
   "metadata": {},
   "source": [
    "Una cosa che balza subito all'occhio è che ha effettivamente attivato la formula con effetto stagionale sia giornaliero che settimanale disabilitando quella annuale."
   ]
  },
  {
   "cell_type": "code",
   "execution_count": null,
   "metadata": {},
   "outputs": [],
   "source": [
    "future_jena = model_jena.make_future_dataframe(periods=1440, freq='10T')"
   ]
  },
  {
   "cell_type": "code",
   "execution_count": null,
   "metadata": {},
   "outputs": [],
   "source": [
    "forecast_jena = model_jena.predict(future_jena)"
   ]
  },
  {
   "cell_type": "code",
   "execution_count": null,
   "metadata": {},
   "outputs": [],
   "source": [
    "model_jena.plot(forecast_jena)"
   ]
  },
  {
   "cell_type": "code",
   "execution_count": null,
   "metadata": {},
   "outputs": [],
   "source": [
    "12960+1440"
   ]
  },
  {
   "cell_type": "code",
   "execution_count": null,
   "metadata": {},
   "outputs": [],
   "source": [
    "plt.figure(figsize=(16,8))\n",
    "plt.plot(range(1440), temp.loc[12960:14399,\"y\"].values, color='tab:blue')\n",
    "plt.plot(range(1440), forecast_jena.loc[12960:,\"yhat\"].values, color='tab:red')\n",
    "plt.gca().set(title=\"Jena Climate\", xlabel=\"Time\", ylabel=\"Temp\")"
   ]
  },
  {
   "cell_type": "markdown",
   "metadata": {},
   "source": [
    "Come si può vedere il modello sottostima il dato originale. Lascio a chi vuole provarci fare tuning del modello o preprocessing dei dati (che qui non abbiamo fatto).\n",
    "<br>\n",
    "Come sempre i feedback sono ben accetti!\n",
    "### BUON LAVORO!"
   ]
  },
  {
   "cell_type": "code",
   "execution_count": null,
   "metadata": {},
   "outputs": [],
   "source": []
  }
 ],
 "metadata": {
  "kernelspec": {
   "display_name": "Python 3",
   "language": "python",
   "name": "python3"
  },
  "language_info": {
   "codemirror_mode": {
    "name": "ipython",
    "version": 3
   },
   "file_extension": ".py",
   "mimetype": "text/x-python",
   "name": "python",
   "nbconvert_exporter": "python",
   "pygments_lexer": "ipython3",
   "version": "3.6.8"
  }
 },
 "nbformat": 4,
 "nbformat_minor": 2
}
