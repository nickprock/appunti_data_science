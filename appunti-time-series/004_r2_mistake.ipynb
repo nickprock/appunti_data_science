{
 "cells": [
  {
   "cell_type": "markdown",
   "metadata": {},
   "source": [
    "## $R^{2}$ mistake\n",
    "Una delle metriche per misurare le performance della curva di regressione, e quindi anche della previsione su serie temporali è $R^{2}$.\n",
    "<br>\n",
    "Prediamo la definizione direttamente da [Wikipedia](https://it.wikipedia.org/wiki/Coefficiente_di_determinazione):\n",
    "<br>\n",
    "*In statistica, il coefficiente di determinazione, (più comunemente $R^{2}$), è una proporzione tra la variabilità dei dati e la correttezza del modello statistico utilizzato. Esso misura la frazione della varianza della variabile dipendente espressa dalla regressione. Non esiste una definizione concordata di $R^{2}$. Nelle regressioni lineari semplici esso è semplicemente il quadrato del coefficiente di correlazione.*\n",
    "<br>\n",
    "\n",
    "In questo notebook vedremo come non sempre i valori alti di $R^{2}$ siano indice di buone previsioni ma semplicemente di un modello che non impara.\n",
    "<br>\n",
    "Per fare ciò **\"ammazzeremo le mosche col bazooka\"**, ovvero utilizzeremo una rete neurale MLP per fare previsione su Airpassengers."
   ]
  },
  {
   "cell_type": "code",
   "execution_count": null,
   "metadata": {},
   "outputs": [],
   "source": [
    "import pandas as pd\n",
    "import numpy as np\n",
    "import matplotlib.pyplot as plt\n",
    "%matplotlib inline"
   ]
  },
  {
   "cell_type": "code",
   "execution_count": null,
   "metadata": {},
   "outputs": [],
   "source": [
    "airpassengers = pd.read_csv(\"airpassenger.csv\")\n",
    "airpassengers.columns = [\"Time\",\"Passengers\"]\n",
    "airpassengers.head()"
   ]
  },
  {
   "cell_type": "code",
   "execution_count": null,
   "metadata": {},
   "outputs": [],
   "source": [
    "plt.figure(figsize=(16,8))\n",
    "plt.plot(range(airpassengers.shape[0]), airpassengers[\"Passengers\"].values, color='tab:blue')\n",
    "plt.gca().set(title=\"Airpassengers\", xlabel=\"Time\", ylabel=\"Passengers\")\n",
    "plt.show()"
   ]
  },
  {
   "cell_type": "markdown",
   "metadata": {},
   "source": [
    "Per prima cosa bisogna preparare i dati per la rete neurale. Non divideremo in train e test perchè in questo caso non ci interessa la previsione in se, quindi basta il lavoro sul train.\n",
    "<br>\n",
    "Le reti neurali lavorano con i tensori, le serie temporali sono tensori a tre dimensioni **[samples, timestep, features]**, nel nostro caso essendo univariata la features sarà pari ad uno.\n",
    "<br>\n",
    "Dividiamo la nostra serie in un N samples di dimensione 12 (timestep) e per ognuno di questi prevediamo il tredicesimo valore. Quindi ci serve un anno per predire un mese.\n",
    "<br>\n",
    "**Esempio:**\n",
    "[1,2,3,4,5,6,7,8,9,10] a timestep 3 diventa:\n",
    "* [1,2,3] [4]\n",
    "* [2,3,4] [5]\n",
    "* [3,4,5] [6]\n",
    "* ...\n",
    "<br>\n",
    "\n",
    "Per prima cosa estraiamo dal DataFrame la cofeatures con i valori creando un array numpy"
   ]
  },
  {
   "cell_type": "code",
   "execution_count": null,
   "metadata": {},
   "outputs": [],
   "source": [
    "airpassengers_array = airpassengers[\"Passengers\"].values"
   ]
  },
  {
   "cell_type": "code",
   "execution_count": null,
   "metadata": {},
   "outputs": [],
   "source": [
    "def split_sequence(sequence, n_steps=12):\n",
    "    X, y = list(), list()\n",
    "    for i in range(len(sequence)):\n",
    "        end_ix = i + n_steps\n",
    "        if end_ix > len(sequence)-1:\n",
    "            break\n",
    "        seq_x, seq_y = sequence[i:end_ix], sequence[end_ix]\n",
    "        X.append(seq_x)\n",
    "        y.append(seq_y)\n",
    "    return np.array(X), np.array(y)"
   ]
  },
  {
   "cell_type": "code",
   "execution_count": null,
   "metadata": {},
   "outputs": [],
   "source": [
    "X, y = split_sequence(airpassengers_array)"
   ]
  },
  {
   "cell_type": "markdown",
   "metadata": {},
   "source": [
    "Vediamo cosa ci restituisce la funzione. Avremo 132 vettori da 12 elementi in X e un vettore da 132 elementi in y."
   ]
  },
  {
   "cell_type": "code",
   "execution_count": null,
   "metadata": {},
   "outputs": [],
   "source": [
    "for i in range(len(X)):\n",
    "    print(X[i], y[i])"
   ]
  },
  {
   "cell_type": "markdown",
   "metadata": {},
   "source": [
    "Per il nostro esperimento proviamo a usare 3 mesi come timestep e predire il quarto.\n",
    "<br>\n",
    "Successivamente creiamo un Multilayer Perceptron abbastanza semplice con tf.keras"
   ]
  },
  {
   "cell_type": "code",
   "execution_count": null,
   "metadata": {},
   "outputs": [],
   "source": [
    "X, y = split_sequence(airpassengers_array, n_steps=3)"
   ]
  },
  {
   "cell_type": "code",
   "execution_count": null,
   "metadata": {},
   "outputs": [],
   "source": [
    "from tensorflow.keras.models import Sequential\n",
    "from tensorflow.keras.layers import Dense"
   ]
  },
  {
   "cell_type": "code",
   "execution_count": null,
   "metadata": {},
   "outputs": [],
   "source": [
    "model = Sequential()\n",
    "model.add(Dense(12, activation='relu', input_dim=3))\n",
    "model.add(Dense(8, activation='relu'))\n",
    "model.add(Dense(1))\n",
    "model.summary()"
   ]
  },
  {
   "cell_type": "markdown",
   "metadata": {},
   "source": [
    "Come possiamo vedere il modello è abbastanza semplice con due livelli nascosti ma ha già 161 parametri da allenare.\n",
    "<br>\n",
    "Breve parentesi, cosa sono i parametri? Sono le connessioni tra i neuroni.\n",
    "* noi abbiamo 3 \"nodi\" in input e 12 nel primo strato nascosto, quindi 3 x 12 = 36 connessioni + il bias, uno per ogni nodo hidden quindi altri 12 che sommati ai 36 fa 48.\n",
    "* Nel secondo strato 12 x 8 = 96 + 8 = 104\n",
    "* Infine un solo nodo di output trattandosi di regressione, quindi 8 archi entranti dallo strato hidden più quello del bias fanno 9.\n",
    "<br>\n",
    "\n",
    "**48 + 104 + 9 = 161**"
   ]
  },
  {
   "cell_type": "code",
   "execution_count": null,
   "metadata": {},
   "outputs": [],
   "source": [
    "model.compile(optimizer='adam', loss='mse')"
   ]
  },
  {
   "cell_type": "code",
   "execution_count": null,
   "metadata": {},
   "outputs": [],
   "source": [
    "model.fit(X, y, epochs = 200)"
   ]
  },
  {
   "cell_type": "markdown",
   "metadata": {},
   "source": [
    "Ora che abbiamo allenato il modello facciamo la previsione sullo stesso, è inusuale ma visto lo scopo del test và bene."
   ]
  },
  {
   "cell_type": "code",
   "execution_count": null,
   "metadata": {},
   "outputs": [],
   "source": [
    "yhat = model.predict(X)"
   ]
  },
  {
   "cell_type": "markdown",
   "metadata": {},
   "source": [
    "Calcoliamo $R^{2}$ tra i valori reali e i predetti, come vedremo sarà molto alto."
   ]
  },
  {
   "cell_type": "code",
   "execution_count": null,
   "metadata": {},
   "outputs": [],
   "source": [
    "from sklearn.metrics import r2_score"
   ]
  },
  {
   "cell_type": "code",
   "execution_count": null,
   "metadata": {},
   "outputs": [],
   "source": [
    "r2_score(y, yhat)"
   ]
  },
  {
   "cell_type": "markdown",
   "metadata": {},
   "source": [
    "Un $R^{2}$ del 90% si direbbe una buona previsione ma non lo è e per questo ci basta fare una veloce analisi grafica.\n",
    "<br>\n",
    "\n",
    "Come possiamo vedere il modello non ha imparato nulla ma ha solo **\"copiato\"** il valore al perido $t-1$ come previsione per $t$. Questo si verifica solitamente quando ci sono pochi valori e la rete neurale non riesce ad **apprendere** ovvero a tarare i pesi in modo da riprodurre uno schema."
   ]
  },
  {
   "cell_type": "code",
   "execution_count": null,
   "metadata": {},
   "outputs": [],
   "source": [
    "plt.figure(figsize=(16,8))\n",
    "plt.plot(range(len(y)), y, color='tab:blue')\n",
    "plt.plot(range(len(yhat)), yhat, color='tab:red')\n",
    "plt.gca().set(title=\"Airpassengers\", xlabel=\"Time\", ylabel=\"Passengers\")\n",
    "plt.show()"
   ]
  },
  {
   "cell_type": "markdown",
   "metadata": {},
   "source": [
    "Se volte provare un altro esperimento vi consiglio di:\n",
    "* utilizzare *split_sequence* con 12 steps come di default\n",
    "* allenare lo stesso modello o un modello simile\n",
    "* fare la previsione sul train\n",
    "<br>\n",
    "\n",
    "Questa soluzione dovrebbe andare in **overfitting** (e salire all'aumentare delle epoche di apprendimento)"
   ]
  },
  {
   "cell_type": "code",
   "execution_count": null,
   "metadata": {},
   "outputs": [],
   "source": []
  },
  {
   "cell_type": "markdown",
   "metadata": {},
   "source": [
    "**N.B. se volete approfondire il time series forecasting usando il MLP (sconsiglio questo tipo di rete neurale per il problema da affrontare) in Keras potete consultare [questo link](https://machinelearningmastery.com/time-series-prediction-with-deep-learning-in-python-with-keras/)**"
   ]
  }
 ],
 "metadata": {
  "kernelspec": {
   "display_name": "Python 3",
   "language": "python",
   "name": "python3"
  },
  "language_info": {
   "codemirror_mode": {
    "name": "ipython",
    "version": 3
   },
   "file_extension": ".py",
   "mimetype": "text/x-python",
   "name": "python",
   "nbconvert_exporter": "python",
   "pygments_lexer": "ipython3",
   "version": "3.6.8"
  }
 },
 "nbformat": 4,
 "nbformat_minor": 2
}
