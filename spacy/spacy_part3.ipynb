{
 "cells": [
  {
   "attachments": {},
   "cell_type": "markdown",
   "metadata": {},
   "source": [
    "# Processing Pipelines\n",
    "\n",
    "In questa parte andremo a vedere cosa succede sotto il cofano quando si utilizza una pipeline SpaCy.\n",
    "\n",
    "<br>\n",
    "\n",
    "![pipeline](https://course.spacy.io/pipeline.png)\n",
    "\n",
    "<br>\n",
    "\n",
    "Una pipeline è una serie di funzioni da applicare ad un doc per aggiungere attributi come POS-tag, dipendenze, ...\n",
    "\n",
    "Come si vede nell'immagine al momento la pipeline basica (SpaCy ha molte componenti da utilizzare in una pipeline) ha un testo in input poi in sequenza applica:\n",
    "* tokenizer: suddivide il testo in token\n",
    "* tagger: il POS tagging imposta i `token.tag` e `token.pos` (es. *\"Apple is based in California\"*, *Apple*: **POS**=PROPN e **TAG**=NNP) la differenza è che `.pos` e `.pos_` si riferiscono all'**universal POS tags** mentre `.tag` e `.tag_` al **fine-gradied POS tags**.\n",
    "* parser: aggiunge gli attributi `token.head` e `token.dep` individua i token base nella frase e le dipendenze\n",
    "* NER: indica le entità nel testo e aggiunge l'attributo `.ents` (come entità definiamo ad esempio COMPANY, MONEY, ... o altre regole che possiamo aggiungere manualmente con il *matching*)\n",
    "\n",
    "e restituisce un oggetto `Doc`.\n",
    "\n",
    "Tutte le pipeline che possiamo caricare in SpaCy hanno diversi file/componenti e un file di configurazione *config.cfg*, il config definisce le componenti base della pipeline e la lingua. Anche componenti predittive come ad esempio *tok2vec* preaddestrato (che serve per creare l'embedding del token) sono caricate nella pipeline.\n",
    "\n",
    "<br>\n",
    "\n",
    "![pipeline_comp](https://course.spacy.io/package_meta.png)\n",
    "\n",
    "<br>\n",
    "\n",
    "> altra componente della pipeline molto usata è il category labels, aggiunge l'attributo `.cats`, questo non si applica al token ma all'intero testo\n",
    "\n",
    "Per vedere le componenti della pipeline bisogna usare `nlp.pipe_names`."
   ]
  },
  {
   "cell_type": "code",
   "execution_count": 3,
   "metadata": {},
   "outputs": [
    {
     "name": "stdout",
     "output_type": "stream",
     "text": [
      "['tok2vec', 'tagger', 'parser', 'attribute_ruler', 'lemmatizer', 'ner']\n"
     ]
    }
   ],
   "source": [
    "import spacy\n",
    "\n",
    "nlp = spacy.load(\"en_core_web_sm\")\n",
    "\n",
    "print(nlp.pipe_names)\n",
    "\n",
    "# ritorna la lista [nome funzione, components]\n",
    "# print(nlp.pipeline)"
   ]
  },
  {
   "attachments": {},
   "cell_type": "markdown",
   "metadata": {},
   "source": [
    "## Custom pipeline components\n",
    "\n",
    "Le componenti custom permettono di inserire nuovi step personalizzati nella pipeline.\n",
    "\n",
    "A seguito della tokenizzazione la pipeline SpaCy esegue le componenti in sequenza, a queste possono essere aggiunte quelle create da noi che verranno eseguite autometicamente quando si richiama la pipeline. Questi elementi sono molto utili per espandere i metadati del documento o per aggiungere attributi nella NER.\n",
    "\n",
    "La pipeline è una funzione (o un *callable*) che prende un testo in input lo modifica e ce lo ritorna per essere processato al prossimo step.\n",
    "\n",
    "Per aggiungere degli step bisogna usare il decorator `@Language.component` prima della funzione per creare lo step custom. A seguito della funzione bisogna aggiungere lo step alla pipeline con `nlp.add_pipe`.\n",
    "\n",
    "Si può anche specificare in che posizione della pipeline deve essere inserito questo componente.\n",
    "\n",
    "| Argomento | Descrizione | Esempio |\n",
    "|:---:|:---:|:---|\n",
    "| last | Se `True` aggiungi alla fine | `nlp.add_pipe(\"component\", last=True)` |\n",
    "| first | Se `True` aggiungi all0inizio | `nlp.add_pipe(\"component\", first=True)` |\n",
    "| before | Aggiunge prima del passo indicato | `nlp.add_pipe(\"component\", before=\"ner\")` |\n",
    "| after | Aggiunge di seguito al passo indicato | `nlp.add_pipe(\"component\", after=\"tagging\")` |\n",
    "\n",
    "Quando si crea la funzione per la componente custom è fondamentale non dimenticare di ritornare il `Doc` in output, così può essere l'input dello step successivo. Di seguito un esempio di un componente aggiuntivo che inserito all'inizio della pipeline ritorna la lunghezza del documento."
   ]
  },
  {
   "cell_type": "code",
   "execution_count": 5,
   "metadata": {},
   "outputs": [
    {
     "name": "stdout",
     "output_type": "stream",
     "text": [
      "Pipeline: ['custom_component', 'tok2vec', 'tagger', 'parser', 'attribute_ruler', 'lemmatizer', 'ner']\n"
     ]
    }
   ],
   "source": [
    "from spacy.language import Language\n",
    "\n",
    "# Create the nlp object\n",
    "nlp = spacy.load(\"en_core_web_sm\")\n",
    "\n",
    "# Define a custom component\n",
    "@Language.component(\"custom_component\")\n",
    "def custom_component_function(doc):\n",
    "    # Print the doc's length\n",
    "    print(\"Doc length:\", len(doc))\n",
    "    # Return the doc object\n",
    "    return doc\n",
    "\n",
    "# Add the component first in the pipeline\n",
    "nlp.add_pipe(\"custom_component\", first=True)\n",
    "\n",
    "# Print the pipeline component names\n",
    "print(\"Pipeline:\", nlp.pipe_names)"
   ]
  },
  {
   "cell_type": "code",
   "execution_count": 12,
   "metadata": {},
   "outputs": [
    {
     "name": "stdout",
     "output_type": "stream",
     "text": [
      "Doc length: 7\n",
      "Hello\n",
      "world\n",
      "!\n",
      "This\n",
      "is\n",
      "an\n",
      "example\n"
     ]
    }
   ],
   "source": [
    "doc = nlp(\"Hello world! This is an example\")\n",
    "\n",
    "for token in doc:\n",
    "    print(token.text)"
   ]
  },
  {
   "attachments": {},
   "cell_type": "markdown",
   "metadata": {},
   "source": [
    "Di seguito un esempio più complesso dove viene aggiunto uno step della pipeline dopo la NER per esolare solo alcune parole etichettate come *\"ANIMAL\"*."
   ]
  },
  {
   "cell_type": "code",
   "execution_count": 14,
   "metadata": {},
   "outputs": [
    {
     "name": "stdout",
     "output_type": "stream",
     "text": [
      "animal_patterns: [Golden Retriever, cat, turtle, Rattus norvegicus]\n",
      "['tok2vec', 'tagger', 'parser', 'attribute_ruler', 'lemmatizer', 'ner', 'animal_component']\n",
      "[('cat', 'ANIMAL'), ('Golden Retriever', 'ANIMAL')]\n"
     ]
    }
   ],
   "source": [
    "import spacy\n",
    "from spacy.language import Language\n",
    "from spacy.matcher import PhraseMatcher\n",
    "from spacy.tokens import Span\n",
    "\n",
    "nlp = spacy.load(\"en_core_web_sm\")\n",
    "animals = [\"Golden Retriever\", \"cat\", \"turtle\", \"Rattus norvegicus\"]\n",
    "animal_patterns = list(nlp.pipe(animals))\n",
    "print(\"animal_patterns:\", animal_patterns)\n",
    "matcher = PhraseMatcher(nlp.vocab)\n",
    "matcher.add(\"ANIMAL\", animal_patterns)\n",
    "\n",
    "# Define the custom component\n",
    "@Language.component(\"animal_component\")\n",
    "def animal_component_function(doc):\n",
    "    # Apply the matcher to the doc\n",
    "    matches = matcher(doc)\n",
    "    # Create a Span for each match and assign the label \"ANIMAL\"\n",
    "    spans = [Span(doc, start, end, label=\"ANIMAL\") for match_id, start, end in matches]\n",
    "    # Overwrite the doc.ents with the matched spans\n",
    "    doc.ents = spans\n",
    "    return doc\n",
    "\n",
    "\n",
    "# Add the component to the pipeline after the \"ner\" component\n",
    "nlp.add_pipe(\"animal_component\", after=\"ner\")\n",
    "print(nlp.pipe_names)\n",
    "\n",
    "# Process the text and print the text and label for the doc.ents\n",
    "doc = nlp(\"I have a cat and a Golden Retriever\")\n",
    "print([(ent.text, ent.label_) for ent in doc.ents])"
   ]
  },
  {
   "cell_type": "code",
   "execution_count": null,
   "metadata": {},
   "outputs": [],
   "source": []
  }
 ],
 "metadata": {
  "kernelspec": {
   "display_name": "nlp",
   "language": "python",
   "name": "python3"
  },
  "language_info": {
   "codemirror_mode": {
    "name": "ipython",
    "version": 3
   },
   "file_extension": ".py",
   "mimetype": "text/x-python",
   "name": "python",
   "nbconvert_exporter": "python",
   "pygments_lexer": "ipython3",
   "version": "3.8.8"
  },
  "orig_nbformat": 4
 },
 "nbformat": 4,
 "nbformat_minor": 2
}
