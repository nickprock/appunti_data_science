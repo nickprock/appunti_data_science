{
 "cells": [
  {
   "attachments": {},
   "cell_type": "markdown",
   "metadata": {},
   "source": [
    "# Processing Pipelines\n",
    "\n",
    "In questa parte andremo a vedere cosa succede sotto il cofano quando si utilizza una pipeline SpaCy.\n",
    "\n",
    "<br>\n",
    "\n",
    "![pipeline](https://course.spacy.io/pipeline.png)\n",
    "\n",
    "<br>\n",
    "\n",
    "Una pipeline è una serie di funzioni da applicare ad un doc per aggiungere attributi come POS-tag, dipendenze, ...\n",
    "\n",
    "Come si vede nell'immagine al momento la pipeline basica (SpaCy ha molte componenti da utilizzare in una pipeline) ha un testo in input poi in sequenza applica:\n",
    "* tokenizer: suddivide il testo in token\n",
    "* tagger: il POS tagging imposta i `token.tag` e `token.pos` (es. *\"Apple is based in California\"*, *Apple*: **POS**=PROPN e **TAG**=NNP) la differenza è che `.pos` e `.pos_` si riferiscono all'**universal POS tags** mentre `.tag` e `.tag_` al **fine-gradied POS tags**.\n",
    "* parser: aggiunge gli attributi `token.head` e `token.dep` individua i token base nella frase e le dipendenze\n",
    "* NER: indica le entità nel testo e aggiunge l'attributo `.ents` (come entità definiamo ad esempio COMPANY, MONEY, ... o altre regole che possiamo aggiungere manualmente con il *matching*)\n",
    "\n",
    "e restituisce un oggetto `Doc`.\n",
    "\n",
    "Tutte le pipeline che possiamo caricare in SpaCy hanno diversi file/componenti e un file di configurazione *config.cfg*, il config definisce le componenti base della pipeline e la lingua. Anche componenti predittive come ad esempio *tok2vec* preaddestrato (che serve per creare l'embedding del token) sono caricate nella pipeline.\n",
    "\n",
    "<br>\n",
    "\n",
    "![pipeline_comp](https://course.spacy.io/package_meta.png)\n",
    "\n",
    "<br>\n",
    "\n",
    "> altra componente della pipeline molto usata è il category labels, aggiunge l'attributo `.cats`, questo non si applica al token ma all'intero testo"
   ]
  },
  {
   "cell_type": "markdown",
   "metadata": {},
   "source": []
  }
 ],
 "metadata": {
  "language_info": {
   "name": "python"
  },
  "orig_nbformat": 4
 },
 "nbformat": 4,
 "nbformat_minor": 2
}
