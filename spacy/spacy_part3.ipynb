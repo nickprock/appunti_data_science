{
 "cells": [
  {
   "attachments": {},
   "cell_type": "markdown",
   "metadata": {},
   "source": [
    "# Processing Pipelines\n",
    "\n",
    "In questa parte andremo a vedere cosa succede sotto il cofano quando si utilizza una pipeline SpaCy.\n",
    "\n",
    "<br>\n",
    "\n",
    "![pipeline](https://course.spacy.io/pipeline.png)\n",
    "\n",
    "<br>\n",
    "\n",
    "Una pipeline è una serie di funzioni da applicare ad un doc per aggiungere attributi come POS-tag, dipendenze, ...\n",
    "\n",
    "Come si vede nell'immagine al momento la pipeline basica (SpaCy ha molte componenti da utilizzare in una pipeline) ha un testo in input poi in sequenza applica:\n",
    "* tokenizer: suddivide il testo in token\n",
    "* tagger: il POS tagging imposta i `token.tag` e `token.pos` (es. *\"Apple is based in California\"*, *Apple*: **POS**=PROPN e **TAG**=NNP) la differenza è che `.pos` e `.pos_` si riferiscono all'**universal POS tags** mentre `.tag` e `.tag_` al **fine-gradied POS tags**.\n",
    "* parser: aggiunge gli attributi `token.head` e `token.dep` individua i token base nella frase e le dipendenze\n",
    "* NER: indica le entità nel testo e aggiunge l'attributo `.ents` (come entità definiamo ad esempio COMPANY, MONEY, ... o altre regole che possiamo aggiungere manualmente con il *matching*)\n",
    "\n",
    "e restituisce un oggetto `Doc`.\n",
    "\n",
    "Tutte le pipeline che possiamo caricare in SpaCy hanno diversi file/componenti e un file di configurazione *config.cfg*, il config definisce le componenti base della pipeline e la lingua. Anche componenti predittive come ad esempio *tok2vec* preaddestrato (che serve per creare l'embedding del token) sono caricate nella pipeline.\n",
    "\n",
    "<br>\n",
    "\n",
    "![pipeline_comp](https://course.spacy.io/package_meta.png)\n",
    "\n",
    "<br>\n",
    "\n",
    "> altra componente della pipeline molto usata è il category labels, aggiunge l'attributo `.cats`, questo non si applica al token ma all'intero testo\n",
    "\n",
    "Per vedere le componenti della pipeline bisogna usare `nlp.pipe_names`."
   ]
  },
  {
   "cell_type": "code",
   "execution_count": 2,
   "metadata": {},
   "outputs": [
    {
     "name": "stdout",
     "output_type": "stream",
     "text": [
      "['tok2vec', 'tagger', 'parser', 'attribute_ruler', 'lemmatizer', 'ner']\n"
     ]
    }
   ],
   "source": [
    "import spacy\n",
    "\n",
    "nlp = spacy.load(\"en_core_web_sm\")\n",
    "\n",
    "print(nlp.pipe_names)\n",
    "\n",
    "# ritorna la lista [nome funzione, components]\n",
    "# print(nlp.pipeline)"
   ]
  },
  {
   "attachments": {},
   "cell_type": "markdown",
   "metadata": {},
   "source": [
    "## Custom pipeline components\n",
    "\n",
    "Le componenti custom permettono di inserire nuovi step personalizzati nella pipeline.\n",
    "\n",
    "A seguito della tokenizzazione la pipeline SpaCy esegue le componenti in sequenza, a queste possono essere aggiunte quelle create da noi che verranno eseguite autometicamente quando si richiama la pipeline. Questi elementi sono molto utili per espandere i metadati del documento o per aggiungere attributi nella NER.\n",
    "\n",
    "La pipeline è una funzione (o un *callable*) che prende un testo in input lo modifica e ce lo ritorna per essere processato al prossimo step.\n",
    "\n",
    "Per aggiungere degli step bisogna usare il decorator `@Language.component` prima della funzione per creare lo step custom. A seguito della funzione bisogna aggiungere lo step alla pipeline con `nlp.add_pipe`.\n",
    "\n",
    "Si può anche specificare in che posizione della pipeline deve essere inserito questo componente.\n",
    "\n",
    "| Argomento | Descrizione | Esempio |\n",
    "|:---:|:---:|:---|\n",
    "| last | Se `True` aggiungi alla fine | `nlp.add_pipe(\"component\", last=True)` |\n",
    "| first | Se `True` aggiungi all0inizio | `nlp.add_pipe(\"component\", first=True)` |\n",
    "| before | Aggiunge prima del passo indicato | `nlp.add_pipe(\"component\", before=\"ner\")` |\n",
    "| after | Aggiunge di seguito al passo indicato | `nlp.add_pipe(\"component\", after=\"tagging\")` |\n",
    "\n",
    "Quando si crea la funzione per la componente custom è fondamentale non dimenticare di ritornare il `Doc` in output, così può essere l'input dello step successivo. Di seguito un esempio di un componente aggiuntivo che inserito all'inizio della pipeline ritorna la lunghezza del documento."
   ]
  },
  {
   "cell_type": "code",
   "execution_count": 2,
   "metadata": {},
   "outputs": [
    {
     "name": "stdout",
     "output_type": "stream",
     "text": [
      "Pipeline: ['custom_component', 'tok2vec', 'tagger', 'parser', 'attribute_ruler', 'lemmatizer', 'ner']\n"
     ]
    }
   ],
   "source": [
    "from spacy.language import Language\n",
    "\n",
    "# Create the nlp object\n",
    "nlp = spacy.load(\"en_core_web_sm\")\n",
    "\n",
    "# Define a custom component\n",
    "@Language.component(\"custom_component\")\n",
    "def custom_component_function(doc):\n",
    "    # Print the doc's length\n",
    "    print(\"Doc length:\", len(doc))\n",
    "    # Return the doc object\n",
    "    return doc\n",
    "\n",
    "# Add the component first in the pipeline\n",
    "nlp.add_pipe(\"custom_component\", first=True)\n",
    "\n",
    "# Print the pipeline component names\n",
    "print(\"Pipeline:\", nlp.pipe_names)"
   ]
  },
  {
   "cell_type": "code",
   "execution_count": 3,
   "metadata": {},
   "outputs": [
    {
     "name": "stdout",
     "output_type": "stream",
     "text": [
      "Doc length: 7\n",
      "Hello\n",
      "world\n",
      "!\n",
      "This\n",
      "is\n",
      "an\n",
      "example\n"
     ]
    }
   ],
   "source": [
    "doc = nlp(\"Hello world! This is an example\")\n",
    "\n",
    "for token in doc:\n",
    "    print(token.text)"
   ]
  },
  {
   "attachments": {},
   "cell_type": "markdown",
   "metadata": {},
   "source": [
    "Di seguito un esempio più complesso dove viene aggiunto uno step della pipeline dopo la NER per esolare solo alcune parole etichettate come *\"ANIMAL\"*."
   ]
  },
  {
   "cell_type": "code",
   "execution_count": 4,
   "metadata": {},
   "outputs": [
    {
     "name": "stdout",
     "output_type": "stream",
     "text": [
      "animal_patterns: [Golden Retriever, cat, turtle, Rattus norvegicus]\n",
      "['tok2vec', 'tagger', 'parser', 'attribute_ruler', 'lemmatizer', 'ner', 'animal_component']\n",
      "[('cat', 'ANIMAL'), ('Golden Retriever', 'ANIMAL')]\n"
     ]
    }
   ],
   "source": [
    "import spacy\n",
    "from spacy.language import Language\n",
    "from spacy.matcher import PhraseMatcher\n",
    "from spacy.tokens import Span\n",
    "\n",
    "nlp = spacy.load(\"en_core_web_sm\")\n",
    "animals = [\"Golden Retriever\", \"cat\", \"turtle\", \"Rattus norvegicus\"]\n",
    "animal_patterns = list(nlp.pipe(animals))\n",
    "print(\"animal_patterns:\", animal_patterns)\n",
    "matcher = PhraseMatcher(nlp.vocab)\n",
    "matcher.add(\"ANIMAL\", animal_patterns)\n",
    "\n",
    "# Define the custom component\n",
    "@Language.component(\"animal_component\")\n",
    "def animal_component_function(doc):\n",
    "    # Apply the matcher to the doc\n",
    "    matches = matcher(doc)\n",
    "    # Create a Span for each match and assign the label \"ANIMAL\"\n",
    "    spans = [Span(doc, start, end, label=\"ANIMAL\") for match_id, start, end in matches]\n",
    "    # Overwrite the doc.ents with the matched spans\n",
    "    doc.ents = spans\n",
    "    return doc\n",
    "\n",
    "\n",
    "# Add the component to the pipeline after the \"ner\" component\n",
    "nlp.add_pipe(\"animal_component\", after=\"ner\")\n",
    "print(nlp.pipe_names)\n",
    "\n",
    "# Process the text and print the text and label for the doc.ents\n",
    "doc = nlp(\"I have a cat and a Golden Retriever\")\n",
    "print([(ent.text, ent.label_) for ent in doc.ents])"
   ]
  },
  {
   "attachments": {},
   "cell_type": "markdown",
   "metadata": {},
   "source": [
    "## Aggiungere attributi custom\n",
    "\n",
    "In questo paragrafo vedremo come estendere gli oggetti `Doc`, `Token` e `Span`.\n",
    "\n",
    "Con gli attributi custom si possono estendere gli oggetti a piacimento, l'aggiunta può essere manuale o dinamica e automatizzata. Per accedere agli attributi si usa `._`, questo fa capire che l'attributo è stato aggiunto dall'utente e non dalla pipeline di spacy.\n",
    "\n",
    "Per registrarli globalmente bisogna usare la funzione `set_extension` di `spacy.tokens`"
   ]
  },
  {
   "cell_type": "code",
   "execution_count": 5,
   "metadata": {},
   "outputs": [],
   "source": [
    "# Import global classes\n",
    "from spacy.tokens import Doc, Token, Span\n",
    "\n",
    "# Set extensions on the Doc, Token and Span\n",
    "Doc.set_extension(\"title\", default=None)\n",
    "Token.set_extension(\"_color\", default=False)\n"
   ]
  },
  {
   "attachments": {},
   "cell_type": "markdown",
   "metadata": {},
   "source": [
    "Il primo elemento è il nome dell'attributo, il secondo il valore di default. Se esiste, come in questo caso, può essere sovrascritto."
   ]
  },
  {
   "cell_type": "code",
   "execution_count": 6,
   "metadata": {},
   "outputs": [],
   "source": [
    "doc._.title = \"My document\"\n",
    "token._._color = False"
   ]
  },
  {
   "attachments": {},
   "cell_type": "markdown",
   "metadata": {},
   "source": [
    "esistono tre tipi di estensioni:\n",
    "* Attribute extensions\n",
    "* Property extensions\n",
    "* Method extensions\n",
    "\n",
    "Attribute extension imposta un valore che può essere sovrascritto, ad esempio vogliamo sapere se una parola in una frase è un colore, impostiamo un nuovo attributo `is_color` a `False` e se la parola è un colore verrà sovrascritto con `True`.\n"
   ]
  },
  {
   "cell_type": "code",
   "execution_count": 7,
   "metadata": {},
   "outputs": [],
   "source": [
    "doc = nlp(\"The sky is blue.\")\n",
    "\n",
    "# Overwrite extension attribute value\n",
    "doc[3]._._color = True"
   ]
  },
  {
   "attachments": {},
   "cell_type": "markdown",
   "metadata": {},
   "source": [
    "Le Property exension lavorando come le classiche property in python. Hanno una metodo *get* che aiuta a cercare il valore dell'attributo impostato. Nel getter dobbiamo impostare un solo argomento, l'oggetto su cui applicarlo in questo caso il token. Il nostro metodo ci dirà se è un colore oppure no.\n",
    "\n",
    "> caso particolare sono le span extension. Funzionano come le Property ma si applicano agli span"
   ]
  },
  {
   "cell_type": "code",
   "execution_count": 8,
   "metadata": {},
   "outputs": [
    {
     "name": "stdout",
     "output_type": "stream",
     "text": [
      "True - blue\n"
     ]
    }
   ],
   "source": [
    "from spacy.tokens import Token\n",
    "\n",
    "# Define getter function\n",
    "def get_is_color(token):\n",
    "    colors = [\"red\", \"yellow\", \"blue\"]\n",
    "    return token.text in colors\n",
    "\n",
    "# Set extension on the Token with getter\n",
    "Token.set_extension(\"is_color\", getter=get_is_color)\n",
    "\n",
    "doc = nlp(\"The sky is blue.\")\n",
    "print(doc[3]._.is_color, \"-\", doc[3].text)"
   ]
  },
  {
   "cell_type": "code",
   "execution_count": null,
   "metadata": {},
   "outputs": [],
   "source": [
    "\"\"\"\n",
    "# Esempio con Span Extension\n",
    "\n",
    "import spacy\n",
    "from spacy.tokens import Span\n",
    "\n",
    "nlp = spacy.load(\"en_core_web_sm\")\n",
    "\n",
    "\n",
    "def get_wikipedia_url(span):\n",
    "    # Get a Wikipedia URL if the span has one of the labels\n",
    "    if span.label_ in (\"PERSON\", \"ORG\", \"GPE\", \"LOCATION\"):\n",
    "        entity_text = span.text.replace(\" \", \"_\")\n",
    "        return \"https://en.wikipedia.org/w/index.php?search=\" + entity_text\n",
    "\n",
    "\n",
    "# Set the Span extension wikipedia_url using the getter get_wikipedia_url\n",
    "Span.set_extension(\"wikipedia_url\", getter=get_wikipedia_url)\n",
    "\n",
    "doc = nlp(\n",
    "    \"In over fifty years from his very first recordings right through to his \"\n",
    "    \"last album, David Bowie was at the vanguard of contemporary culture.\"\n",
    ")\n",
    "for ent in doc.ents:\n",
    "    # Print the text and Wikipedia URL of the entity\n",
    "    print(ent.text, ent._.wikipedia_url)\n",
    "\"\"\""
   ]
  },
  {
   "attachments": {},
   "cell_type": "markdown",
   "metadata": {},
   "source": [
    "Le Method extension creano un metodo richiamabile passando degli argomenti. Nel nostro caso creiamo un metodo `has_color` che data una stringa ci dice se è un colore oppure no."
   ]
  },
  {
   "cell_type": "code",
   "execution_count": 9,
   "metadata": {},
   "outputs": [
    {
     "name": "stdout",
     "output_type": "stream",
     "text": [
      "True - blue\n",
      "False - cloud\n"
     ]
    }
   ],
   "source": [
    "from spacy.tokens import Doc\n",
    "\n",
    "# Define method with arguments\n",
    "def has_token(doc, token_text):\n",
    "    in_doc = token_text in [token.text for token in doc]\n",
    "    return in_doc\n",
    "\n",
    "# Set extension on the Doc with method\n",
    "Doc.set_extension(\"has_token\", method=has_token)\n",
    "\n",
    "doc = nlp(\"The sky is blue.\")\n",
    "print(doc._.has_token(\"blue\"), \"- blue\")\n",
    "print(doc._.has_token(\"cloud\"), \"- cloud\")"
   ]
  },
  {
   "attachments": {},
   "cell_type": "markdown",
   "metadata": {},
   "source": [
    "## Scalare le performance\n",
    "\n",
    "Quando bisogna processare molto testo è bene usare `nlp.pipe` al posto del classico `nlp`. `nlp.pipe` prende `Doc` e lo processa in stream a differenza di `nlp` che deve essere applicato su ogni testo. `nlp.pipe` restituisce un *iterator* quindi se si vuole una lista di `Doc` meglio richiamarlo tra [].\n",
    "\n",
    "```\n",
    "docs = list(nlp.pipe(LOTS_OF_TEXTS))\n",
    "```\n",
    "\n",
    "Se si imposta il parametro `as_tuples=True` possono essere passate a `nlp.pipe` tuple di testo\\contesto, questo è utile per passare metadati."
   ]
  },
  {
   "cell_type": "code",
   "execution_count": 3,
   "metadata": {},
   "outputs": [
    {
     "name": "stdout",
     "output_type": "stream",
     "text": [
      "This is a text 15\n",
      "And another text 16\n"
     ]
    }
   ],
   "source": [
    "data = [\n",
    "    (\"This is a text\", {\"id\": 1, \"page_number\": 15}),\n",
    "    (\"And another text\", {\"id\": 2, \"page_number\": 16}),\n",
    "]\n",
    "\n",
    "for doc, context in nlp.pipe(data, as_tuples=True):\n",
    "    print(doc.text, context[\"page_number\"])"
   ]
  },
  {
   "attachments": {},
   "cell_type": "markdown",
   "metadata": {},
   "source": [
    "Con `nlp.pipe` e le extensions si possono aggiungere i metadati agli attributi. In questo esempio vengono impostati due attributi *None* e vengono popolati con i metadati e `nlp.pipe`."
   ]
  },
  {
   "cell_type": "code",
   "execution_count": null,
   "metadata": {},
   "outputs": [],
   "source": [
    "from spacy.tokens import Doc\n",
    "\n",
    "Doc.set_extension(\"id\", default=None)\n",
    "Doc.set_extension(\"page_number\", default=None)\n",
    "\n",
    "data = [\n",
    "    (\"This is a text\", {\"id\": 1, \"page_number\": 15}),\n",
    "    (\"And another text\", {\"id\": 2, \"page_number\": 16}),\n",
    "]\n",
    "\n",
    "for doc, context in nlp.pipe(data, as_tuples=True):\n",
    "    doc._.id = context[\"id\"]\n",
    "    doc._.page_number = context[\"page_number\"]"
   ]
  },
  {
   "attachments": {},
   "cell_type": "markdown",
   "metadata": {},
   "source": [
    "### Adattare la pipeline\n",
    "\n",
    "Uno scenario comune è la personalizzazione della pipeline. Abbiamo visto in precedenza come aggiungere step ma può capitare di avere step che non ci sono utili e che prendono del tempo e risorse. Possiamo eliminare o isolare questi elementi con un semplice comando.\n",
    "\n",
    "* `nlp.make_doc`: prende un testo e lo trasforma in doc applicando il tokenizer\n",
    "* `nlp.select_pipe(disable=[...])`: disabilita alcune componenti della pipeline temporaneamente"
   ]
  },
  {
   "cell_type": "code",
   "execution_count": 24,
   "metadata": {},
   "outputs": [
    {
     "name": "stdout",
     "output_type": "stream",
     "text": [
      "()\n"
     ]
    },
    {
     "name": "stderr",
     "output_type": "stream",
     "text": [
      "/home/nico/anaconda3/envs/nlp/lib/python3.8/site-packages/spacy/pipeline/lemmatizer.py:211: UserWarning: [W108] The rule-based lemmatizer did not find POS annotation for one or more tokens. Check that your pipeline includes components that assign token.pos, typically 'tagger'+'attribute_ruler' or 'morphologizer'.\n",
      "  warnings.warn(Warnings.W108)\n"
     ]
    }
   ],
   "source": [
    "# Disable tagger and parser\n",
    "with nlp.select_pipes(disable=[\"tagger\", \"parser\"]):\n",
    "    # Process the text and print the entities\n",
    "    doc = nlp(\"Hello World!\")\n",
    "    print(doc.ents)"
   ]
  },
  {
   "cell_type": "markdown",
   "metadata": {},
   "source": []
  }
 ],
 "metadata": {
  "kernelspec": {
   "display_name": "nlp",
   "language": "python",
   "name": "python3"
  },
  "language_info": {
   "codemirror_mode": {
    "name": "ipython",
    "version": 3
   },
   "file_extension": ".py",
   "mimetype": "text/x-python",
   "name": "python",
   "nbconvert_exporter": "python",
   "pygments_lexer": "ipython3",
   "version": "3.8.8"
  },
  "orig_nbformat": 4
 },
 "nbformat": 4,
 "nbformat_minor": 2
}
